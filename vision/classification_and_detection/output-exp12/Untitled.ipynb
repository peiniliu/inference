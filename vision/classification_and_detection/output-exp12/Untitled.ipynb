{
 "cells": [
  {
   "cell_type": "code",
   "execution_count": 16,
   "id": "de0246d4",
   "metadata": {},
   "outputs": [
    {
     "data": {
      "text/html": [
       "        <script type=\"text/javascript\">\n",
       "        window.PlotlyConfig = {MathJaxConfig: 'local'};\n",
       "        if (window.MathJax) {MathJax.Hub.Config({SVG: {font: \"STIX-Web\"}});}\n",
       "        if (typeof require !== 'undefined') {\n",
       "        require.undef(\"plotly\");\n",
       "        requirejs.config({\n",
       "            paths: {\n",
       "                'plotly': ['https://cdn.plot.ly/plotly-latest.min']\n",
       "            }\n",
       "        });\n",
       "        require(['plotly'], function(Plotly) {\n",
       "            window._Plotly = Plotly;\n",
       "        });\n",
       "        }\n",
       "        </script>\n",
       "        "
      ]
     },
     "metadata": {},
     "output_type": "display_data"
    },
    {
     "data": {
      "text/html": [
       "<div>\n",
       "<style scoped>\n",
       "    .dataframe tbody tr th:only-of-type {\n",
       "        vertical-align: middle;\n",
       "    }\n",
       "\n",
       "    .dataframe tbody tr th {\n",
       "        vertical-align: top;\n",
       "    }\n",
       "\n",
       "    .dataframe thead th {\n",
       "        text-align: right;\n",
       "    }\n",
       "</style>\n",
       "<table border=\"1\" class=\"dataframe\">\n",
       "  <thead>\n",
       "    <tr style=\"text-align: right;\">\n",
       "      <th></th>\n",
       "      <th>benchmark</th>\n",
       "      <th>k8senv</th>\n",
       "      <th>sbatch</th>\n",
       "      <th>numctn</th>\n",
       "      <th>cscenario</th>\n",
       "      <th>cbatch</th>\n",
       "      <th>reps</th>\n",
       "      <th>qps</th>\n",
       "      <th>mean</th>\n",
       "      <th>p50</th>\n",
       "      <th>p80</th>\n",
       "      <th>p90</th>\n",
       "      <th>p95</th>\n",
       "      <th>p99</th>\n",
       "      <th>p999</th>\n",
       "    </tr>\n",
       "  </thead>\n",
       "  <tbody>\n",
       "    <tr>\n",
       "      <th>0</th>\n",
       "      <td>resnet</td>\n",
       "      <td>none</td>\n",
       "      <td>64</td>\n",
       "      <td>1</td>\n",
       "      <td>offline</td>\n",
       "      <td>10</td>\n",
       "      <td>10</td>\n",
       "      <td>125.536764</td>\n",
       "      <td>99.712008</td>\n",
       "      <td>99.756205</td>\n",
       "      <td>158.122615</td>\n",
       "      <td>177.497343</td>\n",
       "      <td>187.532966</td>\n",
       "      <td>194.856773</td>\n",
       "      <td>195.721136</td>\n",
       "    </tr>\n",
       "    <tr>\n",
       "      <th>1</th>\n",
       "      <td>resnet</td>\n",
       "      <td>none</td>\n",
       "      <td>64</td>\n",
       "      <td>2</td>\n",
       "      <td>offline</td>\n",
       "      <td>10</td>\n",
       "      <td>10</td>\n",
       "      <td>139.196790</td>\n",
       "      <td>90.256603</td>\n",
       "      <td>90.485614</td>\n",
       "      <td>142.884504</td>\n",
       "      <td>160.580191</td>\n",
       "      <td>168.838801</td>\n",
       "      <td>176.122127</td>\n",
       "      <td>176.465937</td>\n",
       "    </tr>\n",
       "    <tr>\n",
       "      <th>2</th>\n",
       "      <td>resnet</td>\n",
       "      <td>none</td>\n",
       "      <td>64</td>\n",
       "      <td>4</td>\n",
       "      <td>offline</td>\n",
       "      <td>10</td>\n",
       "      <td>10</td>\n",
       "      <td>139.541706</td>\n",
       "      <td>89.642789</td>\n",
       "      <td>89.603898</td>\n",
       "      <td>142.216399</td>\n",
       "      <td>159.833176</td>\n",
       "      <td>168.468859</td>\n",
       "      <td>175.346155</td>\n",
       "      <td>176.007969</td>\n",
       "    </tr>\n",
       "    <tr>\n",
       "      <th>3</th>\n",
       "      <td>resnet</td>\n",
       "      <td>none</td>\n",
       "      <td>64</td>\n",
       "      <td>8</td>\n",
       "      <td>offline</td>\n",
       "      <td>10</td>\n",
       "      <td>10</td>\n",
       "      <td>143.757513</td>\n",
       "      <td>87.142687</td>\n",
       "      <td>87.065233</td>\n",
       "      <td>138.285096</td>\n",
       "      <td>155.078055</td>\n",
       "      <td>163.585085</td>\n",
       "      <td>170.390166</td>\n",
       "      <td>170.892100</td>\n",
       "    </tr>\n",
       "    <tr>\n",
       "      <th>4</th>\n",
       "      <td>resnet</td>\n",
       "      <td>none</td>\n",
       "      <td>64</td>\n",
       "      <td>16</td>\n",
       "      <td>offline</td>\n",
       "      <td>10</td>\n",
       "      <td>10</td>\n",
       "      <td>150.190482</td>\n",
       "      <td>83.048200</td>\n",
       "      <td>82.780340</td>\n",
       "      <td>131.844367</td>\n",
       "      <td>147.935949</td>\n",
       "      <td>156.343202</td>\n",
       "      <td>162.595498</td>\n",
       "      <td>163.464788</td>\n",
       "    </tr>\n",
       "  </tbody>\n",
       "</table>\n",
       "</div>"
      ],
      "text/plain": [
       "  benchmark k8senv  sbatch  numctn cscenario  cbatch  reps         qps  \\\n",
       "0    resnet   none      64       1   offline      10    10  125.536764   \n",
       "1    resnet   none      64       2   offline      10    10  139.196790   \n",
       "2    resnet   none      64       4   offline      10    10  139.541706   \n",
       "3    resnet   none      64       8   offline      10    10  143.757513   \n",
       "4    resnet   none      64      16   offline      10    10  150.190482   \n",
       "\n",
       "        mean        p50         p80         p90         p95         p99  \\\n",
       "0  99.712008  99.756205  158.122615  177.497343  187.532966  194.856773   \n",
       "1  90.256603  90.485614  142.884504  160.580191  168.838801  176.122127   \n",
       "2  89.642789  89.603898  142.216399  159.833176  168.468859  175.346155   \n",
       "3  87.142687  87.065233  138.285096  155.078055  163.585085  170.390166   \n",
       "4  83.048200  82.780340  131.844367  147.935949  156.343202  162.595498   \n",
       "\n",
       "         p999  \n",
       "0  195.721136  \n",
       "1  176.465937  \n",
       "2  176.007969  \n",
       "3  170.892100  \n",
       "4  163.464788  "
      ]
     },
     "execution_count": 16,
     "metadata": {},
     "output_type": "execute_result"
    }
   ],
   "source": [
    "import pandas as pd\n",
    "import glob\n",
    "# import plotly.plotly as py\n",
    "import plotly.graph_objs as go\n",
    "\n",
    "from plotly import tools\n",
    "from plotly.offline import init_notebook_mode, iplot\n",
    "init_notebook_mode(connected=True) \n",
    "\n",
    "import numpy as np\n",
    "import matplotlib.pyplot as plt\n",
    "# include if using a Jupyter notebook\n",
    "# %matplotlib inline\n",
    "\n",
    "path = \"/gpfs/bsc_home/xpliu/inference/vision/classification_and_detection/output-exp12/\"\n",
    "all_files = glob.glob(path + \"*.csv\")\n",
    "\n",
    "li = []\n",
    "\n",
    "for filename in all_files:\n",
    "    df = pd.read_csv(filename, index_col=None, header=0)\n",
    "    li.append(df)\n",
    "\n",
    "df = pd.concat(li, axis=0, ignore_index=True)\n",
    "df.head()"
   ]
  },
  {
   "cell_type": "code",
   "execution_count": 17,
   "id": "fe8c3d7f",
   "metadata": {},
   "outputs": [
    {
     "data": {
      "text/plain": [
       "18"
      ]
     },
     "execution_count": 17,
     "metadata": {},
     "output_type": "execute_result"
    }
   ],
   "source": [
    "len(df)"
   ]
  },
  {
   "cell_type": "code",
   "execution_count": 18,
   "id": "d48083a0",
   "metadata": {},
   "outputs": [
    {
     "data": {
      "text/plain": [
       "array(['resnet'], dtype=object)"
      ]
     },
     "execution_count": 18,
     "metadata": {},
     "output_type": "execute_result"
    }
   ],
   "source": [
    "df['benchmark'].unique()"
   ]
  },
  {
   "cell_type": "code",
   "execution_count": 19,
   "id": "b318f564",
   "metadata": {},
   "outputs": [
    {
     "data": {
      "text/plain": [
       "array(['none', 'cpumemory', 'cpumem'], dtype=object)"
      ]
     },
     "execution_count": 19,
     "metadata": {},
     "output_type": "execute_result"
    }
   ],
   "source": [
    "df['k8senv'].unique()"
   ]
  },
  {
   "cell_type": "code",
   "execution_count": 20,
   "id": "a2a7701a",
   "metadata": {},
   "outputs": [
    {
     "data": {
      "text/plain": [
       "numpy.float64"
      ]
     },
     "execution_count": 20,
     "metadata": {},
     "output_type": "execute_result"
    }
   ],
   "source": [
    "type(df['qps'][0])"
   ]
  },
  {
   "cell_type": "markdown",
   "id": "53f2033c",
   "metadata": {},
   "source": [
    "# Graph"
   ]
  },
  {
   "cell_type": "code",
   "execution_count": 21,
   "id": "5786faec",
   "metadata": {},
   "outputs": [
    {
     "data": {
      "text/html": [
       "        <script type=\"text/javascript\">\n",
       "        window.PlotlyConfig = {MathJaxConfig: 'local'};\n",
       "        if (window.MathJax) {MathJax.Hub.Config({SVG: {font: \"STIX-Web\"}});}\n",
       "        if (typeof require !== 'undefined') {\n",
       "        require.undef(\"plotly\");\n",
       "        requirejs.config({\n",
       "            paths: {\n",
       "                'plotly': ['https://cdn.plot.ly/plotly-latest.min']\n",
       "            }\n",
       "        });\n",
       "        require(['plotly'], function(Plotly) {\n",
       "            window._Plotly = Plotly;\n",
       "        });\n",
       "        }\n",
       "        </script>\n",
       "        "
      ]
     },
     "metadata": {},
     "output_type": "display_data"
    },
    {
     "data": {
      "text/html": [
       "<div>\n",
       "<style scoped>\n",
       "    .dataframe tbody tr th:only-of-type {\n",
       "        vertical-align: middle;\n",
       "    }\n",
       "\n",
       "    .dataframe tbody tr th {\n",
       "        vertical-align: top;\n",
       "    }\n",
       "\n",
       "    .dataframe thead th {\n",
       "        text-align: right;\n",
       "    }\n",
       "</style>\n",
       "<table border=\"1\" class=\"dataframe\">\n",
       "  <thead>\n",
       "    <tr style=\"text-align: right;\">\n",
       "      <th></th>\n",
       "      <th>benchmark</th>\n",
       "      <th>k8senv</th>\n",
       "      <th>sbatch</th>\n",
       "      <th>numctn</th>\n",
       "      <th>cscenario</th>\n",
       "      <th>cbatch</th>\n",
       "      <th>reps</th>\n",
       "      <th>qps</th>\n",
       "      <th>mean</th>\n",
       "      <th>p50</th>\n",
       "      <th>p80</th>\n",
       "      <th>p90</th>\n",
       "      <th>p95</th>\n",
       "      <th>p99</th>\n",
       "      <th>p999</th>\n",
       "    </tr>\n",
       "  </thead>\n",
       "  <tbody>\n",
       "    <tr>\n",
       "      <th>0</th>\n",
       "      <td>resnet</td>\n",
       "      <td>none</td>\n",
       "      <td>64</td>\n",
       "      <td>1</td>\n",
       "      <td>offline</td>\n",
       "      <td>10</td>\n",
       "      <td>10</td>\n",
       "      <td>125.536764</td>\n",
       "      <td>99.712008</td>\n",
       "      <td>99.756205</td>\n",
       "      <td>158.122615</td>\n",
       "      <td>177.497343</td>\n",
       "      <td>187.532966</td>\n",
       "      <td>194.856773</td>\n",
       "      <td>195.721136</td>\n",
       "    </tr>\n",
       "    <tr>\n",
       "      <th>1</th>\n",
       "      <td>resnet</td>\n",
       "      <td>none</td>\n",
       "      <td>64</td>\n",
       "      <td>2</td>\n",
       "      <td>offline</td>\n",
       "      <td>10</td>\n",
       "      <td>10</td>\n",
       "      <td>139.196790</td>\n",
       "      <td>90.256603</td>\n",
       "      <td>90.485614</td>\n",
       "      <td>142.884504</td>\n",
       "      <td>160.580191</td>\n",
       "      <td>168.838801</td>\n",
       "      <td>176.122127</td>\n",
       "      <td>176.465937</td>\n",
       "    </tr>\n",
       "    <tr>\n",
       "      <th>2</th>\n",
       "      <td>resnet</td>\n",
       "      <td>none</td>\n",
       "      <td>64</td>\n",
       "      <td>4</td>\n",
       "      <td>offline</td>\n",
       "      <td>10</td>\n",
       "      <td>10</td>\n",
       "      <td>139.541706</td>\n",
       "      <td>89.642789</td>\n",
       "      <td>89.603898</td>\n",
       "      <td>142.216399</td>\n",
       "      <td>159.833176</td>\n",
       "      <td>168.468859</td>\n",
       "      <td>175.346155</td>\n",
       "      <td>176.007969</td>\n",
       "    </tr>\n",
       "    <tr>\n",
       "      <th>3</th>\n",
       "      <td>resnet</td>\n",
       "      <td>none</td>\n",
       "      <td>64</td>\n",
       "      <td>8</td>\n",
       "      <td>offline</td>\n",
       "      <td>10</td>\n",
       "      <td>10</td>\n",
       "      <td>143.757513</td>\n",
       "      <td>87.142687</td>\n",
       "      <td>87.065233</td>\n",
       "      <td>138.285096</td>\n",
       "      <td>155.078055</td>\n",
       "      <td>163.585085</td>\n",
       "      <td>170.390166</td>\n",
       "      <td>170.892100</td>\n",
       "    </tr>\n",
       "    <tr>\n",
       "      <th>4</th>\n",
       "      <td>resnet</td>\n",
       "      <td>none</td>\n",
       "      <td>64</td>\n",
       "      <td>16</td>\n",
       "      <td>offline</td>\n",
       "      <td>10</td>\n",
       "      <td>10</td>\n",
       "      <td>150.190482</td>\n",
       "      <td>83.048200</td>\n",
       "      <td>82.780340</td>\n",
       "      <td>131.844367</td>\n",
       "      <td>147.935949</td>\n",
       "      <td>156.343202</td>\n",
       "      <td>162.595498</td>\n",
       "      <td>163.464788</td>\n",
       "    </tr>\n",
       "    <tr>\n",
       "      <th>5</th>\n",
       "      <td>resnet</td>\n",
       "      <td>none</td>\n",
       "      <td>64</td>\n",
       "      <td>32</td>\n",
       "      <td>offline</td>\n",
       "      <td>10</td>\n",
       "      <td>10</td>\n",
       "      <td>155.043672</td>\n",
       "      <td>80.590749</td>\n",
       "      <td>81.036759</td>\n",
       "      <td>127.356368</td>\n",
       "      <td>143.035483</td>\n",
       "      <td>150.700099</td>\n",
       "      <td>157.000956</td>\n",
       "      <td>158.016072</td>\n",
       "    </tr>\n",
       "    <tr>\n",
       "      <th>6</th>\n",
       "      <td>resnet</td>\n",
       "      <td>cpumemory</td>\n",
       "      <td>64</td>\n",
       "      <td>1</td>\n",
       "      <td>offline</td>\n",
       "      <td>10</td>\n",
       "      <td>10</td>\n",
       "      <td>124.765977</td>\n",
       "      <td>100.041145</td>\n",
       "      <td>99.728930</td>\n",
       "      <td>158.839672</td>\n",
       "      <td>178.558566</td>\n",
       "      <td>188.496221</td>\n",
       "      <td>196.301292</td>\n",
       "      <td>196.938146</td>\n",
       "    </tr>\n",
       "    <tr>\n",
       "      <th>7</th>\n",
       "      <td>resnet</td>\n",
       "      <td>cpumemory</td>\n",
       "      <td>64</td>\n",
       "      <td>2</td>\n",
       "      <td>offline</td>\n",
       "      <td>10</td>\n",
       "      <td>10</td>\n",
       "      <td>184.757572</td>\n",
       "      <td>68.049587</td>\n",
       "      <td>68.023778</td>\n",
       "      <td>107.457355</td>\n",
       "      <td>120.872295</td>\n",
       "      <td>127.447561</td>\n",
       "      <td>132.481046</td>\n",
       "      <td>132.969761</td>\n",
       "    </tr>\n",
       "    <tr>\n",
       "      <th>8</th>\n",
       "      <td>resnet</td>\n",
       "      <td>cpumemory</td>\n",
       "      <td>64</td>\n",
       "      <td>4</td>\n",
       "      <td>offline</td>\n",
       "      <td>10</td>\n",
       "      <td>10</td>\n",
       "      <td>187.518600</td>\n",
       "      <td>66.891255</td>\n",
       "      <td>66.989836</td>\n",
       "      <td>105.942611</td>\n",
       "      <td>118.803589</td>\n",
       "      <td>125.429690</td>\n",
       "      <td>130.458496</td>\n",
       "      <td>130.990390</td>\n",
       "    </tr>\n",
       "    <tr>\n",
       "      <th>9</th>\n",
       "      <td>resnet</td>\n",
       "      <td>cpumemory</td>\n",
       "      <td>64</td>\n",
       "      <td>8</td>\n",
       "      <td>offline</td>\n",
       "      <td>10</td>\n",
       "      <td>10</td>\n",
       "      <td>189.350765</td>\n",
       "      <td>66.057373</td>\n",
       "      <td>66.077681</td>\n",
       "      <td>104.702941</td>\n",
       "      <td>117.573738</td>\n",
       "      <td>123.994020</td>\n",
       "      <td>129.108847</td>\n",
       "      <td>129.662147</td>\n",
       "    </tr>\n",
       "    <tr>\n",
       "      <th>10</th>\n",
       "      <td>resnet</td>\n",
       "      <td>cpumemory</td>\n",
       "      <td>64</td>\n",
       "      <td>16</td>\n",
       "      <td>offline</td>\n",
       "      <td>10</td>\n",
       "      <td>10</td>\n",
       "      <td>189.076949</td>\n",
       "      <td>66.043299</td>\n",
       "      <td>65.979139</td>\n",
       "      <td>104.627211</td>\n",
       "      <td>117.419490</td>\n",
       "      <td>123.942999</td>\n",
       "      <td>128.920802</td>\n",
       "      <td>129.784430</td>\n",
       "    </tr>\n",
       "    <tr>\n",
       "      <th>11</th>\n",
       "      <td>resnet</td>\n",
       "      <td>cpumemory</td>\n",
       "      <td>64</td>\n",
       "      <td>32</td>\n",
       "      <td>offline</td>\n",
       "      <td>10</td>\n",
       "      <td>10</td>\n",
       "      <td>184.695048</td>\n",
       "      <td>67.387634</td>\n",
       "      <td>67.482291</td>\n",
       "      <td>107.035973</td>\n",
       "      <td>119.550592</td>\n",
       "      <td>126.089435</td>\n",
       "      <td>131.284438</td>\n",
       "      <td>132.604642</td>\n",
       "    </tr>\n",
       "    <tr>\n",
       "      <th>12</th>\n",
       "      <td>resnet</td>\n",
       "      <td>cpumem</td>\n",
       "      <td>64</td>\n",
       "      <td>1</td>\n",
       "      <td>offline</td>\n",
       "      <td>10</td>\n",
       "      <td>10</td>\n",
       "      <td>124.769663</td>\n",
       "      <td>99.911824</td>\n",
       "      <td>99.743757</td>\n",
       "      <td>158.303057</td>\n",
       "      <td>178.049956</td>\n",
       "      <td>188.243314</td>\n",
       "      <td>196.143481</td>\n",
       "      <td>196.917674</td>\n",
       "    </tr>\n",
       "    <tr>\n",
       "      <th>13</th>\n",
       "      <td>resnet</td>\n",
       "      <td>cpumem</td>\n",
       "      <td>64</td>\n",
       "      <td>2</td>\n",
       "      <td>offline</td>\n",
       "      <td>10</td>\n",
       "      <td>10</td>\n",
       "      <td>185.454640</td>\n",
       "      <td>67.849200</td>\n",
       "      <td>67.956110</td>\n",
       "      <td>107.383458</td>\n",
       "      <td>120.408164</td>\n",
       "      <td>127.057879</td>\n",
       "      <td>132.068736</td>\n",
       "      <td>132.482251</td>\n",
       "    </tr>\n",
       "    <tr>\n",
       "      <th>14</th>\n",
       "      <td>resnet</td>\n",
       "      <td>cpumem</td>\n",
       "      <td>64</td>\n",
       "      <td>4</td>\n",
       "      <td>offline</td>\n",
       "      <td>10</td>\n",
       "      <td>10</td>\n",
       "      <td>187.980600</td>\n",
       "      <td>66.767073</td>\n",
       "      <td>66.810011</td>\n",
       "      <td>105.796287</td>\n",
       "      <td>118.607959</td>\n",
       "      <td>125.220142</td>\n",
       "      <td>130.243586</td>\n",
       "      <td>130.627993</td>\n",
       "    </tr>\n",
       "    <tr>\n",
       "      <th>15</th>\n",
       "      <td>resnet</td>\n",
       "      <td>cpumem</td>\n",
       "      <td>64</td>\n",
       "      <td>8</td>\n",
       "      <td>offline</td>\n",
       "      <td>10</td>\n",
       "      <td>10</td>\n",
       "      <td>189.753312</td>\n",
       "      <td>66.074549</td>\n",
       "      <td>66.141239</td>\n",
       "      <td>104.746111</td>\n",
       "      <td>117.503068</td>\n",
       "      <td>123.923654</td>\n",
       "      <td>129.004283</td>\n",
       "      <td>129.431640</td>\n",
       "    </tr>\n",
       "    <tr>\n",
       "      <th>16</th>\n",
       "      <td>resnet</td>\n",
       "      <td>cpumem</td>\n",
       "      <td>64</td>\n",
       "      <td>16</td>\n",
       "      <td>offline</td>\n",
       "      <td>10</td>\n",
       "      <td>10</td>\n",
       "      <td>189.370673</td>\n",
       "      <td>66.022330</td>\n",
       "      <td>65.990148</td>\n",
       "      <td>104.609688</td>\n",
       "      <td>117.418743</td>\n",
       "      <td>123.967051</td>\n",
       "      <td>128.904561</td>\n",
       "      <td>129.499420</td>\n",
       "    </tr>\n",
       "    <tr>\n",
       "      <th>17</th>\n",
       "      <td>resnet</td>\n",
       "      <td>cpumem</td>\n",
       "      <td>64</td>\n",
       "      <td>32</td>\n",
       "      <td>offline</td>\n",
       "      <td>10</td>\n",
       "      <td>10</td>\n",
       "      <td>185.397088</td>\n",
       "      <td>67.149035</td>\n",
       "      <td>67.402674</td>\n",
       "      <td>106.599858</td>\n",
       "      <td>119.364412</td>\n",
       "      <td>125.888794</td>\n",
       "      <td>131.210119</td>\n",
       "      <td>132.246622</td>\n",
       "    </tr>\n",
       "  </tbody>\n",
       "</table>\n",
       "</div>"
      ],
      "text/plain": [
       "   benchmark     k8senv  sbatch  numctn cscenario  cbatch  reps         qps  \\\n",
       "0     resnet       none      64       1   offline      10    10  125.536764   \n",
       "1     resnet       none      64       2   offline      10    10  139.196790   \n",
       "2     resnet       none      64       4   offline      10    10  139.541706   \n",
       "3     resnet       none      64       8   offline      10    10  143.757513   \n",
       "4     resnet       none      64      16   offline      10    10  150.190482   \n",
       "5     resnet       none      64      32   offline      10    10  155.043672   \n",
       "6     resnet  cpumemory      64       1   offline      10    10  124.765977   \n",
       "7     resnet  cpumemory      64       2   offline      10    10  184.757572   \n",
       "8     resnet  cpumemory      64       4   offline      10    10  187.518600   \n",
       "9     resnet  cpumemory      64       8   offline      10    10  189.350765   \n",
       "10    resnet  cpumemory      64      16   offline      10    10  189.076949   \n",
       "11    resnet  cpumemory      64      32   offline      10    10  184.695048   \n",
       "12    resnet     cpumem      64       1   offline      10    10  124.769663   \n",
       "13    resnet     cpumem      64       2   offline      10    10  185.454640   \n",
       "14    resnet     cpumem      64       4   offline      10    10  187.980600   \n",
       "15    resnet     cpumem      64       8   offline      10    10  189.753312   \n",
       "16    resnet     cpumem      64      16   offline      10    10  189.370673   \n",
       "17    resnet     cpumem      64      32   offline      10    10  185.397088   \n",
       "\n",
       "          mean        p50         p80         p90         p95         p99  \\\n",
       "0    99.712008  99.756205  158.122615  177.497343  187.532966  194.856773   \n",
       "1    90.256603  90.485614  142.884504  160.580191  168.838801  176.122127   \n",
       "2    89.642789  89.603898  142.216399  159.833176  168.468859  175.346155   \n",
       "3    87.142687  87.065233  138.285096  155.078055  163.585085  170.390166   \n",
       "4    83.048200  82.780340  131.844367  147.935949  156.343202  162.595498   \n",
       "5    80.590749  81.036759  127.356368  143.035483  150.700099  157.000956   \n",
       "6   100.041145  99.728930  158.839672  178.558566  188.496221  196.301292   \n",
       "7    68.049587  68.023778  107.457355  120.872295  127.447561  132.481046   \n",
       "8    66.891255  66.989836  105.942611  118.803589  125.429690  130.458496   \n",
       "9    66.057373  66.077681  104.702941  117.573738  123.994020  129.108847   \n",
       "10   66.043299  65.979139  104.627211  117.419490  123.942999  128.920802   \n",
       "11   67.387634  67.482291  107.035973  119.550592  126.089435  131.284438   \n",
       "12   99.911824  99.743757  158.303057  178.049956  188.243314  196.143481   \n",
       "13   67.849200  67.956110  107.383458  120.408164  127.057879  132.068736   \n",
       "14   66.767073  66.810011  105.796287  118.607959  125.220142  130.243586   \n",
       "15   66.074549  66.141239  104.746111  117.503068  123.923654  129.004283   \n",
       "16   66.022330  65.990148  104.609688  117.418743  123.967051  128.904561   \n",
       "17   67.149035  67.402674  106.599858  119.364412  125.888794  131.210119   \n",
       "\n",
       "          p999  \n",
       "0   195.721136  \n",
       "1   176.465937  \n",
       "2   176.007969  \n",
       "3   170.892100  \n",
       "4   163.464788  \n",
       "5   158.016072  \n",
       "6   196.938146  \n",
       "7   132.969761  \n",
       "8   130.990390  \n",
       "9   129.662147  \n",
       "10  129.784430  \n",
       "11  132.604642  \n",
       "12  196.917674  \n",
       "13  132.482251  \n",
       "14  130.627993  \n",
       "15  129.431640  \n",
       "16  129.499420  \n",
       "17  132.246622  "
      ]
     },
     "execution_count": 21,
     "metadata": {},
     "output_type": "execute_result"
    }
   ],
   "source": [
    "import pandas as pd\n",
    "import glob\n",
    "# import plotly.plotly as py\n",
    "import plotly.graph_objs as go\n",
    "\n",
    "from plotly import tools\n",
    "from plotly.offline import init_notebook_mode, iplot\n",
    "init_notebook_mode(connected=True) \n",
    "\n",
    "import numpy as np\n",
    "import matplotlib.pyplot as plt\n",
    "# include if using a Jupyter notebook\n",
    "%matplotlib inline\n",
    "dfg = df\n",
    "dfg"
   ]
  },
  {
   "cell_type": "code",
   "execution_count": 22,
   "id": "1147c970",
   "metadata": {
    "scrolled": false
   },
   "outputs": [
    {
     "data": {
      "application/vnd.plotly.v1+json": {
       "config": {
        "plotlyServerURL": "https://plot.ly"
       },
       "data": [
        {
         "mode": "markers",
         "name": "ctn1",
         "opacity": 0.7,
         "type": "scatter",
         "x": [
          "none",
          "cpumem",
          "cpu"
         ],
         "y": [
          125.53676415426924,
          124.76597725866633,
          124.7696625963696
         ]
        },
        {
         "mode": "markers",
         "name": "ctn2",
         "opacity": 0.7,
         "type": "scatter",
         "x": [
          "none",
          "cpumem",
          "cpu"
         ],
         "y": [
          139.1967903017525,
          184.7575722534644,
          185.45463992349136
         ]
        },
        {
         "mode": "markers",
         "name": "ctn4",
         "opacity": 0.7,
         "type": "scatter",
         "x": [
          "none",
          "cpumem",
          "cpu"
         ],
         "y": [
          139.54170595052358,
          187.51860017761683,
          187.98060015222168
         ]
        },
        {
         "mode": "markers",
         "name": "ctn8",
         "opacity": 0.7,
         "type": "scatter",
         "x": [
          "none",
          "cpumem",
          "cpu"
         ],
         "y": [
          143.75751266715483,
          189.3507645081553,
          189.7533118100362
         ]
        },
        {
         "mode": "markers",
         "name": "ctn16",
         "opacity": 0.7,
         "type": "scatter",
         "x": [
          "none",
          "cpumem",
          "cpu"
         ],
         "y": [
          150.19048161274438,
          189.07694935747023,
          189.37067272799504
         ]
        },
        {
         "mode": "markers",
         "name": "ctn32",
         "opacity": 0.7,
         "type": "scatter",
         "x": [
          "none",
          "cpumem",
          "cpu"
         ],
         "y": [
          155.0436718526959,
          184.6950475451997,
          185.39708840504636
         ]
        }
       ],
       "layout": {
        "bargap": 0.15,
        "bargroupgap": 0.08,
        "barmode": "group",
        "height": 460,
        "legend": {
         "bgcolor": "rgba(255, 255, 255, 0)",
         "bordercolor": "rgba(255, 255, 255, 0)",
         "font": {
          "size": 28
         },
         "orientation": "h",
         "x": 1,
         "y": 1
        },
        "template": {
         "data": {
          "scatter": [
           {
            "type": "scatter"
           }
          ]
         }
        },
        "title": {
         "text": "exp11= inter64,intra64 -> inter2,intra2; restapi=32",
         "x": 0.5,
         "xanchor": "center",
         "y": 0.85,
         "yanchor": "top"
        },
        "width": 1000,
        "xaxis": {
         "tickfont": {
          "color": "rgb(107, 107, 107)",
          "size": 10
         },
         "tickvals": [
          "none",
          "cpumem",
          "cpu"
         ],
         "title": {
          "font": {
           "color": "rgb(107, 107, 107)",
           "size": 10
          },
          "text": "scenarios"
         }
        },
        "yaxis": {
         "automargin": true,
         "tickfont": {
          "color": "rgb(107, 107, 107)",
          "size": 25
         },
         "title": {
          "font": {
           "color": "rgb(107, 107, 107)",
           "size": 25
          },
          "text": "qpsbatch10"
         }
        }
       }
      },
      "text/html": [
       "<div>                            <div id=\"00bda158-78b8-44b4-938c-4fccb5f177d0\" class=\"plotly-graph-div\" style=\"height:460px; width:1000px;\"></div>            <script type=\"text/javascript\">                require([\"plotly\"], function(Plotly) {                    window.PLOTLYENV=window.PLOTLYENV || {};                                    if (document.getElementById(\"00bda158-78b8-44b4-938c-4fccb5f177d0\")) {                    Plotly.newPlot(                        \"00bda158-78b8-44b4-938c-4fccb5f177d0\",                        [{\"mode\": \"markers\", \"name\": \"ctn1\", \"opacity\": 0.7, \"type\": \"scatter\", \"x\": [\"none\", \"cpumem\", \"cpu\"], \"y\": [125.53676415426924, 124.76597725866633, 124.7696625963696]}, {\"mode\": \"markers\", \"name\": \"ctn2\", \"opacity\": 0.7, \"type\": \"scatter\", \"x\": [\"none\", \"cpumem\", \"cpu\"], \"y\": [139.1967903017525, 184.7575722534644, 185.45463992349136]}, {\"mode\": \"markers\", \"name\": \"ctn4\", \"opacity\": 0.7, \"type\": \"scatter\", \"x\": [\"none\", \"cpumem\", \"cpu\"], \"y\": [139.54170595052358, 187.51860017761683, 187.98060015222168]}, {\"mode\": \"markers\", \"name\": \"ctn8\", \"opacity\": 0.7, \"type\": \"scatter\", \"x\": [\"none\", \"cpumem\", \"cpu\"], \"y\": [143.75751266715483, 189.3507645081553, 189.7533118100362]}, {\"mode\": \"markers\", \"name\": \"ctn16\", \"opacity\": 0.7, \"type\": \"scatter\", \"x\": [\"none\", \"cpumem\", \"cpu\"], \"y\": [150.19048161274438, 189.07694935747023, 189.37067272799504]}, {\"mode\": \"markers\", \"name\": \"ctn32\", \"opacity\": 0.7, \"type\": \"scatter\", \"x\": [\"none\", \"cpumem\", \"cpu\"], \"y\": [155.0436718526959, 184.6950475451997, 185.39708840504636]}],                        {\"bargap\": 0.15, \"bargroupgap\": 0.08, \"barmode\": \"group\", \"height\": 460, \"legend\": {\"bgcolor\": \"rgba(255, 255, 255, 0)\", \"bordercolor\": \"rgba(255, 255, 255, 0)\", \"font\": {\"size\": 28}, \"orientation\": \"h\", \"x\": 1.0, \"y\": 1.0}, \"template\": {\"data\": {\"scatter\": [{\"type\": \"scatter\"}]}}, \"title\": {\"text\": \"exp11= inter64,intra64 -> inter2,intra2; restapi=32\", \"x\": 0.5, \"xanchor\": \"center\", \"y\": 0.85, \"yanchor\": \"top\"}, \"width\": 1000, \"xaxis\": {\"tickfont\": {\"color\": \"rgb(107, 107, 107)\", \"size\": 10}, \"tickvals\": [\"none\", \"cpumem\", \"cpu\"], \"title\": {\"font\": {\"color\": \"rgb(107, 107, 107)\", \"size\": 10}, \"text\": \"scenarios\"}}, \"yaxis\": {\"automargin\": true, \"tickfont\": {\"color\": \"rgb(107, 107, 107)\", \"size\": 25}, \"title\": {\"font\": {\"color\": \"rgb(107, 107, 107)\", \"size\": 25}, \"text\": \"qpsbatch10\"}}},                        {\"responsive\": true}                    ).then(function(){\n",
       "                            \n",
       "var gd = document.getElementById('00bda158-78b8-44b4-938c-4fccb5f177d0');\n",
       "var x = new MutationObserver(function (mutations, observer) {{\n",
       "        var display = window.getComputedStyle(gd).display;\n",
       "        if (!display || display === 'none') {{\n",
       "            console.log([gd, 'removed!']);\n",
       "            Plotly.purge(gd);\n",
       "            observer.disconnect();\n",
       "        }}\n",
       "}});\n",
       "\n",
       "// Listen for the removal of the full notebook cells\n",
       "var notebookContainer = gd.closest('#notebook-container');\n",
       "if (notebookContainer) {{\n",
       "    x.observe(notebookContainer, {childList: true});\n",
       "}}\n",
       "\n",
       "// Listen for the clearing of the current output cell\n",
       "var outputEl = gd.closest('.output');\n",
       "if (outputEl) {{\n",
       "    x.observe(outputEl, {childList: true});\n",
       "}}\n",
       "\n",
       "                        })                };                });            </script>        </div>"
      ]
     },
     "metadata": {},
     "output_type": "display_data"
    },
    {
     "data": {
      "application/vnd.plotly.v1+json": {
       "config": {
        "plotlyServerURL": "https://plot.ly"
       },
       "data": [
        {
         "mode": "markers",
         "name": "ctn1",
         "opacity": 0.7,
         "type": "scatter",
         "x": [
          "none",
          "cpumem",
          "cpu"
         ],
         "y": [
          99.71200848274536,
          100.0411445755926,
          99.91182421045735
         ]
        },
        {
         "mode": "markers",
         "name": "ctn2",
         "opacity": 0.7,
         "type": "scatter",
         "x": [
          "none",
          "cpumem",
          "cpu"
         ],
         "y": [
          90.25660328139014,
          68.04958687890064,
          67.84920034701246
         ]
        },
        {
         "mode": "markers",
         "name": "ctn4",
         "opacity": 0.7,
         "type": "scatter",
         "x": [
          "none",
          "cpumem",
          "cpu"
         ],
         "y": [
          89.64278893155705,
          66.89125455571012,
          66.76707277221281
         ]
        },
        {
         "mode": "markers",
         "name": "ctn8",
         "opacity": 0.7,
         "type": "scatter",
         "x": [
          "none",
          "cpumem",
          "cpu"
         ],
         "y": [
          87.14268707820736,
          66.05737257812665,
          66.0745493765218
         ]
        },
        {
         "mode": "markers",
         "name": "ctn16",
         "opacity": 0.7,
         "type": "scatter",
         "x": [
          "none",
          "cpumem",
          "cpu"
         ],
         "y": [
          83.04819987705476,
          66.04329868732763,
          66.02232985484399
         ]
        },
        {
         "mode": "markers",
         "name": "ctn32",
         "opacity": 0.7,
         "type": "scatter",
         "x": [
          "none",
          "cpumem",
          "cpu"
         ],
         "y": [
          80.59074892776506,
          67.38763444996793,
          67.1490350604484
         ]
        }
       ],
       "layout": {
        "bargap": 0.15,
        "bargroupgap": 0.08,
        "barmode": "group",
        "height": 460,
        "legend": {
         "bgcolor": "rgba(255, 255, 255, 0)",
         "bordercolor": "rgba(255, 255, 255, 0)",
         "font": {
          "size": 28
         },
         "orientation": "h",
         "x": 1,
         "y": 1
        },
        "template": {
         "data": {
          "scatter": [
           {
            "type": "scatter"
           }
          ]
         }
        },
        "title": {
         "text": "exp11= inter64,intra64 -> inter2,intra2; restapi=32",
         "x": 0.5,
         "xanchor": "center",
         "y": 0.85,
         "yanchor": "top"
        },
        "width": 1000,
        "xaxis": {
         "tickfont": {
          "color": "rgb(107, 107, 107)",
          "size": 10
         },
         "tickvals": [
          "none",
          "cpumem",
          "cpu"
         ],
         "title": {
          "font": {
           "color": "rgb(107, 107, 107)",
           "size": 10
          },
          "text": "scenarios"
         }
        },
        "yaxis": {
         "automargin": true,
         "tickfont": {
          "color": "rgb(107, 107, 107)",
          "size": 25
         },
         "title": {
          "font": {
           "color": "rgb(107, 107, 107)",
           "size": 25
          },
          "text": "meanbatch10"
         }
        }
       }
      },
      "text/html": [
       "<div>                            <div id=\"bf573889-544d-401f-ad98-9b01fcbe788a\" class=\"plotly-graph-div\" style=\"height:460px; width:1000px;\"></div>            <script type=\"text/javascript\">                require([\"plotly\"], function(Plotly) {                    window.PLOTLYENV=window.PLOTLYENV || {};                                    if (document.getElementById(\"bf573889-544d-401f-ad98-9b01fcbe788a\")) {                    Plotly.newPlot(                        \"bf573889-544d-401f-ad98-9b01fcbe788a\",                        [{\"mode\": \"markers\", \"name\": \"ctn1\", \"opacity\": 0.7, \"type\": \"scatter\", \"x\": [\"none\", \"cpumem\", \"cpu\"], \"y\": [99.71200848274536, 100.0411445755926, 99.91182421045735]}, {\"mode\": \"markers\", \"name\": \"ctn2\", \"opacity\": 0.7, \"type\": \"scatter\", \"x\": [\"none\", \"cpumem\", \"cpu\"], \"y\": [90.25660328139014, 68.04958687890064, 67.84920034701246]}, {\"mode\": \"markers\", \"name\": \"ctn4\", \"opacity\": 0.7, \"type\": \"scatter\", \"x\": [\"none\", \"cpumem\", \"cpu\"], \"y\": [89.64278893155705, 66.89125455571012, 66.76707277221281]}, {\"mode\": \"markers\", \"name\": \"ctn8\", \"opacity\": 0.7, \"type\": \"scatter\", \"x\": [\"none\", \"cpumem\", \"cpu\"], \"y\": [87.14268707820736, 66.05737257812665, 66.0745493765218]}, {\"mode\": \"markers\", \"name\": \"ctn16\", \"opacity\": 0.7, \"type\": \"scatter\", \"x\": [\"none\", \"cpumem\", \"cpu\"], \"y\": [83.04819987705476, 66.04329868732763, 66.02232985484399]}, {\"mode\": \"markers\", \"name\": \"ctn32\", \"opacity\": 0.7, \"type\": \"scatter\", \"x\": [\"none\", \"cpumem\", \"cpu\"], \"y\": [80.59074892776506, 67.38763444996793, 67.1490350604484]}],                        {\"bargap\": 0.15, \"bargroupgap\": 0.08, \"barmode\": \"group\", \"height\": 460, \"legend\": {\"bgcolor\": \"rgba(255, 255, 255, 0)\", \"bordercolor\": \"rgba(255, 255, 255, 0)\", \"font\": {\"size\": 28}, \"orientation\": \"h\", \"x\": 1.0, \"y\": 1.0}, \"template\": {\"data\": {\"scatter\": [{\"type\": \"scatter\"}]}}, \"title\": {\"text\": \"exp11= inter64,intra64 -> inter2,intra2; restapi=32\", \"x\": 0.5, \"xanchor\": \"center\", \"y\": 0.85, \"yanchor\": \"top\"}, \"width\": 1000, \"xaxis\": {\"tickfont\": {\"color\": \"rgb(107, 107, 107)\", \"size\": 10}, \"tickvals\": [\"none\", \"cpumem\", \"cpu\"], \"title\": {\"font\": {\"color\": \"rgb(107, 107, 107)\", \"size\": 10}, \"text\": \"scenarios\"}}, \"yaxis\": {\"automargin\": true, \"tickfont\": {\"color\": \"rgb(107, 107, 107)\", \"size\": 25}, \"title\": {\"font\": {\"color\": \"rgb(107, 107, 107)\", \"size\": 25}, \"text\": \"meanbatch10\"}}},                        {\"responsive\": true}                    ).then(function(){\n",
       "                            \n",
       "var gd = document.getElementById('bf573889-544d-401f-ad98-9b01fcbe788a');\n",
       "var x = new MutationObserver(function (mutations, observer) {{\n",
       "        var display = window.getComputedStyle(gd).display;\n",
       "        if (!display || display === 'none') {{\n",
       "            console.log([gd, 'removed!']);\n",
       "            Plotly.purge(gd);\n",
       "            observer.disconnect();\n",
       "        }}\n",
       "}});\n",
       "\n",
       "// Listen for the removal of the full notebook cells\n",
       "var notebookContainer = gd.closest('#notebook-container');\n",
       "if (notebookContainer) {{\n",
       "    x.observe(notebookContainer, {childList: true});\n",
       "}}\n",
       "\n",
       "// Listen for the clearing of the current output cell\n",
       "var outputEl = gd.closest('.output');\n",
       "if (outputEl) {{\n",
       "    x.observe(outputEl, {childList: true});\n",
       "}}\n",
       "\n",
       "                        })                };                });            </script>        </div>"
      ]
     },
     "metadata": {},
     "output_type": "display_data"
    },
    {
     "data": {
      "application/vnd.plotly.v1+json": {
       "config": {
        "plotlyServerURL": "https://plot.ly"
       },
       "data": [
        {
         "mode": "markers",
         "name": "ctn1",
         "opacity": 0.7,
         "type": "scatter",
         "x": [
          "none",
          "cpumem",
          "cpu"
         ],
         "y": [
          194.85677257475,
          196.30129151175,
          196.14348067775
         ]
        },
        {
         "mode": "markers",
         "name": "ctn2",
         "opacity": 0.7,
         "type": "scatter",
         "x": [
          "none",
          "cpumem",
          "cpu"
         ],
         "y": [
          176.12212708599998,
          132.48104642750002,
          132.068736067
         ]
        },
        {
         "mode": "markers",
         "name": "ctn4",
         "opacity": 0.7,
         "type": "scatter",
         "x": [
          "none",
          "cpumem",
          "cpu"
         ],
         "y": [
          175.346155484,
          130.458496105,
          130.243586035
         ]
        },
        {
         "mode": "markers",
         "name": "ctn8",
         "opacity": 0.7,
         "type": "scatter",
         "x": [
          "none",
          "cpumem",
          "cpu"
         ],
         "y": [
          170.39016603125,
          129.10884652875,
          129.00428253425
         ]
        },
        {
         "mode": "markers",
         "name": "ctn16",
         "opacity": 0.7,
         "type": "scatter",
         "x": [
          "none",
          "cpumem",
          "cpu"
         ],
         "y": [
          162.59549833775003,
          128.92080218925,
          128.90456057375
         ]
        },
        {
         "mode": "markers",
         "name": "ctn32",
         "opacity": 0.7,
         "type": "scatter",
         "x": [
          "none",
          "cpumem",
          "cpu"
         ],
         "y": [
          157.0009559915,
          131.28443848325003,
          131.21011866474998
         ]
        }
       ],
       "layout": {
        "bargap": 0.15,
        "bargroupgap": 0.08,
        "barmode": "group",
        "height": 460,
        "legend": {
         "bgcolor": "rgba(255, 255, 255, 0)",
         "bordercolor": "rgba(255, 255, 255, 0)",
         "font": {
          "size": 28
         },
         "orientation": "h",
         "x": 1,
         "y": 1
        },
        "template": {
         "data": {
          "scatter": [
           {
            "type": "scatter"
           }
          ]
         }
        },
        "title": {
         "text": "exp11= inter64,intra64 -> inter2,intra2; restapi=32",
         "x": 0.5,
         "xanchor": "center",
         "y": 0.85,
         "yanchor": "top"
        },
        "width": 1000,
        "xaxis": {
         "tickfont": {
          "color": "rgb(107, 107, 107)",
          "size": 10
         },
         "tickvals": [
          "none",
          "cpumem",
          "cpu"
         ],
         "title": {
          "font": {
           "color": "rgb(107, 107, 107)",
           "size": 10
          },
          "text": "scenarios"
         }
        },
        "yaxis": {
         "automargin": true,
         "tickfont": {
          "color": "rgb(107, 107, 107)",
          "size": 25
         },
         "title": {
          "font": {
           "color": "rgb(107, 107, 107)",
           "size": 25
          },
          "text": "p99batch10"
         }
        }
       }
      },
      "text/html": [
       "<div>                            <div id=\"e22ebc09-9aa9-435f-a566-2bc50d6b3e50\" class=\"plotly-graph-div\" style=\"height:460px; width:1000px;\"></div>            <script type=\"text/javascript\">                require([\"plotly\"], function(Plotly) {                    window.PLOTLYENV=window.PLOTLYENV || {};                                    if (document.getElementById(\"e22ebc09-9aa9-435f-a566-2bc50d6b3e50\")) {                    Plotly.newPlot(                        \"e22ebc09-9aa9-435f-a566-2bc50d6b3e50\",                        [{\"mode\": \"markers\", \"name\": \"ctn1\", \"opacity\": 0.7, \"type\": \"scatter\", \"x\": [\"none\", \"cpumem\", \"cpu\"], \"y\": [194.85677257475, 196.30129151175, 196.14348067775]}, {\"mode\": \"markers\", \"name\": \"ctn2\", \"opacity\": 0.7, \"type\": \"scatter\", \"x\": [\"none\", \"cpumem\", \"cpu\"], \"y\": [176.12212708599998, 132.48104642750002, 132.068736067]}, {\"mode\": \"markers\", \"name\": \"ctn4\", \"opacity\": 0.7, \"type\": \"scatter\", \"x\": [\"none\", \"cpumem\", \"cpu\"], \"y\": [175.346155484, 130.458496105, 130.243586035]}, {\"mode\": \"markers\", \"name\": \"ctn8\", \"opacity\": 0.7, \"type\": \"scatter\", \"x\": [\"none\", \"cpumem\", \"cpu\"], \"y\": [170.39016603125, 129.10884652875, 129.00428253425]}, {\"mode\": \"markers\", \"name\": \"ctn16\", \"opacity\": 0.7, \"type\": \"scatter\", \"x\": [\"none\", \"cpumem\", \"cpu\"], \"y\": [162.59549833775003, 128.92080218925, 128.90456057375]}, {\"mode\": \"markers\", \"name\": \"ctn32\", \"opacity\": 0.7, \"type\": \"scatter\", \"x\": [\"none\", \"cpumem\", \"cpu\"], \"y\": [157.0009559915, 131.28443848325003, 131.21011866474998]}],                        {\"bargap\": 0.15, \"bargroupgap\": 0.08, \"barmode\": \"group\", \"height\": 460, \"legend\": {\"bgcolor\": \"rgba(255, 255, 255, 0)\", \"bordercolor\": \"rgba(255, 255, 255, 0)\", \"font\": {\"size\": 28}, \"orientation\": \"h\", \"x\": 1.0, \"y\": 1.0}, \"template\": {\"data\": {\"scatter\": [{\"type\": \"scatter\"}]}}, \"title\": {\"text\": \"exp11= inter64,intra64 -> inter2,intra2; restapi=32\", \"x\": 0.5, \"xanchor\": \"center\", \"y\": 0.85, \"yanchor\": \"top\"}, \"width\": 1000, \"xaxis\": {\"tickfont\": {\"color\": \"rgb(107, 107, 107)\", \"size\": 10}, \"tickvals\": [\"none\", \"cpumem\", \"cpu\"], \"title\": {\"font\": {\"color\": \"rgb(107, 107, 107)\", \"size\": 10}, \"text\": \"scenarios\"}}, \"yaxis\": {\"automargin\": true, \"tickfont\": {\"color\": \"rgb(107, 107, 107)\", \"size\": 25}, \"title\": {\"font\": {\"color\": \"rgb(107, 107, 107)\", \"size\": 25}, \"text\": \"p99batch10\"}}},                        {\"responsive\": true}                    ).then(function(){\n",
       "                            \n",
       "var gd = document.getElementById('e22ebc09-9aa9-435f-a566-2bc50d6b3e50');\n",
       "var x = new MutationObserver(function (mutations, observer) {{\n",
       "        var display = window.getComputedStyle(gd).display;\n",
       "        if (!display || display === 'none') {{\n",
       "            console.log([gd, 'removed!']);\n",
       "            Plotly.purge(gd);\n",
       "            observer.disconnect();\n",
       "        }}\n",
       "}});\n",
       "\n",
       "// Listen for the removal of the full notebook cells\n",
       "var notebookContainer = gd.closest('#notebook-container');\n",
       "if (notebookContainer) {{\n",
       "    x.observe(notebookContainer, {childList: true});\n",
       "}}\n",
       "\n",
       "// Listen for the clearing of the current output cell\n",
       "var outputEl = gd.closest('.output');\n",
       "if (outputEl) {{\n",
       "    x.observe(outputEl, {childList: true});\n",
       "}}\n",
       "\n",
       "                        })                };                });            </script>        </div>"
      ]
     },
     "metadata": {},
     "output_type": "display_data"
    }
   ],
   "source": [
    "import matplotlib\n",
    "import matplotlib.pyplot as plt\n",
    "import numpy as np\n",
    "from svglib.svglib import svg2rlg\n",
    "from reportlab.graphics import renderPDF\n",
    "from reportlab.pdfgen import canvas\n",
    "\n",
    "from numpy import percentile, mean, std\n",
    "import plotly.graph_objects as go\n",
    "\n",
    "from plotly.offline import init_notebook_mode, iplot\n",
    "\n",
    "import plotly.io as pio\n",
    "pio.templates.default = \"none\"\n",
    "# pio.templates.default = \"simple_white\"\n",
    "\n",
    "import plotly.graph_objects as go\n",
    "from plotly.subplots import make_subplots\n",
    "import pandas as pd\n",
    "# import plotly.express as px\n",
    "\n",
    "for x in ['qps','mean','p99']:\n",
    "    for cbatch in [10]:\n",
    "        for model_name in ['resnet']:\n",
    "            list_traces = []\n",
    "            for numctn in [1,2,4,8,16,32]: \n",
    "                dfg_bench = dfg[(dfg['benchmark']== model_name)  & (dfg['cbatch']==cbatch) & (dfg['numctn']==numctn) &\\\n",
    "                            ((dfg['k8senv']=='none') |\\\n",
    "                             (dfg['k8senv']=='cpumem')| (dfg['k8senv']=='cpumemory'))]\n",
    "#                 print(dfg_bench)\n",
    "\n",
    "\n",
    "                #data\n",
    "                trace = go.Scatter(\n",
    "                    name=\"ctn\"+str(numctn),\n",
    "                    x=[ 'none','cpumem','cpu'],\n",
    "                    y= dfg_bench[x].values.tolist(),\n",
    "        #             error_y = dict(type='data', array=df1_bench['model_time_std'].values.tolist()),\n",
    "                    opacity=0.7,\n",
    "                    mode='markers'\n",
    "                )\n",
    "                list_traces.append(trace)\n",
    "\n",
    "\n",
    "\n",
    "            #layout\n",
    "            layout = go.Layout(\n",
    "                title={\n",
    "                    'text': \"exp11= inter64,intra64 -> inter2,intra2; restapi=32\" ,\n",
    "                    'y':0.85,\n",
    "                    'x':0.5,\n",
    "                    'xanchor': 'center',\n",
    "                    'yanchor': 'top'},\n",
    "                width=1000,\n",
    "                height=460,\n",
    "                xaxis=dict(\n",
    "                    title= \"scenarios\",\n",
    "                    tickvals=[ 'none','cpumem','cpu'],\n",
    "                    titlefont=dict(\n",
    "                        size=10,\n",
    "                        color='rgb(107, 107, 107)'\n",
    "                    ),\n",
    "                    tickfont=dict(\n",
    "                        size=10,\n",
    "                        color='rgb(107, 107, 107)'\n",
    "                    )\n",
    "                ),\n",
    "                yaxis=dict(\n",
    "                    title= x+\"batch\"+str(cbatch),\n",
    "                    automargin=True,\n",
    "                    titlefont=dict(\n",
    "                        size=25,\n",
    "                        color='rgb(107, 107, 107)'\n",
    "                    ),\n",
    "                    tickfont=dict(\n",
    "                        size=25,\n",
    "                        color='rgb(107, 107, 107)'\n",
    "                    ),    \n",
    "                ),\n",
    "                legend=dict(\n",
    "                    x=1.0,\n",
    "                    y=1.0,\n",
    "                    bgcolor='rgba(255, 255, 255, 0)',\n",
    "                    bordercolor='rgba(255, 255, 255, 0)',\n",
    "                    font = dict( size = 28)\n",
    "                ),\n",
    "                barmode='group',\n",
    "                bargap=0.15,\n",
    "                bargroupgap=0.08\n",
    "        #         legend_orientation=\"h\"\n",
    "            )\n",
    "\n",
    "        data = list_traces\n",
    "        fig = go.Figure(data=data, layout=layout)\n",
    "        fig.update_layout(legend_orientation=\"h\")\n",
    "        fig.show()    \n",
    "\n",
    "    #     fig.write_image(path + model_name + k8senv +'.pdf')"
   ]
  },
  {
   "cell_type": "code",
   "execution_count": null,
   "id": "4232f1de",
   "metadata": {},
   "outputs": [],
   "source": []
  },
  {
   "cell_type": "code",
   "execution_count": null,
   "id": "41a87e54",
   "metadata": {},
   "outputs": [],
   "source": []
  },
  {
   "cell_type": "code",
   "execution_count": null,
   "id": "e58b2c83",
   "metadata": {},
   "outputs": [],
   "source": []
  }
 ],
 "metadata": {
  "kernelspec": {
   "display_name": "Python 3",
   "language": "python",
   "name": "python3"
  },
  "language_info": {
   "codemirror_mode": {
    "name": "ipython",
    "version": 3
   },
   "file_extension": ".py",
   "mimetype": "text/x-python",
   "name": "python",
   "nbconvert_exporter": "python",
   "pygments_lexer": "ipython3",
   "version": "3.8.5"
  }
 },
 "nbformat": 4,
 "nbformat_minor": 5
}
