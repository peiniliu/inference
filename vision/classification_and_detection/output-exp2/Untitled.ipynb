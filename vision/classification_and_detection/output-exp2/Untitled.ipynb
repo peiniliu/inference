{
 "cells": [
  {
   "cell_type": "code",
   "execution_count": 24,
   "id": "de0246d4",
   "metadata": {},
   "outputs": [
    {
     "data": {
      "text/html": [
       "        <script type=\"text/javascript\">\n",
       "        window.PlotlyConfig = {MathJaxConfig: 'local'};\n",
       "        if (window.MathJax) {MathJax.Hub.Config({SVG: {font: \"STIX-Web\"}});}\n",
       "        if (typeof require !== 'undefined') {\n",
       "        require.undef(\"plotly\");\n",
       "        requirejs.config({\n",
       "            paths: {\n",
       "                'plotly': ['https://cdn.plot.ly/plotly-latest.min']\n",
       "            }\n",
       "        });\n",
       "        require(['plotly'], function(Plotly) {\n",
       "            window._Plotly = Plotly;\n",
       "        });\n",
       "        }\n",
       "        </script>\n",
       "        "
      ]
     },
     "metadata": {},
     "output_type": "display_data"
    },
    {
     "data": {
      "text/html": [
       "<div>\n",
       "<style scoped>\n",
       "    .dataframe tbody tr th:only-of-type {\n",
       "        vertical-align: middle;\n",
       "    }\n",
       "\n",
       "    .dataframe tbody tr th {\n",
       "        vertical-align: top;\n",
       "    }\n",
       "\n",
       "    .dataframe thead th {\n",
       "        text-align: right;\n",
       "    }\n",
       "</style>\n",
       "<table border=\"1\" class=\"dataframe\">\n",
       "  <thead>\n",
       "    <tr style=\"text-align: right;\">\n",
       "      <th></th>\n",
       "      <th>benchmark</th>\n",
       "      <th>k8senv</th>\n",
       "      <th>sbatch</th>\n",
       "      <th>numctn</th>\n",
       "      <th>cscenario</th>\n",
       "      <th>cbatch</th>\n",
       "      <th>reps</th>\n",
       "      <th>qps</th>\n",
       "      <th>mean</th>\n",
       "      <th>p50</th>\n",
       "      <th>p80</th>\n",
       "      <th>p90</th>\n",
       "      <th>p95</th>\n",
       "      <th>p99</th>\n",
       "      <th>p999</th>\n",
       "    </tr>\n",
       "  </thead>\n",
       "  <tbody>\n",
       "    <tr>\n",
       "      <th>0</th>\n",
       "      <td>resnet</td>\n",
       "      <td>none</td>\n",
       "      <td>0</td>\n",
       "      <td>1</td>\n",
       "      <td>offline</td>\n",
       "      <td>10</td>\n",
       "      <td>10</td>\n",
       "      <td>120.351551</td>\n",
       "      <td>102.313683</td>\n",
       "      <td>101.189068</td>\n",
       "      <td>163.627609</td>\n",
       "      <td>184.895984</td>\n",
       "      <td>195.186977</td>\n",
       "      <td>203.420595</td>\n",
       "      <td>204.162391</td>\n",
       "    </tr>\n",
       "    <tr>\n",
       "      <th>1</th>\n",
       "      <td>resnet</td>\n",
       "      <td>none</td>\n",
       "      <td>0</td>\n",
       "      <td>2</td>\n",
       "      <td>offline</td>\n",
       "      <td>10</td>\n",
       "      <td>10</td>\n",
       "      <td>147.535494</td>\n",
       "      <td>84.148378</td>\n",
       "      <td>83.976586</td>\n",
       "      <td>133.208861</td>\n",
       "      <td>149.703278</td>\n",
       "      <td>157.908212</td>\n",
       "      <td>164.506059</td>\n",
       "      <td>166.526020</td>\n",
       "    </tr>\n",
       "    <tr>\n",
       "      <th>2</th>\n",
       "      <td>resnet</td>\n",
       "      <td>none</td>\n",
       "      <td>0</td>\n",
       "      <td>4</td>\n",
       "      <td>offline</td>\n",
       "      <td>10</td>\n",
       "      <td>10</td>\n",
       "      <td>146.515897</td>\n",
       "      <td>85.574812</td>\n",
       "      <td>85.621195</td>\n",
       "      <td>135.084943</td>\n",
       "      <td>151.744957</td>\n",
       "      <td>159.948050</td>\n",
       "      <td>166.335684</td>\n",
       "      <td>167.686432</td>\n",
       "    </tr>\n",
       "    <tr>\n",
       "      <th>3</th>\n",
       "      <td>resnet</td>\n",
       "      <td>none</td>\n",
       "      <td>0</td>\n",
       "      <td>8</td>\n",
       "      <td>offline</td>\n",
       "      <td>10</td>\n",
       "      <td>10</td>\n",
       "      <td>128.209697</td>\n",
       "      <td>94.021081</td>\n",
       "      <td>93.180296</td>\n",
       "      <td>150.223543</td>\n",
       "      <td>169.441011</td>\n",
       "      <td>179.226807</td>\n",
       "      <td>186.793387</td>\n",
       "      <td>191.432138</td>\n",
       "    </tr>\n",
       "    <tr>\n",
       "      <th>4</th>\n",
       "      <td>resnet</td>\n",
       "      <td>none</td>\n",
       "      <td>0</td>\n",
       "      <td>16</td>\n",
       "      <td>offline</td>\n",
       "      <td>10</td>\n",
       "      <td>10</td>\n",
       "      <td>137.454065</td>\n",
       "      <td>87.872847</td>\n",
       "      <td>87.729515</td>\n",
       "      <td>139.648644</td>\n",
       "      <td>157.123716</td>\n",
       "      <td>165.935468</td>\n",
       "      <td>172.716092</td>\n",
       "      <td>177.078714</td>\n",
       "    </tr>\n",
       "  </tbody>\n",
       "</table>\n",
       "</div>"
      ],
      "text/plain": [
       "  benchmark k8senv  sbatch  numctn cscenario  cbatch  reps         qps  \\\n",
       "0    resnet   none       0       1   offline      10    10  120.351551   \n",
       "1    resnet   none       0       2   offline      10    10  147.535494   \n",
       "2    resnet   none       0       4   offline      10    10  146.515897   \n",
       "3    resnet   none       0       8   offline      10    10  128.209697   \n",
       "4    resnet   none       0      16   offline      10    10  137.454065   \n",
       "\n",
       "         mean         p50         p80         p90         p95         p99  \\\n",
       "0  102.313683  101.189068  163.627609  184.895984  195.186977  203.420595   \n",
       "1   84.148378   83.976586  133.208861  149.703278  157.908212  164.506059   \n",
       "2   85.574812   85.621195  135.084943  151.744957  159.948050  166.335684   \n",
       "3   94.021081   93.180296  150.223543  169.441011  179.226807  186.793387   \n",
       "4   87.872847   87.729515  139.648644  157.123716  165.935468  172.716092   \n",
       "\n",
       "         p999  \n",
       "0  204.162391  \n",
       "1  166.526020  \n",
       "2  167.686432  \n",
       "3  191.432138  \n",
       "4  177.078714  "
      ]
     },
     "execution_count": 24,
     "metadata": {},
     "output_type": "execute_result"
    }
   ],
   "source": [
    "import pandas as pd\n",
    "import glob\n",
    "# import plotly.plotly as py\n",
    "import plotly.graph_objs as go\n",
    "\n",
    "from plotly import tools\n",
    "from plotly.offline import init_notebook_mode, iplot\n",
    "init_notebook_mode(connected=True) \n",
    "\n",
    "import numpy as np\n",
    "import matplotlib.pyplot as plt\n",
    "# include if using a Jupyter notebook\n",
    "# %matplotlib inline\n",
    "\n",
    "path = \"/gpfs/bsc_home/xpliu/inference/vision/classification_and_detection/output-exp2/\"\n",
    "all_files = glob.glob(path + \"*.csv\")\n",
    "\n",
    "li = []\n",
    "\n",
    "for filename in all_files:\n",
    "    df = pd.read_csv(filename, index_col=None, header=0)\n",
    "    li.append(df)\n",
    "\n",
    "df = pd.concat(li, axis=0, ignore_index=True)\n",
    "df.head()"
   ]
  },
  {
   "cell_type": "code",
   "execution_count": 25,
   "id": "fe8c3d7f",
   "metadata": {},
   "outputs": [
    {
     "data": {
      "text/plain": [
       "18"
      ]
     },
     "execution_count": 25,
     "metadata": {},
     "output_type": "execute_result"
    }
   ],
   "source": [
    "len(df)"
   ]
  },
  {
   "cell_type": "code",
   "execution_count": 26,
   "id": "d48083a0",
   "metadata": {},
   "outputs": [
    {
     "data": {
      "text/plain": [
       "array(['resnet'], dtype=object)"
      ]
     },
     "execution_count": 26,
     "metadata": {},
     "output_type": "execute_result"
    }
   ],
   "source": [
    "df['benchmark'].unique()"
   ]
  },
  {
   "cell_type": "code",
   "execution_count": 27,
   "id": "b318f564",
   "metadata": {},
   "outputs": [
    {
     "data": {
      "text/plain": [
       "array(['none', 'cpumemory', 'cpumem'], dtype=object)"
      ]
     },
     "execution_count": 27,
     "metadata": {},
     "output_type": "execute_result"
    }
   ],
   "source": [
    "df['k8senv'].unique()"
   ]
  },
  {
   "cell_type": "code",
   "execution_count": 28,
   "id": "a2a7701a",
   "metadata": {},
   "outputs": [
    {
     "data": {
      "text/plain": [
       "numpy.float64"
      ]
     },
     "execution_count": 28,
     "metadata": {},
     "output_type": "execute_result"
    }
   ],
   "source": [
    "type(df['qps'][0])"
   ]
  },
  {
   "cell_type": "markdown",
   "id": "53f2033c",
   "metadata": {},
   "source": [
    "# Graph"
   ]
  },
  {
   "cell_type": "code",
   "execution_count": 29,
   "id": "5786faec",
   "metadata": {},
   "outputs": [
    {
     "data": {
      "text/html": [
       "        <script type=\"text/javascript\">\n",
       "        window.PlotlyConfig = {MathJaxConfig: 'local'};\n",
       "        if (window.MathJax) {MathJax.Hub.Config({SVG: {font: \"STIX-Web\"}});}\n",
       "        if (typeof require !== 'undefined') {\n",
       "        require.undef(\"plotly\");\n",
       "        requirejs.config({\n",
       "            paths: {\n",
       "                'plotly': ['https://cdn.plot.ly/plotly-latest.min']\n",
       "            }\n",
       "        });\n",
       "        require(['plotly'], function(Plotly) {\n",
       "            window._Plotly = Plotly;\n",
       "        });\n",
       "        }\n",
       "        </script>\n",
       "        "
      ]
     },
     "metadata": {},
     "output_type": "display_data"
    },
    {
     "data": {
      "text/html": [
       "<div>\n",
       "<style scoped>\n",
       "    .dataframe tbody tr th:only-of-type {\n",
       "        vertical-align: middle;\n",
       "    }\n",
       "\n",
       "    .dataframe tbody tr th {\n",
       "        vertical-align: top;\n",
       "    }\n",
       "\n",
       "    .dataframe thead th {\n",
       "        text-align: right;\n",
       "    }\n",
       "</style>\n",
       "<table border=\"1\" class=\"dataframe\">\n",
       "  <thead>\n",
       "    <tr style=\"text-align: right;\">\n",
       "      <th></th>\n",
       "      <th>benchmark</th>\n",
       "      <th>k8senv</th>\n",
       "      <th>sbatch</th>\n",
       "      <th>numctn</th>\n",
       "      <th>cscenario</th>\n",
       "      <th>cbatch</th>\n",
       "      <th>reps</th>\n",
       "      <th>qps</th>\n",
       "      <th>mean</th>\n",
       "      <th>p50</th>\n",
       "      <th>p80</th>\n",
       "      <th>p90</th>\n",
       "      <th>p95</th>\n",
       "      <th>p99</th>\n",
       "      <th>p999</th>\n",
       "    </tr>\n",
       "  </thead>\n",
       "  <tbody>\n",
       "    <tr>\n",
       "      <th>0</th>\n",
       "      <td>resnet</td>\n",
       "      <td>none</td>\n",
       "      <td>0</td>\n",
       "      <td>1</td>\n",
       "      <td>offline</td>\n",
       "      <td>10</td>\n",
       "      <td>10</td>\n",
       "      <td>120.351551</td>\n",
       "      <td>102.313683</td>\n",
       "      <td>101.189068</td>\n",
       "      <td>163.627609</td>\n",
       "      <td>184.895984</td>\n",
       "      <td>195.186977</td>\n",
       "      <td>203.420595</td>\n",
       "      <td>204.162391</td>\n",
       "    </tr>\n",
       "    <tr>\n",
       "      <th>1</th>\n",
       "      <td>resnet</td>\n",
       "      <td>none</td>\n",
       "      <td>0</td>\n",
       "      <td>2</td>\n",
       "      <td>offline</td>\n",
       "      <td>10</td>\n",
       "      <td>10</td>\n",
       "      <td>147.535494</td>\n",
       "      <td>84.148378</td>\n",
       "      <td>83.976586</td>\n",
       "      <td>133.208861</td>\n",
       "      <td>149.703278</td>\n",
       "      <td>157.908212</td>\n",
       "      <td>164.506059</td>\n",
       "      <td>166.526020</td>\n",
       "    </tr>\n",
       "    <tr>\n",
       "      <th>2</th>\n",
       "      <td>resnet</td>\n",
       "      <td>none</td>\n",
       "      <td>0</td>\n",
       "      <td>4</td>\n",
       "      <td>offline</td>\n",
       "      <td>10</td>\n",
       "      <td>10</td>\n",
       "      <td>146.515897</td>\n",
       "      <td>85.574812</td>\n",
       "      <td>85.621195</td>\n",
       "      <td>135.084943</td>\n",
       "      <td>151.744957</td>\n",
       "      <td>159.948050</td>\n",
       "      <td>166.335684</td>\n",
       "      <td>167.686432</td>\n",
       "    </tr>\n",
       "    <tr>\n",
       "      <th>3</th>\n",
       "      <td>resnet</td>\n",
       "      <td>none</td>\n",
       "      <td>0</td>\n",
       "      <td>8</td>\n",
       "      <td>offline</td>\n",
       "      <td>10</td>\n",
       "      <td>10</td>\n",
       "      <td>128.209697</td>\n",
       "      <td>94.021081</td>\n",
       "      <td>93.180296</td>\n",
       "      <td>150.223543</td>\n",
       "      <td>169.441011</td>\n",
       "      <td>179.226807</td>\n",
       "      <td>186.793387</td>\n",
       "      <td>191.432138</td>\n",
       "    </tr>\n",
       "    <tr>\n",
       "      <th>4</th>\n",
       "      <td>resnet</td>\n",
       "      <td>none</td>\n",
       "      <td>0</td>\n",
       "      <td>16</td>\n",
       "      <td>offline</td>\n",
       "      <td>10</td>\n",
       "      <td>10</td>\n",
       "      <td>137.454065</td>\n",
       "      <td>87.872847</td>\n",
       "      <td>87.729515</td>\n",
       "      <td>139.648644</td>\n",
       "      <td>157.123716</td>\n",
       "      <td>165.935468</td>\n",
       "      <td>172.716092</td>\n",
       "      <td>177.078714</td>\n",
       "    </tr>\n",
       "    <tr>\n",
       "      <th>5</th>\n",
       "      <td>resnet</td>\n",
       "      <td>none</td>\n",
       "      <td>0</td>\n",
       "      <td>32</td>\n",
       "      <td>offline</td>\n",
       "      <td>10</td>\n",
       "      <td>10</td>\n",
       "      <td>137.759292</td>\n",
       "      <td>88.658594</td>\n",
       "      <td>88.275380</td>\n",
       "      <td>140.694650</td>\n",
       "      <td>158.242434</td>\n",
       "      <td>167.077281</td>\n",
       "      <td>173.949205</td>\n",
       "      <td>176.183519</td>\n",
       "    </tr>\n",
       "    <tr>\n",
       "      <th>6</th>\n",
       "      <td>resnet</td>\n",
       "      <td>cpumemory</td>\n",
       "      <td>0</td>\n",
       "      <td>1</td>\n",
       "      <td>offline</td>\n",
       "      <td>10</td>\n",
       "      <td>10</td>\n",
       "      <td>117.877875</td>\n",
       "      <td>103.258321</td>\n",
       "      <td>101.651142</td>\n",
       "      <td>165.792767</td>\n",
       "      <td>187.775351</td>\n",
       "      <td>198.584618</td>\n",
       "      <td>207.808159</td>\n",
       "      <td>208.441837</td>\n",
       "    </tr>\n",
       "    <tr>\n",
       "      <th>7</th>\n",
       "      <td>resnet</td>\n",
       "      <td>cpumemory</td>\n",
       "      <td>0</td>\n",
       "      <td>2</td>\n",
       "      <td>offline</td>\n",
       "      <td>10</td>\n",
       "      <td>10</td>\n",
       "      <td>159.308878</td>\n",
       "      <td>78.207108</td>\n",
       "      <td>78.094588</td>\n",
       "      <td>124.032510</td>\n",
       "      <td>139.273605</td>\n",
       "      <td>147.024782</td>\n",
       "      <td>152.998454</td>\n",
       "      <td>154.204758</td>\n",
       "    </tr>\n",
       "    <tr>\n",
       "      <th>8</th>\n",
       "      <td>resnet</td>\n",
       "      <td>cpumemory</td>\n",
       "      <td>0</td>\n",
       "      <td>4</td>\n",
       "      <td>offline</td>\n",
       "      <td>10</td>\n",
       "      <td>10</td>\n",
       "      <td>160.467568</td>\n",
       "      <td>77.729799</td>\n",
       "      <td>77.742717</td>\n",
       "      <td>123.435139</td>\n",
       "      <td>138.670818</td>\n",
       "      <td>146.107977</td>\n",
       "      <td>152.182821</td>\n",
       "      <td>153.110654</td>\n",
       "    </tr>\n",
       "    <tr>\n",
       "      <th>9</th>\n",
       "      <td>resnet</td>\n",
       "      <td>cpumemory</td>\n",
       "      <td>0</td>\n",
       "      <td>8</td>\n",
       "      <td>offline</td>\n",
       "      <td>10</td>\n",
       "      <td>10</td>\n",
       "      <td>159.091984</td>\n",
       "      <td>78.044709</td>\n",
       "      <td>78.143466</td>\n",
       "      <td>124.001539</td>\n",
       "      <td>139.109762</td>\n",
       "      <td>146.554781</td>\n",
       "      <td>152.704178</td>\n",
       "      <td>154.098475</td>\n",
       "    </tr>\n",
       "    <tr>\n",
       "      <th>10</th>\n",
       "      <td>resnet</td>\n",
       "      <td>cpumemory</td>\n",
       "      <td>0</td>\n",
       "      <td>16</td>\n",
       "      <td>offline</td>\n",
       "      <td>10</td>\n",
       "      <td>10</td>\n",
       "      <td>156.993617</td>\n",
       "      <td>78.771395</td>\n",
       "      <td>78.753188</td>\n",
       "      <td>125.035907</td>\n",
       "      <td>140.525312</td>\n",
       "      <td>148.374223</td>\n",
       "      <td>154.271717</td>\n",
       "      <td>156.378805</td>\n",
       "    </tr>\n",
       "    <tr>\n",
       "      <th>11</th>\n",
       "      <td>resnet</td>\n",
       "      <td>cpumemory</td>\n",
       "      <td>0</td>\n",
       "      <td>32</td>\n",
       "      <td>offline</td>\n",
       "      <td>10</td>\n",
       "      <td>10</td>\n",
       "      <td>145.225391</td>\n",
       "      <td>84.990436</td>\n",
       "      <td>85.030941</td>\n",
       "      <td>134.668427</td>\n",
       "      <td>151.782922</td>\n",
       "      <td>160.166175</td>\n",
       "      <td>166.961729</td>\n",
       "      <td>168.909587</td>\n",
       "    </tr>\n",
       "    <tr>\n",
       "      <th>12</th>\n",
       "      <td>resnet</td>\n",
       "      <td>cpumem</td>\n",
       "      <td>0</td>\n",
       "      <td>1</td>\n",
       "      <td>offline</td>\n",
       "      <td>10</td>\n",
       "      <td>10</td>\n",
       "      <td>117.552228</td>\n",
       "      <td>103.695195</td>\n",
       "      <td>102.915262</td>\n",
       "      <td>165.537589</td>\n",
       "      <td>187.907200</td>\n",
       "      <td>199.323997</td>\n",
       "      <td>208.175529</td>\n",
       "      <td>209.020002</td>\n",
       "    </tr>\n",
       "    <tr>\n",
       "      <th>13</th>\n",
       "      <td>resnet</td>\n",
       "      <td>cpumem</td>\n",
       "      <td>0</td>\n",
       "      <td>2</td>\n",
       "      <td>offline</td>\n",
       "      <td>10</td>\n",
       "      <td>10</td>\n",
       "      <td>159.369003</td>\n",
       "      <td>78.270349</td>\n",
       "      <td>78.249554</td>\n",
       "      <td>124.266345</td>\n",
       "      <td>139.498509</td>\n",
       "      <td>147.151420</td>\n",
       "      <td>153.168921</td>\n",
       "      <td>154.153138</td>\n",
       "    </tr>\n",
       "    <tr>\n",
       "      <th>14</th>\n",
       "      <td>resnet</td>\n",
       "      <td>cpumem</td>\n",
       "      <td>0</td>\n",
       "      <td>4</td>\n",
       "      <td>offline</td>\n",
       "      <td>10</td>\n",
       "      <td>10</td>\n",
       "      <td>160.993541</td>\n",
       "      <td>77.598877</td>\n",
       "      <td>77.372863</td>\n",
       "      <td>123.218663</td>\n",
       "      <td>138.186276</td>\n",
       "      <td>145.770463</td>\n",
       "      <td>151.632264</td>\n",
       "      <td>152.603678</td>\n",
       "    </tr>\n",
       "    <tr>\n",
       "      <th>15</th>\n",
       "      <td>resnet</td>\n",
       "      <td>cpumem</td>\n",
       "      <td>0</td>\n",
       "      <td>8</td>\n",
       "      <td>offline</td>\n",
       "      <td>10</td>\n",
       "      <td>10</td>\n",
       "      <td>158.562657</td>\n",
       "      <td>78.241518</td>\n",
       "      <td>78.162399</td>\n",
       "      <td>124.192220</td>\n",
       "      <td>139.402140</td>\n",
       "      <td>147.112843</td>\n",
       "      <td>153.221963</td>\n",
       "      <td>154.709400</td>\n",
       "    </tr>\n",
       "    <tr>\n",
       "      <th>16</th>\n",
       "      <td>resnet</td>\n",
       "      <td>cpumem</td>\n",
       "      <td>0</td>\n",
       "      <td>16</td>\n",
       "      <td>offline</td>\n",
       "      <td>10</td>\n",
       "      <td>10</td>\n",
       "      <td>157.205035</td>\n",
       "      <td>78.677027</td>\n",
       "      <td>78.703305</td>\n",
       "      <td>125.028153</td>\n",
       "      <td>140.338260</td>\n",
       "      <td>148.011784</td>\n",
       "      <td>154.109468</td>\n",
       "      <td>155.673069</td>\n",
       "    </tr>\n",
       "    <tr>\n",
       "      <th>17</th>\n",
       "      <td>resnet</td>\n",
       "      <td>cpumem</td>\n",
       "      <td>0</td>\n",
       "      <td>32</td>\n",
       "      <td>offline</td>\n",
       "      <td>10</td>\n",
       "      <td>10</td>\n",
       "      <td>145.245926</td>\n",
       "      <td>85.103584</td>\n",
       "      <td>85.095917</td>\n",
       "      <td>135.175641</td>\n",
       "      <td>151.905752</td>\n",
       "      <td>160.375642</td>\n",
       "      <td>166.878712</td>\n",
       "      <td>168.071023</td>\n",
       "    </tr>\n",
       "  </tbody>\n",
       "</table>\n",
       "</div>"
      ],
      "text/plain": [
       "   benchmark     k8senv  sbatch  numctn cscenario  cbatch  reps         qps  \\\n",
       "0     resnet       none       0       1   offline      10    10  120.351551   \n",
       "1     resnet       none       0       2   offline      10    10  147.535494   \n",
       "2     resnet       none       0       4   offline      10    10  146.515897   \n",
       "3     resnet       none       0       8   offline      10    10  128.209697   \n",
       "4     resnet       none       0      16   offline      10    10  137.454065   \n",
       "5     resnet       none       0      32   offline      10    10  137.759292   \n",
       "6     resnet  cpumemory       0       1   offline      10    10  117.877875   \n",
       "7     resnet  cpumemory       0       2   offline      10    10  159.308878   \n",
       "8     resnet  cpumemory       0       4   offline      10    10  160.467568   \n",
       "9     resnet  cpumemory       0       8   offline      10    10  159.091984   \n",
       "10    resnet  cpumemory       0      16   offline      10    10  156.993617   \n",
       "11    resnet  cpumemory       0      32   offline      10    10  145.225391   \n",
       "12    resnet     cpumem       0       1   offline      10    10  117.552228   \n",
       "13    resnet     cpumem       0       2   offline      10    10  159.369003   \n",
       "14    resnet     cpumem       0       4   offline      10    10  160.993541   \n",
       "15    resnet     cpumem       0       8   offline      10    10  158.562657   \n",
       "16    resnet     cpumem       0      16   offline      10    10  157.205035   \n",
       "17    resnet     cpumem       0      32   offline      10    10  145.245926   \n",
       "\n",
       "          mean         p50         p80         p90         p95         p99  \\\n",
       "0   102.313683  101.189068  163.627609  184.895984  195.186977  203.420595   \n",
       "1    84.148378   83.976586  133.208861  149.703278  157.908212  164.506059   \n",
       "2    85.574812   85.621195  135.084943  151.744957  159.948050  166.335684   \n",
       "3    94.021081   93.180296  150.223543  169.441011  179.226807  186.793387   \n",
       "4    87.872847   87.729515  139.648644  157.123716  165.935468  172.716092   \n",
       "5    88.658594   88.275380  140.694650  158.242434  167.077281  173.949205   \n",
       "6   103.258321  101.651142  165.792767  187.775351  198.584618  207.808159   \n",
       "7    78.207108   78.094588  124.032510  139.273605  147.024782  152.998454   \n",
       "8    77.729799   77.742717  123.435139  138.670818  146.107977  152.182821   \n",
       "9    78.044709   78.143466  124.001539  139.109762  146.554781  152.704178   \n",
       "10   78.771395   78.753188  125.035907  140.525312  148.374223  154.271717   \n",
       "11   84.990436   85.030941  134.668427  151.782922  160.166175  166.961729   \n",
       "12  103.695195  102.915262  165.537589  187.907200  199.323997  208.175529   \n",
       "13   78.270349   78.249554  124.266345  139.498509  147.151420  153.168921   \n",
       "14   77.598877   77.372863  123.218663  138.186276  145.770463  151.632264   \n",
       "15   78.241518   78.162399  124.192220  139.402140  147.112843  153.221963   \n",
       "16   78.677027   78.703305  125.028153  140.338260  148.011784  154.109468   \n",
       "17   85.103584   85.095917  135.175641  151.905752  160.375642  166.878712   \n",
       "\n",
       "          p999  \n",
       "0   204.162391  \n",
       "1   166.526020  \n",
       "2   167.686432  \n",
       "3   191.432138  \n",
       "4   177.078714  \n",
       "5   176.183519  \n",
       "6   208.441837  \n",
       "7   154.204758  \n",
       "8   153.110654  \n",
       "9   154.098475  \n",
       "10  156.378805  \n",
       "11  168.909587  \n",
       "12  209.020002  \n",
       "13  154.153138  \n",
       "14  152.603678  \n",
       "15  154.709400  \n",
       "16  155.673069  \n",
       "17  168.071023  "
      ]
     },
     "execution_count": 29,
     "metadata": {},
     "output_type": "execute_result"
    }
   ],
   "source": [
    "import pandas as pd\n",
    "import glob\n",
    "# import plotly.plotly as py\n",
    "import plotly.graph_objs as go\n",
    "\n",
    "from plotly import tools\n",
    "from plotly.offline import init_notebook_mode, iplot\n",
    "init_notebook_mode(connected=True) \n",
    "\n",
    "import numpy as np\n",
    "import matplotlib.pyplot as plt\n",
    "# include if using a Jupyter notebook\n",
    "%matplotlib inline\n",
    "dfg = df\n",
    "dfg"
   ]
  },
  {
   "cell_type": "code",
   "execution_count": 17,
   "id": "4f4ad921",
   "metadata": {
    "scrolled": false
   },
   "outputs": [
    {
     "name": "stdout",
     "output_type": "stream",
     "text": [
      "   benchmark k8senv  sbatch  numctn cscenario  cbatch  reps  qps\n",
      "0     resnet   none       0       1   offline       2    10  NaN\n",
      "6     resnet   none       0       2   offline       2    10  NaN\n",
      "12    resnet   none       0       4   offline       2    10  NaN\n",
      "18    resnet   none       0       8   offline       2    10  NaN\n",
      "24    resnet   none       0      16   offline       2    10  NaN\n",
      "30    resnet   none       0      32   offline       2    10  NaN\n",
      "   benchmark k8senv  sbatch  numctn cscenario  cbatch  reps  qps\n",
      "1     resnet   none       0       1   offline       4    10  NaN\n",
      "7     resnet   none       0       2   offline       4    10  NaN\n",
      "13    resnet   none       0       4   offline       4    10  NaN\n",
      "19    resnet   none       0       8   offline       4    10  NaN\n",
      "25    resnet   none       0      16   offline       4    10  NaN\n",
      "31    resnet   none       0      32   offline       4    10  NaN\n",
      "   benchmark k8senv  sbatch  numctn cscenario  cbatch  reps         qps\n",
      "2     resnet   none       0       1   offline       8    10  114.790445\n",
      "8     resnet   none       0       2   offline       8    10  129.637843\n",
      "14    resnet   none       0       4   offline       8    10  140.093644\n",
      "20    resnet   none       0       8   offline       8    10  131.192940\n",
      "26    resnet   none       0      16   offline       8    10  138.768838\n",
      "32    resnet   none       0      32   offline       8    10  135.562376\n",
      "   benchmark k8senv  sbatch  numctn cscenario  cbatch  reps         qps\n",
      "3     resnet   none       0       1   offline      10    10  120.351551\n",
      "9     resnet   none       0       2   offline      10    10  147.535494\n",
      "15    resnet   none       0       4   offline      10    10  146.515897\n",
      "21    resnet   none       0       8   offline      10    10  128.209697\n",
      "27    resnet   none       0      16   offline      10    10  137.454065\n",
      "33    resnet   none       0      32   offline      10    10  137.759292\n",
      "   benchmark k8senv  sbatch  numctn cscenario  cbatch  reps  qps\n",
      "4     resnet   none       0       1   offline      16    10  NaN\n",
      "10    resnet   none       0       2   offline      16    10  NaN\n",
      "16    resnet   none       0       4   offline      16    10  NaN\n",
      "22    resnet   none       0       8   offline      16    10  NaN\n",
      "28    resnet   none       0      16   offline      16    10  NaN\n",
      "34    resnet   none       0      32   offline      16    10  NaN\n",
      "   benchmark k8senv  sbatch  numctn cscenario  cbatch  reps  qps\n",
      "5     resnet   none       0       1   offline      32    10  NaN\n",
      "11    resnet   none       0       2   offline      32    10  NaN\n",
      "17    resnet   none       0       4   offline      32    10  NaN\n",
      "23    resnet   none       0       8   offline      32    10  NaN\n",
      "29    resnet   none       0      16   offline      32    10  NaN\n",
      "35    resnet   none       0      32   offline      32    10  NaN\n"
     ]
    },
    {
     "data": {
      "application/vnd.plotly.v1+json": {
       "config": {
        "plotlyServerURL": "https://plot.ly"
       },
       "data": [
        {
         "mode": "markers",
         "name": "cbatch-2",
         "opacity": 0.7,
         "type": "scatter",
         "x": [
          "ctn1",
          "ctn2",
          "ctn4",
          "ctn8",
          "ctn16",
          "ctn32"
         ],
         "y": [
          null,
          null,
          null,
          null,
          null,
          null
         ]
        },
        {
         "mode": "markers",
         "name": "cbatch-4",
         "opacity": 0.7,
         "type": "scatter",
         "x": [
          "ctn1",
          "ctn2",
          "ctn4",
          "ctn8",
          "ctn16",
          "ctn32"
         ],
         "y": [
          null,
          null,
          null,
          null,
          null,
          null
         ]
        },
        {
         "mode": "markers",
         "name": "cbatch-8",
         "opacity": 0.7,
         "type": "scatter",
         "x": [
          "ctn1",
          "ctn2",
          "ctn4",
          "ctn8",
          "ctn16",
          "ctn32"
         ],
         "y": [
          114.79044535499554,
          129.63784344301197,
          140.09364415942616,
          131.19293965437353,
          138.7688381565946,
          135.5623757948605
         ]
        },
        {
         "mode": "markers",
         "name": "cbatch-10",
         "opacity": 0.7,
         "type": "scatter",
         "x": [
          "ctn1",
          "ctn2",
          "ctn4",
          "ctn8",
          "ctn16",
          "ctn32"
         ],
         "y": [
          120.3515511268987,
          147.53549405900398,
          146.515896734099,
          128.20969658040033,
          137.4540646220483,
          137.75929176558853
         ]
        },
        {
         "mode": "markers",
         "name": "cbatch-16",
         "opacity": 0.7,
         "type": "scatter",
         "x": [
          "ctn1",
          "ctn2",
          "ctn4",
          "ctn8",
          "ctn16",
          "ctn32"
         ],
         "y": [
          null,
          null,
          null,
          null,
          null,
          null
         ]
        },
        {
         "mode": "markers",
         "name": "cbatch-32",
         "opacity": 0.7,
         "type": "scatter",
         "x": [
          "ctn1",
          "ctn2",
          "ctn4",
          "ctn8",
          "ctn16",
          "ctn32"
         ],
         "y": [
          null,
          null,
          null,
          null,
          null,
          null
         ]
        }
       ],
       "layout": {
        "bargap": 0.15,
        "bargroupgap": 0.08,
        "barmode": "group",
        "height": 460,
        "legend": {
         "bgcolor": "rgba(255, 255, 255, 0)",
         "bordercolor": "rgba(255, 255, 255, 0)",
         "font": {
          "size": 28
         },
         "orientation": "h",
         "x": 1,
         "y": 1
        },
        "template": {
         "data": {
          "scatter": [
           {
            "type": "scatter"
           }
          ]
         }
        },
        "title": {
         "text": "none-resnet",
         "x": 0.5,
         "xanchor": "center",
         "y": 0.85,
         "yanchor": "top"
        },
        "width": 1000,
        "xaxis": {
         "tickfont": {
          "color": "rgb(107, 107, 107)",
          "size": 10
         },
         "tickvals": [
          "ctn1",
          "ctn2",
          "ctn4",
          "ctn8",
          "ctn16",
          "ctn32"
         ],
         "title": {
          "font": {
           "color": "rgb(107, 107, 107)",
           "size": 10
          },
          "text": "num_ctn"
         }
        },
        "yaxis": {
         "automargin": true,
         "tickfont": {
          "color": "rgb(107, 107, 107)",
          "size": 25
         },
         "title": {
          "font": {
           "color": "rgb(107, 107, 107)",
           "size": 25
          },
          "text": "qps"
         }
        }
       }
      },
      "text/html": [
       "<div>                            <div id=\"f825c785-3fa3-4997-9c99-f0c6dca6ae9d\" class=\"plotly-graph-div\" style=\"height:460px; width:1000px;\"></div>            <script type=\"text/javascript\">                require([\"plotly\"], function(Plotly) {                    window.PLOTLYENV=window.PLOTLYENV || {};                                    if (document.getElementById(\"f825c785-3fa3-4997-9c99-f0c6dca6ae9d\")) {                    Plotly.newPlot(                        \"f825c785-3fa3-4997-9c99-f0c6dca6ae9d\",                        [{\"mode\": \"markers\", \"name\": \"cbatch-2\", \"opacity\": 0.7, \"type\": \"scatter\", \"x\": [\"ctn1\", \"ctn2\", \"ctn4\", \"ctn8\", \"ctn16\", \"ctn32\"], \"y\": [null, null, null, null, null, null]}, {\"mode\": \"markers\", \"name\": \"cbatch-4\", \"opacity\": 0.7, \"type\": \"scatter\", \"x\": [\"ctn1\", \"ctn2\", \"ctn4\", \"ctn8\", \"ctn16\", \"ctn32\"], \"y\": [null, null, null, null, null, null]}, {\"mode\": \"markers\", \"name\": \"cbatch-8\", \"opacity\": 0.7, \"type\": \"scatter\", \"x\": [\"ctn1\", \"ctn2\", \"ctn4\", \"ctn8\", \"ctn16\", \"ctn32\"], \"y\": [114.79044535499554, 129.63784344301197, 140.09364415942616, 131.19293965437353, 138.7688381565946, 135.5623757948605]}, {\"mode\": \"markers\", \"name\": \"cbatch-10\", \"opacity\": 0.7, \"type\": \"scatter\", \"x\": [\"ctn1\", \"ctn2\", \"ctn4\", \"ctn8\", \"ctn16\", \"ctn32\"], \"y\": [120.3515511268987, 147.53549405900398, 146.515896734099, 128.20969658040033, 137.4540646220483, 137.75929176558853]}, {\"mode\": \"markers\", \"name\": \"cbatch-16\", \"opacity\": 0.7, \"type\": \"scatter\", \"x\": [\"ctn1\", \"ctn2\", \"ctn4\", \"ctn8\", \"ctn16\", \"ctn32\"], \"y\": [null, null, null, null, null, null]}, {\"mode\": \"markers\", \"name\": \"cbatch-32\", \"opacity\": 0.7, \"type\": \"scatter\", \"x\": [\"ctn1\", \"ctn2\", \"ctn4\", \"ctn8\", \"ctn16\", \"ctn32\"], \"y\": [null, null, null, null, null, null]}],                        {\"bargap\": 0.15, \"bargroupgap\": 0.08, \"barmode\": \"group\", \"height\": 460, \"legend\": {\"bgcolor\": \"rgba(255, 255, 255, 0)\", \"bordercolor\": \"rgba(255, 255, 255, 0)\", \"font\": {\"size\": 28}, \"orientation\": \"h\", \"x\": 1.0, \"y\": 1.0}, \"template\": {\"data\": {\"scatter\": [{\"type\": \"scatter\"}]}}, \"title\": {\"text\": \"none-resnet\", \"x\": 0.5, \"xanchor\": \"center\", \"y\": 0.85, \"yanchor\": \"top\"}, \"width\": 1000, \"xaxis\": {\"tickfont\": {\"color\": \"rgb(107, 107, 107)\", \"size\": 10}, \"tickvals\": [\"ctn1\", \"ctn2\", \"ctn4\", \"ctn8\", \"ctn16\", \"ctn32\"], \"title\": {\"font\": {\"color\": \"rgb(107, 107, 107)\", \"size\": 10}, \"text\": \"num_ctn\"}}, \"yaxis\": {\"automargin\": true, \"tickfont\": {\"color\": \"rgb(107, 107, 107)\", \"size\": 25}, \"title\": {\"font\": {\"color\": \"rgb(107, 107, 107)\", \"size\": 25}, \"text\": \"qps\"}}},                        {\"responsive\": true}                    ).then(function(){\n",
       "                            \n",
       "var gd = document.getElementById('f825c785-3fa3-4997-9c99-f0c6dca6ae9d');\n",
       "var x = new MutationObserver(function (mutations, observer) {{\n",
       "        var display = window.getComputedStyle(gd).display;\n",
       "        if (!display || display === 'none') {{\n",
       "            console.log([gd, 'removed!']);\n",
       "            Plotly.purge(gd);\n",
       "            observer.disconnect();\n",
       "        }}\n",
       "}});\n",
       "\n",
       "// Listen for the removal of the full notebook cells\n",
       "var notebookContainer = gd.closest('#notebook-container');\n",
       "if (notebookContainer) {{\n",
       "    x.observe(notebookContainer, {childList: true});\n",
       "}}\n",
       "\n",
       "// Listen for the clearing of the current output cell\n",
       "var outputEl = gd.closest('.output');\n",
       "if (outputEl) {{\n",
       "    x.observe(outputEl, {childList: true});\n",
       "}}\n",
       "\n",
       "                        })                };                });            </script>        </div>"
      ]
     },
     "metadata": {},
     "output_type": "display_data"
    },
    {
     "name": "stdout",
     "output_type": "stream",
     "text": [
      "    benchmark  k8senv  sbatch  numctn cscenario  cbatch  reps  qps\n",
      "72     resnet  cpumem       0       1   offline       2    10  NaN\n",
      "78     resnet  cpumem       0       2   offline       2    10  NaN\n",
      "84     resnet  cpumem       0       4   offline       2    10  NaN\n",
      "90     resnet  cpumem       0       8   offline       2    10  NaN\n",
      "96     resnet  cpumem       0      16   offline       2    10  NaN\n",
      "102    resnet  cpumem       0      32   offline       2    10  NaN\n",
      "    benchmark  k8senv  sbatch  numctn cscenario  cbatch  reps  qps\n",
      "73     resnet  cpumem       0       1   offline       4    10  NaN\n",
      "79     resnet  cpumem       0       2   offline       4    10  NaN\n",
      "85     resnet  cpumem       0       4   offline       4    10  NaN\n",
      "91     resnet  cpumem       0       8   offline       4    10  NaN\n",
      "97     resnet  cpumem       0      16   offline       4    10  NaN\n",
      "103    resnet  cpumem       0      32   offline       4    10  NaN\n",
      "    benchmark  k8senv  sbatch  numctn cscenario  cbatch  reps         qps\n",
      "74     resnet  cpumem       0       1   offline       8    10  110.860541\n",
      "80     resnet  cpumem       0       2   offline       8    10  158.601257\n",
      "86     resnet  cpumem       0       4   offline       8    10  159.753393\n",
      "92     resnet  cpumem       0       8   offline       8    10  158.791169\n",
      "98     resnet  cpumem       0      16   offline       8    10  156.044030\n",
      "104    resnet  cpumem       0      32   offline       8    10  145.857138\n",
      "    benchmark  k8senv  sbatch  numctn cscenario  cbatch  reps         qps\n",
      "75     resnet  cpumem       0       1   offline      10    10  117.552228\n",
      "81     resnet  cpumem       0       2   offline      10    10  159.369003\n",
      "87     resnet  cpumem       0       4   offline      10    10  160.993541\n",
      "93     resnet  cpumem       0       8   offline      10    10  158.562657\n",
      "99     resnet  cpumem       0      16   offline      10    10  157.205035\n",
      "105    resnet  cpumem       0      32   offline      10    10  145.245926\n",
      "    benchmark  k8senv  sbatch  numctn cscenario  cbatch  reps  qps\n",
      "76     resnet  cpumem       0       1   offline      16    10  NaN\n",
      "82     resnet  cpumem       0       2   offline      16    10  NaN\n",
      "88     resnet  cpumem       0       4   offline      16    10  NaN\n",
      "94     resnet  cpumem       0       8   offline      16    10  NaN\n",
      "100    resnet  cpumem       0      16   offline      16    10  NaN\n",
      "106    resnet  cpumem       0      32   offline      16    10  NaN\n",
      "    benchmark  k8senv  sbatch  numctn cscenario  cbatch  reps  qps\n",
      "77     resnet  cpumem       0       1   offline      32    10  NaN\n",
      "83     resnet  cpumem       0       2   offline      32    10  NaN\n",
      "89     resnet  cpumem       0       4   offline      32    10  NaN\n",
      "95     resnet  cpumem       0       8   offline      32    10  NaN\n",
      "101    resnet  cpumem       0      16   offline      32    10  NaN\n",
      "107    resnet  cpumem       0      32   offline      32    10  NaN\n"
     ]
    },
    {
     "data": {
      "application/vnd.plotly.v1+json": {
       "config": {
        "plotlyServerURL": "https://plot.ly"
       },
       "data": [
        {
         "mode": "markers",
         "name": "cbatch-2",
         "opacity": 0.7,
         "type": "scatter",
         "x": [
          "ctn1",
          "ctn2",
          "ctn4",
          "ctn8",
          "ctn16",
          "ctn32"
         ],
         "y": [
          null,
          null,
          null,
          null,
          null,
          null
         ]
        },
        {
         "mode": "markers",
         "name": "cbatch-4",
         "opacity": 0.7,
         "type": "scatter",
         "x": [
          "ctn1",
          "ctn2",
          "ctn4",
          "ctn8",
          "ctn16",
          "ctn32"
         ],
         "y": [
          null,
          null,
          null,
          null,
          null,
          null
         ]
        },
        {
         "mode": "markers",
         "name": "cbatch-8",
         "opacity": 0.7,
         "type": "scatter",
         "x": [
          "ctn1",
          "ctn2",
          "ctn4",
          "ctn8",
          "ctn16",
          "ctn32"
         ],
         "y": [
          110.86054097523102,
          158.6012570817816,
          159.75339303958836,
          158.7911694855803,
          156.04403012935245,
          145.85713826930703
         ]
        },
        {
         "mode": "markers",
         "name": "cbatch-10",
         "opacity": 0.7,
         "type": "scatter",
         "x": [
          "ctn1",
          "ctn2",
          "ctn4",
          "ctn8",
          "ctn16",
          "ctn32"
         ],
         "y": [
          117.5522276179336,
          159.36900337902892,
          160.9935408502878,
          158.56265663546253,
          157.20503531196192,
          145.24592586021103
         ]
        },
        {
         "mode": "markers",
         "name": "cbatch-16",
         "opacity": 0.7,
         "type": "scatter",
         "x": [
          "ctn1",
          "ctn2",
          "ctn4",
          "ctn8",
          "ctn16",
          "ctn32"
         ],
         "y": [
          null,
          null,
          null,
          null,
          null,
          null
         ]
        },
        {
         "mode": "markers",
         "name": "cbatch-32",
         "opacity": 0.7,
         "type": "scatter",
         "x": [
          "ctn1",
          "ctn2",
          "ctn4",
          "ctn8",
          "ctn16",
          "ctn32"
         ],
         "y": [
          null,
          null,
          null,
          null,
          null,
          null
         ]
        }
       ],
       "layout": {
        "bargap": 0.15,
        "bargroupgap": 0.08,
        "barmode": "group",
        "height": 460,
        "legend": {
         "bgcolor": "rgba(255, 255, 255, 0)",
         "bordercolor": "rgba(255, 255, 255, 0)",
         "font": {
          "size": 28
         },
         "orientation": "h",
         "x": 1,
         "y": 1
        },
        "template": {
         "data": {
          "scatter": [
           {
            "type": "scatter"
           }
          ]
         }
        },
        "title": {
         "text": "cpumem-resnet",
         "x": 0.5,
         "xanchor": "center",
         "y": 0.85,
         "yanchor": "top"
        },
        "width": 1000,
        "xaxis": {
         "tickfont": {
          "color": "rgb(107, 107, 107)",
          "size": 10
         },
         "tickvals": [
          "ctn1",
          "ctn2",
          "ctn4",
          "ctn8",
          "ctn16",
          "ctn32"
         ],
         "title": {
          "font": {
           "color": "rgb(107, 107, 107)",
           "size": 10
          },
          "text": "num_ctn"
         }
        },
        "yaxis": {
         "automargin": true,
         "tickfont": {
          "color": "rgb(107, 107, 107)",
          "size": 25
         },
         "title": {
          "font": {
           "color": "rgb(107, 107, 107)",
           "size": 25
          },
          "text": "qps"
         }
        }
       }
      },
      "text/html": [
       "<div>                            <div id=\"6cc06772-5c45-49ee-bc70-94527c7b8fb9\" class=\"plotly-graph-div\" style=\"height:460px; width:1000px;\"></div>            <script type=\"text/javascript\">                require([\"plotly\"], function(Plotly) {                    window.PLOTLYENV=window.PLOTLYENV || {};                                    if (document.getElementById(\"6cc06772-5c45-49ee-bc70-94527c7b8fb9\")) {                    Plotly.newPlot(                        \"6cc06772-5c45-49ee-bc70-94527c7b8fb9\",                        [{\"mode\": \"markers\", \"name\": \"cbatch-2\", \"opacity\": 0.7, \"type\": \"scatter\", \"x\": [\"ctn1\", \"ctn2\", \"ctn4\", \"ctn8\", \"ctn16\", \"ctn32\"], \"y\": [null, null, null, null, null, null]}, {\"mode\": \"markers\", \"name\": \"cbatch-4\", \"opacity\": 0.7, \"type\": \"scatter\", \"x\": [\"ctn1\", \"ctn2\", \"ctn4\", \"ctn8\", \"ctn16\", \"ctn32\"], \"y\": [null, null, null, null, null, null]}, {\"mode\": \"markers\", \"name\": \"cbatch-8\", \"opacity\": 0.7, \"type\": \"scatter\", \"x\": [\"ctn1\", \"ctn2\", \"ctn4\", \"ctn8\", \"ctn16\", \"ctn32\"], \"y\": [110.86054097523102, 158.6012570817816, 159.75339303958836, 158.7911694855803, 156.04403012935245, 145.85713826930703]}, {\"mode\": \"markers\", \"name\": \"cbatch-10\", \"opacity\": 0.7, \"type\": \"scatter\", \"x\": [\"ctn1\", \"ctn2\", \"ctn4\", \"ctn8\", \"ctn16\", \"ctn32\"], \"y\": [117.5522276179336, 159.36900337902892, 160.9935408502878, 158.56265663546253, 157.20503531196192, 145.24592586021103]}, {\"mode\": \"markers\", \"name\": \"cbatch-16\", \"opacity\": 0.7, \"type\": \"scatter\", \"x\": [\"ctn1\", \"ctn2\", \"ctn4\", \"ctn8\", \"ctn16\", \"ctn32\"], \"y\": [null, null, null, null, null, null]}, {\"mode\": \"markers\", \"name\": \"cbatch-32\", \"opacity\": 0.7, \"type\": \"scatter\", \"x\": [\"ctn1\", \"ctn2\", \"ctn4\", \"ctn8\", \"ctn16\", \"ctn32\"], \"y\": [null, null, null, null, null, null]}],                        {\"bargap\": 0.15, \"bargroupgap\": 0.08, \"barmode\": \"group\", \"height\": 460, \"legend\": {\"bgcolor\": \"rgba(255, 255, 255, 0)\", \"bordercolor\": \"rgba(255, 255, 255, 0)\", \"font\": {\"size\": 28}, \"orientation\": \"h\", \"x\": 1.0, \"y\": 1.0}, \"template\": {\"data\": {\"scatter\": [{\"type\": \"scatter\"}]}}, \"title\": {\"text\": \"cpumem-resnet\", \"x\": 0.5, \"xanchor\": \"center\", \"y\": 0.85, \"yanchor\": \"top\"}, \"width\": 1000, \"xaxis\": {\"tickfont\": {\"color\": \"rgb(107, 107, 107)\", \"size\": 10}, \"tickvals\": [\"ctn1\", \"ctn2\", \"ctn4\", \"ctn8\", \"ctn16\", \"ctn32\"], \"title\": {\"font\": {\"color\": \"rgb(107, 107, 107)\", \"size\": 10}, \"text\": \"num_ctn\"}}, \"yaxis\": {\"automargin\": true, \"tickfont\": {\"color\": \"rgb(107, 107, 107)\", \"size\": 25}, \"title\": {\"font\": {\"color\": \"rgb(107, 107, 107)\", \"size\": 25}, \"text\": \"qps\"}}},                        {\"responsive\": true}                    ).then(function(){\n",
       "                            \n",
       "var gd = document.getElementById('6cc06772-5c45-49ee-bc70-94527c7b8fb9');\n",
       "var x = new MutationObserver(function (mutations, observer) {{\n",
       "        var display = window.getComputedStyle(gd).display;\n",
       "        if (!display || display === 'none') {{\n",
       "            console.log([gd, 'removed!']);\n",
       "            Plotly.purge(gd);\n",
       "            observer.disconnect();\n",
       "        }}\n",
       "}});\n",
       "\n",
       "// Listen for the removal of the full notebook cells\n",
       "var notebookContainer = gd.closest('#notebook-container');\n",
       "if (notebookContainer) {{\n",
       "    x.observe(notebookContainer, {childList: true});\n",
       "}}\n",
       "\n",
       "// Listen for the clearing of the current output cell\n",
       "var outputEl = gd.closest('.output');\n",
       "if (outputEl) {{\n",
       "    x.observe(outputEl, {childList: true});\n",
       "}}\n",
       "\n",
       "                        })                };                });            </script>        </div>"
      ]
     },
     "metadata": {},
     "output_type": "display_data"
    }
   ],
   "source": [
    "import matplotlib\n",
    "import matplotlib.pyplot as plt\n",
    "import numpy as np\n",
    "from svglib.svglib import svg2rlg\n",
    "from reportlab.graphics import renderPDF\n",
    "from reportlab.pdfgen import canvas\n",
    "\n",
    "from numpy import percentile, mean, std\n",
    "import plotly.graph_objects as go\n",
    "\n",
    "from plotly.offline import init_notebook_mode, iplot\n",
    "\n",
    "import plotly.io as pio\n",
    "pio.templates.default = \"none\"\n",
    "# pio.templates.default = \"simple_white\"\n",
    "\n",
    "import plotly.graph_objects as go\n",
    "from plotly.subplots import make_subplots\n",
    "import pandas as pd\n",
    "# import plotly.express as px\n",
    "\n",
    "\n",
    "for k8senv in ['none','cpumem']:\n",
    "    for model_name in ['resnet']:\n",
    "        list_traces = []\n",
    "        for cbatch in [2,4,8,10,16,32]: \n",
    "            dfg_bench = dfg[(dfg['benchmark']== model_name)  & (dfg['k8senv']==k8senv) & (dfg['cbatch']==cbatch) &\\\n",
    "                        ((dfg['numctn']==1)| (dfg['numctn']==2)| \\\n",
    "                         (dfg['numctn']==4)| (dfg['numctn']==8)| (dfg['numctn']==16)| (dfg['numctn']==32))]\n",
    "            print(dfg_bench)\n",
    "\n",
    "\n",
    "            #data\n",
    "            trace = go.Scatter(\n",
    "                name=\"cbatch-\"+str(cbatch),\n",
    "                x=[ 'ctn1','ctn2','ctn4','ctn8','ctn16','ctn32'],\n",
    "                y= dfg_bench['qps'].values.tolist(),\n",
    "    #             error_y = dict(type='data', array=df1_bench['model_time_std'].values.tolist()),\n",
    "                opacity=0.7,\n",
    "                mode='markers'\n",
    "            )\n",
    "            list_traces.append(trace)\n",
    "\n",
    "        \n",
    "\n",
    "        #layout\n",
    "        layout = go.Layout(\n",
    "            title={\n",
    "                'text': k8senv+\"-\"+model_name ,\n",
    "                'y':0.85,\n",
    "                'x':0.5,\n",
    "                'xanchor': 'center',\n",
    "                'yanchor': 'top'},\n",
    "            width=1000,\n",
    "            height=460,\n",
    "            xaxis=dict(\n",
    "                title= \"num_ctn\",\n",
    "                tickvals=[ 'ctn1','ctn2','ctn4','ctn8','ctn16','ctn32'],\n",
    "                titlefont=dict(\n",
    "                    size=10,\n",
    "                    color='rgb(107, 107, 107)'\n",
    "                ),\n",
    "                tickfont=dict(\n",
    "                    size=10,\n",
    "                    color='rgb(107, 107, 107)'\n",
    "                )\n",
    "            ),\n",
    "            yaxis=dict(\n",
    "                title= \"qps\",\n",
    "                automargin=True,\n",
    "                titlefont=dict(\n",
    "                    size=25,\n",
    "                    color='rgb(107, 107, 107)'\n",
    "                ),\n",
    "                tickfont=dict(\n",
    "                    size=25,\n",
    "                    color='rgb(107, 107, 107)'\n",
    "                ),    \n",
    "            ),\n",
    "            legend=dict(\n",
    "                x=1.0,\n",
    "                y=1.0,\n",
    "                bgcolor='rgba(255, 255, 255, 0)',\n",
    "                bordercolor='rgba(255, 255, 255, 0)',\n",
    "                font = dict( size = 28)\n",
    "            ),\n",
    "            barmode='group',\n",
    "            bargap=0.15,\n",
    "            bargroupgap=0.08\n",
    "    #         legend_orientation=\"h\"\n",
    "        )\n",
    "\n",
    "    data = list_traces\n",
    "    fig = go.Figure(data=data, layout=layout)\n",
    "    fig.update_layout(legend_orientation=\"h\")\n",
    "    fig.show()    \n",
    "\n",
    "#     fig.write_image(path + model_name + k8senv +'.pdf')"
   ]
  },
  {
   "cell_type": "code",
   "execution_count": 18,
   "id": "99a43b0a",
   "metadata": {
    "scrolled": false
   },
   "outputs": [
    {
     "name": "stdout",
     "output_type": "stream",
     "text": [
      "  benchmark k8senv  sbatch  numctn cscenario  cbatch  reps         qps\n",
      "0    resnet   none       0       1   offline       2    10         NaN\n",
      "1    resnet   none       0       1   offline       4    10         NaN\n",
      "2    resnet   none       0       1   offline       8    10  114.790445\n",
      "3    resnet   none       0       1   offline      10    10  120.351551\n",
      "4    resnet   none       0       1   offline      16    10         NaN\n",
      "5    resnet   none       0       1   offline      32    10         NaN\n",
      "   benchmark k8senv  sbatch  numctn cscenario  cbatch  reps         qps\n",
      "6     resnet   none       0       2   offline       2    10         NaN\n",
      "7     resnet   none       0       2   offline       4    10         NaN\n",
      "8     resnet   none       0       2   offline       8    10  129.637843\n",
      "9     resnet   none       0       2   offline      10    10  147.535494\n",
      "10    resnet   none       0       2   offline      16    10         NaN\n",
      "11    resnet   none       0       2   offline      32    10         NaN\n",
      "   benchmark k8senv  sbatch  numctn cscenario  cbatch  reps         qps\n",
      "12    resnet   none       0       4   offline       2    10         NaN\n",
      "13    resnet   none       0       4   offline       4    10         NaN\n",
      "14    resnet   none       0       4   offline       8    10  140.093644\n",
      "15    resnet   none       0       4   offline      10    10  146.515897\n",
      "16    resnet   none       0       4   offline      16    10         NaN\n",
      "17    resnet   none       0       4   offline      32    10         NaN\n",
      "   benchmark k8senv  sbatch  numctn cscenario  cbatch  reps         qps\n",
      "18    resnet   none       0       8   offline       2    10         NaN\n",
      "19    resnet   none       0       8   offline       4    10         NaN\n",
      "20    resnet   none       0       8   offline       8    10  131.192940\n",
      "21    resnet   none       0       8   offline      10    10  128.209697\n",
      "22    resnet   none       0       8   offline      16    10         NaN\n",
      "23    resnet   none       0       8   offline      32    10         NaN\n",
      "   benchmark k8senv  sbatch  numctn cscenario  cbatch  reps         qps\n",
      "24    resnet   none       0      16   offline       2    10         NaN\n",
      "25    resnet   none       0      16   offline       4    10         NaN\n",
      "26    resnet   none       0      16   offline       8    10  138.768838\n",
      "27    resnet   none       0      16   offline      10    10  137.454065\n",
      "28    resnet   none       0      16   offline      16    10         NaN\n",
      "29    resnet   none       0      16   offline      32    10         NaN\n",
      "   benchmark k8senv  sbatch  numctn cscenario  cbatch  reps         qps\n",
      "30    resnet   none       0      32   offline       2    10         NaN\n",
      "31    resnet   none       0      32   offline       4    10         NaN\n",
      "32    resnet   none       0      32   offline       8    10  135.562376\n",
      "33    resnet   none       0      32   offline      10    10  137.759292\n",
      "34    resnet   none       0      32   offline      16    10         NaN\n",
      "35    resnet   none       0      32   offline      32    10         NaN\n"
     ]
    },
    {
     "data": {
      "application/vnd.plotly.v1+json": {
       "config": {
        "plotlyServerURL": "https://plot.ly"
       },
       "data": [
        {
         "mode": "markers",
         "name": "numctn-1",
         "opacity": 0.7,
         "type": "scatter",
         "x": [
          "cbatch2",
          "cbatch4",
          "cbatch8",
          "cbatch10",
          "cbatch16",
          "cbatch32"
         ],
         "y": [
          null,
          null,
          114.79044535499554,
          120.3515511268987,
          null,
          null
         ]
        },
        {
         "mode": "markers",
         "name": "numctn-2",
         "opacity": 0.7,
         "type": "scatter",
         "x": [
          "cbatch2",
          "cbatch4",
          "cbatch8",
          "cbatch10",
          "cbatch16",
          "cbatch32"
         ],
         "y": [
          null,
          null,
          129.63784344301197,
          147.53549405900398,
          null,
          null
         ]
        },
        {
         "mode": "markers",
         "name": "numctn-4",
         "opacity": 0.7,
         "type": "scatter",
         "x": [
          "cbatch2",
          "cbatch4",
          "cbatch8",
          "cbatch10",
          "cbatch16",
          "cbatch32"
         ],
         "y": [
          null,
          null,
          140.09364415942616,
          146.515896734099,
          null,
          null
         ]
        },
        {
         "mode": "markers",
         "name": "numctn-8",
         "opacity": 0.7,
         "type": "scatter",
         "x": [
          "cbatch2",
          "cbatch4",
          "cbatch8",
          "cbatch10",
          "cbatch16",
          "cbatch32"
         ],
         "y": [
          null,
          null,
          131.19293965437353,
          128.20969658040033,
          null,
          null
         ]
        },
        {
         "mode": "markers",
         "name": "numctn-16",
         "opacity": 0.7,
         "type": "scatter",
         "x": [
          "cbatch2",
          "cbatch4",
          "cbatch8",
          "cbatch10",
          "cbatch16",
          "cbatch32"
         ],
         "y": [
          null,
          null,
          138.7688381565946,
          137.4540646220483,
          null,
          null
         ]
        },
        {
         "mode": "markers",
         "name": "numctn-32",
         "opacity": 0.7,
         "type": "scatter",
         "x": [
          "cbatch2",
          "cbatch4",
          "cbatch8",
          "cbatch10",
          "cbatch16",
          "cbatch32"
         ],
         "y": [
          null,
          null,
          135.5623757948605,
          137.75929176558853,
          null,
          null
         ]
        }
       ],
       "layout": {
        "bargap": 0.15,
        "bargroupgap": 0.08,
        "barmode": "group",
        "height": 460,
        "legend": {
         "bgcolor": "rgba(255, 255, 255, 0)",
         "bordercolor": "rgba(255, 255, 255, 0)",
         "font": {
          "size": 28
         },
         "orientation": "h",
         "x": 1,
         "y": 1
        },
        "template": {
         "data": {
          "scatter": [
           {
            "type": "scatter"
           }
          ]
         }
        },
        "title": {
         "text": "none-resnet",
         "x": 0.5,
         "xanchor": "center",
         "y": 0.85,
         "yanchor": "top"
        },
        "width": 1000,
        "xaxis": {
         "tickfont": {
          "color": "rgb(107, 107, 107)",
          "size": 10
         },
         "tickvals": [
          "cbatch2",
          "cbatch4",
          "cbatch8",
          "cbatch10",
          "cbatch16",
          "cbatch32"
         ],
         "title": {
          "font": {
           "color": "rgb(107, 107, 107)",
           "size": 10
          },
          "text": "cbatch"
         }
        },
        "yaxis": {
         "automargin": true,
         "tickfont": {
          "color": "rgb(107, 107, 107)",
          "size": 25
         },
         "title": {
          "font": {
           "color": "rgb(107, 107, 107)",
           "size": 25
          },
          "text": "qps"
         }
        }
       }
      },
      "text/html": [
       "<div>                            <div id=\"7ccfa44b-582e-49ee-b536-1de2e7aac3a7\" class=\"plotly-graph-div\" style=\"height:460px; width:1000px;\"></div>            <script type=\"text/javascript\">                require([\"plotly\"], function(Plotly) {                    window.PLOTLYENV=window.PLOTLYENV || {};                                    if (document.getElementById(\"7ccfa44b-582e-49ee-b536-1de2e7aac3a7\")) {                    Plotly.newPlot(                        \"7ccfa44b-582e-49ee-b536-1de2e7aac3a7\",                        [{\"mode\": \"markers\", \"name\": \"numctn-1\", \"opacity\": 0.7, \"type\": \"scatter\", \"x\": [\"cbatch2\", \"cbatch4\", \"cbatch8\", \"cbatch10\", \"cbatch16\", \"cbatch32\"], \"y\": [null, null, 114.79044535499554, 120.3515511268987, null, null]}, {\"mode\": \"markers\", \"name\": \"numctn-2\", \"opacity\": 0.7, \"type\": \"scatter\", \"x\": [\"cbatch2\", \"cbatch4\", \"cbatch8\", \"cbatch10\", \"cbatch16\", \"cbatch32\"], \"y\": [null, null, 129.63784344301197, 147.53549405900398, null, null]}, {\"mode\": \"markers\", \"name\": \"numctn-4\", \"opacity\": 0.7, \"type\": \"scatter\", \"x\": [\"cbatch2\", \"cbatch4\", \"cbatch8\", \"cbatch10\", \"cbatch16\", \"cbatch32\"], \"y\": [null, null, 140.09364415942616, 146.515896734099, null, null]}, {\"mode\": \"markers\", \"name\": \"numctn-8\", \"opacity\": 0.7, \"type\": \"scatter\", \"x\": [\"cbatch2\", \"cbatch4\", \"cbatch8\", \"cbatch10\", \"cbatch16\", \"cbatch32\"], \"y\": [null, null, 131.19293965437353, 128.20969658040033, null, null]}, {\"mode\": \"markers\", \"name\": \"numctn-16\", \"opacity\": 0.7, \"type\": \"scatter\", \"x\": [\"cbatch2\", \"cbatch4\", \"cbatch8\", \"cbatch10\", \"cbatch16\", \"cbatch32\"], \"y\": [null, null, 138.7688381565946, 137.4540646220483, null, null]}, {\"mode\": \"markers\", \"name\": \"numctn-32\", \"opacity\": 0.7, \"type\": \"scatter\", \"x\": [\"cbatch2\", \"cbatch4\", \"cbatch8\", \"cbatch10\", \"cbatch16\", \"cbatch32\"], \"y\": [null, null, 135.5623757948605, 137.75929176558853, null, null]}],                        {\"bargap\": 0.15, \"bargroupgap\": 0.08, \"barmode\": \"group\", \"height\": 460, \"legend\": {\"bgcolor\": \"rgba(255, 255, 255, 0)\", \"bordercolor\": \"rgba(255, 255, 255, 0)\", \"font\": {\"size\": 28}, \"orientation\": \"h\", \"x\": 1.0, \"y\": 1.0}, \"template\": {\"data\": {\"scatter\": [{\"type\": \"scatter\"}]}}, \"title\": {\"text\": \"none-resnet\", \"x\": 0.5, \"xanchor\": \"center\", \"y\": 0.85, \"yanchor\": \"top\"}, \"width\": 1000, \"xaxis\": {\"tickfont\": {\"color\": \"rgb(107, 107, 107)\", \"size\": 10}, \"tickvals\": [\"cbatch2\", \"cbatch4\", \"cbatch8\", \"cbatch10\", \"cbatch16\", \"cbatch32\"], \"title\": {\"font\": {\"color\": \"rgb(107, 107, 107)\", \"size\": 10}, \"text\": \"cbatch\"}}, \"yaxis\": {\"automargin\": true, \"tickfont\": {\"color\": \"rgb(107, 107, 107)\", \"size\": 25}, \"title\": {\"font\": {\"color\": \"rgb(107, 107, 107)\", \"size\": 25}, \"text\": \"qps\"}}},                        {\"responsive\": true}                    ).then(function(){\n",
       "                            \n",
       "var gd = document.getElementById('7ccfa44b-582e-49ee-b536-1de2e7aac3a7');\n",
       "var x = new MutationObserver(function (mutations, observer) {{\n",
       "        var display = window.getComputedStyle(gd).display;\n",
       "        if (!display || display === 'none') {{\n",
       "            console.log([gd, 'removed!']);\n",
       "            Plotly.purge(gd);\n",
       "            observer.disconnect();\n",
       "        }}\n",
       "}});\n",
       "\n",
       "// Listen for the removal of the full notebook cells\n",
       "var notebookContainer = gd.closest('#notebook-container');\n",
       "if (notebookContainer) {{\n",
       "    x.observe(notebookContainer, {childList: true});\n",
       "}}\n",
       "\n",
       "// Listen for the clearing of the current output cell\n",
       "var outputEl = gd.closest('.output');\n",
       "if (outputEl) {{\n",
       "    x.observe(outputEl, {childList: true});\n",
       "}}\n",
       "\n",
       "                        })                };                });            </script>        </div>"
      ]
     },
     "metadata": {},
     "output_type": "display_data"
    },
    {
     "name": "stdout",
     "output_type": "stream",
     "text": [
      "   benchmark  k8senv  sbatch  numctn cscenario  cbatch  reps         qps\n",
      "72    resnet  cpumem       0       1   offline       2    10         NaN\n",
      "73    resnet  cpumem       0       1   offline       4    10         NaN\n",
      "74    resnet  cpumem       0       1   offline       8    10  110.860541\n",
      "75    resnet  cpumem       0       1   offline      10    10  117.552228\n",
      "76    resnet  cpumem       0       1   offline      16    10         NaN\n",
      "77    resnet  cpumem       0       1   offline      32    10         NaN\n",
      "   benchmark  k8senv  sbatch  numctn cscenario  cbatch  reps         qps\n",
      "78    resnet  cpumem       0       2   offline       2    10         NaN\n",
      "79    resnet  cpumem       0       2   offline       4    10         NaN\n",
      "80    resnet  cpumem       0       2   offline       8    10  158.601257\n",
      "81    resnet  cpumem       0       2   offline      10    10  159.369003\n",
      "82    resnet  cpumem       0       2   offline      16    10         NaN\n",
      "83    resnet  cpumem       0       2   offline      32    10         NaN\n",
      "   benchmark  k8senv  sbatch  numctn cscenario  cbatch  reps         qps\n",
      "84    resnet  cpumem       0       4   offline       2    10         NaN\n",
      "85    resnet  cpumem       0       4   offline       4    10         NaN\n",
      "86    resnet  cpumem       0       4   offline       8    10  159.753393\n",
      "87    resnet  cpumem       0       4   offline      10    10  160.993541\n",
      "88    resnet  cpumem       0       4   offline      16    10         NaN\n",
      "89    resnet  cpumem       0       4   offline      32    10         NaN\n",
      "   benchmark  k8senv  sbatch  numctn cscenario  cbatch  reps         qps\n",
      "90    resnet  cpumem       0       8   offline       2    10         NaN\n",
      "91    resnet  cpumem       0       8   offline       4    10         NaN\n",
      "92    resnet  cpumem       0       8   offline       8    10  158.791169\n",
      "93    resnet  cpumem       0       8   offline      10    10  158.562657\n",
      "94    resnet  cpumem       0       8   offline      16    10         NaN\n",
      "95    resnet  cpumem       0       8   offline      32    10         NaN\n",
      "    benchmark  k8senv  sbatch  numctn cscenario  cbatch  reps         qps\n",
      "96     resnet  cpumem       0      16   offline       2    10         NaN\n",
      "97     resnet  cpumem       0      16   offline       4    10         NaN\n",
      "98     resnet  cpumem       0      16   offline       8    10  156.044030\n",
      "99     resnet  cpumem       0      16   offline      10    10  157.205035\n",
      "100    resnet  cpumem       0      16   offline      16    10         NaN\n",
      "101    resnet  cpumem       0      16   offline      32    10         NaN\n",
      "    benchmark  k8senv  sbatch  numctn cscenario  cbatch  reps         qps\n",
      "102    resnet  cpumem       0      32   offline       2    10         NaN\n",
      "103    resnet  cpumem       0      32   offline       4    10         NaN\n",
      "104    resnet  cpumem       0      32   offline       8    10  145.857138\n",
      "105    resnet  cpumem       0      32   offline      10    10  145.245926\n",
      "106    resnet  cpumem       0      32   offline      16    10         NaN\n",
      "107    resnet  cpumem       0      32   offline      32    10         NaN\n"
     ]
    },
    {
     "data": {
      "application/vnd.plotly.v1+json": {
       "config": {
        "plotlyServerURL": "https://plot.ly"
       },
       "data": [
        {
         "mode": "markers",
         "name": "numctn-1",
         "opacity": 0.7,
         "type": "scatter",
         "x": [
          "cbatch2",
          "cbatch4",
          "cbatch8",
          "cbatch10",
          "cbatch16",
          "cbatch32"
         ],
         "y": [
          null,
          null,
          110.86054097523102,
          117.5522276179336,
          null,
          null
         ]
        },
        {
         "mode": "markers",
         "name": "numctn-2",
         "opacity": 0.7,
         "type": "scatter",
         "x": [
          "cbatch2",
          "cbatch4",
          "cbatch8",
          "cbatch10",
          "cbatch16",
          "cbatch32"
         ],
         "y": [
          null,
          null,
          158.6012570817816,
          159.36900337902892,
          null,
          null
         ]
        },
        {
         "mode": "markers",
         "name": "numctn-4",
         "opacity": 0.7,
         "type": "scatter",
         "x": [
          "cbatch2",
          "cbatch4",
          "cbatch8",
          "cbatch10",
          "cbatch16",
          "cbatch32"
         ],
         "y": [
          null,
          null,
          159.75339303958836,
          160.9935408502878,
          null,
          null
         ]
        },
        {
         "mode": "markers",
         "name": "numctn-8",
         "opacity": 0.7,
         "type": "scatter",
         "x": [
          "cbatch2",
          "cbatch4",
          "cbatch8",
          "cbatch10",
          "cbatch16",
          "cbatch32"
         ],
         "y": [
          null,
          null,
          158.7911694855803,
          158.56265663546253,
          null,
          null
         ]
        },
        {
         "mode": "markers",
         "name": "numctn-16",
         "opacity": 0.7,
         "type": "scatter",
         "x": [
          "cbatch2",
          "cbatch4",
          "cbatch8",
          "cbatch10",
          "cbatch16",
          "cbatch32"
         ],
         "y": [
          null,
          null,
          156.04403012935245,
          157.20503531196192,
          null,
          null
         ]
        },
        {
         "mode": "markers",
         "name": "numctn-32",
         "opacity": 0.7,
         "type": "scatter",
         "x": [
          "cbatch2",
          "cbatch4",
          "cbatch8",
          "cbatch10",
          "cbatch16",
          "cbatch32"
         ],
         "y": [
          null,
          null,
          145.85713826930703,
          145.24592586021103,
          null,
          null
         ]
        }
       ],
       "layout": {
        "bargap": 0.15,
        "bargroupgap": 0.08,
        "barmode": "group",
        "height": 460,
        "legend": {
         "bgcolor": "rgba(255, 255, 255, 0)",
         "bordercolor": "rgba(255, 255, 255, 0)",
         "font": {
          "size": 28
         },
         "orientation": "h",
         "x": 1,
         "y": 1
        },
        "template": {
         "data": {
          "scatter": [
           {
            "type": "scatter"
           }
          ]
         }
        },
        "title": {
         "text": "cpumem-resnet",
         "x": 0.5,
         "xanchor": "center",
         "y": 0.85,
         "yanchor": "top"
        },
        "width": 1000,
        "xaxis": {
         "tickfont": {
          "color": "rgb(107, 107, 107)",
          "size": 10
         },
         "tickvals": [
          "cbatch2",
          "cbatch4",
          "cbatch8",
          "cbatch10",
          "cbatch16",
          "cbatch32"
         ],
         "title": {
          "font": {
           "color": "rgb(107, 107, 107)",
           "size": 10
          },
          "text": "cbatch"
         }
        },
        "yaxis": {
         "automargin": true,
         "tickfont": {
          "color": "rgb(107, 107, 107)",
          "size": 25
         },
         "title": {
          "font": {
           "color": "rgb(107, 107, 107)",
           "size": 25
          },
          "text": "qps"
         }
        }
       }
      },
      "text/html": [
       "<div>                            <div id=\"bc9141f7-56a4-4d0a-92de-090b543b55fe\" class=\"plotly-graph-div\" style=\"height:460px; width:1000px;\"></div>            <script type=\"text/javascript\">                require([\"plotly\"], function(Plotly) {                    window.PLOTLYENV=window.PLOTLYENV || {};                                    if (document.getElementById(\"bc9141f7-56a4-4d0a-92de-090b543b55fe\")) {                    Plotly.newPlot(                        \"bc9141f7-56a4-4d0a-92de-090b543b55fe\",                        [{\"mode\": \"markers\", \"name\": \"numctn-1\", \"opacity\": 0.7, \"type\": \"scatter\", \"x\": [\"cbatch2\", \"cbatch4\", \"cbatch8\", \"cbatch10\", \"cbatch16\", \"cbatch32\"], \"y\": [null, null, 110.86054097523102, 117.5522276179336, null, null]}, {\"mode\": \"markers\", \"name\": \"numctn-2\", \"opacity\": 0.7, \"type\": \"scatter\", \"x\": [\"cbatch2\", \"cbatch4\", \"cbatch8\", \"cbatch10\", \"cbatch16\", \"cbatch32\"], \"y\": [null, null, 158.6012570817816, 159.36900337902892, null, null]}, {\"mode\": \"markers\", \"name\": \"numctn-4\", \"opacity\": 0.7, \"type\": \"scatter\", \"x\": [\"cbatch2\", \"cbatch4\", \"cbatch8\", \"cbatch10\", \"cbatch16\", \"cbatch32\"], \"y\": [null, null, 159.75339303958836, 160.9935408502878, null, null]}, {\"mode\": \"markers\", \"name\": \"numctn-8\", \"opacity\": 0.7, \"type\": \"scatter\", \"x\": [\"cbatch2\", \"cbatch4\", \"cbatch8\", \"cbatch10\", \"cbatch16\", \"cbatch32\"], \"y\": [null, null, 158.7911694855803, 158.56265663546253, null, null]}, {\"mode\": \"markers\", \"name\": \"numctn-16\", \"opacity\": 0.7, \"type\": \"scatter\", \"x\": [\"cbatch2\", \"cbatch4\", \"cbatch8\", \"cbatch10\", \"cbatch16\", \"cbatch32\"], \"y\": [null, null, 156.04403012935245, 157.20503531196192, null, null]}, {\"mode\": \"markers\", \"name\": \"numctn-32\", \"opacity\": 0.7, \"type\": \"scatter\", \"x\": [\"cbatch2\", \"cbatch4\", \"cbatch8\", \"cbatch10\", \"cbatch16\", \"cbatch32\"], \"y\": [null, null, 145.85713826930703, 145.24592586021103, null, null]}],                        {\"bargap\": 0.15, \"bargroupgap\": 0.08, \"barmode\": \"group\", \"height\": 460, \"legend\": {\"bgcolor\": \"rgba(255, 255, 255, 0)\", \"bordercolor\": \"rgba(255, 255, 255, 0)\", \"font\": {\"size\": 28}, \"orientation\": \"h\", \"x\": 1.0, \"y\": 1.0}, \"template\": {\"data\": {\"scatter\": [{\"type\": \"scatter\"}]}}, \"title\": {\"text\": \"cpumem-resnet\", \"x\": 0.5, \"xanchor\": \"center\", \"y\": 0.85, \"yanchor\": \"top\"}, \"width\": 1000, \"xaxis\": {\"tickfont\": {\"color\": \"rgb(107, 107, 107)\", \"size\": 10}, \"tickvals\": [\"cbatch2\", \"cbatch4\", \"cbatch8\", \"cbatch10\", \"cbatch16\", \"cbatch32\"], \"title\": {\"font\": {\"color\": \"rgb(107, 107, 107)\", \"size\": 10}, \"text\": \"cbatch\"}}, \"yaxis\": {\"automargin\": true, \"tickfont\": {\"color\": \"rgb(107, 107, 107)\", \"size\": 25}, \"title\": {\"font\": {\"color\": \"rgb(107, 107, 107)\", \"size\": 25}, \"text\": \"qps\"}}},                        {\"responsive\": true}                    ).then(function(){\n",
       "                            \n",
       "var gd = document.getElementById('bc9141f7-56a4-4d0a-92de-090b543b55fe');\n",
       "var x = new MutationObserver(function (mutations, observer) {{\n",
       "        var display = window.getComputedStyle(gd).display;\n",
       "        if (!display || display === 'none') {{\n",
       "            console.log([gd, 'removed!']);\n",
       "            Plotly.purge(gd);\n",
       "            observer.disconnect();\n",
       "        }}\n",
       "}});\n",
       "\n",
       "// Listen for the removal of the full notebook cells\n",
       "var notebookContainer = gd.closest('#notebook-container');\n",
       "if (notebookContainer) {{\n",
       "    x.observe(notebookContainer, {childList: true});\n",
       "}}\n",
       "\n",
       "// Listen for the clearing of the current output cell\n",
       "var outputEl = gd.closest('.output');\n",
       "if (outputEl) {{\n",
       "    x.observe(outputEl, {childList: true});\n",
       "}}\n",
       "\n",
       "                        })                };                });            </script>        </div>"
      ]
     },
     "metadata": {},
     "output_type": "display_data"
    },
    {
     "name": "stdout",
     "output_type": "stream",
     "text": [
      "   benchmark     k8senv  sbatch  numctn cscenario  cbatch  reps         qps\n",
      "36    resnet  cpumemory       0       1   offline       2    10         NaN\n",
      "37    resnet  cpumemory       0       1   offline       4    10         NaN\n",
      "38    resnet  cpumemory       0       1   offline       8    10  113.811018\n",
      "39    resnet  cpumemory       0       1   offline      10    10  117.877875\n",
      "40    resnet  cpumemory       0       1   offline      16    10         NaN\n",
      "41    resnet  cpumemory       0       1   offline      32    10         NaN\n",
      "   benchmark     k8senv  sbatch  numctn cscenario  cbatch  reps         qps\n",
      "42    resnet  cpumemory       0       2   offline       2    10         NaN\n",
      "43    resnet  cpumemory       0       2   offline       4    10         NaN\n",
      "44    resnet  cpumemory       0       2   offline       8    10  158.830177\n",
      "45    resnet  cpumemory       0       2   offline      10    10  159.308878\n",
      "46    resnet  cpumemory       0       2   offline      16    10         NaN\n",
      "47    resnet  cpumemory       0       2   offline      32    10         NaN\n",
      "   benchmark     k8senv  sbatch  numctn cscenario  cbatch  reps         qps\n",
      "48    resnet  cpumemory       0       4   offline       2    10         NaN\n",
      "49    resnet  cpumemory       0       4   offline       4    10         NaN\n",
      "50    resnet  cpumemory       0       4   offline       8    10  159.731683\n",
      "51    resnet  cpumemory       0       4   offline      10    10  160.467568\n",
      "52    resnet  cpumemory       0       4   offline      16    10         NaN\n",
      "53    resnet  cpumemory       0       4   offline      32    10         NaN\n",
      "   benchmark     k8senv  sbatch  numctn cscenario  cbatch  reps         qps\n",
      "54    resnet  cpumemory       0       8   offline       2    10         NaN\n",
      "55    resnet  cpumemory       0       8   offline       4    10         NaN\n",
      "56    resnet  cpumemory       0       8   offline       8    10  158.342005\n",
      "57    resnet  cpumemory       0       8   offline      10    10  159.091984\n",
      "58    resnet  cpumemory       0       8   offline      16    10         NaN\n",
      "59    resnet  cpumemory       0       8   offline      32    10         NaN\n",
      "   benchmark     k8senv  sbatch  numctn cscenario  cbatch  reps         qps\n",
      "60    resnet  cpumemory       0      16   offline       2    10         NaN\n",
      "61    resnet  cpumemory       0      16   offline       4    10         NaN\n",
      "62    resnet  cpumemory       0      16   offline       8    10  155.352882\n",
      "63    resnet  cpumemory       0      16   offline      10    10  156.993617\n",
      "64    resnet  cpumemory       0      16   offline      16    10         NaN\n",
      "65    resnet  cpumemory       0      16   offline      32    10         NaN\n",
      "   benchmark     k8senv  sbatch  numctn cscenario  cbatch  reps         qps\n",
      "66    resnet  cpumemory       0      32   offline       2    10         NaN\n",
      "67    resnet  cpumemory       0      32   offline       4    10         NaN\n",
      "68    resnet  cpumemory       0      32   offline       8    10  145.871589\n",
      "69    resnet  cpumemory       0      32   offline      10    10  145.225391\n",
      "70    resnet  cpumemory       0      32   offline      16    10         NaN\n",
      "71    resnet  cpumemory       0      32   offline      32    10         NaN\n"
     ]
    },
    {
     "data": {
      "application/vnd.plotly.v1+json": {
       "config": {
        "plotlyServerURL": "https://plot.ly"
       },
       "data": [
        {
         "mode": "markers",
         "name": "numctn-1",
         "opacity": 0.7,
         "type": "scatter",
         "x": [
          "cbatch2",
          "cbatch4",
          "cbatch8",
          "cbatch10",
          "cbatch16",
          "cbatch32"
         ],
         "y": [
          null,
          null,
          113.8110177376683,
          117.87787540925908,
          null,
          null
         ]
        },
        {
         "mode": "markers",
         "name": "numctn-2",
         "opacity": 0.7,
         "type": "scatter",
         "x": [
          "cbatch2",
          "cbatch4",
          "cbatch8",
          "cbatch10",
          "cbatch16",
          "cbatch32"
         ],
         "y": [
          null,
          null,
          158.83017741187012,
          159.30887793408604,
          null,
          null
         ]
        },
        {
         "mode": "markers",
         "name": "numctn-4",
         "opacity": 0.7,
         "type": "scatter",
         "x": [
          "cbatch2",
          "cbatch4",
          "cbatch8",
          "cbatch10",
          "cbatch16",
          "cbatch32"
         ],
         "y": [
          null,
          null,
          159.73168279599366,
          160.46756766975705,
          null,
          null
         ]
        },
        {
         "mode": "markers",
         "name": "numctn-8",
         "opacity": 0.7,
         "type": "scatter",
         "x": [
          "cbatch2",
          "cbatch4",
          "cbatch8",
          "cbatch10",
          "cbatch16",
          "cbatch32"
         ],
         "y": [
          null,
          null,
          158.3420052339989,
          159.09198429645824,
          null,
          null
         ]
        },
        {
         "mode": "markers",
         "name": "numctn-16",
         "opacity": 0.7,
         "type": "scatter",
         "x": [
          "cbatch2",
          "cbatch4",
          "cbatch8",
          "cbatch10",
          "cbatch16",
          "cbatch32"
         ],
         "y": [
          null,
          null,
          155.35288172257395,
          156.9936168221312,
          null,
          null
         ]
        },
        {
         "mode": "markers",
         "name": "numctn-32",
         "opacity": 0.7,
         "type": "scatter",
         "x": [
          "cbatch2",
          "cbatch4",
          "cbatch8",
          "cbatch10",
          "cbatch16",
          "cbatch32"
         ],
         "y": [
          null,
          null,
          145.87158871268807,
          145.2253909509832,
          null,
          null
         ]
        }
       ],
       "layout": {
        "bargap": 0.15,
        "bargroupgap": 0.08,
        "barmode": "group",
        "height": 460,
        "legend": {
         "bgcolor": "rgba(255, 255, 255, 0)",
         "bordercolor": "rgba(255, 255, 255, 0)",
         "font": {
          "size": 28
         },
         "orientation": "h",
         "x": 1,
         "y": 1
        },
        "template": {
         "data": {
          "scatter": [
           {
            "type": "scatter"
           }
          ]
         }
        },
        "title": {
         "text": "cpumemory-resnet",
         "x": 0.5,
         "xanchor": "center",
         "y": 0.85,
         "yanchor": "top"
        },
        "width": 1000,
        "xaxis": {
         "tickfont": {
          "color": "rgb(107, 107, 107)",
          "size": 10
         },
         "tickvals": [
          "cbatch2",
          "cbatch4",
          "cbatch8",
          "cbatch10",
          "cbatch16",
          "cbatch32"
         ],
         "title": {
          "font": {
           "color": "rgb(107, 107, 107)",
           "size": 10
          },
          "text": "cbatch"
         }
        },
        "yaxis": {
         "automargin": true,
         "tickfont": {
          "color": "rgb(107, 107, 107)",
          "size": 25
         },
         "title": {
          "font": {
           "color": "rgb(107, 107, 107)",
           "size": 25
          },
          "text": "qps"
         }
        }
       }
      },
      "text/html": [
       "<div>                            <div id=\"c69b1677-ea55-473d-b935-1cab6ebb2b2f\" class=\"plotly-graph-div\" style=\"height:460px; width:1000px;\"></div>            <script type=\"text/javascript\">                require([\"plotly\"], function(Plotly) {                    window.PLOTLYENV=window.PLOTLYENV || {};                                    if (document.getElementById(\"c69b1677-ea55-473d-b935-1cab6ebb2b2f\")) {                    Plotly.newPlot(                        \"c69b1677-ea55-473d-b935-1cab6ebb2b2f\",                        [{\"mode\": \"markers\", \"name\": \"numctn-1\", \"opacity\": 0.7, \"type\": \"scatter\", \"x\": [\"cbatch2\", \"cbatch4\", \"cbatch8\", \"cbatch10\", \"cbatch16\", \"cbatch32\"], \"y\": [null, null, 113.8110177376683, 117.87787540925908, null, null]}, {\"mode\": \"markers\", \"name\": \"numctn-2\", \"opacity\": 0.7, \"type\": \"scatter\", \"x\": [\"cbatch2\", \"cbatch4\", \"cbatch8\", \"cbatch10\", \"cbatch16\", \"cbatch32\"], \"y\": [null, null, 158.83017741187012, 159.30887793408604, null, null]}, {\"mode\": \"markers\", \"name\": \"numctn-4\", \"opacity\": 0.7, \"type\": \"scatter\", \"x\": [\"cbatch2\", \"cbatch4\", \"cbatch8\", \"cbatch10\", \"cbatch16\", \"cbatch32\"], \"y\": [null, null, 159.73168279599366, 160.46756766975705, null, null]}, {\"mode\": \"markers\", \"name\": \"numctn-8\", \"opacity\": 0.7, \"type\": \"scatter\", \"x\": [\"cbatch2\", \"cbatch4\", \"cbatch8\", \"cbatch10\", \"cbatch16\", \"cbatch32\"], \"y\": [null, null, 158.3420052339989, 159.09198429645824, null, null]}, {\"mode\": \"markers\", \"name\": \"numctn-16\", \"opacity\": 0.7, \"type\": \"scatter\", \"x\": [\"cbatch2\", \"cbatch4\", \"cbatch8\", \"cbatch10\", \"cbatch16\", \"cbatch32\"], \"y\": [null, null, 155.35288172257395, 156.9936168221312, null, null]}, {\"mode\": \"markers\", \"name\": \"numctn-32\", \"opacity\": 0.7, \"type\": \"scatter\", \"x\": [\"cbatch2\", \"cbatch4\", \"cbatch8\", \"cbatch10\", \"cbatch16\", \"cbatch32\"], \"y\": [null, null, 145.87158871268807, 145.2253909509832, null, null]}],                        {\"bargap\": 0.15, \"bargroupgap\": 0.08, \"barmode\": \"group\", \"height\": 460, \"legend\": {\"bgcolor\": \"rgba(255, 255, 255, 0)\", \"bordercolor\": \"rgba(255, 255, 255, 0)\", \"font\": {\"size\": 28}, \"orientation\": \"h\", \"x\": 1.0, \"y\": 1.0}, \"template\": {\"data\": {\"scatter\": [{\"type\": \"scatter\"}]}}, \"title\": {\"text\": \"cpumemory-resnet\", \"x\": 0.5, \"xanchor\": \"center\", \"y\": 0.85, \"yanchor\": \"top\"}, \"width\": 1000, \"xaxis\": {\"tickfont\": {\"color\": \"rgb(107, 107, 107)\", \"size\": 10}, \"tickvals\": [\"cbatch2\", \"cbatch4\", \"cbatch8\", \"cbatch10\", \"cbatch16\", \"cbatch32\"], \"title\": {\"font\": {\"color\": \"rgb(107, 107, 107)\", \"size\": 10}, \"text\": \"cbatch\"}}, \"yaxis\": {\"automargin\": true, \"tickfont\": {\"color\": \"rgb(107, 107, 107)\", \"size\": 25}, \"title\": {\"font\": {\"color\": \"rgb(107, 107, 107)\", \"size\": 25}, \"text\": \"qps\"}}},                        {\"responsive\": true}                    ).then(function(){\n",
       "                            \n",
       "var gd = document.getElementById('c69b1677-ea55-473d-b935-1cab6ebb2b2f');\n",
       "var x = new MutationObserver(function (mutations, observer) {{\n",
       "        var display = window.getComputedStyle(gd).display;\n",
       "        if (!display || display === 'none') {{\n",
       "            console.log([gd, 'removed!']);\n",
       "            Plotly.purge(gd);\n",
       "            observer.disconnect();\n",
       "        }}\n",
       "}});\n",
       "\n",
       "// Listen for the removal of the full notebook cells\n",
       "var notebookContainer = gd.closest('#notebook-container');\n",
       "if (notebookContainer) {{\n",
       "    x.observe(notebookContainer, {childList: true});\n",
       "}}\n",
       "\n",
       "// Listen for the clearing of the current output cell\n",
       "var outputEl = gd.closest('.output');\n",
       "if (outputEl) {{\n",
       "    x.observe(outputEl, {childList: true});\n",
       "}}\n",
       "\n",
       "                        })                };                });            </script>        </div>"
      ]
     },
     "metadata": {},
     "output_type": "display_data"
    }
   ],
   "source": [
    "import matplotlib\n",
    "import matplotlib.pyplot as plt\n",
    "import numpy as np\n",
    "from svglib.svglib import svg2rlg\n",
    "from reportlab.graphics import renderPDF\n",
    "from reportlab.pdfgen import canvas\n",
    "\n",
    "from numpy import percentile, mean, std\n",
    "import plotly.graph_objects as go\n",
    "\n",
    "from plotly.offline import init_notebook_mode, iplot\n",
    "\n",
    "import plotly.io as pio\n",
    "pio.templates.default = \"none\"\n",
    "# pio.templates.default = \"simple_white\"\n",
    "\n",
    "import plotly.graph_objects as go\n",
    "from plotly.subplots import make_subplots\n",
    "import pandas as pd\n",
    "# import plotly.express as px\n",
    "\n",
    "\n",
    "for k8senv in ['none','cpumem','cpumemory']:\n",
    "    for model_name in ['resnet']:\n",
    "        list_traces = []\n",
    "        for numctn in [1,2,4,8,16,32]: \n",
    "            dfg_bench = dfg[(dfg['benchmark']== model_name)  & (dfg['k8senv']==k8senv) & (dfg['numctn']==numctn) &\\\n",
    "                        ((dfg['cbatch']==2) |\\\n",
    "                         (dfg['cbatch']==4)| (dfg['cbatch']==8)| (dfg['cbatch']==10)| (dfg['cbatch']==16)| (dfg['cbatch']==32))]\n",
    "            print(dfg_bench)\n",
    "\n",
    "\n",
    "            #data\n",
    "            trace = go.Scatter(\n",
    "                name=\"numctn-\"+str(numctn),\n",
    "                x=[ 'cbatch2','cbatch4','cbatch8','cbatch10','cbatch16','cbatch32'],\n",
    "                y= dfg_bench['qps'].values.tolist(),\n",
    "    #             error_y = dict(type='data', array=df1_bench['model_time_std'].values.tolist()),\n",
    "                opacity=0.7,\n",
    "                mode='markers'\n",
    "            )\n",
    "            list_traces.append(trace)\n",
    "\n",
    "        \n",
    "\n",
    "        #layout\n",
    "        layout = go.Layout(\n",
    "            title={\n",
    "                'text': k8senv+\"-\"+model_name ,\n",
    "                'y':0.85,\n",
    "                'x':0.5,\n",
    "                'xanchor': 'center',\n",
    "                'yanchor': 'top'},\n",
    "            width=1000,\n",
    "            height=460,\n",
    "            xaxis=dict(\n",
    "                title= \"cbatch\",\n",
    "                tickvals=[ 'cbatch2','cbatch4','cbatch8','cbatch10','cbatch16','cbatch32'],\n",
    "                titlefont=dict(\n",
    "                    size=10,\n",
    "                    color='rgb(107, 107, 107)'\n",
    "                ),\n",
    "                tickfont=dict(\n",
    "                    size=10,\n",
    "                    color='rgb(107, 107, 107)'\n",
    "                )\n",
    "            ),\n",
    "            yaxis=dict(\n",
    "                title= \"qps\",\n",
    "                automargin=True,\n",
    "                titlefont=dict(\n",
    "                    size=25,\n",
    "                    color='rgb(107, 107, 107)'\n",
    "                ),\n",
    "                tickfont=dict(\n",
    "                    size=25,\n",
    "                    color='rgb(107, 107, 107)'\n",
    "                ),    \n",
    "            ),\n",
    "            legend=dict(\n",
    "                x=1.0,\n",
    "                y=1.0,\n",
    "                bgcolor='rgba(255, 255, 255, 0)',\n",
    "                bordercolor='rgba(255, 255, 255, 0)',\n",
    "                font = dict( size = 28)\n",
    "            ),\n",
    "            barmode='group',\n",
    "            bargap=0.15,\n",
    "            bargroupgap=0.08\n",
    "    #         legend_orientation=\"h\"\n",
    "        )\n",
    "\n",
    "    data = list_traces\n",
    "    fig = go.Figure(data=data, layout=layout)\n",
    "    fig.update_layout(legend_orientation=\"h\")\n",
    "    fig.show()    \n",
    "\n",
    "#     fig.write_image(path + model_name + k8senv +'.pdf')"
   ]
  },
  {
   "cell_type": "code",
   "execution_count": 30,
   "id": "1147c970",
   "metadata": {
    "scrolled": false
   },
   "outputs": [
    {
     "data": {
      "application/vnd.plotly.v1+json": {
       "config": {
        "plotlyServerURL": "https://plot.ly"
       },
       "data": [
        {
         "mode": "markers",
         "name": "ctn1",
         "opacity": 0.7,
         "type": "scatter",
         "x": [
          "none",
          "cpu",
          "cpumem"
         ],
         "y": [
          120.3515511268987,
          117.87787540925908,
          117.5522276179336
         ]
        },
        {
         "mode": "markers",
         "name": "ctn2",
         "opacity": 0.7,
         "type": "scatter",
         "x": [
          "none",
          "cpu",
          "cpumem"
         ],
         "y": [
          147.53549405900398,
          159.30887793408604,
          159.36900337902892
         ]
        },
        {
         "mode": "markers",
         "name": "ctn4",
         "opacity": 0.7,
         "type": "scatter",
         "x": [
          "none",
          "cpu",
          "cpumem"
         ],
         "y": [
          146.515896734099,
          160.46756766975705,
          160.9935408502878
         ]
        },
        {
         "mode": "markers",
         "name": "ctn8",
         "opacity": 0.7,
         "type": "scatter",
         "x": [
          "none",
          "cpu",
          "cpumem"
         ],
         "y": [
          128.20969658040033,
          159.09198429645824,
          158.56265663546253
         ]
        },
        {
         "mode": "markers",
         "name": "ctn16",
         "opacity": 0.7,
         "type": "scatter",
         "x": [
          "none",
          "cpu",
          "cpumem"
         ],
         "y": [
          137.4540646220483,
          156.9936168221312,
          157.20503531196192
         ]
        },
        {
         "mode": "markers",
         "name": "ctn32",
         "opacity": 0.7,
         "type": "scatter",
         "x": [
          "none",
          "cpu",
          "cpumem"
         ],
         "y": [
          137.75929176558853,
          145.2253909509832,
          145.24592586021103
         ]
        }
       ],
       "layout": {
        "bargap": 0.15,
        "bargroupgap": 0.08,
        "barmode": "group",
        "height": 460,
        "legend": {
         "bgcolor": "rgba(255, 255, 255, 0)",
         "bordercolor": "rgba(255, 255, 255, 0)",
         "font": {
          "size": 28
         },
         "orientation": "h",
         "x": 1,
         "y": 1
        },
        "template": {
         "data": {
          "scatter": [
           {
            "type": "scatter"
           }
          ]
         }
        },
        "title": {
         "text": "exp1 = inter32,intra32 -> inter1,intra1; restapi=32",
         "x": 0.5,
         "xanchor": "center",
         "y": 0.85,
         "yanchor": "top"
        },
        "width": 1000,
        "xaxis": {
         "tickfont": {
          "color": "rgb(107, 107, 107)",
          "size": 10
         },
         "tickvals": [
          "none",
          "cpu",
          "cpumem"
         ],
         "title": {
          "font": {
           "color": "rgb(107, 107, 107)",
           "size": 10
          },
          "text": "scenarios"
         }
        },
        "yaxis": {
         "automargin": true,
         "tickfont": {
          "color": "rgb(107, 107, 107)",
          "size": 25
         },
         "title": {
          "font": {
           "color": "rgb(107, 107, 107)",
           "size": 25
          },
          "text": "qps"
         }
        }
       }
      },
      "text/html": [
       "<div>                            <div id=\"a3982b05-a7fa-42f1-a9cc-b0646f05a952\" class=\"plotly-graph-div\" style=\"height:460px; width:1000px;\"></div>            <script type=\"text/javascript\">                require([\"plotly\"], function(Plotly) {                    window.PLOTLYENV=window.PLOTLYENV || {};                                    if (document.getElementById(\"a3982b05-a7fa-42f1-a9cc-b0646f05a952\")) {                    Plotly.newPlot(                        \"a3982b05-a7fa-42f1-a9cc-b0646f05a952\",                        [{\"mode\": \"markers\", \"name\": \"ctn1\", \"opacity\": 0.7, \"type\": \"scatter\", \"x\": [\"none\", \"cpu\", \"cpumem\"], \"y\": [120.3515511268987, 117.87787540925908, 117.5522276179336]}, {\"mode\": \"markers\", \"name\": \"ctn2\", \"opacity\": 0.7, \"type\": \"scatter\", \"x\": [\"none\", \"cpu\", \"cpumem\"], \"y\": [147.53549405900398, 159.30887793408604, 159.36900337902892]}, {\"mode\": \"markers\", \"name\": \"ctn4\", \"opacity\": 0.7, \"type\": \"scatter\", \"x\": [\"none\", \"cpu\", \"cpumem\"], \"y\": [146.515896734099, 160.46756766975705, 160.9935408502878]}, {\"mode\": \"markers\", \"name\": \"ctn8\", \"opacity\": 0.7, \"type\": \"scatter\", \"x\": [\"none\", \"cpu\", \"cpumem\"], \"y\": [128.20969658040033, 159.09198429645824, 158.56265663546253]}, {\"mode\": \"markers\", \"name\": \"ctn16\", \"opacity\": 0.7, \"type\": \"scatter\", \"x\": [\"none\", \"cpu\", \"cpumem\"], \"y\": [137.4540646220483, 156.9936168221312, 157.20503531196192]}, {\"mode\": \"markers\", \"name\": \"ctn32\", \"opacity\": 0.7, \"type\": \"scatter\", \"x\": [\"none\", \"cpu\", \"cpumem\"], \"y\": [137.75929176558853, 145.2253909509832, 145.24592586021103]}],                        {\"bargap\": 0.15, \"bargroupgap\": 0.08, \"barmode\": \"group\", \"height\": 460, \"legend\": {\"bgcolor\": \"rgba(255, 255, 255, 0)\", \"bordercolor\": \"rgba(255, 255, 255, 0)\", \"font\": {\"size\": 28}, \"orientation\": \"h\", \"x\": 1.0, \"y\": 1.0}, \"template\": {\"data\": {\"scatter\": [{\"type\": \"scatter\"}]}}, \"title\": {\"text\": \"exp1 = inter32,intra32 -> inter1,intra1; restapi=32\", \"x\": 0.5, \"xanchor\": \"center\", \"y\": 0.85, \"yanchor\": \"top\"}, \"width\": 1000, \"xaxis\": {\"tickfont\": {\"color\": \"rgb(107, 107, 107)\", \"size\": 10}, \"tickvals\": [\"none\", \"cpu\", \"cpumem\"], \"title\": {\"font\": {\"color\": \"rgb(107, 107, 107)\", \"size\": 10}, \"text\": \"scenarios\"}}, \"yaxis\": {\"automargin\": true, \"tickfont\": {\"color\": \"rgb(107, 107, 107)\", \"size\": 25}, \"title\": {\"font\": {\"color\": \"rgb(107, 107, 107)\", \"size\": 25}, \"text\": \"qps\"}}},                        {\"responsive\": true}                    ).then(function(){\n",
       "                            \n",
       "var gd = document.getElementById('a3982b05-a7fa-42f1-a9cc-b0646f05a952');\n",
       "var x = new MutationObserver(function (mutations, observer) {{\n",
       "        var display = window.getComputedStyle(gd).display;\n",
       "        if (!display || display === 'none') {{\n",
       "            console.log([gd, 'removed!']);\n",
       "            Plotly.purge(gd);\n",
       "            observer.disconnect();\n",
       "        }}\n",
       "}});\n",
       "\n",
       "// Listen for the removal of the full notebook cells\n",
       "var notebookContainer = gd.closest('#notebook-container');\n",
       "if (notebookContainer) {{\n",
       "    x.observe(notebookContainer, {childList: true});\n",
       "}}\n",
       "\n",
       "// Listen for the clearing of the current output cell\n",
       "var outputEl = gd.closest('.output');\n",
       "if (outputEl) {{\n",
       "    x.observe(outputEl, {childList: true});\n",
       "}}\n",
       "\n",
       "                        })                };                });            </script>        </div>"
      ]
     },
     "metadata": {},
     "output_type": "display_data"
    },
    {
     "data": {
      "application/vnd.plotly.v1+json": {
       "config": {
        "plotlyServerURL": "https://plot.ly"
       },
       "data": [
        {
         "mode": "markers",
         "name": "ctn1",
         "opacity": 0.7,
         "type": "scatter",
         "x": [
          "none",
          "cpu",
          "cpumem"
         ],
         "y": [
          102.31368289412168,
          103.25832124603735,
          103.69519517518889
         ]
        },
        {
         "mode": "markers",
         "name": "ctn2",
         "opacity": 0.7,
         "type": "scatter",
         "x": [
          "none",
          "cpu",
          "cpumem"
         ],
         "y": [
          84.14837762830852,
          78.20710805801465,
          78.27034903380478
         ]
        },
        {
         "mode": "markers",
         "name": "ctn4",
         "opacity": 0.7,
         "type": "scatter",
         "x": [
          "none",
          "cpu",
          "cpumem"
         ],
         "y": [
          85.57481152698308,
          77.72979865275668,
          77.59887688690812
         ]
        },
        {
         "mode": "markers",
         "name": "ctn8",
         "opacity": 0.7,
         "type": "scatter",
         "x": [
          "none",
          "cpu",
          "cpumem"
         ],
         "y": [
          94.02108073706528,
          78.04470905745906,
          78.24151807793474
         ]
        },
        {
         "mode": "markers",
         "name": "ctn16",
         "opacity": 0.7,
         "type": "scatter",
         "x": [
          "none",
          "cpu",
          "cpumem"
         ],
         "y": [
          87.87284711056118,
          78.77139469936124,
          78.67702692403425
         ]
        },
        {
         "mode": "markers",
         "name": "ctn32",
         "opacity": 0.7,
         "type": "scatter",
         "x": [
          "none",
          "cpu",
          "cpumem"
         ],
         "y": [
          88.65859426159962,
          84.99043609195394,
          85.10358375956103
         ]
        }
       ],
       "layout": {
        "bargap": 0.15,
        "bargroupgap": 0.08,
        "barmode": "group",
        "height": 460,
        "legend": {
         "bgcolor": "rgba(255, 255, 255, 0)",
         "bordercolor": "rgba(255, 255, 255, 0)",
         "font": {
          "size": 28
         },
         "orientation": "h",
         "x": 1,
         "y": 1
        },
        "template": {
         "data": {
          "scatter": [
           {
            "type": "scatter"
           }
          ]
         }
        },
        "title": {
         "text": "exp1 = inter32,intra32 -> inter1,intra1; restapi=32",
         "x": 0.5,
         "xanchor": "center",
         "y": 0.85,
         "yanchor": "top"
        },
        "width": 1000,
        "xaxis": {
         "tickfont": {
          "color": "rgb(107, 107, 107)",
          "size": 10
         },
         "tickvals": [
          "none",
          "cpu",
          "cpumem"
         ],
         "title": {
          "font": {
           "color": "rgb(107, 107, 107)",
           "size": 10
          },
          "text": "scenarios"
         }
        },
        "yaxis": {
         "automargin": true,
         "tickfont": {
          "color": "rgb(107, 107, 107)",
          "size": 25
         },
         "title": {
          "font": {
           "color": "rgb(107, 107, 107)",
           "size": 25
          },
          "text": "mean"
         }
        }
       }
      },
      "text/html": [
       "<div>                            <div id=\"905f90e7-de10-4d65-9341-ad33648f3f27\" class=\"plotly-graph-div\" style=\"height:460px; width:1000px;\"></div>            <script type=\"text/javascript\">                require([\"plotly\"], function(Plotly) {                    window.PLOTLYENV=window.PLOTLYENV || {};                                    if (document.getElementById(\"905f90e7-de10-4d65-9341-ad33648f3f27\")) {                    Plotly.newPlot(                        \"905f90e7-de10-4d65-9341-ad33648f3f27\",                        [{\"mode\": \"markers\", \"name\": \"ctn1\", \"opacity\": 0.7, \"type\": \"scatter\", \"x\": [\"none\", \"cpu\", \"cpumem\"], \"y\": [102.31368289412168, 103.25832124603735, 103.69519517518889]}, {\"mode\": \"markers\", \"name\": \"ctn2\", \"opacity\": 0.7, \"type\": \"scatter\", \"x\": [\"none\", \"cpu\", \"cpumem\"], \"y\": [84.14837762830852, 78.20710805801465, 78.27034903380478]}, {\"mode\": \"markers\", \"name\": \"ctn4\", \"opacity\": 0.7, \"type\": \"scatter\", \"x\": [\"none\", \"cpu\", \"cpumem\"], \"y\": [85.57481152698308, 77.72979865275668, 77.59887688690812]}, {\"mode\": \"markers\", \"name\": \"ctn8\", \"opacity\": 0.7, \"type\": \"scatter\", \"x\": [\"none\", \"cpu\", \"cpumem\"], \"y\": [94.02108073706528, 78.04470905745906, 78.24151807793474]}, {\"mode\": \"markers\", \"name\": \"ctn16\", \"opacity\": 0.7, \"type\": \"scatter\", \"x\": [\"none\", \"cpu\", \"cpumem\"], \"y\": [87.87284711056118, 78.77139469936124, 78.67702692403425]}, {\"mode\": \"markers\", \"name\": \"ctn32\", \"opacity\": 0.7, \"type\": \"scatter\", \"x\": [\"none\", \"cpu\", \"cpumem\"], \"y\": [88.65859426159962, 84.99043609195394, 85.10358375956103]}],                        {\"bargap\": 0.15, \"bargroupgap\": 0.08, \"barmode\": \"group\", \"height\": 460, \"legend\": {\"bgcolor\": \"rgba(255, 255, 255, 0)\", \"bordercolor\": \"rgba(255, 255, 255, 0)\", \"font\": {\"size\": 28}, \"orientation\": \"h\", \"x\": 1.0, \"y\": 1.0}, \"template\": {\"data\": {\"scatter\": [{\"type\": \"scatter\"}]}}, \"title\": {\"text\": \"exp1 = inter32,intra32 -> inter1,intra1; restapi=32\", \"x\": 0.5, \"xanchor\": \"center\", \"y\": 0.85, \"yanchor\": \"top\"}, \"width\": 1000, \"xaxis\": {\"tickfont\": {\"color\": \"rgb(107, 107, 107)\", \"size\": 10}, \"tickvals\": [\"none\", \"cpu\", \"cpumem\"], \"title\": {\"font\": {\"color\": \"rgb(107, 107, 107)\", \"size\": 10}, \"text\": \"scenarios\"}}, \"yaxis\": {\"automargin\": true, \"tickfont\": {\"color\": \"rgb(107, 107, 107)\", \"size\": 25}, \"title\": {\"font\": {\"color\": \"rgb(107, 107, 107)\", \"size\": 25}, \"text\": \"mean\"}}},                        {\"responsive\": true}                    ).then(function(){\n",
       "                            \n",
       "var gd = document.getElementById('905f90e7-de10-4d65-9341-ad33648f3f27');\n",
       "var x = new MutationObserver(function (mutations, observer) {{\n",
       "        var display = window.getComputedStyle(gd).display;\n",
       "        if (!display || display === 'none') {{\n",
       "            console.log([gd, 'removed!']);\n",
       "            Plotly.purge(gd);\n",
       "            observer.disconnect();\n",
       "        }}\n",
       "}});\n",
       "\n",
       "// Listen for the removal of the full notebook cells\n",
       "var notebookContainer = gd.closest('#notebook-container');\n",
       "if (notebookContainer) {{\n",
       "    x.observe(notebookContainer, {childList: true});\n",
       "}}\n",
       "\n",
       "// Listen for the clearing of the current output cell\n",
       "var outputEl = gd.closest('.output');\n",
       "if (outputEl) {{\n",
       "    x.observe(outputEl, {childList: true});\n",
       "}}\n",
       "\n",
       "                        })                };                });            </script>        </div>"
      ]
     },
     "metadata": {},
     "output_type": "display_data"
    },
    {
     "data": {
      "application/vnd.plotly.v1+json": {
       "config": {
        "plotlyServerURL": "https://plot.ly"
       },
       "data": [
        {
         "mode": "markers",
         "name": "ctn1",
         "opacity": 0.7,
         "type": "scatter",
         "x": [
          "none",
          "cpu",
          "cpumem"
         ],
         "y": [
          101.189067645,
          101.651142121,
          102.915261791
         ]
        },
        {
         "mode": "markers",
         "name": "ctn2",
         "opacity": 0.7,
         "type": "scatter",
         "x": [
          "none",
          "cpu",
          "cpumem"
         ],
         "y": [
          83.976586041,
          78.094587806,
          78.249554144
         ]
        },
        {
         "mode": "markers",
         "name": "ctn4",
         "opacity": 0.7,
         "type": "scatter",
         "x": [
          "none",
          "cpu",
          "cpumem"
         ],
         "y": [
          85.621195009,
          77.742716822,
          77.3728634
         ]
        },
        {
         "mode": "markers",
         "name": "ctn8",
         "opacity": 0.7,
         "type": "scatter",
         "x": [
          "none",
          "cpu",
          "cpumem"
         ],
         "y": [
          93.180295735,
          78.143465756,
          78.16239887
         ]
        },
        {
         "mode": "markers",
         "name": "ctn16",
         "opacity": 0.7,
         "type": "scatter",
         "x": [
          "none",
          "cpu",
          "cpumem"
         ],
         "y": [
          87.729515377,
          78.753188377,
          78.703304825
         ]
        },
        {
         "mode": "markers",
         "name": "ctn32",
         "opacity": 0.7,
         "type": "scatter",
         "x": [
          "none",
          "cpu",
          "cpumem"
         ],
         "y": [
          88.275379853,
          85.030940762,
          85.095917332
         ]
        }
       ],
       "layout": {
        "bargap": 0.15,
        "bargroupgap": 0.08,
        "barmode": "group",
        "height": 460,
        "legend": {
         "bgcolor": "rgba(255, 255, 255, 0)",
         "bordercolor": "rgba(255, 255, 255, 0)",
         "font": {
          "size": 28
         },
         "orientation": "h",
         "x": 1,
         "y": 1
        },
        "template": {
         "data": {
          "scatter": [
           {
            "type": "scatter"
           }
          ]
         }
        },
        "title": {
         "text": "exp1 = inter32,intra32 -> inter1,intra1; restapi=32",
         "x": 0.5,
         "xanchor": "center",
         "y": 0.85,
         "yanchor": "top"
        },
        "width": 1000,
        "xaxis": {
         "tickfont": {
          "color": "rgb(107, 107, 107)",
          "size": 10
         },
         "tickvals": [
          "none",
          "cpu",
          "cpumem"
         ],
         "title": {
          "font": {
           "color": "rgb(107, 107, 107)",
           "size": 10
          },
          "text": "scenarios"
         }
        },
        "yaxis": {
         "automargin": true,
         "tickfont": {
          "color": "rgb(107, 107, 107)",
          "size": 25
         },
         "title": {
          "font": {
           "color": "rgb(107, 107, 107)",
           "size": 25
          },
          "text": "p50"
         }
        }
       }
      },
      "text/html": [
       "<div>                            <div id=\"9db2612a-c3f9-4f29-8841-e799612cc1cb\" class=\"plotly-graph-div\" style=\"height:460px; width:1000px;\"></div>            <script type=\"text/javascript\">                require([\"plotly\"], function(Plotly) {                    window.PLOTLYENV=window.PLOTLYENV || {};                                    if (document.getElementById(\"9db2612a-c3f9-4f29-8841-e799612cc1cb\")) {                    Plotly.newPlot(                        \"9db2612a-c3f9-4f29-8841-e799612cc1cb\",                        [{\"mode\": \"markers\", \"name\": \"ctn1\", \"opacity\": 0.7, \"type\": \"scatter\", \"x\": [\"none\", \"cpu\", \"cpumem\"], \"y\": [101.189067645, 101.651142121, 102.915261791]}, {\"mode\": \"markers\", \"name\": \"ctn2\", \"opacity\": 0.7, \"type\": \"scatter\", \"x\": [\"none\", \"cpu\", \"cpumem\"], \"y\": [83.976586041, 78.094587806, 78.249554144]}, {\"mode\": \"markers\", \"name\": \"ctn4\", \"opacity\": 0.7, \"type\": \"scatter\", \"x\": [\"none\", \"cpu\", \"cpumem\"], \"y\": [85.621195009, 77.742716822, 77.3728634]}, {\"mode\": \"markers\", \"name\": \"ctn8\", \"opacity\": 0.7, \"type\": \"scatter\", \"x\": [\"none\", \"cpu\", \"cpumem\"], \"y\": [93.180295735, 78.143465756, 78.16239887]}, {\"mode\": \"markers\", \"name\": \"ctn16\", \"opacity\": 0.7, \"type\": \"scatter\", \"x\": [\"none\", \"cpu\", \"cpumem\"], \"y\": [87.729515377, 78.753188377, 78.703304825]}, {\"mode\": \"markers\", \"name\": \"ctn32\", \"opacity\": 0.7, \"type\": \"scatter\", \"x\": [\"none\", \"cpu\", \"cpumem\"], \"y\": [88.275379853, 85.030940762, 85.095917332]}],                        {\"bargap\": 0.15, \"bargroupgap\": 0.08, \"barmode\": \"group\", \"height\": 460, \"legend\": {\"bgcolor\": \"rgba(255, 255, 255, 0)\", \"bordercolor\": \"rgba(255, 255, 255, 0)\", \"font\": {\"size\": 28}, \"orientation\": \"h\", \"x\": 1.0, \"y\": 1.0}, \"template\": {\"data\": {\"scatter\": [{\"type\": \"scatter\"}]}}, \"title\": {\"text\": \"exp1 = inter32,intra32 -> inter1,intra1; restapi=32\", \"x\": 0.5, \"xanchor\": \"center\", \"y\": 0.85, \"yanchor\": \"top\"}, \"width\": 1000, \"xaxis\": {\"tickfont\": {\"color\": \"rgb(107, 107, 107)\", \"size\": 10}, \"tickvals\": [\"none\", \"cpu\", \"cpumem\"], \"title\": {\"font\": {\"color\": \"rgb(107, 107, 107)\", \"size\": 10}, \"text\": \"scenarios\"}}, \"yaxis\": {\"automargin\": true, \"tickfont\": {\"color\": \"rgb(107, 107, 107)\", \"size\": 25}, \"title\": {\"font\": {\"color\": \"rgb(107, 107, 107)\", \"size\": 25}, \"text\": \"p50\"}}},                        {\"responsive\": true}                    ).then(function(){\n",
       "                            \n",
       "var gd = document.getElementById('9db2612a-c3f9-4f29-8841-e799612cc1cb');\n",
       "var x = new MutationObserver(function (mutations, observer) {{\n",
       "        var display = window.getComputedStyle(gd).display;\n",
       "        if (!display || display === 'none') {{\n",
       "            console.log([gd, 'removed!']);\n",
       "            Plotly.purge(gd);\n",
       "            observer.disconnect();\n",
       "        }}\n",
       "}});\n",
       "\n",
       "// Listen for the removal of the full notebook cells\n",
       "var notebookContainer = gd.closest('#notebook-container');\n",
       "if (notebookContainer) {{\n",
       "    x.observe(notebookContainer, {childList: true});\n",
       "}}\n",
       "\n",
       "// Listen for the clearing of the current output cell\n",
       "var outputEl = gd.closest('.output');\n",
       "if (outputEl) {{\n",
       "    x.observe(outputEl, {childList: true});\n",
       "}}\n",
       "\n",
       "                        })                };                });            </script>        </div>"
      ]
     },
     "metadata": {},
     "output_type": "display_data"
    },
    {
     "data": {
      "application/vnd.plotly.v1+json": {
       "config": {
        "plotlyServerURL": "https://plot.ly"
       },
       "data": [
        {
         "mode": "markers",
         "name": "ctn1",
         "opacity": 0.7,
         "type": "scatter",
         "x": [
          "none",
          "cpu",
          "cpumem"
         ],
         "y": [
          184.895984402,
          187.775350699,
          187.907199804
         ]
        },
        {
         "mode": "markers",
         "name": "ctn2",
         "opacity": 0.7,
         "type": "scatter",
         "x": [
          "none",
          "cpu",
          "cpumem"
         ],
         "y": [
          149.703278344,
          139.273605236,
          139.498509222
         ]
        },
        {
         "mode": "markers",
         "name": "ctn4",
         "opacity": 0.7,
         "type": "scatter",
         "x": [
          "none",
          "cpu",
          "cpumem"
         ],
         "y": [
          151.74495722,
          138.670818377,
          138.186275672
         ]
        },
        {
         "mode": "markers",
         "name": "ctn8",
         "opacity": 0.7,
         "type": "scatter",
         "x": [
          "none",
          "cpu",
          "cpumem"
         ],
         "y": [
          169.441011425,
          139.109761796,
          139.402140129
         ]
        },
        {
         "mode": "markers",
         "name": "ctn16",
         "opacity": 0.7,
         "type": "scatter",
         "x": [
          "none",
          "cpu",
          "cpumem"
         ],
         "y": [
          157.123716002,
          140.525311559,
          140.338259763
         ]
        },
        {
         "mode": "markers",
         "name": "ctn32",
         "opacity": 0.7,
         "type": "scatter",
         "x": [
          "none",
          "cpu",
          "cpumem"
         ],
         "y": [
          158.242434433,
          151.782921689,
          151.905751774
         ]
        }
       ],
       "layout": {
        "bargap": 0.15,
        "bargroupgap": 0.08,
        "barmode": "group",
        "height": 460,
        "legend": {
         "bgcolor": "rgba(255, 255, 255, 0)",
         "bordercolor": "rgba(255, 255, 255, 0)",
         "font": {
          "size": 28
         },
         "orientation": "h",
         "x": 1,
         "y": 1
        },
        "template": {
         "data": {
          "scatter": [
           {
            "type": "scatter"
           }
          ]
         }
        },
        "title": {
         "text": "exp1 = inter32,intra32 -> inter1,intra1; restapi=32",
         "x": 0.5,
         "xanchor": "center",
         "y": 0.85,
         "yanchor": "top"
        },
        "width": 1000,
        "xaxis": {
         "tickfont": {
          "color": "rgb(107, 107, 107)",
          "size": 10
         },
         "tickvals": [
          "none",
          "cpu",
          "cpumem"
         ],
         "title": {
          "font": {
           "color": "rgb(107, 107, 107)",
           "size": 10
          },
          "text": "scenarios"
         }
        },
        "yaxis": {
         "automargin": true,
         "tickfont": {
          "color": "rgb(107, 107, 107)",
          "size": 25
         },
         "title": {
          "font": {
           "color": "rgb(107, 107, 107)",
           "size": 25
          },
          "text": "p90"
         }
        }
       }
      },
      "text/html": [
       "<div>                            <div id=\"c54a0cd0-b396-4997-b3c3-037a816d755e\" class=\"plotly-graph-div\" style=\"height:460px; width:1000px;\"></div>            <script type=\"text/javascript\">                require([\"plotly\"], function(Plotly) {                    window.PLOTLYENV=window.PLOTLYENV || {};                                    if (document.getElementById(\"c54a0cd0-b396-4997-b3c3-037a816d755e\")) {                    Plotly.newPlot(                        \"c54a0cd0-b396-4997-b3c3-037a816d755e\",                        [{\"mode\": \"markers\", \"name\": \"ctn1\", \"opacity\": 0.7, \"type\": \"scatter\", \"x\": [\"none\", \"cpu\", \"cpumem\"], \"y\": [184.895984402, 187.775350699, 187.907199804]}, {\"mode\": \"markers\", \"name\": \"ctn2\", \"opacity\": 0.7, \"type\": \"scatter\", \"x\": [\"none\", \"cpu\", \"cpumem\"], \"y\": [149.703278344, 139.273605236, 139.498509222]}, {\"mode\": \"markers\", \"name\": \"ctn4\", \"opacity\": 0.7, \"type\": \"scatter\", \"x\": [\"none\", \"cpu\", \"cpumem\"], \"y\": [151.74495722, 138.670818377, 138.186275672]}, {\"mode\": \"markers\", \"name\": \"ctn8\", \"opacity\": 0.7, \"type\": \"scatter\", \"x\": [\"none\", \"cpu\", \"cpumem\"], \"y\": [169.441011425, 139.109761796, 139.402140129]}, {\"mode\": \"markers\", \"name\": \"ctn16\", \"opacity\": 0.7, \"type\": \"scatter\", \"x\": [\"none\", \"cpu\", \"cpumem\"], \"y\": [157.123716002, 140.525311559, 140.338259763]}, {\"mode\": \"markers\", \"name\": \"ctn32\", \"opacity\": 0.7, \"type\": \"scatter\", \"x\": [\"none\", \"cpu\", \"cpumem\"], \"y\": [158.242434433, 151.782921689, 151.905751774]}],                        {\"bargap\": 0.15, \"bargroupgap\": 0.08, \"barmode\": \"group\", \"height\": 460, \"legend\": {\"bgcolor\": \"rgba(255, 255, 255, 0)\", \"bordercolor\": \"rgba(255, 255, 255, 0)\", \"font\": {\"size\": 28}, \"orientation\": \"h\", \"x\": 1.0, \"y\": 1.0}, \"template\": {\"data\": {\"scatter\": [{\"type\": \"scatter\"}]}}, \"title\": {\"text\": \"exp1 = inter32,intra32 -> inter1,intra1; restapi=32\", \"x\": 0.5, \"xanchor\": \"center\", \"y\": 0.85, \"yanchor\": \"top\"}, \"width\": 1000, \"xaxis\": {\"tickfont\": {\"color\": \"rgb(107, 107, 107)\", \"size\": 10}, \"tickvals\": [\"none\", \"cpu\", \"cpumem\"], \"title\": {\"font\": {\"color\": \"rgb(107, 107, 107)\", \"size\": 10}, \"text\": \"scenarios\"}}, \"yaxis\": {\"automargin\": true, \"tickfont\": {\"color\": \"rgb(107, 107, 107)\", \"size\": 25}, \"title\": {\"font\": {\"color\": \"rgb(107, 107, 107)\", \"size\": 25}, \"text\": \"p90\"}}},                        {\"responsive\": true}                    ).then(function(){\n",
       "                            \n",
       "var gd = document.getElementById('c54a0cd0-b396-4997-b3c3-037a816d755e');\n",
       "var x = new MutationObserver(function (mutations, observer) {{\n",
       "        var display = window.getComputedStyle(gd).display;\n",
       "        if (!display || display === 'none') {{\n",
       "            console.log([gd, 'removed!']);\n",
       "            Plotly.purge(gd);\n",
       "            observer.disconnect();\n",
       "        }}\n",
       "}});\n",
       "\n",
       "// Listen for the removal of the full notebook cells\n",
       "var notebookContainer = gd.closest('#notebook-container');\n",
       "if (notebookContainer) {{\n",
       "    x.observe(notebookContainer, {childList: true});\n",
       "}}\n",
       "\n",
       "// Listen for the clearing of the current output cell\n",
       "var outputEl = gd.closest('.output');\n",
       "if (outputEl) {{\n",
       "    x.observe(outputEl, {childList: true});\n",
       "}}\n",
       "\n",
       "                        })                };                });            </script>        </div>"
      ]
     },
     "metadata": {},
     "output_type": "display_data"
    },
    {
     "data": {
      "application/vnd.plotly.v1+json": {
       "config": {
        "plotlyServerURL": "https://plot.ly"
       },
       "data": [
        {
         "mode": "markers",
         "name": "ctn1",
         "opacity": 0.7,
         "type": "scatter",
         "x": [
          "none",
          "cpu",
          "cpumem"
         ],
         "y": [
          203.4205953865,
          207.8081594435,
          208.17552911025
         ]
        },
        {
         "mode": "markers",
         "name": "ctn2",
         "opacity": 0.7,
         "type": "scatter",
         "x": [
          "none",
          "cpu",
          "cpumem"
         ],
         "y": [
          164.506059136,
          152.99845389825,
          153.16892134800003
         ]
        },
        {
         "mode": "markers",
         "name": "ctn4",
         "opacity": 0.7,
         "type": "scatter",
         "x": [
          "none",
          "cpu",
          "cpumem"
         ],
         "y": [
          166.3356840795,
          152.182820555,
          151.63226404225
         ]
        },
        {
         "mode": "markers",
         "name": "ctn8",
         "opacity": 0.7,
         "type": "scatter",
         "x": [
          "none",
          "cpu",
          "cpumem"
         ],
         "y": [
          186.7933872285,
          152.70417805875002,
          153.22196306025
         ]
        },
        {
         "mode": "markers",
         "name": "ctn16",
         "opacity": 0.7,
         "type": "scatter",
         "x": [
          "none",
          "cpu",
          "cpumem"
         ],
         "y": [
          172.71609191800002,
          154.27171724325,
          154.1094682835
         ]
        },
        {
         "mode": "markers",
         "name": "ctn32",
         "opacity": 0.7,
         "type": "scatter",
         "x": [
          "none",
          "cpu",
          "cpumem"
         ],
         "y": [
          173.94920526099995,
          166.961729489,
          166.8787117345
         ]
        }
       ],
       "layout": {
        "bargap": 0.15,
        "bargroupgap": 0.08,
        "barmode": "group",
        "height": 460,
        "legend": {
         "bgcolor": "rgba(255, 255, 255, 0)",
         "bordercolor": "rgba(255, 255, 255, 0)",
         "font": {
          "size": 28
         },
         "orientation": "h",
         "x": 1,
         "y": 1
        },
        "template": {
         "data": {
          "scatter": [
           {
            "type": "scatter"
           }
          ]
         }
        },
        "title": {
         "text": "exp1 = inter32,intra32 -> inter1,intra1; restapi=32",
         "x": 0.5,
         "xanchor": "center",
         "y": 0.85,
         "yanchor": "top"
        },
        "width": 1000,
        "xaxis": {
         "tickfont": {
          "color": "rgb(107, 107, 107)",
          "size": 10
         },
         "tickvals": [
          "none",
          "cpu",
          "cpumem"
         ],
         "title": {
          "font": {
           "color": "rgb(107, 107, 107)",
           "size": 10
          },
          "text": "scenarios"
         }
        },
        "yaxis": {
         "automargin": true,
         "tickfont": {
          "color": "rgb(107, 107, 107)",
          "size": 25
         },
         "title": {
          "font": {
           "color": "rgb(107, 107, 107)",
           "size": 25
          },
          "text": "p99"
         }
        }
       }
      },
      "text/html": [
       "<div>                            <div id=\"bc6af41b-6ad9-46b6-be5b-8e7e500b379f\" class=\"plotly-graph-div\" style=\"height:460px; width:1000px;\"></div>            <script type=\"text/javascript\">                require([\"plotly\"], function(Plotly) {                    window.PLOTLYENV=window.PLOTLYENV || {};                                    if (document.getElementById(\"bc6af41b-6ad9-46b6-be5b-8e7e500b379f\")) {                    Plotly.newPlot(                        \"bc6af41b-6ad9-46b6-be5b-8e7e500b379f\",                        [{\"mode\": \"markers\", \"name\": \"ctn1\", \"opacity\": 0.7, \"type\": \"scatter\", \"x\": [\"none\", \"cpu\", \"cpumem\"], \"y\": [203.4205953865, 207.8081594435, 208.17552911025]}, {\"mode\": \"markers\", \"name\": \"ctn2\", \"opacity\": 0.7, \"type\": \"scatter\", \"x\": [\"none\", \"cpu\", \"cpumem\"], \"y\": [164.506059136, 152.99845389825, 153.16892134800003]}, {\"mode\": \"markers\", \"name\": \"ctn4\", \"opacity\": 0.7, \"type\": \"scatter\", \"x\": [\"none\", \"cpu\", \"cpumem\"], \"y\": [166.3356840795, 152.182820555, 151.63226404225]}, {\"mode\": \"markers\", \"name\": \"ctn8\", \"opacity\": 0.7, \"type\": \"scatter\", \"x\": [\"none\", \"cpu\", \"cpumem\"], \"y\": [186.7933872285, 152.70417805875002, 153.22196306025]}, {\"mode\": \"markers\", \"name\": \"ctn16\", \"opacity\": 0.7, \"type\": \"scatter\", \"x\": [\"none\", \"cpu\", \"cpumem\"], \"y\": [172.71609191800002, 154.27171724325, 154.1094682835]}, {\"mode\": \"markers\", \"name\": \"ctn32\", \"opacity\": 0.7, \"type\": \"scatter\", \"x\": [\"none\", \"cpu\", \"cpumem\"], \"y\": [173.94920526099995, 166.961729489, 166.8787117345]}],                        {\"bargap\": 0.15, \"bargroupgap\": 0.08, \"barmode\": \"group\", \"height\": 460, \"legend\": {\"bgcolor\": \"rgba(255, 255, 255, 0)\", \"bordercolor\": \"rgba(255, 255, 255, 0)\", \"font\": {\"size\": 28}, \"orientation\": \"h\", \"x\": 1.0, \"y\": 1.0}, \"template\": {\"data\": {\"scatter\": [{\"type\": \"scatter\"}]}}, \"title\": {\"text\": \"exp1 = inter32,intra32 -> inter1,intra1; restapi=32\", \"x\": 0.5, \"xanchor\": \"center\", \"y\": 0.85, \"yanchor\": \"top\"}, \"width\": 1000, \"xaxis\": {\"tickfont\": {\"color\": \"rgb(107, 107, 107)\", \"size\": 10}, \"tickvals\": [\"none\", \"cpu\", \"cpumem\"], \"title\": {\"font\": {\"color\": \"rgb(107, 107, 107)\", \"size\": 10}, \"text\": \"scenarios\"}}, \"yaxis\": {\"automargin\": true, \"tickfont\": {\"color\": \"rgb(107, 107, 107)\", \"size\": 25}, \"title\": {\"font\": {\"color\": \"rgb(107, 107, 107)\", \"size\": 25}, \"text\": \"p99\"}}},                        {\"responsive\": true}                    ).then(function(){\n",
       "                            \n",
       "var gd = document.getElementById('bc6af41b-6ad9-46b6-be5b-8e7e500b379f');\n",
       "var x = new MutationObserver(function (mutations, observer) {{\n",
       "        var display = window.getComputedStyle(gd).display;\n",
       "        if (!display || display === 'none') {{\n",
       "            console.log([gd, 'removed!']);\n",
       "            Plotly.purge(gd);\n",
       "            observer.disconnect();\n",
       "        }}\n",
       "}});\n",
       "\n",
       "// Listen for the removal of the full notebook cells\n",
       "var notebookContainer = gd.closest('#notebook-container');\n",
       "if (notebookContainer) {{\n",
       "    x.observe(notebookContainer, {childList: true});\n",
       "}}\n",
       "\n",
       "// Listen for the clearing of the current output cell\n",
       "var outputEl = gd.closest('.output');\n",
       "if (outputEl) {{\n",
       "    x.observe(outputEl, {childList: true});\n",
       "}}\n",
       "\n",
       "                        })                };                });            </script>        </div>"
      ]
     },
     "metadata": {},
     "output_type": "display_data"
    },
    {
     "data": {
      "application/vnd.plotly.v1+json": {
       "config": {
        "plotlyServerURL": "https://plot.ly"
       },
       "data": [
        {
         "mode": "markers",
         "name": "ctn1",
         "opacity": 0.7,
         "type": "scatter",
         "x": [
          "none",
          "cpu",
          "cpumem"
         ],
         "y": [
          204.162391277,
          208.441836558,
          209.020001882
         ]
        },
        {
         "mode": "markers",
         "name": "ctn2",
         "opacity": 0.7,
         "type": "scatter",
         "x": [
          "none",
          "cpu",
          "cpumem"
         ],
         "y": [
          166.526020159,
          154.204757886,
          154.153137846
         ]
        },
        {
         "mode": "markers",
         "name": "ctn4",
         "opacity": 0.7,
         "type": "scatter",
         "x": [
          "none",
          "cpu",
          "cpumem"
         ],
         "y": [
          167.686431667,
          153.110653579,
          152.603677522
         ]
        },
        {
         "mode": "markers",
         "name": "ctn8",
         "opacity": 0.7,
         "type": "scatter",
         "x": [
          "none",
          "cpu",
          "cpumem"
         ],
         "y": [
          191.432137683,
          154.098474884,
          154.709399635
         ]
        },
        {
         "mode": "markers",
         "name": "ctn16",
         "opacity": 0.7,
         "type": "scatter",
         "x": [
          "none",
          "cpu",
          "cpumem"
         ],
         "y": [
          177.07871408,
          156.37880471,
          155.673068787
         ]
        },
        {
         "mode": "markers",
         "name": "ctn32",
         "opacity": 0.7,
         "type": "scatter",
         "x": [
          "none",
          "cpu",
          "cpumem"
         ],
         "y": [
          176.183519493,
          168.909586916,
          168.071023104
         ]
        }
       ],
       "layout": {
        "bargap": 0.15,
        "bargroupgap": 0.08,
        "barmode": "group",
        "height": 460,
        "legend": {
         "bgcolor": "rgba(255, 255, 255, 0)",
         "bordercolor": "rgba(255, 255, 255, 0)",
         "font": {
          "size": 28
         },
         "orientation": "h",
         "x": 1,
         "y": 1
        },
        "template": {
         "data": {
          "scatter": [
           {
            "type": "scatter"
           }
          ]
         }
        },
        "title": {
         "text": "exp1 = inter32,intra32 -> inter1,intra1; restapi=32",
         "x": 0.5,
         "xanchor": "center",
         "y": 0.85,
         "yanchor": "top"
        },
        "width": 1000,
        "xaxis": {
         "tickfont": {
          "color": "rgb(107, 107, 107)",
          "size": 10
         },
         "tickvals": [
          "none",
          "cpu",
          "cpumem"
         ],
         "title": {
          "font": {
           "color": "rgb(107, 107, 107)",
           "size": 10
          },
          "text": "scenarios"
         }
        },
        "yaxis": {
         "automargin": true,
         "tickfont": {
          "color": "rgb(107, 107, 107)",
          "size": 25
         },
         "title": {
          "font": {
           "color": "rgb(107, 107, 107)",
           "size": 25
          },
          "text": "p999"
         }
        }
       }
      },
      "text/html": [
       "<div>                            <div id=\"922dfe6a-b9d6-4dfa-989a-8dbf15f9c831\" class=\"plotly-graph-div\" style=\"height:460px; width:1000px;\"></div>            <script type=\"text/javascript\">                require([\"plotly\"], function(Plotly) {                    window.PLOTLYENV=window.PLOTLYENV || {};                                    if (document.getElementById(\"922dfe6a-b9d6-4dfa-989a-8dbf15f9c831\")) {                    Plotly.newPlot(                        \"922dfe6a-b9d6-4dfa-989a-8dbf15f9c831\",                        [{\"mode\": \"markers\", \"name\": \"ctn1\", \"opacity\": 0.7, \"type\": \"scatter\", \"x\": [\"none\", \"cpu\", \"cpumem\"], \"y\": [204.162391277, 208.441836558, 209.020001882]}, {\"mode\": \"markers\", \"name\": \"ctn2\", \"opacity\": 0.7, \"type\": \"scatter\", \"x\": [\"none\", \"cpu\", \"cpumem\"], \"y\": [166.526020159, 154.204757886, 154.153137846]}, {\"mode\": \"markers\", \"name\": \"ctn4\", \"opacity\": 0.7, \"type\": \"scatter\", \"x\": [\"none\", \"cpu\", \"cpumem\"], \"y\": [167.686431667, 153.110653579, 152.603677522]}, {\"mode\": \"markers\", \"name\": \"ctn8\", \"opacity\": 0.7, \"type\": \"scatter\", \"x\": [\"none\", \"cpu\", \"cpumem\"], \"y\": [191.432137683, 154.098474884, 154.709399635]}, {\"mode\": \"markers\", \"name\": \"ctn16\", \"opacity\": 0.7, \"type\": \"scatter\", \"x\": [\"none\", \"cpu\", \"cpumem\"], \"y\": [177.07871408, 156.37880471, 155.673068787]}, {\"mode\": \"markers\", \"name\": \"ctn32\", \"opacity\": 0.7, \"type\": \"scatter\", \"x\": [\"none\", \"cpu\", \"cpumem\"], \"y\": [176.183519493, 168.909586916, 168.071023104]}],                        {\"bargap\": 0.15, \"bargroupgap\": 0.08, \"barmode\": \"group\", \"height\": 460, \"legend\": {\"bgcolor\": \"rgba(255, 255, 255, 0)\", \"bordercolor\": \"rgba(255, 255, 255, 0)\", \"font\": {\"size\": 28}, \"orientation\": \"h\", \"x\": 1.0, \"y\": 1.0}, \"template\": {\"data\": {\"scatter\": [{\"type\": \"scatter\"}]}}, \"title\": {\"text\": \"exp1 = inter32,intra32 -> inter1,intra1; restapi=32\", \"x\": 0.5, \"xanchor\": \"center\", \"y\": 0.85, \"yanchor\": \"top\"}, \"width\": 1000, \"xaxis\": {\"tickfont\": {\"color\": \"rgb(107, 107, 107)\", \"size\": 10}, \"tickvals\": [\"none\", \"cpu\", \"cpumem\"], \"title\": {\"font\": {\"color\": \"rgb(107, 107, 107)\", \"size\": 10}, \"text\": \"scenarios\"}}, \"yaxis\": {\"automargin\": true, \"tickfont\": {\"color\": \"rgb(107, 107, 107)\", \"size\": 25}, \"title\": {\"font\": {\"color\": \"rgb(107, 107, 107)\", \"size\": 25}, \"text\": \"p999\"}}},                        {\"responsive\": true}                    ).then(function(){\n",
       "                            \n",
       "var gd = document.getElementById('922dfe6a-b9d6-4dfa-989a-8dbf15f9c831');\n",
       "var x = new MutationObserver(function (mutations, observer) {{\n",
       "        var display = window.getComputedStyle(gd).display;\n",
       "        if (!display || display === 'none') {{\n",
       "            console.log([gd, 'removed!']);\n",
       "            Plotly.purge(gd);\n",
       "            observer.disconnect();\n",
       "        }}\n",
       "}});\n",
       "\n",
       "// Listen for the removal of the full notebook cells\n",
       "var notebookContainer = gd.closest('#notebook-container');\n",
       "if (notebookContainer) {{\n",
       "    x.observe(notebookContainer, {childList: true});\n",
       "}}\n",
       "\n",
       "// Listen for the clearing of the current output cell\n",
       "var outputEl = gd.closest('.output');\n",
       "if (outputEl) {{\n",
       "    x.observe(outputEl, {childList: true});\n",
       "}}\n",
       "\n",
       "                        })                };                });            </script>        </div>"
      ]
     },
     "metadata": {},
     "output_type": "display_data"
    }
   ],
   "source": [
    "import matplotlib\n",
    "import matplotlib.pyplot as plt\n",
    "import numpy as np\n",
    "from svglib.svglib import svg2rlg\n",
    "from reportlab.graphics import renderPDF\n",
    "from reportlab.pdfgen import canvas\n",
    "\n",
    "from numpy import percentile, mean, std\n",
    "import plotly.graph_objects as go\n",
    "\n",
    "from plotly.offline import init_notebook_mode, iplot\n",
    "\n",
    "import plotly.io as pio\n",
    "pio.templates.default = \"none\"\n",
    "# pio.templates.default = \"simple_white\"\n",
    "\n",
    "import plotly.graph_objects as go\n",
    "from plotly.subplots import make_subplots\n",
    "import pandas as pd\n",
    "# import plotly.express as px\n",
    "\n",
    "for x in ['qps','mean','p50','p90','p99','p999']:\n",
    "    for cbatch in [10]:\n",
    "        for model_name in ['resnet']:\n",
    "            list_traces = []\n",
    "            for numctn in [1,2,4,8,16,32]: \n",
    "                dfg_bench = dfg[(dfg['benchmark']== model_name)  & (dfg['cbatch']==cbatch) & (dfg['numctn']==numctn) &\\\n",
    "                            ((dfg['k8senv']=='none') |\\\n",
    "                             (dfg['k8senv']=='cpumem')| (dfg['k8senv']=='cpumemory'))]\n",
    "#                 print(dfg_bench)\n",
    "\n",
    "\n",
    "                #data\n",
    "                trace = go.Scatter(\n",
    "                    name=\"ctn\"+str(numctn),\n",
    "                    x=[ 'none','cpu','cpumem'],\n",
    "                    y= dfg_bench[x].values.tolist(),\n",
    "        #             error_y = dict(type='data', array=df1_bench['model_time_std'].values.tolist()),\n",
    "                    opacity=0.7,\n",
    "                    mode='markers'\n",
    "                )\n",
    "                list_traces.append(trace)\n",
    "\n",
    "\n",
    "\n",
    "            #layout\n",
    "            layout = go.Layout(\n",
    "                title={\n",
    "                    'text': \"exp1 = inter32,intra32 -> inter1,intra1; restapi=32\" ,\n",
    "                    'y':0.85,\n",
    "                    'x':0.5,\n",
    "                    'xanchor': 'center',\n",
    "                    'yanchor': 'top'},\n",
    "                width=1000,\n",
    "                height=460,\n",
    "                xaxis=dict(\n",
    "                    title= \"scenarios\",\n",
    "                    tickvals=[ 'none','cpu','cpumem'],\n",
    "                    titlefont=dict(\n",
    "                        size=10,\n",
    "                        color='rgb(107, 107, 107)'\n",
    "                    ),\n",
    "                    tickfont=dict(\n",
    "                        size=10,\n",
    "                        color='rgb(107, 107, 107)'\n",
    "                    )\n",
    "                ),\n",
    "                yaxis=dict(\n",
    "                    title= x,\n",
    "                    automargin=True,\n",
    "                    titlefont=dict(\n",
    "                        size=25,\n",
    "                        color='rgb(107, 107, 107)'\n",
    "                    ),\n",
    "                    tickfont=dict(\n",
    "                        size=25,\n",
    "                        color='rgb(107, 107, 107)'\n",
    "                    ),    \n",
    "                ),\n",
    "                legend=dict(\n",
    "                    x=1.0,\n",
    "                    y=1.0,\n",
    "                    bgcolor='rgba(255, 255, 255, 0)',\n",
    "                    bordercolor='rgba(255, 255, 255, 0)',\n",
    "                    font = dict( size = 28)\n",
    "                ),\n",
    "                barmode='group',\n",
    "                bargap=0.15,\n",
    "                bargroupgap=0.08\n",
    "        #         legend_orientation=\"h\"\n",
    "            )\n",
    "\n",
    "        data = list_traces\n",
    "        fig = go.Figure(data=data, layout=layout)\n",
    "        fig.update_layout(legend_orientation=\"h\")\n",
    "        fig.show()    \n",
    "\n",
    "    #     fig.write_image(path + model_name + k8senv +'.pdf')"
   ]
  },
  {
   "cell_type": "code",
   "execution_count": 20,
   "id": "19510c7e",
   "metadata": {},
   "outputs": [
    {
     "name": "stdout",
     "output_type": "stream",
     "text": [
      "   benchmark     k8senv  sbatch  numctn cscenario  cbatch  reps         qps\n",
      "2     resnet       none       0       1   offline       8    10  114.790445\n",
      "38    resnet  cpumemory       0       1   offline       8    10  113.811018\n",
      "74    resnet     cpumem       0       1   offline       8    10  110.860541\n",
      "   benchmark     k8senv  sbatch  numctn cscenario  cbatch  reps         qps\n",
      "8     resnet       none       0       2   offline       8    10  129.637843\n",
      "44    resnet  cpumemory       0       2   offline       8    10  158.830177\n",
      "80    resnet     cpumem       0       2   offline       8    10  158.601257\n",
      "   benchmark     k8senv  sbatch  numctn cscenario  cbatch  reps         qps\n",
      "14    resnet       none       0       4   offline       8    10  140.093644\n",
      "50    resnet  cpumemory       0       4   offline       8    10  159.731683\n",
      "86    resnet     cpumem       0       4   offline       8    10  159.753393\n",
      "   benchmark     k8senv  sbatch  numctn cscenario  cbatch  reps         qps\n",
      "20    resnet       none       0       8   offline       8    10  131.192940\n",
      "56    resnet  cpumemory       0       8   offline       8    10  158.342005\n",
      "92    resnet     cpumem       0       8   offline       8    10  158.791169\n",
      "   benchmark     k8senv  sbatch  numctn cscenario  cbatch  reps         qps\n",
      "26    resnet       none       0      16   offline       8    10  138.768838\n",
      "62    resnet  cpumemory       0      16   offline       8    10  155.352882\n",
      "98    resnet     cpumem       0      16   offline       8    10  156.044030\n",
      "    benchmark     k8senv  sbatch  numctn cscenario  cbatch  reps         qps\n",
      "32     resnet       none       0      32   offline       8    10  135.562376\n",
      "68     resnet  cpumemory       0      32   offline       8    10  145.871589\n",
      "104    resnet     cpumem       0      32   offline       8    10  145.857138\n"
     ]
    },
    {
     "data": {
      "application/vnd.plotly.v1+json": {
       "config": {
        "plotlyServerURL": "https://plot.ly"
       },
       "data": [
        {
         "mode": "markers",
         "name": "ctn1",
         "opacity": 0.7,
         "type": "scatter",
         "x": [
          "none",
          "cpu",
          "cpumem"
         ],
         "y": [
          114.79044535499554,
          113.8110177376683,
          110.86054097523102
         ]
        },
        {
         "mode": "markers",
         "name": "ctn2",
         "opacity": 0.7,
         "type": "scatter",
         "x": [
          "none",
          "cpu",
          "cpumem"
         ],
         "y": [
          129.63784344301197,
          158.83017741187012,
          158.6012570817816
         ]
        },
        {
         "mode": "markers",
         "name": "ctn4",
         "opacity": 0.7,
         "type": "scatter",
         "x": [
          "none",
          "cpu",
          "cpumem"
         ],
         "y": [
          140.09364415942616,
          159.73168279599366,
          159.75339303958836
         ]
        },
        {
         "mode": "markers",
         "name": "ctn8",
         "opacity": 0.7,
         "type": "scatter",
         "x": [
          "none",
          "cpu",
          "cpumem"
         ],
         "y": [
          131.19293965437353,
          158.3420052339989,
          158.7911694855803
         ]
        },
        {
         "mode": "markers",
         "name": "ctn16",
         "opacity": 0.7,
         "type": "scatter",
         "x": [
          "none",
          "cpu",
          "cpumem"
         ],
         "y": [
          138.7688381565946,
          155.35288172257395,
          156.04403012935245
         ]
        },
        {
         "mode": "markers",
         "name": "ctn32",
         "opacity": 0.7,
         "type": "scatter",
         "x": [
          "none",
          "cpu",
          "cpumem"
         ],
         "y": [
          135.5623757948605,
          145.87158871268807,
          145.85713826930703
         ]
        }
       ],
       "layout": {
        "bargap": 0.15,
        "bargroupgap": 0.08,
        "barmode": "group",
        "height": 460,
        "legend": {
         "bgcolor": "rgba(255, 255, 255, 0)",
         "bordercolor": "rgba(255, 255, 255, 0)",
         "font": {
          "size": 28
         },
         "orientation": "h",
         "x": 1,
         "y": 1
        },
        "template": {
         "data": {
          "scatter": [
           {
            "type": "scatter"
           }
          ]
         }
        },
        "title": {
         "text": "cpumemory-resnet",
         "x": 0.5,
         "xanchor": "center",
         "y": 0.85,
         "yanchor": "top"
        },
        "width": 1000,
        "xaxis": {
         "tickfont": {
          "color": "rgb(107, 107, 107)",
          "size": 10
         },
         "tickvals": [
          "none",
          "cpu",
          "cpumem"
         ],
         "title": {
          "font": {
           "color": "rgb(107, 107, 107)",
           "size": 10
          },
          "text": "scenarios"
         }
        },
        "yaxis": {
         "automargin": true,
         "tickfont": {
          "color": "rgb(107, 107, 107)",
          "size": 25
         },
         "title": {
          "font": {
           "color": "rgb(107, 107, 107)",
           "size": 25
          },
          "text": "qps"
         }
        }
       }
      },
      "text/html": [
       "<div>                            <div id=\"91d6227c-cdee-4787-acd1-bbf06684eb97\" class=\"plotly-graph-div\" style=\"height:460px; width:1000px;\"></div>            <script type=\"text/javascript\">                require([\"plotly\"], function(Plotly) {                    window.PLOTLYENV=window.PLOTLYENV || {};                                    if (document.getElementById(\"91d6227c-cdee-4787-acd1-bbf06684eb97\")) {                    Plotly.newPlot(                        \"91d6227c-cdee-4787-acd1-bbf06684eb97\",                        [{\"mode\": \"markers\", \"name\": \"ctn1\", \"opacity\": 0.7, \"type\": \"scatter\", \"x\": [\"none\", \"cpu\", \"cpumem\"], \"y\": [114.79044535499554, 113.8110177376683, 110.86054097523102]}, {\"mode\": \"markers\", \"name\": \"ctn2\", \"opacity\": 0.7, \"type\": \"scatter\", \"x\": [\"none\", \"cpu\", \"cpumem\"], \"y\": [129.63784344301197, 158.83017741187012, 158.6012570817816]}, {\"mode\": \"markers\", \"name\": \"ctn4\", \"opacity\": 0.7, \"type\": \"scatter\", \"x\": [\"none\", \"cpu\", \"cpumem\"], \"y\": [140.09364415942616, 159.73168279599366, 159.75339303958836]}, {\"mode\": \"markers\", \"name\": \"ctn8\", \"opacity\": 0.7, \"type\": \"scatter\", \"x\": [\"none\", \"cpu\", \"cpumem\"], \"y\": [131.19293965437353, 158.3420052339989, 158.7911694855803]}, {\"mode\": \"markers\", \"name\": \"ctn16\", \"opacity\": 0.7, \"type\": \"scatter\", \"x\": [\"none\", \"cpu\", \"cpumem\"], \"y\": [138.7688381565946, 155.35288172257395, 156.04403012935245]}, {\"mode\": \"markers\", \"name\": \"ctn32\", \"opacity\": 0.7, \"type\": \"scatter\", \"x\": [\"none\", \"cpu\", \"cpumem\"], \"y\": [135.5623757948605, 145.87158871268807, 145.85713826930703]}],                        {\"bargap\": 0.15, \"bargroupgap\": 0.08, \"barmode\": \"group\", \"height\": 460, \"legend\": {\"bgcolor\": \"rgba(255, 255, 255, 0)\", \"bordercolor\": \"rgba(255, 255, 255, 0)\", \"font\": {\"size\": 28}, \"orientation\": \"h\", \"x\": 1.0, \"y\": 1.0}, \"template\": {\"data\": {\"scatter\": [{\"type\": \"scatter\"}]}}, \"title\": {\"text\": \"cpumemory-resnet\", \"x\": 0.5, \"xanchor\": \"center\", \"y\": 0.85, \"yanchor\": \"top\"}, \"width\": 1000, \"xaxis\": {\"tickfont\": {\"color\": \"rgb(107, 107, 107)\", \"size\": 10}, \"tickvals\": [\"none\", \"cpu\", \"cpumem\"], \"title\": {\"font\": {\"color\": \"rgb(107, 107, 107)\", \"size\": 10}, \"text\": \"scenarios\"}}, \"yaxis\": {\"automargin\": true, \"tickfont\": {\"color\": \"rgb(107, 107, 107)\", \"size\": 25}, \"title\": {\"font\": {\"color\": \"rgb(107, 107, 107)\", \"size\": 25}, \"text\": \"qps\"}}},                        {\"responsive\": true}                    ).then(function(){\n",
       "                            \n",
       "var gd = document.getElementById('91d6227c-cdee-4787-acd1-bbf06684eb97');\n",
       "var x = new MutationObserver(function (mutations, observer) {{\n",
       "        var display = window.getComputedStyle(gd).display;\n",
       "        if (!display || display === 'none') {{\n",
       "            console.log([gd, 'removed!']);\n",
       "            Plotly.purge(gd);\n",
       "            observer.disconnect();\n",
       "        }}\n",
       "}});\n",
       "\n",
       "// Listen for the removal of the full notebook cells\n",
       "var notebookContainer = gd.closest('#notebook-container');\n",
       "if (notebookContainer) {{\n",
       "    x.observe(notebookContainer, {childList: true});\n",
       "}}\n",
       "\n",
       "// Listen for the clearing of the current output cell\n",
       "var outputEl = gd.closest('.output');\n",
       "if (outputEl) {{\n",
       "    x.observe(outputEl, {childList: true});\n",
       "}}\n",
       "\n",
       "                        })                };                });            </script>        </div>"
      ]
     },
     "metadata": {},
     "output_type": "display_data"
    }
   ],
   "source": [
    "import matplotlib\n",
    "import matplotlib.pyplot as plt\n",
    "import numpy as np\n",
    "from svglib.svglib import svg2rlg\n",
    "from reportlab.graphics import renderPDF\n",
    "from reportlab.pdfgen import canvas\n",
    "\n",
    "from numpy import percentile, mean, std\n",
    "import plotly.graph_objects as go\n",
    "\n",
    "from plotly.offline import init_notebook_mode, iplot\n",
    "\n",
    "import plotly.io as pio\n",
    "pio.templates.default = \"none\"\n",
    "# pio.templates.default = \"simple_white\"\n",
    "\n",
    "import plotly.graph_objects as go\n",
    "from plotly.subplots import make_subplots\n",
    "import pandas as pd\n",
    "# import plotly.express as px\n",
    "\n",
    "\n",
    "for cbatch in [8]:\n",
    "    for model_name in ['resnet']:\n",
    "        list_traces = []\n",
    "        for numctn in [1,2,4,8,16,32]: \n",
    "            dfg_bench = dfg[(dfg['benchmark']== model_name)  & (dfg['cbatch']==cbatch) & (dfg['numctn']==numctn) &\\\n",
    "                        ((dfg['k8senv']=='none') |\\\n",
    "                         (dfg['k8senv']=='cpumem')| (dfg['k8senv']=='cpumemory'))]\n",
    "            print(dfg_bench)\n",
    "\n",
    "\n",
    "            #data\n",
    "            trace = go.Scatter(\n",
    "                name=\"ctn\"+str(numctn),\n",
    "                x=[ 'none','cpu','cpumem'],\n",
    "                y= dfg_bench['qps'].values.tolist(),\n",
    "    #             error_y = dict(type='data', array=df1_bench['model_time_std'].values.tolist()),\n",
    "                opacity=0.7,\n",
    "                mode='markers'\n",
    "            )\n",
    "            list_traces.append(trace)\n",
    "\n",
    "        \n",
    "\n",
    "        #layout\n",
    "        layout = go.Layout(\n",
    "            title={\n",
    "                'text': k8senv+\"-\"+model_name ,\n",
    "                'y':0.85,\n",
    "                'x':0.5,\n",
    "                'xanchor': 'center',\n",
    "                'yanchor': 'top'},\n",
    "            width=1000,\n",
    "            height=460,\n",
    "            xaxis=dict(\n",
    "                title= \"scenarios\",\n",
    "                tickvals=[ 'none','cpu','cpumem'],\n",
    "                titlefont=dict(\n",
    "                    size=10,\n",
    "                    color='rgb(107, 107, 107)'\n",
    "                ),\n",
    "                tickfont=dict(\n",
    "                    size=10,\n",
    "                    color='rgb(107, 107, 107)'\n",
    "                )\n",
    "            ),\n",
    "            yaxis=dict(\n",
    "                title= \"qps\",\n",
    "                automargin=True,\n",
    "                titlefont=dict(\n",
    "                    size=25,\n",
    "                    color='rgb(107, 107, 107)'\n",
    "                ),\n",
    "                tickfont=dict(\n",
    "                    size=25,\n",
    "                    color='rgb(107, 107, 107)'\n",
    "                ),    \n",
    "            ),\n",
    "            legend=dict(\n",
    "                x=1.0,\n",
    "                y=1.0,\n",
    "                bgcolor='rgba(255, 255, 255, 0)',\n",
    "                bordercolor='rgba(255, 255, 255, 0)',\n",
    "                font = dict( size = 28)\n",
    "            ),\n",
    "            barmode='group',\n",
    "            bargap=0.15,\n",
    "            bargroupgap=0.08\n",
    "    #         legend_orientation=\"h\"\n",
    "        )\n",
    "\n",
    "    data = list_traces\n",
    "    fig = go.Figure(data=data, layout=layout)\n",
    "    fig.update_layout(legend_orientation=\"h\")\n",
    "    fig.show()    \n",
    "\n",
    "#     fig.write_image(path + model_name + k8senv +'.pdf')"
   ]
  },
  {
   "cell_type": "code",
   "execution_count": null,
   "id": "d7ddb081",
   "metadata": {},
   "outputs": [],
   "source": []
  }
 ],
 "metadata": {
  "kernelspec": {
   "display_name": "Python 3",
   "language": "python",
   "name": "python3"
  },
  "language_info": {
   "codemirror_mode": {
    "name": "ipython",
    "version": 3
   },
   "file_extension": ".py",
   "mimetype": "text/x-python",
   "name": "python",
   "nbconvert_exporter": "python",
   "pygments_lexer": "ipython3",
   "version": "3.8.5"
  }
 },
 "nbformat": 4,
 "nbformat_minor": 5
}
