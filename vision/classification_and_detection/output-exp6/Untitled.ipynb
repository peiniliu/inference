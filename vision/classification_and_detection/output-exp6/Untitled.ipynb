{
 "cells": [
  {
   "cell_type": "code",
   "execution_count": 1,
   "id": "de0246d4",
   "metadata": {},
   "outputs": [
    {
     "data": {
      "text/html": [
       "        <script type=\"text/javascript\">\n",
       "        window.PlotlyConfig = {MathJaxConfig: 'local'};\n",
       "        if (window.MathJax) {MathJax.Hub.Config({SVG: {font: \"STIX-Web\"}});}\n",
       "        if (typeof require !== 'undefined') {\n",
       "        require.undef(\"plotly\");\n",
       "        requirejs.config({\n",
       "            paths: {\n",
       "                'plotly': ['https://cdn.plot.ly/plotly-latest.min']\n",
       "            }\n",
       "        });\n",
       "        require(['plotly'], function(Plotly) {\n",
       "            window._Plotly = Plotly;\n",
       "        });\n",
       "        }\n",
       "        </script>\n",
       "        "
      ]
     },
     "metadata": {},
     "output_type": "display_data"
    },
    {
     "data": {
      "text/html": [
       "<div>\n",
       "<style scoped>\n",
       "    .dataframe tbody tr th:only-of-type {\n",
       "        vertical-align: middle;\n",
       "    }\n",
       "\n",
       "    .dataframe tbody tr th {\n",
       "        vertical-align: top;\n",
       "    }\n",
       "\n",
       "    .dataframe thead th {\n",
       "        text-align: right;\n",
       "    }\n",
       "</style>\n",
       "<table border=\"1\" class=\"dataframe\">\n",
       "  <thead>\n",
       "    <tr style=\"text-align: right;\">\n",
       "      <th></th>\n",
       "      <th>benchmark</th>\n",
       "      <th>k8senv</th>\n",
       "      <th>sbatch</th>\n",
       "      <th>numctn</th>\n",
       "      <th>cscenario</th>\n",
       "      <th>cbatch</th>\n",
       "      <th>reps</th>\n",
       "      <th>qps</th>\n",
       "    </tr>\n",
       "  </thead>\n",
       "  <tbody>\n",
       "    <tr>\n",
       "      <th>0</th>\n",
       "      <td>resnet</td>\n",
       "      <td>none</td>\n",
       "      <td>0</td>\n",
       "      <td>1</td>\n",
       "      <td>offline</td>\n",
       "      <td>10</td>\n",
       "      <td>10</td>\n",
       "      <td>142.186152</td>\n",
       "    </tr>\n",
       "    <tr>\n",
       "      <th>1</th>\n",
       "      <td>resnet</td>\n",
       "      <td>none</td>\n",
       "      <td>0</td>\n",
       "      <td>2</td>\n",
       "      <td>offline</td>\n",
       "      <td>10</td>\n",
       "      <td>10</td>\n",
       "      <td>143.200568</td>\n",
       "    </tr>\n",
       "    <tr>\n",
       "      <th>2</th>\n",
       "      <td>resnet</td>\n",
       "      <td>none</td>\n",
       "      <td>0</td>\n",
       "      <td>4</td>\n",
       "      <td>offline</td>\n",
       "      <td>10</td>\n",
       "      <td>10</td>\n",
       "      <td>142.432677</td>\n",
       "    </tr>\n",
       "    <tr>\n",
       "      <th>3</th>\n",
       "      <td>resnet</td>\n",
       "      <td>none</td>\n",
       "      <td>0</td>\n",
       "      <td>8</td>\n",
       "      <td>offline</td>\n",
       "      <td>10</td>\n",
       "      <td>10</td>\n",
       "      <td>141.786346</td>\n",
       "    </tr>\n",
       "    <tr>\n",
       "      <th>4</th>\n",
       "      <td>resnet</td>\n",
       "      <td>none</td>\n",
       "      <td>0</td>\n",
       "      <td>16</td>\n",
       "      <td>offline</td>\n",
       "      <td>10</td>\n",
       "      <td>10</td>\n",
       "      <td>142.978800</td>\n",
       "    </tr>\n",
       "  </tbody>\n",
       "</table>\n",
       "</div>"
      ],
      "text/plain": [
       "  benchmark k8senv  sbatch  numctn cscenario  cbatch  reps         qps\n",
       "0    resnet   none       0       1   offline      10    10  142.186152\n",
       "1    resnet   none       0       2   offline      10    10  143.200568\n",
       "2    resnet   none       0       4   offline      10    10  142.432677\n",
       "3    resnet   none       0       8   offline      10    10  141.786346\n",
       "4    resnet   none       0      16   offline      10    10  142.978800"
      ]
     },
     "execution_count": 1,
     "metadata": {},
     "output_type": "execute_result"
    }
   ],
   "source": [
    "import pandas as pd\n",
    "import glob\n",
    "# import plotly.plotly as py\n",
    "import plotly.graph_objs as go\n",
    "\n",
    "from plotly import tools\n",
    "from plotly.offline import init_notebook_mode, iplot\n",
    "init_notebook_mode(connected=True) \n",
    "\n",
    "import numpy as np\n",
    "import matplotlib.pyplot as plt\n",
    "# include if using a Jupyter notebook\n",
    "# %matplotlib inline\n",
    "\n",
    "path = \"/gpfs/bsc_home/xpliu/inference/vision/classification_and_detection/output-exp6/\"\n",
    "all_files = glob.glob(path + \"*.csv\")\n",
    "\n",
    "li = []\n",
    "\n",
    "for filename in all_files:\n",
    "    df = pd.read_csv(filename, index_col=None, header=0)\n",
    "    li.append(df)\n",
    "\n",
    "df = pd.concat(li, axis=0, ignore_index=True)\n",
    "df.head()"
   ]
  },
  {
   "cell_type": "code",
   "execution_count": 2,
   "id": "fe8c3d7f",
   "metadata": {},
   "outputs": [
    {
     "data": {
      "text/plain": [
       "18"
      ]
     },
     "execution_count": 2,
     "metadata": {},
     "output_type": "execute_result"
    }
   ],
   "source": [
    "len(df)"
   ]
  },
  {
   "cell_type": "code",
   "execution_count": 3,
   "id": "d48083a0",
   "metadata": {},
   "outputs": [
    {
     "data": {
      "text/plain": [
       "array(['resnet'], dtype=object)"
      ]
     },
     "execution_count": 3,
     "metadata": {},
     "output_type": "execute_result"
    }
   ],
   "source": [
    "df['benchmark'].unique()"
   ]
  },
  {
   "cell_type": "code",
   "execution_count": 4,
   "id": "b318f564",
   "metadata": {},
   "outputs": [
    {
     "data": {
      "text/plain": [
       "array(['none', 'cpumemory', 'cpumem'], dtype=object)"
      ]
     },
     "execution_count": 4,
     "metadata": {},
     "output_type": "execute_result"
    }
   ],
   "source": [
    "df['k8senv'].unique()"
   ]
  },
  {
   "cell_type": "code",
   "execution_count": 5,
   "id": "a2a7701a",
   "metadata": {},
   "outputs": [
    {
     "data": {
      "text/plain": [
       "numpy.float64"
      ]
     },
     "execution_count": 5,
     "metadata": {},
     "output_type": "execute_result"
    }
   ],
   "source": [
    "type(df['qps'][0])"
   ]
  },
  {
   "cell_type": "markdown",
   "id": "53f2033c",
   "metadata": {},
   "source": [
    "# Graph"
   ]
  },
  {
   "cell_type": "code",
   "execution_count": 6,
   "id": "5786faec",
   "metadata": {},
   "outputs": [
    {
     "data": {
      "text/html": [
       "        <script type=\"text/javascript\">\n",
       "        window.PlotlyConfig = {MathJaxConfig: 'local'};\n",
       "        if (window.MathJax) {MathJax.Hub.Config({SVG: {font: \"STIX-Web\"}});}\n",
       "        if (typeof require !== 'undefined') {\n",
       "        require.undef(\"plotly\");\n",
       "        requirejs.config({\n",
       "            paths: {\n",
       "                'plotly': ['https://cdn.plot.ly/plotly-latest.min']\n",
       "            }\n",
       "        });\n",
       "        require(['plotly'], function(Plotly) {\n",
       "            window._Plotly = Plotly;\n",
       "        });\n",
       "        }\n",
       "        </script>\n",
       "        "
      ]
     },
     "metadata": {},
     "output_type": "display_data"
    },
    {
     "data": {
      "text/html": [
       "<div>\n",
       "<style scoped>\n",
       "    .dataframe tbody tr th:only-of-type {\n",
       "        vertical-align: middle;\n",
       "    }\n",
       "\n",
       "    .dataframe tbody tr th {\n",
       "        vertical-align: top;\n",
       "    }\n",
       "\n",
       "    .dataframe thead th {\n",
       "        text-align: right;\n",
       "    }\n",
       "</style>\n",
       "<table border=\"1\" class=\"dataframe\">\n",
       "  <thead>\n",
       "    <tr style=\"text-align: right;\">\n",
       "      <th></th>\n",
       "      <th>benchmark</th>\n",
       "      <th>k8senv</th>\n",
       "      <th>sbatch</th>\n",
       "      <th>numctn</th>\n",
       "      <th>cscenario</th>\n",
       "      <th>cbatch</th>\n",
       "      <th>reps</th>\n",
       "      <th>qps</th>\n",
       "    </tr>\n",
       "  </thead>\n",
       "  <tbody>\n",
       "    <tr>\n",
       "      <th>0</th>\n",
       "      <td>resnet</td>\n",
       "      <td>none</td>\n",
       "      <td>0</td>\n",
       "      <td>1</td>\n",
       "      <td>offline</td>\n",
       "      <td>10</td>\n",
       "      <td>10</td>\n",
       "      <td>142.186152</td>\n",
       "    </tr>\n",
       "    <tr>\n",
       "      <th>1</th>\n",
       "      <td>resnet</td>\n",
       "      <td>none</td>\n",
       "      <td>0</td>\n",
       "      <td>2</td>\n",
       "      <td>offline</td>\n",
       "      <td>10</td>\n",
       "      <td>10</td>\n",
       "      <td>143.200568</td>\n",
       "    </tr>\n",
       "    <tr>\n",
       "      <th>2</th>\n",
       "      <td>resnet</td>\n",
       "      <td>none</td>\n",
       "      <td>0</td>\n",
       "      <td>4</td>\n",
       "      <td>offline</td>\n",
       "      <td>10</td>\n",
       "      <td>10</td>\n",
       "      <td>142.432677</td>\n",
       "    </tr>\n",
       "    <tr>\n",
       "      <th>3</th>\n",
       "      <td>resnet</td>\n",
       "      <td>none</td>\n",
       "      <td>0</td>\n",
       "      <td>8</td>\n",
       "      <td>offline</td>\n",
       "      <td>10</td>\n",
       "      <td>10</td>\n",
       "      <td>141.786346</td>\n",
       "    </tr>\n",
       "    <tr>\n",
       "      <th>4</th>\n",
       "      <td>resnet</td>\n",
       "      <td>none</td>\n",
       "      <td>0</td>\n",
       "      <td>16</td>\n",
       "      <td>offline</td>\n",
       "      <td>10</td>\n",
       "      <td>10</td>\n",
       "      <td>142.978800</td>\n",
       "    </tr>\n",
       "    <tr>\n",
       "      <th>5</th>\n",
       "      <td>resnet</td>\n",
       "      <td>none</td>\n",
       "      <td>0</td>\n",
       "      <td>32</td>\n",
       "      <td>offline</td>\n",
       "      <td>10</td>\n",
       "      <td>10</td>\n",
       "      <td>142.085237</td>\n",
       "    </tr>\n",
       "    <tr>\n",
       "      <th>6</th>\n",
       "      <td>resnet</td>\n",
       "      <td>cpumemory</td>\n",
       "      <td>0</td>\n",
       "      <td>1</td>\n",
       "      <td>offline</td>\n",
       "      <td>10</td>\n",
       "      <td>10</td>\n",
       "      <td>140.225055</td>\n",
       "    </tr>\n",
       "    <tr>\n",
       "      <th>7</th>\n",
       "      <td>resnet</td>\n",
       "      <td>cpumemory</td>\n",
       "      <td>0</td>\n",
       "      <td>2</td>\n",
       "      <td>offline</td>\n",
       "      <td>10</td>\n",
       "      <td>10</td>\n",
       "      <td>143.683721</td>\n",
       "    </tr>\n",
       "    <tr>\n",
       "      <th>8</th>\n",
       "      <td>resnet</td>\n",
       "      <td>cpumemory</td>\n",
       "      <td>0</td>\n",
       "      <td>4</td>\n",
       "      <td>offline</td>\n",
       "      <td>10</td>\n",
       "      <td>10</td>\n",
       "      <td>144.411033</td>\n",
       "    </tr>\n",
       "    <tr>\n",
       "      <th>9</th>\n",
       "      <td>resnet</td>\n",
       "      <td>cpumemory</td>\n",
       "      <td>0</td>\n",
       "      <td>8</td>\n",
       "      <td>offline</td>\n",
       "      <td>10</td>\n",
       "      <td>10</td>\n",
       "      <td>145.148047</td>\n",
       "    </tr>\n",
       "    <tr>\n",
       "      <th>10</th>\n",
       "      <td>resnet</td>\n",
       "      <td>cpumemory</td>\n",
       "      <td>0</td>\n",
       "      <td>16</td>\n",
       "      <td>offline</td>\n",
       "      <td>10</td>\n",
       "      <td>10</td>\n",
       "      <td>144.827301</td>\n",
       "    </tr>\n",
       "    <tr>\n",
       "      <th>11</th>\n",
       "      <td>resnet</td>\n",
       "      <td>cpumemory</td>\n",
       "      <td>0</td>\n",
       "      <td>32</td>\n",
       "      <td>offline</td>\n",
       "      <td>10</td>\n",
       "      <td>10</td>\n",
       "      <td>144.915136</td>\n",
       "    </tr>\n",
       "    <tr>\n",
       "      <th>12</th>\n",
       "      <td>resnet</td>\n",
       "      <td>cpumem</td>\n",
       "      <td>0</td>\n",
       "      <td>1</td>\n",
       "      <td>offline</td>\n",
       "      <td>10</td>\n",
       "      <td>10</td>\n",
       "      <td>140.522219</td>\n",
       "    </tr>\n",
       "    <tr>\n",
       "      <th>13</th>\n",
       "      <td>resnet</td>\n",
       "      <td>cpumem</td>\n",
       "      <td>0</td>\n",
       "      <td>2</td>\n",
       "      <td>offline</td>\n",
       "      <td>10</td>\n",
       "      <td>10</td>\n",
       "      <td>144.220120</td>\n",
       "    </tr>\n",
       "    <tr>\n",
       "      <th>14</th>\n",
       "      <td>resnet</td>\n",
       "      <td>cpumem</td>\n",
       "      <td>0</td>\n",
       "      <td>4</td>\n",
       "      <td>offline</td>\n",
       "      <td>10</td>\n",
       "      <td>10</td>\n",
       "      <td>144.141737</td>\n",
       "    </tr>\n",
       "    <tr>\n",
       "      <th>15</th>\n",
       "      <td>resnet</td>\n",
       "      <td>cpumem</td>\n",
       "      <td>0</td>\n",
       "      <td>8</td>\n",
       "      <td>offline</td>\n",
       "      <td>10</td>\n",
       "      <td>10</td>\n",
       "      <td>144.440540</td>\n",
       "    </tr>\n",
       "    <tr>\n",
       "      <th>16</th>\n",
       "      <td>resnet</td>\n",
       "      <td>cpumem</td>\n",
       "      <td>0</td>\n",
       "      <td>16</td>\n",
       "      <td>offline</td>\n",
       "      <td>10</td>\n",
       "      <td>10</td>\n",
       "      <td>143.546192</td>\n",
       "    </tr>\n",
       "    <tr>\n",
       "      <th>17</th>\n",
       "      <td>resnet</td>\n",
       "      <td>cpumem</td>\n",
       "      <td>0</td>\n",
       "      <td>32</td>\n",
       "      <td>offline</td>\n",
       "      <td>10</td>\n",
       "      <td>10</td>\n",
       "      <td>144.655849</td>\n",
       "    </tr>\n",
       "  </tbody>\n",
       "</table>\n",
       "</div>"
      ],
      "text/plain": [
       "   benchmark     k8senv  sbatch  numctn cscenario  cbatch  reps         qps\n",
       "0     resnet       none       0       1   offline      10    10  142.186152\n",
       "1     resnet       none       0       2   offline      10    10  143.200568\n",
       "2     resnet       none       0       4   offline      10    10  142.432677\n",
       "3     resnet       none       0       8   offline      10    10  141.786346\n",
       "4     resnet       none       0      16   offline      10    10  142.978800\n",
       "5     resnet       none       0      32   offline      10    10  142.085237\n",
       "6     resnet  cpumemory       0       1   offline      10    10  140.225055\n",
       "7     resnet  cpumemory       0       2   offline      10    10  143.683721\n",
       "8     resnet  cpumemory       0       4   offline      10    10  144.411033\n",
       "9     resnet  cpumemory       0       8   offline      10    10  145.148047\n",
       "10    resnet  cpumemory       0      16   offline      10    10  144.827301\n",
       "11    resnet  cpumemory       0      32   offline      10    10  144.915136\n",
       "12    resnet     cpumem       0       1   offline      10    10  140.522219\n",
       "13    resnet     cpumem       0       2   offline      10    10  144.220120\n",
       "14    resnet     cpumem       0       4   offline      10    10  144.141737\n",
       "15    resnet     cpumem       0       8   offline      10    10  144.440540\n",
       "16    resnet     cpumem       0      16   offline      10    10  143.546192\n",
       "17    resnet     cpumem       0      32   offline      10    10  144.655849"
      ]
     },
     "execution_count": 6,
     "metadata": {},
     "output_type": "execute_result"
    }
   ],
   "source": [
    "import pandas as pd\n",
    "import glob\n",
    "# import plotly.plotly as py\n",
    "import plotly.graph_objs as go\n",
    "\n",
    "from plotly import tools\n",
    "from plotly.offline import init_notebook_mode, iplot\n",
    "init_notebook_mode(connected=True) \n",
    "\n",
    "import numpy as np\n",
    "import matplotlib.pyplot as plt\n",
    "# include if using a Jupyter notebook\n",
    "%matplotlib inline\n",
    "dfg = df\n",
    "dfg"
   ]
  },
  {
   "cell_type": "code",
   "execution_count": 7,
   "id": "4f4ad921",
   "metadata": {
    "scrolled": false
   },
   "outputs": [
    {
     "name": "stdout",
     "output_type": "stream",
     "text": [
      "Empty DataFrame\n",
      "Columns: [benchmark, k8senv, sbatch, numctn, cscenario, cbatch, reps, qps]\n",
      "Index: []\n",
      "Empty DataFrame\n",
      "Columns: [benchmark, k8senv, sbatch, numctn, cscenario, cbatch, reps, qps]\n",
      "Index: []\n",
      "Empty DataFrame\n",
      "Columns: [benchmark, k8senv, sbatch, numctn, cscenario, cbatch, reps, qps]\n",
      "Index: []\n",
      "  benchmark k8senv  sbatch  numctn cscenario  cbatch  reps         qps\n",
      "0    resnet   none       0       1   offline      10    10  142.186152\n",
      "1    resnet   none       0       2   offline      10    10  143.200568\n",
      "2    resnet   none       0       4   offline      10    10  142.432677\n",
      "3    resnet   none       0       8   offline      10    10  141.786346\n",
      "4    resnet   none       0      16   offline      10    10  142.978800\n",
      "5    resnet   none       0      32   offline      10    10  142.085237\n",
      "Empty DataFrame\n",
      "Columns: [benchmark, k8senv, sbatch, numctn, cscenario, cbatch, reps, qps]\n",
      "Index: []\n",
      "Empty DataFrame\n",
      "Columns: [benchmark, k8senv, sbatch, numctn, cscenario, cbatch, reps, qps]\n",
      "Index: []\n"
     ]
    },
    {
     "data": {
      "application/vnd.plotly.v1+json": {
       "config": {
        "plotlyServerURL": "https://plot.ly"
       },
       "data": [
        {
         "mode": "markers",
         "name": "cbatch-2",
         "opacity": 0.7,
         "type": "scatter",
         "x": [
          "ctn1",
          "ctn2",
          "ctn4",
          "ctn8",
          "ctn16",
          "ctn32"
         ],
         "y": []
        },
        {
         "mode": "markers",
         "name": "cbatch-4",
         "opacity": 0.7,
         "type": "scatter",
         "x": [
          "ctn1",
          "ctn2",
          "ctn4",
          "ctn8",
          "ctn16",
          "ctn32"
         ],
         "y": []
        },
        {
         "mode": "markers",
         "name": "cbatch-8",
         "opacity": 0.7,
         "type": "scatter",
         "x": [
          "ctn1",
          "ctn2",
          "ctn4",
          "ctn8",
          "ctn16",
          "ctn32"
         ],
         "y": []
        },
        {
         "mode": "markers",
         "name": "cbatch-10",
         "opacity": 0.7,
         "type": "scatter",
         "x": [
          "ctn1",
          "ctn2",
          "ctn4",
          "ctn8",
          "ctn16",
          "ctn32"
         ],
         "y": [
          142.18615171486053,
          143.20056759202444,
          142.43267692915828,
          141.78634571990784,
          142.9788001493915,
          142.08523656794472
         ]
        },
        {
         "mode": "markers",
         "name": "cbatch-16",
         "opacity": 0.7,
         "type": "scatter",
         "x": [
          "ctn1",
          "ctn2",
          "ctn4",
          "ctn8",
          "ctn16",
          "ctn32"
         ],
         "y": []
        },
        {
         "mode": "markers",
         "name": "cbatch-32",
         "opacity": 0.7,
         "type": "scatter",
         "x": [
          "ctn1",
          "ctn2",
          "ctn4",
          "ctn8",
          "ctn16",
          "ctn32"
         ],
         "y": []
        }
       ],
       "layout": {
        "bargap": 0.15,
        "bargroupgap": 0.08,
        "barmode": "group",
        "height": 460,
        "legend": {
         "bgcolor": "rgba(255, 255, 255, 0)",
         "bordercolor": "rgba(255, 255, 255, 0)",
         "font": {
          "size": 28
         },
         "orientation": "h",
         "x": 1,
         "y": 1
        },
        "template": {
         "data": {
          "scatter": [
           {
            "type": "scatter"
           }
          ]
         }
        },
        "title": {
         "text": "none-resnet",
         "x": 0.5,
         "xanchor": "center",
         "y": 0.85,
         "yanchor": "top"
        },
        "width": 1000,
        "xaxis": {
         "tickfont": {
          "color": "rgb(107, 107, 107)",
          "size": 10
         },
         "tickvals": [
          "ctn1",
          "ctn2",
          "ctn4",
          "ctn8",
          "ctn16",
          "ctn32"
         ],
         "title": {
          "font": {
           "color": "rgb(107, 107, 107)",
           "size": 10
          },
          "text": "num_ctn"
         }
        },
        "yaxis": {
         "automargin": true,
         "tickfont": {
          "color": "rgb(107, 107, 107)",
          "size": 25
         },
         "title": {
          "font": {
           "color": "rgb(107, 107, 107)",
           "size": 25
          },
          "text": "qps"
         }
        }
       }
      },
      "text/html": [
       "<div>                            <div id=\"f4a4a540-de28-4e6d-aabd-f01e57100a12\" class=\"plotly-graph-div\" style=\"height:460px; width:1000px;\"></div>            <script type=\"text/javascript\">                require([\"plotly\"], function(Plotly) {                    window.PLOTLYENV=window.PLOTLYENV || {};                                    if (document.getElementById(\"f4a4a540-de28-4e6d-aabd-f01e57100a12\")) {                    Plotly.newPlot(                        \"f4a4a540-de28-4e6d-aabd-f01e57100a12\",                        [{\"mode\": \"markers\", \"name\": \"cbatch-2\", \"opacity\": 0.7, \"type\": \"scatter\", \"x\": [\"ctn1\", \"ctn2\", \"ctn4\", \"ctn8\", \"ctn16\", \"ctn32\"], \"y\": []}, {\"mode\": \"markers\", \"name\": \"cbatch-4\", \"opacity\": 0.7, \"type\": \"scatter\", \"x\": [\"ctn1\", \"ctn2\", \"ctn4\", \"ctn8\", \"ctn16\", \"ctn32\"], \"y\": []}, {\"mode\": \"markers\", \"name\": \"cbatch-8\", \"opacity\": 0.7, \"type\": \"scatter\", \"x\": [\"ctn1\", \"ctn2\", \"ctn4\", \"ctn8\", \"ctn16\", \"ctn32\"], \"y\": []}, {\"mode\": \"markers\", \"name\": \"cbatch-10\", \"opacity\": 0.7, \"type\": \"scatter\", \"x\": [\"ctn1\", \"ctn2\", \"ctn4\", \"ctn8\", \"ctn16\", \"ctn32\"], \"y\": [142.18615171486053, 143.20056759202444, 142.43267692915828, 141.78634571990784, 142.9788001493915, 142.08523656794472]}, {\"mode\": \"markers\", \"name\": \"cbatch-16\", \"opacity\": 0.7, \"type\": \"scatter\", \"x\": [\"ctn1\", \"ctn2\", \"ctn4\", \"ctn8\", \"ctn16\", \"ctn32\"], \"y\": []}, {\"mode\": \"markers\", \"name\": \"cbatch-32\", \"opacity\": 0.7, \"type\": \"scatter\", \"x\": [\"ctn1\", \"ctn2\", \"ctn4\", \"ctn8\", \"ctn16\", \"ctn32\"], \"y\": []}],                        {\"bargap\": 0.15, \"bargroupgap\": 0.08, \"barmode\": \"group\", \"height\": 460, \"legend\": {\"bgcolor\": \"rgba(255, 255, 255, 0)\", \"bordercolor\": \"rgba(255, 255, 255, 0)\", \"font\": {\"size\": 28}, \"orientation\": \"h\", \"x\": 1.0, \"y\": 1.0}, \"template\": {\"data\": {\"scatter\": [{\"type\": \"scatter\"}]}}, \"title\": {\"text\": \"none-resnet\", \"x\": 0.5, \"xanchor\": \"center\", \"y\": 0.85, \"yanchor\": \"top\"}, \"width\": 1000, \"xaxis\": {\"tickfont\": {\"color\": \"rgb(107, 107, 107)\", \"size\": 10}, \"tickvals\": [\"ctn1\", \"ctn2\", \"ctn4\", \"ctn8\", \"ctn16\", \"ctn32\"], \"title\": {\"font\": {\"color\": \"rgb(107, 107, 107)\", \"size\": 10}, \"text\": \"num_ctn\"}}, \"yaxis\": {\"automargin\": true, \"tickfont\": {\"color\": \"rgb(107, 107, 107)\", \"size\": 25}, \"title\": {\"font\": {\"color\": \"rgb(107, 107, 107)\", \"size\": 25}, \"text\": \"qps\"}}},                        {\"responsive\": true}                    ).then(function(){\n",
       "                            \n",
       "var gd = document.getElementById('f4a4a540-de28-4e6d-aabd-f01e57100a12');\n",
       "var x = new MutationObserver(function (mutations, observer) {{\n",
       "        var display = window.getComputedStyle(gd).display;\n",
       "        if (!display || display === 'none') {{\n",
       "            console.log([gd, 'removed!']);\n",
       "            Plotly.purge(gd);\n",
       "            observer.disconnect();\n",
       "        }}\n",
       "}});\n",
       "\n",
       "// Listen for the removal of the full notebook cells\n",
       "var notebookContainer = gd.closest('#notebook-container');\n",
       "if (notebookContainer) {{\n",
       "    x.observe(notebookContainer, {childList: true});\n",
       "}}\n",
       "\n",
       "// Listen for the clearing of the current output cell\n",
       "var outputEl = gd.closest('.output');\n",
       "if (outputEl) {{\n",
       "    x.observe(outputEl, {childList: true});\n",
       "}}\n",
       "\n",
       "                        })                };                });            </script>        </div>"
      ]
     },
     "metadata": {},
     "output_type": "display_data"
    },
    {
     "name": "stdout",
     "output_type": "stream",
     "text": [
      "Empty DataFrame\n",
      "Columns: [benchmark, k8senv, sbatch, numctn, cscenario, cbatch, reps, qps]\n",
      "Index: []\n",
      "Empty DataFrame\n",
      "Columns: [benchmark, k8senv, sbatch, numctn, cscenario, cbatch, reps, qps]\n",
      "Index: []\n",
      "Empty DataFrame\n",
      "Columns: [benchmark, k8senv, sbatch, numctn, cscenario, cbatch, reps, qps]\n",
      "Index: []\n",
      "   benchmark  k8senv  sbatch  numctn cscenario  cbatch  reps         qps\n",
      "12    resnet  cpumem       0       1   offline      10    10  140.522219\n",
      "13    resnet  cpumem       0       2   offline      10    10  144.220120\n",
      "14    resnet  cpumem       0       4   offline      10    10  144.141737\n",
      "15    resnet  cpumem       0       8   offline      10    10  144.440540\n",
      "16    resnet  cpumem       0      16   offline      10    10  143.546192\n",
      "17    resnet  cpumem       0      32   offline      10    10  144.655849\n",
      "Empty DataFrame\n",
      "Columns: [benchmark, k8senv, sbatch, numctn, cscenario, cbatch, reps, qps]\n",
      "Index: []\n",
      "Empty DataFrame\n",
      "Columns: [benchmark, k8senv, sbatch, numctn, cscenario, cbatch, reps, qps]\n",
      "Index: []\n"
     ]
    },
    {
     "data": {
      "application/vnd.plotly.v1+json": {
       "config": {
        "plotlyServerURL": "https://plot.ly"
       },
       "data": [
        {
         "mode": "markers",
         "name": "cbatch-2",
         "opacity": 0.7,
         "type": "scatter",
         "x": [
          "ctn1",
          "ctn2",
          "ctn4",
          "ctn8",
          "ctn16",
          "ctn32"
         ],
         "y": []
        },
        {
         "mode": "markers",
         "name": "cbatch-4",
         "opacity": 0.7,
         "type": "scatter",
         "x": [
          "ctn1",
          "ctn2",
          "ctn4",
          "ctn8",
          "ctn16",
          "ctn32"
         ],
         "y": []
        },
        {
         "mode": "markers",
         "name": "cbatch-8",
         "opacity": 0.7,
         "type": "scatter",
         "x": [
          "ctn1",
          "ctn2",
          "ctn4",
          "ctn8",
          "ctn16",
          "ctn32"
         ],
         "y": []
        },
        {
         "mode": "markers",
         "name": "cbatch-10",
         "opacity": 0.7,
         "type": "scatter",
         "x": [
          "ctn1",
          "ctn2",
          "ctn4",
          "ctn8",
          "ctn16",
          "ctn32"
         ],
         "y": [
          140.52221892816803,
          144.22012046394886,
          144.14173741156594,
          144.4405401413904,
          143.54619205273713,
          144.65584921951907
         ]
        },
        {
         "mode": "markers",
         "name": "cbatch-16",
         "opacity": 0.7,
         "type": "scatter",
         "x": [
          "ctn1",
          "ctn2",
          "ctn4",
          "ctn8",
          "ctn16",
          "ctn32"
         ],
         "y": []
        },
        {
         "mode": "markers",
         "name": "cbatch-32",
         "opacity": 0.7,
         "type": "scatter",
         "x": [
          "ctn1",
          "ctn2",
          "ctn4",
          "ctn8",
          "ctn16",
          "ctn32"
         ],
         "y": []
        }
       ],
       "layout": {
        "bargap": 0.15,
        "bargroupgap": 0.08,
        "barmode": "group",
        "height": 460,
        "legend": {
         "bgcolor": "rgba(255, 255, 255, 0)",
         "bordercolor": "rgba(255, 255, 255, 0)",
         "font": {
          "size": 28
         },
         "orientation": "h",
         "x": 1,
         "y": 1
        },
        "template": {
         "data": {
          "scatter": [
           {
            "type": "scatter"
           }
          ]
         }
        },
        "title": {
         "text": "cpumem-resnet",
         "x": 0.5,
         "xanchor": "center",
         "y": 0.85,
         "yanchor": "top"
        },
        "width": 1000,
        "xaxis": {
         "tickfont": {
          "color": "rgb(107, 107, 107)",
          "size": 10
         },
         "tickvals": [
          "ctn1",
          "ctn2",
          "ctn4",
          "ctn8",
          "ctn16",
          "ctn32"
         ],
         "title": {
          "font": {
           "color": "rgb(107, 107, 107)",
           "size": 10
          },
          "text": "num_ctn"
         }
        },
        "yaxis": {
         "automargin": true,
         "tickfont": {
          "color": "rgb(107, 107, 107)",
          "size": 25
         },
         "title": {
          "font": {
           "color": "rgb(107, 107, 107)",
           "size": 25
          },
          "text": "qps"
         }
        }
       }
      },
      "text/html": [
       "<div>                            <div id=\"270c7aba-e93b-4b04-9869-07220b7eac39\" class=\"plotly-graph-div\" style=\"height:460px; width:1000px;\"></div>            <script type=\"text/javascript\">                require([\"plotly\"], function(Plotly) {                    window.PLOTLYENV=window.PLOTLYENV || {};                                    if (document.getElementById(\"270c7aba-e93b-4b04-9869-07220b7eac39\")) {                    Plotly.newPlot(                        \"270c7aba-e93b-4b04-9869-07220b7eac39\",                        [{\"mode\": \"markers\", \"name\": \"cbatch-2\", \"opacity\": 0.7, \"type\": \"scatter\", \"x\": [\"ctn1\", \"ctn2\", \"ctn4\", \"ctn8\", \"ctn16\", \"ctn32\"], \"y\": []}, {\"mode\": \"markers\", \"name\": \"cbatch-4\", \"opacity\": 0.7, \"type\": \"scatter\", \"x\": [\"ctn1\", \"ctn2\", \"ctn4\", \"ctn8\", \"ctn16\", \"ctn32\"], \"y\": []}, {\"mode\": \"markers\", \"name\": \"cbatch-8\", \"opacity\": 0.7, \"type\": \"scatter\", \"x\": [\"ctn1\", \"ctn2\", \"ctn4\", \"ctn8\", \"ctn16\", \"ctn32\"], \"y\": []}, {\"mode\": \"markers\", \"name\": \"cbatch-10\", \"opacity\": 0.7, \"type\": \"scatter\", \"x\": [\"ctn1\", \"ctn2\", \"ctn4\", \"ctn8\", \"ctn16\", \"ctn32\"], \"y\": [140.52221892816803, 144.22012046394886, 144.14173741156594, 144.4405401413904, 143.54619205273713, 144.65584921951907]}, {\"mode\": \"markers\", \"name\": \"cbatch-16\", \"opacity\": 0.7, \"type\": \"scatter\", \"x\": [\"ctn1\", \"ctn2\", \"ctn4\", \"ctn8\", \"ctn16\", \"ctn32\"], \"y\": []}, {\"mode\": \"markers\", \"name\": \"cbatch-32\", \"opacity\": 0.7, \"type\": \"scatter\", \"x\": [\"ctn1\", \"ctn2\", \"ctn4\", \"ctn8\", \"ctn16\", \"ctn32\"], \"y\": []}],                        {\"bargap\": 0.15, \"bargroupgap\": 0.08, \"barmode\": \"group\", \"height\": 460, \"legend\": {\"bgcolor\": \"rgba(255, 255, 255, 0)\", \"bordercolor\": \"rgba(255, 255, 255, 0)\", \"font\": {\"size\": 28}, \"orientation\": \"h\", \"x\": 1.0, \"y\": 1.0}, \"template\": {\"data\": {\"scatter\": [{\"type\": \"scatter\"}]}}, \"title\": {\"text\": \"cpumem-resnet\", \"x\": 0.5, \"xanchor\": \"center\", \"y\": 0.85, \"yanchor\": \"top\"}, \"width\": 1000, \"xaxis\": {\"tickfont\": {\"color\": \"rgb(107, 107, 107)\", \"size\": 10}, \"tickvals\": [\"ctn1\", \"ctn2\", \"ctn4\", \"ctn8\", \"ctn16\", \"ctn32\"], \"title\": {\"font\": {\"color\": \"rgb(107, 107, 107)\", \"size\": 10}, \"text\": \"num_ctn\"}}, \"yaxis\": {\"automargin\": true, \"tickfont\": {\"color\": \"rgb(107, 107, 107)\", \"size\": 25}, \"title\": {\"font\": {\"color\": \"rgb(107, 107, 107)\", \"size\": 25}, \"text\": \"qps\"}}},                        {\"responsive\": true}                    ).then(function(){\n",
       "                            \n",
       "var gd = document.getElementById('270c7aba-e93b-4b04-9869-07220b7eac39');\n",
       "var x = new MutationObserver(function (mutations, observer) {{\n",
       "        var display = window.getComputedStyle(gd).display;\n",
       "        if (!display || display === 'none') {{\n",
       "            console.log([gd, 'removed!']);\n",
       "            Plotly.purge(gd);\n",
       "            observer.disconnect();\n",
       "        }}\n",
       "}});\n",
       "\n",
       "// Listen for the removal of the full notebook cells\n",
       "var notebookContainer = gd.closest('#notebook-container');\n",
       "if (notebookContainer) {{\n",
       "    x.observe(notebookContainer, {childList: true});\n",
       "}}\n",
       "\n",
       "// Listen for the clearing of the current output cell\n",
       "var outputEl = gd.closest('.output');\n",
       "if (outputEl) {{\n",
       "    x.observe(outputEl, {childList: true});\n",
       "}}\n",
       "\n",
       "                        })                };                });            </script>        </div>"
      ]
     },
     "metadata": {},
     "output_type": "display_data"
    }
   ],
   "source": [
    "import matplotlib\n",
    "import matplotlib.pyplot as plt\n",
    "import numpy as np\n",
    "from svglib.svglib import svg2rlg\n",
    "from reportlab.graphics import renderPDF\n",
    "from reportlab.pdfgen import canvas\n",
    "\n",
    "from numpy import percentile, mean, std\n",
    "import plotly.graph_objects as go\n",
    "\n",
    "from plotly.offline import init_notebook_mode, iplot\n",
    "\n",
    "import plotly.io as pio\n",
    "pio.templates.default = \"none\"\n",
    "# pio.templates.default = \"simple_white\"\n",
    "\n",
    "import plotly.graph_objects as go\n",
    "from plotly.subplots import make_subplots\n",
    "import pandas as pd\n",
    "# import plotly.express as px\n",
    "\n",
    "\n",
    "for k8senv in ['none','cpumem']:\n",
    "    for model_name in ['resnet']:\n",
    "        list_traces = []\n",
    "        for cbatch in [2,4,8,10,16,32]: \n",
    "            dfg_bench = dfg[(dfg['benchmark']== model_name)  & (dfg['k8senv']==k8senv) & (dfg['cbatch']==cbatch) &\\\n",
    "                        ((dfg['numctn']==1)| (dfg['numctn']==2)| \\\n",
    "                         (dfg['numctn']==4)| (dfg['numctn']==8)| (dfg['numctn']==16)| (dfg['numctn']==32))]\n",
    "            print(dfg_bench)\n",
    "\n",
    "\n",
    "            #data\n",
    "            trace = go.Scatter(\n",
    "                name=\"cbatch-\"+str(cbatch),\n",
    "                x=[ 'ctn1','ctn2','ctn4','ctn8','ctn16','ctn32'],\n",
    "                y= dfg_bench['qps'].values.tolist(),\n",
    "    #             error_y = dict(type='data', array=df1_bench['model_time_std'].values.tolist()),\n",
    "                opacity=0.7,\n",
    "                mode='markers'\n",
    "            )\n",
    "            list_traces.append(trace)\n",
    "\n",
    "        \n",
    "\n",
    "        #layout\n",
    "        layout = go.Layout(\n",
    "            title={\n",
    "                'text': k8senv+\"-\"+model_name ,\n",
    "                'y':0.85,\n",
    "                'x':0.5,\n",
    "                'xanchor': 'center',\n",
    "                'yanchor': 'top'},\n",
    "            width=1000,\n",
    "            height=460,\n",
    "            xaxis=dict(\n",
    "                title= \"num_ctn\",\n",
    "                tickvals=[ 'ctn1','ctn2','ctn4','ctn8','ctn16','ctn32'],\n",
    "                titlefont=dict(\n",
    "                    size=10,\n",
    "                    color='rgb(107, 107, 107)'\n",
    "                ),\n",
    "                tickfont=dict(\n",
    "                    size=10,\n",
    "                    color='rgb(107, 107, 107)'\n",
    "                )\n",
    "            ),\n",
    "            yaxis=dict(\n",
    "                title= \"qps\",\n",
    "                automargin=True,\n",
    "                titlefont=dict(\n",
    "                    size=25,\n",
    "                    color='rgb(107, 107, 107)'\n",
    "                ),\n",
    "                tickfont=dict(\n",
    "                    size=25,\n",
    "                    color='rgb(107, 107, 107)'\n",
    "                ),    \n",
    "            ),\n",
    "            legend=dict(\n",
    "                x=1.0,\n",
    "                y=1.0,\n",
    "                bgcolor='rgba(255, 255, 255, 0)',\n",
    "                bordercolor='rgba(255, 255, 255, 0)',\n",
    "                font = dict( size = 28)\n",
    "            ),\n",
    "            barmode='group',\n",
    "            bargap=0.15,\n",
    "            bargroupgap=0.08\n",
    "    #         legend_orientation=\"h\"\n",
    "        )\n",
    "\n",
    "    data = list_traces\n",
    "    fig = go.Figure(data=data, layout=layout)\n",
    "    fig.update_layout(legend_orientation=\"h\")\n",
    "    fig.show()    \n",
    "\n",
    "#     fig.write_image(path + model_name + k8senv +'.pdf')"
   ]
  },
  {
   "cell_type": "code",
   "execution_count": 8,
   "id": "99a43b0a",
   "metadata": {
    "scrolled": false
   },
   "outputs": [
    {
     "name": "stdout",
     "output_type": "stream",
     "text": [
      "  benchmark k8senv  sbatch  numctn cscenario  cbatch  reps         qps\n",
      "0    resnet   none       0       1   offline      10    10  142.186152\n",
      "  benchmark k8senv  sbatch  numctn cscenario  cbatch  reps         qps\n",
      "1    resnet   none       0       2   offline      10    10  143.200568\n",
      "  benchmark k8senv  sbatch  numctn cscenario  cbatch  reps         qps\n",
      "2    resnet   none       0       4   offline      10    10  142.432677\n",
      "  benchmark k8senv  sbatch  numctn cscenario  cbatch  reps         qps\n",
      "3    resnet   none       0       8   offline      10    10  141.786346\n",
      "  benchmark k8senv  sbatch  numctn cscenario  cbatch  reps       qps\n",
      "4    resnet   none       0      16   offline      10    10  142.9788\n",
      "  benchmark k8senv  sbatch  numctn cscenario  cbatch  reps         qps\n",
      "5    resnet   none       0      32   offline      10    10  142.085237\n"
     ]
    },
    {
     "data": {
      "application/vnd.plotly.v1+json": {
       "config": {
        "plotlyServerURL": "https://plot.ly"
       },
       "data": [
        {
         "mode": "markers",
         "name": "numctn-1",
         "opacity": 0.7,
         "type": "scatter",
         "x": [
          "cbatch2",
          "cbatch4",
          "cbatch8",
          "cbatch10",
          "cbatch16",
          "cbatch32"
         ],
         "y": [
          142.18615171486053
         ]
        },
        {
         "mode": "markers",
         "name": "numctn-2",
         "opacity": 0.7,
         "type": "scatter",
         "x": [
          "cbatch2",
          "cbatch4",
          "cbatch8",
          "cbatch10",
          "cbatch16",
          "cbatch32"
         ],
         "y": [
          143.20056759202444
         ]
        },
        {
         "mode": "markers",
         "name": "numctn-4",
         "opacity": 0.7,
         "type": "scatter",
         "x": [
          "cbatch2",
          "cbatch4",
          "cbatch8",
          "cbatch10",
          "cbatch16",
          "cbatch32"
         ],
         "y": [
          142.43267692915828
         ]
        },
        {
         "mode": "markers",
         "name": "numctn-8",
         "opacity": 0.7,
         "type": "scatter",
         "x": [
          "cbatch2",
          "cbatch4",
          "cbatch8",
          "cbatch10",
          "cbatch16",
          "cbatch32"
         ],
         "y": [
          141.78634571990784
         ]
        },
        {
         "mode": "markers",
         "name": "numctn-16",
         "opacity": 0.7,
         "type": "scatter",
         "x": [
          "cbatch2",
          "cbatch4",
          "cbatch8",
          "cbatch10",
          "cbatch16",
          "cbatch32"
         ],
         "y": [
          142.9788001493915
         ]
        },
        {
         "mode": "markers",
         "name": "numctn-32",
         "opacity": 0.7,
         "type": "scatter",
         "x": [
          "cbatch2",
          "cbatch4",
          "cbatch8",
          "cbatch10",
          "cbatch16",
          "cbatch32"
         ],
         "y": [
          142.08523656794472
         ]
        }
       ],
       "layout": {
        "bargap": 0.15,
        "bargroupgap": 0.08,
        "barmode": "group",
        "height": 460,
        "legend": {
         "bgcolor": "rgba(255, 255, 255, 0)",
         "bordercolor": "rgba(255, 255, 255, 0)",
         "font": {
          "size": 28
         },
         "orientation": "h",
         "x": 1,
         "y": 1
        },
        "template": {
         "data": {
          "scatter": [
           {
            "type": "scatter"
           }
          ]
         }
        },
        "title": {
         "text": "none-resnet",
         "x": 0.5,
         "xanchor": "center",
         "y": 0.85,
         "yanchor": "top"
        },
        "width": 1000,
        "xaxis": {
         "tickfont": {
          "color": "rgb(107, 107, 107)",
          "size": 10
         },
         "tickvals": [
          "cbatch2",
          "cbatch4",
          "cbatch8",
          "cbatch10",
          "cbatch16",
          "cbatch32"
         ],
         "title": {
          "font": {
           "color": "rgb(107, 107, 107)",
           "size": 10
          },
          "text": "cbatch"
         }
        },
        "yaxis": {
         "automargin": true,
         "tickfont": {
          "color": "rgb(107, 107, 107)",
          "size": 25
         },
         "title": {
          "font": {
           "color": "rgb(107, 107, 107)",
           "size": 25
          },
          "text": "qps"
         }
        }
       }
      },
      "text/html": [
       "<div>                            <div id=\"32e98647-2dca-4192-bd84-ac1c8123b2dc\" class=\"plotly-graph-div\" style=\"height:460px; width:1000px;\"></div>            <script type=\"text/javascript\">                require([\"plotly\"], function(Plotly) {                    window.PLOTLYENV=window.PLOTLYENV || {};                                    if (document.getElementById(\"32e98647-2dca-4192-bd84-ac1c8123b2dc\")) {                    Plotly.newPlot(                        \"32e98647-2dca-4192-bd84-ac1c8123b2dc\",                        [{\"mode\": \"markers\", \"name\": \"numctn-1\", \"opacity\": 0.7, \"type\": \"scatter\", \"x\": [\"cbatch2\", \"cbatch4\", \"cbatch8\", \"cbatch10\", \"cbatch16\", \"cbatch32\"], \"y\": [142.18615171486053]}, {\"mode\": \"markers\", \"name\": \"numctn-2\", \"opacity\": 0.7, \"type\": \"scatter\", \"x\": [\"cbatch2\", \"cbatch4\", \"cbatch8\", \"cbatch10\", \"cbatch16\", \"cbatch32\"], \"y\": [143.20056759202444]}, {\"mode\": \"markers\", \"name\": \"numctn-4\", \"opacity\": 0.7, \"type\": \"scatter\", \"x\": [\"cbatch2\", \"cbatch4\", \"cbatch8\", \"cbatch10\", \"cbatch16\", \"cbatch32\"], \"y\": [142.43267692915828]}, {\"mode\": \"markers\", \"name\": \"numctn-8\", \"opacity\": 0.7, \"type\": \"scatter\", \"x\": [\"cbatch2\", \"cbatch4\", \"cbatch8\", \"cbatch10\", \"cbatch16\", \"cbatch32\"], \"y\": [141.78634571990784]}, {\"mode\": \"markers\", \"name\": \"numctn-16\", \"opacity\": 0.7, \"type\": \"scatter\", \"x\": [\"cbatch2\", \"cbatch4\", \"cbatch8\", \"cbatch10\", \"cbatch16\", \"cbatch32\"], \"y\": [142.9788001493915]}, {\"mode\": \"markers\", \"name\": \"numctn-32\", \"opacity\": 0.7, \"type\": \"scatter\", \"x\": [\"cbatch2\", \"cbatch4\", \"cbatch8\", \"cbatch10\", \"cbatch16\", \"cbatch32\"], \"y\": [142.08523656794472]}],                        {\"bargap\": 0.15, \"bargroupgap\": 0.08, \"barmode\": \"group\", \"height\": 460, \"legend\": {\"bgcolor\": \"rgba(255, 255, 255, 0)\", \"bordercolor\": \"rgba(255, 255, 255, 0)\", \"font\": {\"size\": 28}, \"orientation\": \"h\", \"x\": 1.0, \"y\": 1.0}, \"template\": {\"data\": {\"scatter\": [{\"type\": \"scatter\"}]}}, \"title\": {\"text\": \"none-resnet\", \"x\": 0.5, \"xanchor\": \"center\", \"y\": 0.85, \"yanchor\": \"top\"}, \"width\": 1000, \"xaxis\": {\"tickfont\": {\"color\": \"rgb(107, 107, 107)\", \"size\": 10}, \"tickvals\": [\"cbatch2\", \"cbatch4\", \"cbatch8\", \"cbatch10\", \"cbatch16\", \"cbatch32\"], \"title\": {\"font\": {\"color\": \"rgb(107, 107, 107)\", \"size\": 10}, \"text\": \"cbatch\"}}, \"yaxis\": {\"automargin\": true, \"tickfont\": {\"color\": \"rgb(107, 107, 107)\", \"size\": 25}, \"title\": {\"font\": {\"color\": \"rgb(107, 107, 107)\", \"size\": 25}, \"text\": \"qps\"}}},                        {\"responsive\": true}                    ).then(function(){\n",
       "                            \n",
       "var gd = document.getElementById('32e98647-2dca-4192-bd84-ac1c8123b2dc');\n",
       "var x = new MutationObserver(function (mutations, observer) {{\n",
       "        var display = window.getComputedStyle(gd).display;\n",
       "        if (!display || display === 'none') {{\n",
       "            console.log([gd, 'removed!']);\n",
       "            Plotly.purge(gd);\n",
       "            observer.disconnect();\n",
       "        }}\n",
       "}});\n",
       "\n",
       "// Listen for the removal of the full notebook cells\n",
       "var notebookContainer = gd.closest('#notebook-container');\n",
       "if (notebookContainer) {{\n",
       "    x.observe(notebookContainer, {childList: true});\n",
       "}}\n",
       "\n",
       "// Listen for the clearing of the current output cell\n",
       "var outputEl = gd.closest('.output');\n",
       "if (outputEl) {{\n",
       "    x.observe(outputEl, {childList: true});\n",
       "}}\n",
       "\n",
       "                        })                };                });            </script>        </div>"
      ]
     },
     "metadata": {},
     "output_type": "display_data"
    },
    {
     "name": "stdout",
     "output_type": "stream",
     "text": [
      "   benchmark  k8senv  sbatch  numctn cscenario  cbatch  reps         qps\n",
      "12    resnet  cpumem       0       1   offline      10    10  140.522219\n",
      "   benchmark  k8senv  sbatch  numctn cscenario  cbatch  reps        qps\n",
      "13    resnet  cpumem       0       2   offline      10    10  144.22012\n",
      "   benchmark  k8senv  sbatch  numctn cscenario  cbatch  reps         qps\n",
      "14    resnet  cpumem       0       4   offline      10    10  144.141737\n",
      "   benchmark  k8senv  sbatch  numctn cscenario  cbatch  reps        qps\n",
      "15    resnet  cpumem       0       8   offline      10    10  144.44054\n",
      "   benchmark  k8senv  sbatch  numctn cscenario  cbatch  reps         qps\n",
      "16    resnet  cpumem       0      16   offline      10    10  143.546192\n",
      "   benchmark  k8senv  sbatch  numctn cscenario  cbatch  reps         qps\n",
      "17    resnet  cpumem       0      32   offline      10    10  144.655849\n"
     ]
    },
    {
     "data": {
      "application/vnd.plotly.v1+json": {
       "config": {
        "plotlyServerURL": "https://plot.ly"
       },
       "data": [
        {
         "mode": "markers",
         "name": "numctn-1",
         "opacity": 0.7,
         "type": "scatter",
         "x": [
          "cbatch2",
          "cbatch4",
          "cbatch8",
          "cbatch10",
          "cbatch16",
          "cbatch32"
         ],
         "y": [
          140.52221892816803
         ]
        },
        {
         "mode": "markers",
         "name": "numctn-2",
         "opacity": 0.7,
         "type": "scatter",
         "x": [
          "cbatch2",
          "cbatch4",
          "cbatch8",
          "cbatch10",
          "cbatch16",
          "cbatch32"
         ],
         "y": [
          144.22012046394886
         ]
        },
        {
         "mode": "markers",
         "name": "numctn-4",
         "opacity": 0.7,
         "type": "scatter",
         "x": [
          "cbatch2",
          "cbatch4",
          "cbatch8",
          "cbatch10",
          "cbatch16",
          "cbatch32"
         ],
         "y": [
          144.14173741156594
         ]
        },
        {
         "mode": "markers",
         "name": "numctn-8",
         "opacity": 0.7,
         "type": "scatter",
         "x": [
          "cbatch2",
          "cbatch4",
          "cbatch8",
          "cbatch10",
          "cbatch16",
          "cbatch32"
         ],
         "y": [
          144.4405401413904
         ]
        },
        {
         "mode": "markers",
         "name": "numctn-16",
         "opacity": 0.7,
         "type": "scatter",
         "x": [
          "cbatch2",
          "cbatch4",
          "cbatch8",
          "cbatch10",
          "cbatch16",
          "cbatch32"
         ],
         "y": [
          143.54619205273713
         ]
        },
        {
         "mode": "markers",
         "name": "numctn-32",
         "opacity": 0.7,
         "type": "scatter",
         "x": [
          "cbatch2",
          "cbatch4",
          "cbatch8",
          "cbatch10",
          "cbatch16",
          "cbatch32"
         ],
         "y": [
          144.65584921951907
         ]
        }
       ],
       "layout": {
        "bargap": 0.15,
        "bargroupgap": 0.08,
        "barmode": "group",
        "height": 460,
        "legend": {
         "bgcolor": "rgba(255, 255, 255, 0)",
         "bordercolor": "rgba(255, 255, 255, 0)",
         "font": {
          "size": 28
         },
         "orientation": "h",
         "x": 1,
         "y": 1
        },
        "template": {
         "data": {
          "scatter": [
           {
            "type": "scatter"
           }
          ]
         }
        },
        "title": {
         "text": "cpumem-resnet",
         "x": 0.5,
         "xanchor": "center",
         "y": 0.85,
         "yanchor": "top"
        },
        "width": 1000,
        "xaxis": {
         "tickfont": {
          "color": "rgb(107, 107, 107)",
          "size": 10
         },
         "tickvals": [
          "cbatch2",
          "cbatch4",
          "cbatch8",
          "cbatch10",
          "cbatch16",
          "cbatch32"
         ],
         "title": {
          "font": {
           "color": "rgb(107, 107, 107)",
           "size": 10
          },
          "text": "cbatch"
         }
        },
        "yaxis": {
         "automargin": true,
         "tickfont": {
          "color": "rgb(107, 107, 107)",
          "size": 25
         },
         "title": {
          "font": {
           "color": "rgb(107, 107, 107)",
           "size": 25
          },
          "text": "qps"
         }
        }
       }
      },
      "text/html": [
       "<div>                            <div id=\"e4533cb5-1f9b-45c3-9be6-dd72d6ea7519\" class=\"plotly-graph-div\" style=\"height:460px; width:1000px;\"></div>            <script type=\"text/javascript\">                require([\"plotly\"], function(Plotly) {                    window.PLOTLYENV=window.PLOTLYENV || {};                                    if (document.getElementById(\"e4533cb5-1f9b-45c3-9be6-dd72d6ea7519\")) {                    Plotly.newPlot(                        \"e4533cb5-1f9b-45c3-9be6-dd72d6ea7519\",                        [{\"mode\": \"markers\", \"name\": \"numctn-1\", \"opacity\": 0.7, \"type\": \"scatter\", \"x\": [\"cbatch2\", \"cbatch4\", \"cbatch8\", \"cbatch10\", \"cbatch16\", \"cbatch32\"], \"y\": [140.52221892816803]}, {\"mode\": \"markers\", \"name\": \"numctn-2\", \"opacity\": 0.7, \"type\": \"scatter\", \"x\": [\"cbatch2\", \"cbatch4\", \"cbatch8\", \"cbatch10\", \"cbatch16\", \"cbatch32\"], \"y\": [144.22012046394886]}, {\"mode\": \"markers\", \"name\": \"numctn-4\", \"opacity\": 0.7, \"type\": \"scatter\", \"x\": [\"cbatch2\", \"cbatch4\", \"cbatch8\", \"cbatch10\", \"cbatch16\", \"cbatch32\"], \"y\": [144.14173741156594]}, {\"mode\": \"markers\", \"name\": \"numctn-8\", \"opacity\": 0.7, \"type\": \"scatter\", \"x\": [\"cbatch2\", \"cbatch4\", \"cbatch8\", \"cbatch10\", \"cbatch16\", \"cbatch32\"], \"y\": [144.4405401413904]}, {\"mode\": \"markers\", \"name\": \"numctn-16\", \"opacity\": 0.7, \"type\": \"scatter\", \"x\": [\"cbatch2\", \"cbatch4\", \"cbatch8\", \"cbatch10\", \"cbatch16\", \"cbatch32\"], \"y\": [143.54619205273713]}, {\"mode\": \"markers\", \"name\": \"numctn-32\", \"opacity\": 0.7, \"type\": \"scatter\", \"x\": [\"cbatch2\", \"cbatch4\", \"cbatch8\", \"cbatch10\", \"cbatch16\", \"cbatch32\"], \"y\": [144.65584921951907]}],                        {\"bargap\": 0.15, \"bargroupgap\": 0.08, \"barmode\": \"group\", \"height\": 460, \"legend\": {\"bgcolor\": \"rgba(255, 255, 255, 0)\", \"bordercolor\": \"rgba(255, 255, 255, 0)\", \"font\": {\"size\": 28}, \"orientation\": \"h\", \"x\": 1.0, \"y\": 1.0}, \"template\": {\"data\": {\"scatter\": [{\"type\": \"scatter\"}]}}, \"title\": {\"text\": \"cpumem-resnet\", \"x\": 0.5, \"xanchor\": \"center\", \"y\": 0.85, \"yanchor\": \"top\"}, \"width\": 1000, \"xaxis\": {\"tickfont\": {\"color\": \"rgb(107, 107, 107)\", \"size\": 10}, \"tickvals\": [\"cbatch2\", \"cbatch4\", \"cbatch8\", \"cbatch10\", \"cbatch16\", \"cbatch32\"], \"title\": {\"font\": {\"color\": \"rgb(107, 107, 107)\", \"size\": 10}, \"text\": \"cbatch\"}}, \"yaxis\": {\"automargin\": true, \"tickfont\": {\"color\": \"rgb(107, 107, 107)\", \"size\": 25}, \"title\": {\"font\": {\"color\": \"rgb(107, 107, 107)\", \"size\": 25}, \"text\": \"qps\"}}},                        {\"responsive\": true}                    ).then(function(){\n",
       "                            \n",
       "var gd = document.getElementById('e4533cb5-1f9b-45c3-9be6-dd72d6ea7519');\n",
       "var x = new MutationObserver(function (mutations, observer) {{\n",
       "        var display = window.getComputedStyle(gd).display;\n",
       "        if (!display || display === 'none') {{\n",
       "            console.log([gd, 'removed!']);\n",
       "            Plotly.purge(gd);\n",
       "            observer.disconnect();\n",
       "        }}\n",
       "}});\n",
       "\n",
       "// Listen for the removal of the full notebook cells\n",
       "var notebookContainer = gd.closest('#notebook-container');\n",
       "if (notebookContainer) {{\n",
       "    x.observe(notebookContainer, {childList: true});\n",
       "}}\n",
       "\n",
       "// Listen for the clearing of the current output cell\n",
       "var outputEl = gd.closest('.output');\n",
       "if (outputEl) {{\n",
       "    x.observe(outputEl, {childList: true});\n",
       "}}\n",
       "\n",
       "                        })                };                });            </script>        </div>"
      ]
     },
     "metadata": {},
     "output_type": "display_data"
    },
    {
     "name": "stdout",
     "output_type": "stream",
     "text": [
      "  benchmark     k8senv  sbatch  numctn cscenario  cbatch  reps         qps\n",
      "6    resnet  cpumemory       0       1   offline      10    10  140.225055\n",
      "  benchmark     k8senv  sbatch  numctn cscenario  cbatch  reps         qps\n",
      "7    resnet  cpumemory       0       2   offline      10    10  143.683721\n",
      "  benchmark     k8senv  sbatch  numctn cscenario  cbatch  reps         qps\n",
      "8    resnet  cpumemory       0       4   offline      10    10  144.411033\n",
      "  benchmark     k8senv  sbatch  numctn cscenario  cbatch  reps         qps\n",
      "9    resnet  cpumemory       0       8   offline      10    10  145.148047\n",
      "   benchmark     k8senv  sbatch  numctn cscenario  cbatch  reps         qps\n",
      "10    resnet  cpumemory       0      16   offline      10    10  144.827301\n",
      "   benchmark     k8senv  sbatch  numctn cscenario  cbatch  reps         qps\n",
      "11    resnet  cpumemory       0      32   offline      10    10  144.915136\n"
     ]
    },
    {
     "data": {
      "application/vnd.plotly.v1+json": {
       "config": {
        "plotlyServerURL": "https://plot.ly"
       },
       "data": [
        {
         "mode": "markers",
         "name": "numctn-1",
         "opacity": 0.7,
         "type": "scatter",
         "x": [
          "cbatch2",
          "cbatch4",
          "cbatch8",
          "cbatch10",
          "cbatch16",
          "cbatch32"
         ],
         "y": [
          140.22505536942333
         ]
        },
        {
         "mode": "markers",
         "name": "numctn-2",
         "opacity": 0.7,
         "type": "scatter",
         "x": [
          "cbatch2",
          "cbatch4",
          "cbatch8",
          "cbatch10",
          "cbatch16",
          "cbatch32"
         ],
         "y": [
          143.68372098508152
         ]
        },
        {
         "mode": "markers",
         "name": "numctn-4",
         "opacity": 0.7,
         "type": "scatter",
         "x": [
          "cbatch2",
          "cbatch4",
          "cbatch8",
          "cbatch10",
          "cbatch16",
          "cbatch32"
         ],
         "y": [
          144.4110326363517
         ]
        },
        {
         "mode": "markers",
         "name": "numctn-8",
         "opacity": 0.7,
         "type": "scatter",
         "x": [
          "cbatch2",
          "cbatch4",
          "cbatch8",
          "cbatch10",
          "cbatch16",
          "cbatch32"
         ],
         "y": [
          145.14804726908037
         ]
        },
        {
         "mode": "markers",
         "name": "numctn-16",
         "opacity": 0.7,
         "type": "scatter",
         "x": [
          "cbatch2",
          "cbatch4",
          "cbatch8",
          "cbatch10",
          "cbatch16",
          "cbatch32"
         ],
         "y": [
          144.82730125231694
         ]
        },
        {
         "mode": "markers",
         "name": "numctn-32",
         "opacity": 0.7,
         "type": "scatter",
         "x": [
          "cbatch2",
          "cbatch4",
          "cbatch8",
          "cbatch10",
          "cbatch16",
          "cbatch32"
         ],
         "y": [
          144.9151361671958
         ]
        }
       ],
       "layout": {
        "bargap": 0.15,
        "bargroupgap": 0.08,
        "barmode": "group",
        "height": 460,
        "legend": {
         "bgcolor": "rgba(255, 255, 255, 0)",
         "bordercolor": "rgba(255, 255, 255, 0)",
         "font": {
          "size": 28
         },
         "orientation": "h",
         "x": 1,
         "y": 1
        },
        "template": {
         "data": {
          "scatter": [
           {
            "type": "scatter"
           }
          ]
         }
        },
        "title": {
         "text": "cpumemory-resnet",
         "x": 0.5,
         "xanchor": "center",
         "y": 0.85,
         "yanchor": "top"
        },
        "width": 1000,
        "xaxis": {
         "tickfont": {
          "color": "rgb(107, 107, 107)",
          "size": 10
         },
         "tickvals": [
          "cbatch2",
          "cbatch4",
          "cbatch8",
          "cbatch10",
          "cbatch16",
          "cbatch32"
         ],
         "title": {
          "font": {
           "color": "rgb(107, 107, 107)",
           "size": 10
          },
          "text": "cbatch"
         }
        },
        "yaxis": {
         "automargin": true,
         "tickfont": {
          "color": "rgb(107, 107, 107)",
          "size": 25
         },
         "title": {
          "font": {
           "color": "rgb(107, 107, 107)",
           "size": 25
          },
          "text": "qps"
         }
        }
       }
      },
      "text/html": [
       "<div>                            <div id=\"11ec86ed-62b4-4840-8bac-fd610c835b81\" class=\"plotly-graph-div\" style=\"height:460px; width:1000px;\"></div>            <script type=\"text/javascript\">                require([\"plotly\"], function(Plotly) {                    window.PLOTLYENV=window.PLOTLYENV || {};                                    if (document.getElementById(\"11ec86ed-62b4-4840-8bac-fd610c835b81\")) {                    Plotly.newPlot(                        \"11ec86ed-62b4-4840-8bac-fd610c835b81\",                        [{\"mode\": \"markers\", \"name\": \"numctn-1\", \"opacity\": 0.7, \"type\": \"scatter\", \"x\": [\"cbatch2\", \"cbatch4\", \"cbatch8\", \"cbatch10\", \"cbatch16\", \"cbatch32\"], \"y\": [140.22505536942333]}, {\"mode\": \"markers\", \"name\": \"numctn-2\", \"opacity\": 0.7, \"type\": \"scatter\", \"x\": [\"cbatch2\", \"cbatch4\", \"cbatch8\", \"cbatch10\", \"cbatch16\", \"cbatch32\"], \"y\": [143.68372098508152]}, {\"mode\": \"markers\", \"name\": \"numctn-4\", \"opacity\": 0.7, \"type\": \"scatter\", \"x\": [\"cbatch2\", \"cbatch4\", \"cbatch8\", \"cbatch10\", \"cbatch16\", \"cbatch32\"], \"y\": [144.4110326363517]}, {\"mode\": \"markers\", \"name\": \"numctn-8\", \"opacity\": 0.7, \"type\": \"scatter\", \"x\": [\"cbatch2\", \"cbatch4\", \"cbatch8\", \"cbatch10\", \"cbatch16\", \"cbatch32\"], \"y\": [145.14804726908037]}, {\"mode\": \"markers\", \"name\": \"numctn-16\", \"opacity\": 0.7, \"type\": \"scatter\", \"x\": [\"cbatch2\", \"cbatch4\", \"cbatch8\", \"cbatch10\", \"cbatch16\", \"cbatch32\"], \"y\": [144.82730125231694]}, {\"mode\": \"markers\", \"name\": \"numctn-32\", \"opacity\": 0.7, \"type\": \"scatter\", \"x\": [\"cbatch2\", \"cbatch4\", \"cbatch8\", \"cbatch10\", \"cbatch16\", \"cbatch32\"], \"y\": [144.9151361671958]}],                        {\"bargap\": 0.15, \"bargroupgap\": 0.08, \"barmode\": \"group\", \"height\": 460, \"legend\": {\"bgcolor\": \"rgba(255, 255, 255, 0)\", \"bordercolor\": \"rgba(255, 255, 255, 0)\", \"font\": {\"size\": 28}, \"orientation\": \"h\", \"x\": 1.0, \"y\": 1.0}, \"template\": {\"data\": {\"scatter\": [{\"type\": \"scatter\"}]}}, \"title\": {\"text\": \"cpumemory-resnet\", \"x\": 0.5, \"xanchor\": \"center\", \"y\": 0.85, \"yanchor\": \"top\"}, \"width\": 1000, \"xaxis\": {\"tickfont\": {\"color\": \"rgb(107, 107, 107)\", \"size\": 10}, \"tickvals\": [\"cbatch2\", \"cbatch4\", \"cbatch8\", \"cbatch10\", \"cbatch16\", \"cbatch32\"], \"title\": {\"font\": {\"color\": \"rgb(107, 107, 107)\", \"size\": 10}, \"text\": \"cbatch\"}}, \"yaxis\": {\"automargin\": true, \"tickfont\": {\"color\": \"rgb(107, 107, 107)\", \"size\": 25}, \"title\": {\"font\": {\"color\": \"rgb(107, 107, 107)\", \"size\": 25}, \"text\": \"qps\"}}},                        {\"responsive\": true}                    ).then(function(){\n",
       "                            \n",
       "var gd = document.getElementById('11ec86ed-62b4-4840-8bac-fd610c835b81');\n",
       "var x = new MutationObserver(function (mutations, observer) {{\n",
       "        var display = window.getComputedStyle(gd).display;\n",
       "        if (!display || display === 'none') {{\n",
       "            console.log([gd, 'removed!']);\n",
       "            Plotly.purge(gd);\n",
       "            observer.disconnect();\n",
       "        }}\n",
       "}});\n",
       "\n",
       "// Listen for the removal of the full notebook cells\n",
       "var notebookContainer = gd.closest('#notebook-container');\n",
       "if (notebookContainer) {{\n",
       "    x.observe(notebookContainer, {childList: true});\n",
       "}}\n",
       "\n",
       "// Listen for the clearing of the current output cell\n",
       "var outputEl = gd.closest('.output');\n",
       "if (outputEl) {{\n",
       "    x.observe(outputEl, {childList: true});\n",
       "}}\n",
       "\n",
       "                        })                };                });            </script>        </div>"
      ]
     },
     "metadata": {},
     "output_type": "display_data"
    }
   ],
   "source": [
    "import matplotlib\n",
    "import matplotlib.pyplot as plt\n",
    "import numpy as np\n",
    "from svglib.svglib import svg2rlg\n",
    "from reportlab.graphics import renderPDF\n",
    "from reportlab.pdfgen import canvas\n",
    "\n",
    "from numpy import percentile, mean, std\n",
    "import plotly.graph_objects as go\n",
    "\n",
    "from plotly.offline import init_notebook_mode, iplot\n",
    "\n",
    "import plotly.io as pio\n",
    "pio.templates.default = \"none\"\n",
    "# pio.templates.default = \"simple_white\"\n",
    "\n",
    "import plotly.graph_objects as go\n",
    "from plotly.subplots import make_subplots\n",
    "import pandas as pd\n",
    "# import plotly.express as px\n",
    "\n",
    "\n",
    "for k8senv in ['none','cpumem','cpumemory']:\n",
    "    for model_name in ['resnet']:\n",
    "        list_traces = []\n",
    "        for numctn in [1,2,4,8,16,32]: \n",
    "            dfg_bench = dfg[(dfg['benchmark']== model_name)  & (dfg['k8senv']==k8senv) & (dfg['numctn']==numctn) &\\\n",
    "                        ((dfg['cbatch']==2) |\\\n",
    "                         (dfg['cbatch']==4)| (dfg['cbatch']==8)| (dfg['cbatch']==10)| (dfg['cbatch']==16)| (dfg['cbatch']==32))]\n",
    "            print(dfg_bench)\n",
    "\n",
    "\n",
    "            #data\n",
    "            trace = go.Scatter(\n",
    "                name=\"numctn-\"+str(numctn),\n",
    "                x=[ 'cbatch2','cbatch4','cbatch8','cbatch10','cbatch16','cbatch32'],\n",
    "                y= dfg_bench['qps'].values.tolist(),\n",
    "    #             error_y = dict(type='data', array=df1_bench['model_time_std'].values.tolist()),\n",
    "                opacity=0.7,\n",
    "                mode='markers'\n",
    "            )\n",
    "            list_traces.append(trace)\n",
    "\n",
    "        \n",
    "\n",
    "        #layout\n",
    "        layout = go.Layout(\n",
    "            title={\n",
    "                'text': k8senv+\"-\"+model_name ,\n",
    "                'y':0.85,\n",
    "                'x':0.5,\n",
    "                'xanchor': 'center',\n",
    "                'yanchor': 'top'},\n",
    "            width=1000,\n",
    "            height=460,\n",
    "            xaxis=dict(\n",
    "                title= \"cbatch\",\n",
    "                tickvals=[ 'cbatch2','cbatch4','cbatch8','cbatch10','cbatch16','cbatch32'],\n",
    "                titlefont=dict(\n",
    "                    size=10,\n",
    "                    color='rgb(107, 107, 107)'\n",
    "                ),\n",
    "                tickfont=dict(\n",
    "                    size=10,\n",
    "                    color='rgb(107, 107, 107)'\n",
    "                )\n",
    "            ),\n",
    "            yaxis=dict(\n",
    "                title= \"qps\",\n",
    "                automargin=True,\n",
    "                titlefont=dict(\n",
    "                    size=25,\n",
    "                    color='rgb(107, 107, 107)'\n",
    "                ),\n",
    "                tickfont=dict(\n",
    "                    size=25,\n",
    "                    color='rgb(107, 107, 107)'\n",
    "                ),    \n",
    "            ),\n",
    "            legend=dict(\n",
    "                x=1.0,\n",
    "                y=1.0,\n",
    "                bgcolor='rgba(255, 255, 255, 0)',\n",
    "                bordercolor='rgba(255, 255, 255, 0)',\n",
    "                font = dict( size = 28)\n",
    "            ),\n",
    "            barmode='group',\n",
    "            bargap=0.15,\n",
    "            bargroupgap=0.08\n",
    "    #         legend_orientation=\"h\"\n",
    "        )\n",
    "\n",
    "    data = list_traces\n",
    "    fig = go.Figure(data=data, layout=layout)\n",
    "    fig.update_layout(legend_orientation=\"h\")\n",
    "    fig.show()    \n",
    "\n",
    "#     fig.write_image(path + model_name + k8senv +'.pdf')"
   ]
  },
  {
   "cell_type": "code",
   "execution_count": 11,
   "id": "1147c970",
   "metadata": {},
   "outputs": [
    {
     "name": "stdout",
     "output_type": "stream",
     "text": [
      "   benchmark     k8senv  sbatch  numctn cscenario  cbatch  reps         qps\n",
      "0     resnet       none       0       1   offline      10    10  142.186152\n",
      "6     resnet  cpumemory       0       1   offline      10    10  140.225055\n",
      "12    resnet     cpumem       0       1   offline      10    10  140.522219\n",
      "   benchmark     k8senv  sbatch  numctn cscenario  cbatch  reps         qps\n",
      "1     resnet       none       0       2   offline      10    10  143.200568\n",
      "7     resnet  cpumemory       0       2   offline      10    10  143.683721\n",
      "13    resnet     cpumem       0       2   offline      10    10  144.220120\n",
      "   benchmark     k8senv  sbatch  numctn cscenario  cbatch  reps         qps\n",
      "2     resnet       none       0       4   offline      10    10  142.432677\n",
      "8     resnet  cpumemory       0       4   offline      10    10  144.411033\n",
      "14    resnet     cpumem       0       4   offline      10    10  144.141737\n",
      "   benchmark     k8senv  sbatch  numctn cscenario  cbatch  reps         qps\n",
      "3     resnet       none       0       8   offline      10    10  141.786346\n",
      "9     resnet  cpumemory       0       8   offline      10    10  145.148047\n",
      "15    resnet     cpumem       0       8   offline      10    10  144.440540\n",
      "   benchmark     k8senv  sbatch  numctn cscenario  cbatch  reps         qps\n",
      "4     resnet       none       0      16   offline      10    10  142.978800\n",
      "10    resnet  cpumemory       0      16   offline      10    10  144.827301\n",
      "16    resnet     cpumem       0      16   offline      10    10  143.546192\n",
      "   benchmark     k8senv  sbatch  numctn cscenario  cbatch  reps         qps\n",
      "5     resnet       none       0      32   offline      10    10  142.085237\n",
      "11    resnet  cpumemory       0      32   offline      10    10  144.915136\n",
      "17    resnet     cpumem       0      32   offline      10    10  144.655849\n"
     ]
    },
    {
     "data": {
      "application/vnd.plotly.v1+json": {
       "config": {
        "plotlyServerURL": "https://plot.ly"
       },
       "data": [
        {
         "mode": "markers",
         "name": "ctn1",
         "opacity": 0.7,
         "type": "scatter",
         "x": [
          "none",
          "cpu",
          "cpumem"
         ],
         "y": [
          142.18615171486053,
          140.22505536942333,
          140.52221892816803
         ]
        },
        {
         "mode": "markers",
         "name": "ctn2",
         "opacity": 0.7,
         "type": "scatter",
         "x": [
          "none",
          "cpu",
          "cpumem"
         ],
         "y": [
          143.20056759202444,
          143.68372098508152,
          144.22012046394886
         ]
        },
        {
         "mode": "markers",
         "name": "ctn4",
         "opacity": 0.7,
         "type": "scatter",
         "x": [
          "none",
          "cpu",
          "cpumem"
         ],
         "y": [
          142.43267692915828,
          144.4110326363517,
          144.14173741156594
         ]
        },
        {
         "mode": "markers",
         "name": "ctn8",
         "opacity": 0.7,
         "type": "scatter",
         "x": [
          "none",
          "cpu",
          "cpumem"
         ],
         "y": [
          141.78634571990784,
          145.14804726908037,
          144.4405401413904
         ]
        },
        {
         "mode": "markers",
         "name": "ctn16",
         "opacity": 0.7,
         "type": "scatter",
         "x": [
          "none",
          "cpu",
          "cpumem"
         ],
         "y": [
          142.9788001493915,
          144.82730125231694,
          143.54619205273713
         ]
        },
        {
         "mode": "markers",
         "name": "ctn32",
         "opacity": 0.7,
         "type": "scatter",
         "x": [
          "none",
          "cpu",
          "cpumem"
         ],
         "y": [
          142.08523656794472,
          144.9151361671958,
          144.65584921951907
         ]
        }
       ],
       "layout": {
        "bargap": 0.15,
        "bargroupgap": 0.08,
        "barmode": "group",
        "height": 460,
        "legend": {
         "bgcolor": "rgba(255, 255, 255, 0)",
         "bordercolor": "rgba(255, 255, 255, 0)",
         "font": {
          "size": 28
         },
         "orientation": "h",
         "x": 1,
         "y": 1
        },
        "template": {
         "data": {
          "scatter": [
           {
            "type": "scatter"
           }
          ]
         }
        },
        "title": {
         "text": "exp3= inter32,intra1 -> inter1,intra1; restapi=64 -> restapi=2",
         "x": 0.5,
         "xanchor": "center",
         "y": 0.85,
         "yanchor": "top"
        },
        "width": 1000,
        "xaxis": {
         "tickfont": {
          "color": "rgb(107, 107, 107)",
          "size": 10
         },
         "tickvals": [
          "none",
          "cpu",
          "cpumem"
         ],
         "title": {
          "font": {
           "color": "rgb(107, 107, 107)",
           "size": 10
          },
          "text": "scenarios"
         }
        },
        "yaxis": {
         "automargin": true,
         "tickfont": {
          "color": "rgb(107, 107, 107)",
          "size": 25
         },
         "title": {
          "font": {
           "color": "rgb(107, 107, 107)",
           "size": 25
          },
          "text": "qps"
         }
        }
       }
      },
      "text/html": [
       "<div>                            <div id=\"32bd01d3-b248-467c-88a3-54937918d8ae\" class=\"plotly-graph-div\" style=\"height:460px; width:1000px;\"></div>            <script type=\"text/javascript\">                require([\"plotly\"], function(Plotly) {                    window.PLOTLYENV=window.PLOTLYENV || {};                                    if (document.getElementById(\"32bd01d3-b248-467c-88a3-54937918d8ae\")) {                    Plotly.newPlot(                        \"32bd01d3-b248-467c-88a3-54937918d8ae\",                        [{\"mode\": \"markers\", \"name\": \"ctn1\", \"opacity\": 0.7, \"type\": \"scatter\", \"x\": [\"none\", \"cpu\", \"cpumem\"], \"y\": [142.18615171486053, 140.22505536942333, 140.52221892816803]}, {\"mode\": \"markers\", \"name\": \"ctn2\", \"opacity\": 0.7, \"type\": \"scatter\", \"x\": [\"none\", \"cpu\", \"cpumem\"], \"y\": [143.20056759202444, 143.68372098508152, 144.22012046394886]}, {\"mode\": \"markers\", \"name\": \"ctn4\", \"opacity\": 0.7, \"type\": \"scatter\", \"x\": [\"none\", \"cpu\", \"cpumem\"], \"y\": [142.43267692915828, 144.4110326363517, 144.14173741156594]}, {\"mode\": \"markers\", \"name\": \"ctn8\", \"opacity\": 0.7, \"type\": \"scatter\", \"x\": [\"none\", \"cpu\", \"cpumem\"], \"y\": [141.78634571990784, 145.14804726908037, 144.4405401413904]}, {\"mode\": \"markers\", \"name\": \"ctn16\", \"opacity\": 0.7, \"type\": \"scatter\", \"x\": [\"none\", \"cpu\", \"cpumem\"], \"y\": [142.9788001493915, 144.82730125231694, 143.54619205273713]}, {\"mode\": \"markers\", \"name\": \"ctn32\", \"opacity\": 0.7, \"type\": \"scatter\", \"x\": [\"none\", \"cpu\", \"cpumem\"], \"y\": [142.08523656794472, 144.9151361671958, 144.65584921951907]}],                        {\"bargap\": 0.15, \"bargroupgap\": 0.08, \"barmode\": \"group\", \"height\": 460, \"legend\": {\"bgcolor\": \"rgba(255, 255, 255, 0)\", \"bordercolor\": \"rgba(255, 255, 255, 0)\", \"font\": {\"size\": 28}, \"orientation\": \"h\", \"x\": 1.0, \"y\": 1.0}, \"template\": {\"data\": {\"scatter\": [{\"type\": \"scatter\"}]}}, \"title\": {\"text\": \"exp3= inter32,intra1 -> inter1,intra1; restapi=64 -> restapi=2\", \"x\": 0.5, \"xanchor\": \"center\", \"y\": 0.85, \"yanchor\": \"top\"}, \"width\": 1000, \"xaxis\": {\"tickfont\": {\"color\": \"rgb(107, 107, 107)\", \"size\": 10}, \"tickvals\": [\"none\", \"cpu\", \"cpumem\"], \"title\": {\"font\": {\"color\": \"rgb(107, 107, 107)\", \"size\": 10}, \"text\": \"scenarios\"}}, \"yaxis\": {\"automargin\": true, \"tickfont\": {\"color\": \"rgb(107, 107, 107)\", \"size\": 25}, \"title\": {\"font\": {\"color\": \"rgb(107, 107, 107)\", \"size\": 25}, \"text\": \"qps\"}}},                        {\"responsive\": true}                    ).then(function(){\n",
       "                            \n",
       "var gd = document.getElementById('32bd01d3-b248-467c-88a3-54937918d8ae');\n",
       "var x = new MutationObserver(function (mutations, observer) {{\n",
       "        var display = window.getComputedStyle(gd).display;\n",
       "        if (!display || display === 'none') {{\n",
       "            console.log([gd, 'removed!']);\n",
       "            Plotly.purge(gd);\n",
       "            observer.disconnect();\n",
       "        }}\n",
       "}});\n",
       "\n",
       "// Listen for the removal of the full notebook cells\n",
       "var notebookContainer = gd.closest('#notebook-container');\n",
       "if (notebookContainer) {{\n",
       "    x.observe(notebookContainer, {childList: true});\n",
       "}}\n",
       "\n",
       "// Listen for the clearing of the current output cell\n",
       "var outputEl = gd.closest('.output');\n",
       "if (outputEl) {{\n",
       "    x.observe(outputEl, {childList: true});\n",
       "}}\n",
       "\n",
       "                        })                };                });            </script>        </div>"
      ]
     },
     "metadata": {},
     "output_type": "display_data"
    }
   ],
   "source": [
    "import matplotlib\n",
    "import matplotlib.pyplot as plt\n",
    "import numpy as np\n",
    "from svglib.svglib import svg2rlg\n",
    "from reportlab.graphics import renderPDF\n",
    "from reportlab.pdfgen import canvas\n",
    "\n",
    "from numpy import percentile, mean, std\n",
    "import plotly.graph_objects as go\n",
    "\n",
    "from plotly.offline import init_notebook_mode, iplot\n",
    "\n",
    "import plotly.io as pio\n",
    "pio.templates.default = \"none\"\n",
    "# pio.templates.default = \"simple_white\"\n",
    "\n",
    "import plotly.graph_objects as go\n",
    "from plotly.subplots import make_subplots\n",
    "import pandas as pd\n",
    "# import plotly.express as px\n",
    "\n",
    "\n",
    "for cbatch in [10]:\n",
    "    for model_name in ['resnet']:\n",
    "        list_traces = []\n",
    "        for numctn in [1,2,4,8,16,32]: \n",
    "            dfg_bench = dfg[(dfg['benchmark']== model_name)  & (dfg['cbatch']==cbatch) & (dfg['numctn']==numctn) &\\\n",
    "                        ((dfg['k8senv']=='none') |\\\n",
    "                         (dfg['k8senv']=='cpumem')| (dfg['k8senv']=='cpumemory'))]\n",
    "            print(dfg_bench)\n",
    "\n",
    "\n",
    "            #data\n",
    "            trace = go.Scatter(\n",
    "                name=\"ctn\"+str(numctn),\n",
    "                x=[ 'none','cpu','cpumem'],\n",
    "                y= dfg_bench['qps'].values.tolist(),\n",
    "    #             error_y = dict(type='data', array=df1_bench['model_time_std'].values.tolist()),\n",
    "                opacity=0.7,\n",
    "                mode='markers'\n",
    "            )\n",
    "            list_traces.append(trace)\n",
    "\n",
    "        \n",
    "\n",
    "        #layout\n",
    "        layout = go.Layout(\n",
    "            title={\n",
    "                'text': \"exp3= inter32,intra1 -> inter1,intra1; restapi=64 -> restapi=2\" ,\n",
    "                'y':0.85,\n",
    "                'x':0.5,\n",
    "                'xanchor': 'center',\n",
    "                'yanchor': 'top'},\n",
    "            width=1000,\n",
    "            height=460,\n",
    "            xaxis=dict(\n",
    "                title= \"scenarios\",\n",
    "                tickvals=[ 'none','cpu','cpumem'],\n",
    "                titlefont=dict(\n",
    "                    size=10,\n",
    "                    color='rgb(107, 107, 107)'\n",
    "                ),\n",
    "                tickfont=dict(\n",
    "                    size=10,\n",
    "                    color='rgb(107, 107, 107)'\n",
    "                )\n",
    "            ),\n",
    "            yaxis=dict(\n",
    "                title= \"qps\",\n",
    "                automargin=True,\n",
    "                titlefont=dict(\n",
    "                    size=25,\n",
    "                    color='rgb(107, 107, 107)'\n",
    "                ),\n",
    "                tickfont=dict(\n",
    "                    size=25,\n",
    "                    color='rgb(107, 107, 107)'\n",
    "                ),    \n",
    "            ),\n",
    "            legend=dict(\n",
    "                x=1.0,\n",
    "                y=1.0,\n",
    "                bgcolor='rgba(255, 255, 255, 0)',\n",
    "                bordercolor='rgba(255, 255, 255, 0)',\n",
    "                font = dict( size = 28)\n",
    "            ),\n",
    "            barmode='group',\n",
    "            bargap=0.15,\n",
    "            bargroupgap=0.08\n",
    "    #         legend_orientation=\"h\"\n",
    "        )\n",
    "\n",
    "    data = list_traces\n",
    "    fig = go.Figure(data=data, layout=layout)\n",
    "    fig.update_layout(legend_orientation=\"h\")\n",
    "    fig.show()    \n",
    "\n",
    "#     fig.write_image(path + model_name + k8senv +'.pdf')"
   ]
  },
  {
   "cell_type": "code",
   "execution_count": 10,
   "id": "19510c7e",
   "metadata": {},
   "outputs": [
    {
     "name": "stdout",
     "output_type": "stream",
     "text": [
      "Empty DataFrame\n",
      "Columns: [benchmark, k8senv, sbatch, numctn, cscenario, cbatch, reps, qps]\n",
      "Index: []\n",
      "Empty DataFrame\n",
      "Columns: [benchmark, k8senv, sbatch, numctn, cscenario, cbatch, reps, qps]\n",
      "Index: []\n",
      "Empty DataFrame\n",
      "Columns: [benchmark, k8senv, sbatch, numctn, cscenario, cbatch, reps, qps]\n",
      "Index: []\n",
      "Empty DataFrame\n",
      "Columns: [benchmark, k8senv, sbatch, numctn, cscenario, cbatch, reps, qps]\n",
      "Index: []\n",
      "Empty DataFrame\n",
      "Columns: [benchmark, k8senv, sbatch, numctn, cscenario, cbatch, reps, qps]\n",
      "Index: []\n",
      "Empty DataFrame\n",
      "Columns: [benchmark, k8senv, sbatch, numctn, cscenario, cbatch, reps, qps]\n",
      "Index: []\n"
     ]
    },
    {
     "data": {
      "application/vnd.plotly.v1+json": {
       "config": {
        "plotlyServerURL": "https://plot.ly"
       },
       "data": [
        {
         "mode": "markers",
         "name": "ctn1",
         "opacity": 0.7,
         "type": "scatter",
         "x": [
          "none",
          "cpu",
          "cpumem"
         ],
         "y": []
        },
        {
         "mode": "markers",
         "name": "ctn2",
         "opacity": 0.7,
         "type": "scatter",
         "x": [
          "none",
          "cpu",
          "cpumem"
         ],
         "y": []
        },
        {
         "mode": "markers",
         "name": "ctn4",
         "opacity": 0.7,
         "type": "scatter",
         "x": [
          "none",
          "cpu",
          "cpumem"
         ],
         "y": []
        },
        {
         "mode": "markers",
         "name": "ctn8",
         "opacity": 0.7,
         "type": "scatter",
         "x": [
          "none",
          "cpu",
          "cpumem"
         ],
         "y": []
        },
        {
         "mode": "markers",
         "name": "ctn16",
         "opacity": 0.7,
         "type": "scatter",
         "x": [
          "none",
          "cpu",
          "cpumem"
         ],
         "y": []
        },
        {
         "mode": "markers",
         "name": "ctn32",
         "opacity": 0.7,
         "type": "scatter",
         "x": [
          "none",
          "cpu",
          "cpumem"
         ],
         "y": []
        }
       ],
       "layout": {
        "bargap": 0.15,
        "bargroupgap": 0.08,
        "barmode": "group",
        "height": 460,
        "legend": {
         "bgcolor": "rgba(255, 255, 255, 0)",
         "bordercolor": "rgba(255, 255, 255, 0)",
         "font": {
          "size": 28
         },
         "orientation": "h",
         "x": 1,
         "y": 1
        },
        "template": {
         "data": {
          "scatter": [
           {
            "type": "scatter"
           }
          ]
         }
        },
        "title": {
         "text": "cpumemory-resnet",
         "x": 0.5,
         "xanchor": "center",
         "y": 0.85,
         "yanchor": "top"
        },
        "width": 1000,
        "xaxis": {
         "tickfont": {
          "color": "rgb(107, 107, 107)",
          "size": 10
         },
         "tickvals": [
          "none",
          "cpu",
          "cpumem"
         ],
         "title": {
          "font": {
           "color": "rgb(107, 107, 107)",
           "size": 10
          },
          "text": "scenarios"
         }
        },
        "yaxis": {
         "automargin": true,
         "tickfont": {
          "color": "rgb(107, 107, 107)",
          "size": 25
         },
         "title": {
          "font": {
           "color": "rgb(107, 107, 107)",
           "size": 25
          },
          "text": "qps"
         }
        }
       }
      },
      "text/html": [
       "<div>                            <div id=\"63aa5841-b416-4514-ac1a-b3a107c65467\" class=\"plotly-graph-div\" style=\"height:460px; width:1000px;\"></div>            <script type=\"text/javascript\">                require([\"plotly\"], function(Plotly) {                    window.PLOTLYENV=window.PLOTLYENV || {};                                    if (document.getElementById(\"63aa5841-b416-4514-ac1a-b3a107c65467\")) {                    Plotly.newPlot(                        \"63aa5841-b416-4514-ac1a-b3a107c65467\",                        [{\"mode\": \"markers\", \"name\": \"ctn1\", \"opacity\": 0.7, \"type\": \"scatter\", \"x\": [\"none\", \"cpu\", \"cpumem\"], \"y\": []}, {\"mode\": \"markers\", \"name\": \"ctn2\", \"opacity\": 0.7, \"type\": \"scatter\", \"x\": [\"none\", \"cpu\", \"cpumem\"], \"y\": []}, {\"mode\": \"markers\", \"name\": \"ctn4\", \"opacity\": 0.7, \"type\": \"scatter\", \"x\": [\"none\", \"cpu\", \"cpumem\"], \"y\": []}, {\"mode\": \"markers\", \"name\": \"ctn8\", \"opacity\": 0.7, \"type\": \"scatter\", \"x\": [\"none\", \"cpu\", \"cpumem\"], \"y\": []}, {\"mode\": \"markers\", \"name\": \"ctn16\", \"opacity\": 0.7, \"type\": \"scatter\", \"x\": [\"none\", \"cpu\", \"cpumem\"], \"y\": []}, {\"mode\": \"markers\", \"name\": \"ctn32\", \"opacity\": 0.7, \"type\": \"scatter\", \"x\": [\"none\", \"cpu\", \"cpumem\"], \"y\": []}],                        {\"bargap\": 0.15, \"bargroupgap\": 0.08, \"barmode\": \"group\", \"height\": 460, \"legend\": {\"bgcolor\": \"rgba(255, 255, 255, 0)\", \"bordercolor\": \"rgba(255, 255, 255, 0)\", \"font\": {\"size\": 28}, \"orientation\": \"h\", \"x\": 1.0, \"y\": 1.0}, \"template\": {\"data\": {\"scatter\": [{\"type\": \"scatter\"}]}}, \"title\": {\"text\": \"cpumemory-resnet\", \"x\": 0.5, \"xanchor\": \"center\", \"y\": 0.85, \"yanchor\": \"top\"}, \"width\": 1000, \"xaxis\": {\"tickfont\": {\"color\": \"rgb(107, 107, 107)\", \"size\": 10}, \"tickvals\": [\"none\", \"cpu\", \"cpumem\"], \"title\": {\"font\": {\"color\": \"rgb(107, 107, 107)\", \"size\": 10}, \"text\": \"scenarios\"}}, \"yaxis\": {\"automargin\": true, \"tickfont\": {\"color\": \"rgb(107, 107, 107)\", \"size\": 25}, \"title\": {\"font\": {\"color\": \"rgb(107, 107, 107)\", \"size\": 25}, \"text\": \"qps\"}}},                        {\"responsive\": true}                    ).then(function(){\n",
       "                            \n",
       "var gd = document.getElementById('63aa5841-b416-4514-ac1a-b3a107c65467');\n",
       "var x = new MutationObserver(function (mutations, observer) {{\n",
       "        var display = window.getComputedStyle(gd).display;\n",
       "        if (!display || display === 'none') {{\n",
       "            console.log([gd, 'removed!']);\n",
       "            Plotly.purge(gd);\n",
       "            observer.disconnect();\n",
       "        }}\n",
       "}});\n",
       "\n",
       "// Listen for the removal of the full notebook cells\n",
       "var notebookContainer = gd.closest('#notebook-container');\n",
       "if (notebookContainer) {{\n",
       "    x.observe(notebookContainer, {childList: true});\n",
       "}}\n",
       "\n",
       "// Listen for the clearing of the current output cell\n",
       "var outputEl = gd.closest('.output');\n",
       "if (outputEl) {{\n",
       "    x.observe(outputEl, {childList: true});\n",
       "}}\n",
       "\n",
       "                        })                };                });            </script>        </div>"
      ]
     },
     "metadata": {},
     "output_type": "display_data"
    }
   ],
   "source": [
    "import matplotlib\n",
    "import matplotlib.pyplot as plt\n",
    "import numpy as np\n",
    "from svglib.svglib import svg2rlg\n",
    "from reportlab.graphics import renderPDF\n",
    "from reportlab.pdfgen import canvas\n",
    "\n",
    "from numpy import percentile, mean, std\n",
    "import plotly.graph_objects as go\n",
    "\n",
    "from plotly.offline import init_notebook_mode, iplot\n",
    "\n",
    "import plotly.io as pio\n",
    "pio.templates.default = \"none\"\n",
    "# pio.templates.default = \"simple_white\"\n",
    "\n",
    "import plotly.graph_objects as go\n",
    "from plotly.subplots import make_subplots\n",
    "import pandas as pd\n",
    "# import plotly.express as px\n",
    "\n",
    "\n",
    "for cbatch in [8]:\n",
    "    for model_name in ['resnet']:\n",
    "        list_traces = []\n",
    "        for numctn in [1,2,4,8,16,32]: \n",
    "            dfg_bench = dfg[(dfg['benchmark']== model_name)  & (dfg['cbatch']==cbatch) & (dfg['numctn']==numctn) &\\\n",
    "                        ((dfg['k8senv']=='none') |\\\n",
    "                         (dfg['k8senv']=='cpumem')| (dfg['k8senv']=='cpumemory'))]\n",
    "            print(dfg_bench)\n",
    "\n",
    "\n",
    "            #data\n",
    "            trace = go.Scatter(\n",
    "                name=\"ctn\"+str(numctn),\n",
    "                x=[ 'none','cpu','cpumem'],\n",
    "                y= dfg_bench['qps'].values.tolist(),\n",
    "    #             error_y = dict(type='data', array=df1_bench['model_time_std'].values.tolist()),\n",
    "                opacity=0.7,\n",
    "                mode='markers'\n",
    "            )\n",
    "            list_traces.append(trace)\n",
    "\n",
    "        \n",
    "\n",
    "        #layout\n",
    "        layout = go.Layout(\n",
    "            title={\n",
    "                'text': k8senv+\"-\"+model_name ,\n",
    "                'y':0.85,\n",
    "                'x':0.5,\n",
    "                'xanchor': 'center',\n",
    "                'yanchor': 'top'},\n",
    "            width=1000,\n",
    "            height=460,\n",
    "            xaxis=dict(\n",
    "                title= \"scenarios\",\n",
    "                tickvals=[ 'none','cpu','cpumem'],\n",
    "                titlefont=dict(\n",
    "                    size=10,\n",
    "                    color='rgb(107, 107, 107)'\n",
    "                ),\n",
    "                tickfont=dict(\n",
    "                    size=10,\n",
    "                    color='rgb(107, 107, 107)'\n",
    "                )\n",
    "            ),\n",
    "            yaxis=dict(\n",
    "                title= \"qps\",\n",
    "                automargin=True,\n",
    "                titlefont=dict(\n",
    "                    size=25,\n",
    "                    color='rgb(107, 107, 107)'\n",
    "                ),\n",
    "                tickfont=dict(\n",
    "                    size=25,\n",
    "                    color='rgb(107, 107, 107)'\n",
    "                ),    \n",
    "            ),\n",
    "            legend=dict(\n",
    "                x=1.0,\n",
    "                y=1.0,\n",
    "                bgcolor='rgba(255, 255, 255, 0)',\n",
    "                bordercolor='rgba(255, 255, 255, 0)',\n",
    "                font = dict( size = 28)\n",
    "            ),\n",
    "            barmode='group',\n",
    "            bargap=0.15,\n",
    "            bargroupgap=0.08\n",
    "    #         legend_orientation=\"h\"\n",
    "        )\n",
    "\n",
    "    data = list_traces\n",
    "    fig = go.Figure(data=data, layout=layout)\n",
    "    fig.update_layout(legend_orientation=\"h\")\n",
    "    fig.show()    \n",
    "\n",
    "#     fig.write_image(path + model_name + k8senv +'.pdf')"
   ]
  },
  {
   "cell_type": "code",
   "execution_count": null,
   "id": "d7ddb081",
   "metadata": {},
   "outputs": [],
   "source": []
  },
  {
   "cell_type": "code",
   "execution_count": null,
   "id": "4232f1de",
   "metadata": {},
   "outputs": [],
   "source": []
  },
  {
   "cell_type": "code",
   "execution_count": null,
   "id": "41a87e54",
   "metadata": {},
   "outputs": [],
   "source": []
  },
  {
   "cell_type": "code",
   "execution_count": null,
   "id": "e58b2c83",
   "metadata": {},
   "outputs": [],
   "source": []
  }
 ],
 "metadata": {
  "kernelspec": {
   "display_name": "Python 3",
   "language": "python",
   "name": "python3"
  },
  "language_info": {
   "codemirror_mode": {
    "name": "ipython",
    "version": 3
   },
   "file_extension": ".py",
   "mimetype": "text/x-python",
   "name": "python",
   "nbconvert_exporter": "python",
   "pygments_lexer": "ipython3",
   "version": "3.8.5"
  }
 },
 "nbformat": 4,
 "nbformat_minor": 5
}
