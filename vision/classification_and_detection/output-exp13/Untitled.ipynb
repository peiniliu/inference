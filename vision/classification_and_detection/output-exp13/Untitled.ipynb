{
 "cells": [
  {
   "cell_type": "code",
   "execution_count": 24,
   "id": "de0246d4",
   "metadata": {},
   "outputs": [
    {
     "data": {
      "text/html": [
       "        <script type=\"text/javascript\">\n",
       "        window.PlotlyConfig = {MathJaxConfig: 'local'};\n",
       "        if (window.MathJax) {MathJax.Hub.Config({SVG: {font: \"STIX-Web\"}});}\n",
       "        if (typeof require !== 'undefined') {\n",
       "        require.undef(\"plotly\");\n",
       "        requirejs.config({\n",
       "            paths: {\n",
       "                'plotly': ['https://cdn.plot.ly/plotly-latest.min']\n",
       "            }\n",
       "        });\n",
       "        require(['plotly'], function(Plotly) {\n",
       "            window._Plotly = Plotly;\n",
       "        });\n",
       "        }\n",
       "        </script>\n",
       "        "
      ]
     },
     "metadata": {},
     "output_type": "display_data"
    },
    {
     "data": {
      "text/html": [
       "<div>\n",
       "<style scoped>\n",
       "    .dataframe tbody tr th:only-of-type {\n",
       "        vertical-align: middle;\n",
       "    }\n",
       "\n",
       "    .dataframe tbody tr th {\n",
       "        vertical-align: top;\n",
       "    }\n",
       "\n",
       "    .dataframe thead th {\n",
       "        text-align: right;\n",
       "    }\n",
       "</style>\n",
       "<table border=\"1\" class=\"dataframe\">\n",
       "  <thead>\n",
       "    <tr style=\"text-align: right;\">\n",
       "      <th></th>\n",
       "      <th>benchmark</th>\n",
       "      <th>k8senv</th>\n",
       "      <th>sbatch</th>\n",
       "      <th>numctn</th>\n",
       "      <th>cscenario</th>\n",
       "      <th>cbatch</th>\n",
       "      <th>reps</th>\n",
       "      <th>qps</th>\n",
       "      <th>mean</th>\n",
       "      <th>p50</th>\n",
       "      <th>p80</th>\n",
       "      <th>p90</th>\n",
       "      <th>p95</th>\n",
       "      <th>p99</th>\n",
       "      <th>p999</th>\n",
       "    </tr>\n",
       "  </thead>\n",
       "  <tbody>\n",
       "    <tr>\n",
       "      <th>0</th>\n",
       "      <td>resnet</td>\n",
       "      <td>none</td>\n",
       "      <td>96</td>\n",
       "      <td>1</td>\n",
       "      <td>offline</td>\n",
       "      <td>10</td>\n",
       "      <td>10</td>\n",
       "      <td>146.528323</td>\n",
       "      <td>85.427375</td>\n",
       "      <td>85.578261</td>\n",
       "      <td>135.452914</td>\n",
       "      <td>152.048320</td>\n",
       "      <td>160.486553</td>\n",
       "      <td>167.132523</td>\n",
       "      <td>167.666197</td>\n",
       "    </tr>\n",
       "    <tr>\n",
       "      <th>1</th>\n",
       "      <td>resnet</td>\n",
       "      <td>none</td>\n",
       "      <td>96</td>\n",
       "      <td>2</td>\n",
       "      <td>offline</td>\n",
       "      <td>10</td>\n",
       "      <td>10</td>\n",
       "      <td>181.109231</td>\n",
       "      <td>70.885517</td>\n",
       "      <td>71.195680</td>\n",
       "      <td>110.351168</td>\n",
       "      <td>123.556515</td>\n",
       "      <td>130.091012</td>\n",
       "      <td>135.211298</td>\n",
       "      <td>135.658693</td>\n",
       "    </tr>\n",
       "    <tr>\n",
       "      <th>2</th>\n",
       "      <td>resnet</td>\n",
       "      <td>none</td>\n",
       "      <td>96</td>\n",
       "      <td>4</td>\n",
       "      <td>offline</td>\n",
       "      <td>10</td>\n",
       "      <td>10</td>\n",
       "      <td>184.014607</td>\n",
       "      <td>69.239406</td>\n",
       "      <td>69.380746</td>\n",
       "      <td>108.363539</td>\n",
       "      <td>121.410618</td>\n",
       "      <td>127.807665</td>\n",
       "      <td>132.932000</td>\n",
       "      <td>133.516361</td>\n",
       "    </tr>\n",
       "    <tr>\n",
       "      <th>3</th>\n",
       "      <td>resnet</td>\n",
       "      <td>none</td>\n",
       "      <td>96</td>\n",
       "      <td>8</td>\n",
       "      <td>offline</td>\n",
       "      <td>10</td>\n",
       "      <td>10</td>\n",
       "      <td>181.926276</td>\n",
       "      <td>69.076344</td>\n",
       "      <td>69.015565</td>\n",
       "      <td>108.810026</td>\n",
       "      <td>122.012185</td>\n",
       "      <td>128.543803</td>\n",
       "      <td>133.743999</td>\n",
       "      <td>134.946997</td>\n",
       "    </tr>\n",
       "    <tr>\n",
       "      <th>4</th>\n",
       "      <td>resnet</td>\n",
       "      <td>none</td>\n",
       "      <td>96</td>\n",
       "      <td>16</td>\n",
       "      <td>offline</td>\n",
       "      <td>10</td>\n",
       "      <td>10</td>\n",
       "      <td>178.105701</td>\n",
       "      <td>70.352754</td>\n",
       "      <td>70.351487</td>\n",
       "      <td>110.841742</td>\n",
       "      <td>124.380083</td>\n",
       "      <td>130.918601</td>\n",
       "      <td>136.104948</td>\n",
       "      <td>137.555879</td>\n",
       "    </tr>\n",
       "  </tbody>\n",
       "</table>\n",
       "</div>"
      ],
      "text/plain": [
       "  benchmark k8senv  sbatch  numctn cscenario  cbatch  reps         qps  \\\n",
       "0    resnet   none      96       1   offline      10    10  146.528323   \n",
       "1    resnet   none      96       2   offline      10    10  181.109231   \n",
       "2    resnet   none      96       4   offline      10    10  184.014607   \n",
       "3    resnet   none      96       8   offline      10    10  181.926276   \n",
       "4    resnet   none      96      16   offline      10    10  178.105701   \n",
       "\n",
       "        mean        p50         p80         p90         p95         p99  \\\n",
       "0  85.427375  85.578261  135.452914  152.048320  160.486553  167.132523   \n",
       "1  70.885517  71.195680  110.351168  123.556515  130.091012  135.211298   \n",
       "2  69.239406  69.380746  108.363539  121.410618  127.807665  132.932000   \n",
       "3  69.076344  69.015565  108.810026  122.012185  128.543803  133.743999   \n",
       "4  70.352754  70.351487  110.841742  124.380083  130.918601  136.104948   \n",
       "\n",
       "         p999  \n",
       "0  167.666197  \n",
       "1  135.658693  \n",
       "2  133.516361  \n",
       "3  134.946997  \n",
       "4  137.555879  "
      ]
     },
     "execution_count": 24,
     "metadata": {},
     "output_type": "execute_result"
    }
   ],
   "source": [
    "import pandas as pd\n",
    "import glob\n",
    "# import plotly.plotly as py\n",
    "import plotly.graph_objs as go\n",
    "\n",
    "from plotly import tools\n",
    "from plotly.offline import init_notebook_mode, iplot\n",
    "init_notebook_mode(connected=True) \n",
    "\n",
    "import numpy as np\n",
    "import matplotlib.pyplot as plt\n",
    "# include if using a Jupyter notebook\n",
    "# %matplotlib inline\n",
    "\n",
    "path = \"/gpfs/bsc_home/xpliu/inference/vision/classification_and_detection/output-exp13/\"\n",
    "all_files = glob.glob(path + \"*.csv\")\n",
    "\n",
    "li = []\n",
    "\n",
    "for filename in all_files:\n",
    "    df = pd.read_csv(filename, index_col=None, header=0)\n",
    "    li.append(df)\n",
    "\n",
    "df = pd.concat(li, axis=0, ignore_index=True)\n",
    "df.head()"
   ]
  },
  {
   "cell_type": "code",
   "execution_count": 25,
   "id": "fe8c3d7f",
   "metadata": {},
   "outputs": [
    {
     "data": {
      "text/plain": [
       "18"
      ]
     },
     "execution_count": 25,
     "metadata": {},
     "output_type": "execute_result"
    }
   ],
   "source": [
    "len(df)"
   ]
  },
  {
   "cell_type": "code",
   "execution_count": 26,
   "id": "d48083a0",
   "metadata": {},
   "outputs": [
    {
     "data": {
      "text/plain": [
       "array(['resnet'], dtype=object)"
      ]
     },
     "execution_count": 26,
     "metadata": {},
     "output_type": "execute_result"
    }
   ],
   "source": [
    "df['benchmark'].unique()"
   ]
  },
  {
   "cell_type": "code",
   "execution_count": 27,
   "id": "b318f564",
   "metadata": {},
   "outputs": [
    {
     "data": {
      "text/plain": [
       "array(['none', 'cpumemory', 'cpumem'], dtype=object)"
      ]
     },
     "execution_count": 27,
     "metadata": {},
     "output_type": "execute_result"
    }
   ],
   "source": [
    "df['k8senv'].unique()"
   ]
  },
  {
   "cell_type": "code",
   "execution_count": 28,
   "id": "a2a7701a",
   "metadata": {},
   "outputs": [
    {
     "data": {
      "text/plain": [
       "numpy.float64"
      ]
     },
     "execution_count": 28,
     "metadata": {},
     "output_type": "execute_result"
    }
   ],
   "source": [
    "type(df['qps'][0])"
   ]
  },
  {
   "cell_type": "markdown",
   "id": "53f2033c",
   "metadata": {},
   "source": [
    "# Graph"
   ]
  },
  {
   "cell_type": "code",
   "execution_count": 29,
   "id": "5786faec",
   "metadata": {},
   "outputs": [
    {
     "data": {
      "text/html": [
       "        <script type=\"text/javascript\">\n",
       "        window.PlotlyConfig = {MathJaxConfig: 'local'};\n",
       "        if (window.MathJax) {MathJax.Hub.Config({SVG: {font: \"STIX-Web\"}});}\n",
       "        if (typeof require !== 'undefined') {\n",
       "        require.undef(\"plotly\");\n",
       "        requirejs.config({\n",
       "            paths: {\n",
       "                'plotly': ['https://cdn.plot.ly/plotly-latest.min']\n",
       "            }\n",
       "        });\n",
       "        require(['plotly'], function(Plotly) {\n",
       "            window._Plotly = Plotly;\n",
       "        });\n",
       "        }\n",
       "        </script>\n",
       "        "
      ]
     },
     "metadata": {},
     "output_type": "display_data"
    },
    {
     "data": {
      "text/html": [
       "<div>\n",
       "<style scoped>\n",
       "    .dataframe tbody tr th:only-of-type {\n",
       "        vertical-align: middle;\n",
       "    }\n",
       "\n",
       "    .dataframe tbody tr th {\n",
       "        vertical-align: top;\n",
       "    }\n",
       "\n",
       "    .dataframe thead th {\n",
       "        text-align: right;\n",
       "    }\n",
       "</style>\n",
       "<table border=\"1\" class=\"dataframe\">\n",
       "  <thead>\n",
       "    <tr style=\"text-align: right;\">\n",
       "      <th></th>\n",
       "      <th>benchmark</th>\n",
       "      <th>k8senv</th>\n",
       "      <th>sbatch</th>\n",
       "      <th>numctn</th>\n",
       "      <th>cscenario</th>\n",
       "      <th>cbatch</th>\n",
       "      <th>reps</th>\n",
       "      <th>qps</th>\n",
       "      <th>mean</th>\n",
       "      <th>p50</th>\n",
       "      <th>p80</th>\n",
       "      <th>p90</th>\n",
       "      <th>p95</th>\n",
       "      <th>p99</th>\n",
       "      <th>p999</th>\n",
       "    </tr>\n",
       "  </thead>\n",
       "  <tbody>\n",
       "    <tr>\n",
       "      <th>0</th>\n",
       "      <td>resnet</td>\n",
       "      <td>none</td>\n",
       "      <td>96</td>\n",
       "      <td>1</td>\n",
       "      <td>offline</td>\n",
       "      <td>10</td>\n",
       "      <td>10</td>\n",
       "      <td>146.528323</td>\n",
       "      <td>85.427375</td>\n",
       "      <td>85.578261</td>\n",
       "      <td>135.452914</td>\n",
       "      <td>152.048320</td>\n",
       "      <td>160.486553</td>\n",
       "      <td>167.132523</td>\n",
       "      <td>167.666197</td>\n",
       "    </tr>\n",
       "    <tr>\n",
       "      <th>1</th>\n",
       "      <td>resnet</td>\n",
       "      <td>none</td>\n",
       "      <td>96</td>\n",
       "      <td>2</td>\n",
       "      <td>offline</td>\n",
       "      <td>10</td>\n",
       "      <td>10</td>\n",
       "      <td>181.109231</td>\n",
       "      <td>70.885517</td>\n",
       "      <td>71.195680</td>\n",
       "      <td>110.351168</td>\n",
       "      <td>123.556515</td>\n",
       "      <td>130.091012</td>\n",
       "      <td>135.211298</td>\n",
       "      <td>135.658693</td>\n",
       "    </tr>\n",
       "    <tr>\n",
       "      <th>2</th>\n",
       "      <td>resnet</td>\n",
       "      <td>none</td>\n",
       "      <td>96</td>\n",
       "      <td>4</td>\n",
       "      <td>offline</td>\n",
       "      <td>10</td>\n",
       "      <td>10</td>\n",
       "      <td>184.014607</td>\n",
       "      <td>69.239406</td>\n",
       "      <td>69.380746</td>\n",
       "      <td>108.363539</td>\n",
       "      <td>121.410618</td>\n",
       "      <td>127.807665</td>\n",
       "      <td>132.932000</td>\n",
       "      <td>133.516361</td>\n",
       "    </tr>\n",
       "    <tr>\n",
       "      <th>3</th>\n",
       "      <td>resnet</td>\n",
       "      <td>none</td>\n",
       "      <td>96</td>\n",
       "      <td>8</td>\n",
       "      <td>offline</td>\n",
       "      <td>10</td>\n",
       "      <td>10</td>\n",
       "      <td>181.926276</td>\n",
       "      <td>69.076344</td>\n",
       "      <td>69.015565</td>\n",
       "      <td>108.810026</td>\n",
       "      <td>122.012185</td>\n",
       "      <td>128.543803</td>\n",
       "      <td>133.743999</td>\n",
       "      <td>134.946997</td>\n",
       "    </tr>\n",
       "    <tr>\n",
       "      <th>4</th>\n",
       "      <td>resnet</td>\n",
       "      <td>none</td>\n",
       "      <td>96</td>\n",
       "      <td>16</td>\n",
       "      <td>offline</td>\n",
       "      <td>10</td>\n",
       "      <td>10</td>\n",
       "      <td>178.105701</td>\n",
       "      <td>70.352754</td>\n",
       "      <td>70.351487</td>\n",
       "      <td>110.841742</td>\n",
       "      <td>124.380083</td>\n",
       "      <td>130.918601</td>\n",
       "      <td>136.104948</td>\n",
       "      <td>137.555879</td>\n",
       "    </tr>\n",
       "    <tr>\n",
       "      <th>5</th>\n",
       "      <td>resnet</td>\n",
       "      <td>none</td>\n",
       "      <td>96</td>\n",
       "      <td>32</td>\n",
       "      <td>offline</td>\n",
       "      <td>10</td>\n",
       "      <td>10</td>\n",
       "      <td>166.622777</td>\n",
       "      <td>74.380107</td>\n",
       "      <td>74.395939</td>\n",
       "      <td>117.689058</td>\n",
       "      <td>132.009890</td>\n",
       "      <td>139.325044</td>\n",
       "      <td>145.296501</td>\n",
       "      <td>146.807331</td>\n",
       "    </tr>\n",
       "    <tr>\n",
       "      <th>6</th>\n",
       "      <td>resnet</td>\n",
       "      <td>cpumemory</td>\n",
       "      <td>96</td>\n",
       "      <td>1</td>\n",
       "      <td>offline</td>\n",
       "      <td>10</td>\n",
       "      <td>10</td>\n",
       "      <td>146.250888</td>\n",
       "      <td>85.558486</td>\n",
       "      <td>85.530456</td>\n",
       "      <td>135.825074</td>\n",
       "      <td>152.621794</td>\n",
       "      <td>160.807556</td>\n",
       "      <td>167.416861</td>\n",
       "      <td>168.000396</td>\n",
       "    </tr>\n",
       "    <tr>\n",
       "      <th>7</th>\n",
       "      <td>resnet</td>\n",
       "      <td>cpumemory</td>\n",
       "      <td>96</td>\n",
       "      <td>2</td>\n",
       "      <td>offline</td>\n",
       "      <td>10</td>\n",
       "      <td>10</td>\n",
       "      <td>190.376975</td>\n",
       "      <td>65.922401</td>\n",
       "      <td>65.776663</td>\n",
       "      <td>104.516926</td>\n",
       "      <td>117.313924</td>\n",
       "      <td>123.657533</td>\n",
       "      <td>128.627293</td>\n",
       "      <td>129.048558</td>\n",
       "    </tr>\n",
       "    <tr>\n",
       "      <th>8</th>\n",
       "      <td>resnet</td>\n",
       "      <td>cpumemory</td>\n",
       "      <td>96</td>\n",
       "      <td>4</td>\n",
       "      <td>offline</td>\n",
       "      <td>10</td>\n",
       "      <td>10</td>\n",
       "      <td>191.337909</td>\n",
       "      <td>65.349224</td>\n",
       "      <td>65.195876</td>\n",
       "      <td>103.663262</td>\n",
       "      <td>116.393756</td>\n",
       "      <td>122.924247</td>\n",
       "      <td>127.721078</td>\n",
       "      <td>128.361917</td>\n",
       "    </tr>\n",
       "    <tr>\n",
       "      <th>9</th>\n",
       "      <td>resnet</td>\n",
       "      <td>cpumemory</td>\n",
       "      <td>96</td>\n",
       "      <td>8</td>\n",
       "      <td>offline</td>\n",
       "      <td>10</td>\n",
       "      <td>10</td>\n",
       "      <td>190.770785</td>\n",
       "      <td>65.403724</td>\n",
       "      <td>65.255111</td>\n",
       "      <td>103.864076</td>\n",
       "      <td>116.564653</td>\n",
       "      <td>122.892717</td>\n",
       "      <td>127.982900</td>\n",
       "      <td>128.676679</td>\n",
       "    </tr>\n",
       "    <tr>\n",
       "      <th>10</th>\n",
       "      <td>resnet</td>\n",
       "      <td>cpumemory</td>\n",
       "      <td>96</td>\n",
       "      <td>16</td>\n",
       "      <td>offline</td>\n",
       "      <td>10</td>\n",
       "      <td>10</td>\n",
       "      <td>188.621467</td>\n",
       "      <td>66.015021</td>\n",
       "      <td>65.937691</td>\n",
       "      <td>104.655194</td>\n",
       "      <td>117.399174</td>\n",
       "      <td>123.853938</td>\n",
       "      <td>128.826189</td>\n",
       "      <td>129.848868</td>\n",
       "    </tr>\n",
       "    <tr>\n",
       "      <th>11</th>\n",
       "      <td>resnet</td>\n",
       "      <td>cpumemory</td>\n",
       "      <td>96</td>\n",
       "      <td>32</td>\n",
       "      <td>offline</td>\n",
       "      <td>10</td>\n",
       "      <td>10</td>\n",
       "      <td>185.395475</td>\n",
       "      <td>67.475375</td>\n",
       "      <td>67.660529</td>\n",
       "      <td>107.095486</td>\n",
       "      <td>119.774452</td>\n",
       "      <td>126.050500</td>\n",
       "      <td>131.267633</td>\n",
       "      <td>132.502751</td>\n",
       "    </tr>\n",
       "    <tr>\n",
       "      <th>12</th>\n",
       "      <td>resnet</td>\n",
       "      <td>cpumem</td>\n",
       "      <td>96</td>\n",
       "      <td>1</td>\n",
       "      <td>offline</td>\n",
       "      <td>10</td>\n",
       "      <td>10</td>\n",
       "      <td>145.535254</td>\n",
       "      <td>85.925809</td>\n",
       "      <td>86.069312</td>\n",
       "      <td>136.523843</td>\n",
       "      <td>153.203836</td>\n",
       "      <td>161.730373</td>\n",
       "      <td>168.218786</td>\n",
       "      <td>168.825368</td>\n",
       "    </tr>\n",
       "    <tr>\n",
       "      <th>13</th>\n",
       "      <td>resnet</td>\n",
       "      <td>cpumem</td>\n",
       "      <td>96</td>\n",
       "      <td>2</td>\n",
       "      <td>offline</td>\n",
       "      <td>10</td>\n",
       "      <td>10</td>\n",
       "      <td>190.658748</td>\n",
       "      <td>65.713498</td>\n",
       "      <td>65.651668</td>\n",
       "      <td>104.144787</td>\n",
       "      <td>116.942671</td>\n",
       "      <td>123.521879</td>\n",
       "      <td>128.389666</td>\n",
       "      <td>128.854212</td>\n",
       "    </tr>\n",
       "    <tr>\n",
       "      <th>14</th>\n",
       "      <td>resnet</td>\n",
       "      <td>cpumem</td>\n",
       "      <td>96</td>\n",
       "      <td>4</td>\n",
       "      <td>offline</td>\n",
       "      <td>10</td>\n",
       "      <td>10</td>\n",
       "      <td>191.438257</td>\n",
       "      <td>65.408525</td>\n",
       "      <td>65.468059</td>\n",
       "      <td>103.719557</td>\n",
       "      <td>116.458005</td>\n",
       "      <td>122.772697</td>\n",
       "      <td>127.752735</td>\n",
       "      <td>128.304585</td>\n",
       "    </tr>\n",
       "    <tr>\n",
       "      <th>15</th>\n",
       "      <td>resnet</td>\n",
       "      <td>cpumem</td>\n",
       "      <td>96</td>\n",
       "      <td>8</td>\n",
       "      <td>offline</td>\n",
       "      <td>10</td>\n",
       "      <td>10</td>\n",
       "      <td>190.950987</td>\n",
       "      <td>65.446450</td>\n",
       "      <td>65.385072</td>\n",
       "      <td>103.802552</td>\n",
       "      <td>116.450421</td>\n",
       "      <td>122.860691</td>\n",
       "      <td>127.956417</td>\n",
       "      <td>128.612127</td>\n",
       "    </tr>\n",
       "    <tr>\n",
       "      <th>16</th>\n",
       "      <td>resnet</td>\n",
       "      <td>cpumem</td>\n",
       "      <td>96</td>\n",
       "      <td>16</td>\n",
       "      <td>offline</td>\n",
       "      <td>10</td>\n",
       "      <td>10</td>\n",
       "      <td>188.636885</td>\n",
       "      <td>65.967647</td>\n",
       "      <td>65.928095</td>\n",
       "      <td>104.606722</td>\n",
       "      <td>117.488630</td>\n",
       "      <td>123.862986</td>\n",
       "      <td>128.958361</td>\n",
       "      <td>130.067050</td>\n",
       "    </tr>\n",
       "    <tr>\n",
       "      <th>17</th>\n",
       "      <td>resnet</td>\n",
       "      <td>cpumem</td>\n",
       "      <td>96</td>\n",
       "      <td>32</td>\n",
       "      <td>offline</td>\n",
       "      <td>10</td>\n",
       "      <td>10</td>\n",
       "      <td>186.184038</td>\n",
       "      <td>66.973816</td>\n",
       "      <td>67.213242</td>\n",
       "      <td>105.922501</td>\n",
       "      <td>118.841857</td>\n",
       "      <td>125.287619</td>\n",
       "      <td>130.375071</td>\n",
       "      <td>131.496242</td>\n",
       "    </tr>\n",
       "  </tbody>\n",
       "</table>\n",
       "</div>"
      ],
      "text/plain": [
       "   benchmark     k8senv  sbatch  numctn cscenario  cbatch  reps         qps  \\\n",
       "0     resnet       none      96       1   offline      10    10  146.528323   \n",
       "1     resnet       none      96       2   offline      10    10  181.109231   \n",
       "2     resnet       none      96       4   offline      10    10  184.014607   \n",
       "3     resnet       none      96       8   offline      10    10  181.926276   \n",
       "4     resnet       none      96      16   offline      10    10  178.105701   \n",
       "5     resnet       none      96      32   offline      10    10  166.622777   \n",
       "6     resnet  cpumemory      96       1   offline      10    10  146.250888   \n",
       "7     resnet  cpumemory      96       2   offline      10    10  190.376975   \n",
       "8     resnet  cpumemory      96       4   offline      10    10  191.337909   \n",
       "9     resnet  cpumemory      96       8   offline      10    10  190.770785   \n",
       "10    resnet  cpumemory      96      16   offline      10    10  188.621467   \n",
       "11    resnet  cpumemory      96      32   offline      10    10  185.395475   \n",
       "12    resnet     cpumem      96       1   offline      10    10  145.535254   \n",
       "13    resnet     cpumem      96       2   offline      10    10  190.658748   \n",
       "14    resnet     cpumem      96       4   offline      10    10  191.438257   \n",
       "15    resnet     cpumem      96       8   offline      10    10  190.950987   \n",
       "16    resnet     cpumem      96      16   offline      10    10  188.636885   \n",
       "17    resnet     cpumem      96      32   offline      10    10  186.184038   \n",
       "\n",
       "         mean        p50         p80         p90         p95         p99  \\\n",
       "0   85.427375  85.578261  135.452914  152.048320  160.486553  167.132523   \n",
       "1   70.885517  71.195680  110.351168  123.556515  130.091012  135.211298   \n",
       "2   69.239406  69.380746  108.363539  121.410618  127.807665  132.932000   \n",
       "3   69.076344  69.015565  108.810026  122.012185  128.543803  133.743999   \n",
       "4   70.352754  70.351487  110.841742  124.380083  130.918601  136.104948   \n",
       "5   74.380107  74.395939  117.689058  132.009890  139.325044  145.296501   \n",
       "6   85.558486  85.530456  135.825074  152.621794  160.807556  167.416861   \n",
       "7   65.922401  65.776663  104.516926  117.313924  123.657533  128.627293   \n",
       "8   65.349224  65.195876  103.663262  116.393756  122.924247  127.721078   \n",
       "9   65.403724  65.255111  103.864076  116.564653  122.892717  127.982900   \n",
       "10  66.015021  65.937691  104.655194  117.399174  123.853938  128.826189   \n",
       "11  67.475375  67.660529  107.095486  119.774452  126.050500  131.267633   \n",
       "12  85.925809  86.069312  136.523843  153.203836  161.730373  168.218786   \n",
       "13  65.713498  65.651668  104.144787  116.942671  123.521879  128.389666   \n",
       "14  65.408525  65.468059  103.719557  116.458005  122.772697  127.752735   \n",
       "15  65.446450  65.385072  103.802552  116.450421  122.860691  127.956417   \n",
       "16  65.967647  65.928095  104.606722  117.488630  123.862986  128.958361   \n",
       "17  66.973816  67.213242  105.922501  118.841857  125.287619  130.375071   \n",
       "\n",
       "          p999  \n",
       "0   167.666197  \n",
       "1   135.658693  \n",
       "2   133.516361  \n",
       "3   134.946997  \n",
       "4   137.555879  \n",
       "5   146.807331  \n",
       "6   168.000396  \n",
       "7   129.048558  \n",
       "8   128.361917  \n",
       "9   128.676679  \n",
       "10  129.848868  \n",
       "11  132.502751  \n",
       "12  168.825368  \n",
       "13  128.854212  \n",
       "14  128.304585  \n",
       "15  128.612127  \n",
       "16  130.067050  \n",
       "17  131.496242  "
      ]
     },
     "execution_count": 29,
     "metadata": {},
     "output_type": "execute_result"
    }
   ],
   "source": [
    "import pandas as pd\n",
    "import glob\n",
    "# import plotly.plotly as py\n",
    "import plotly.graph_objs as go\n",
    "\n",
    "from plotly import tools\n",
    "from plotly.offline import init_notebook_mode, iplot\n",
    "init_notebook_mode(connected=True) \n",
    "\n",
    "import numpy as np\n",
    "import matplotlib.pyplot as plt\n",
    "# include if using a Jupyter notebook\n",
    "%matplotlib inline\n",
    "dfg = df\n",
    "dfg"
   ]
  },
  {
   "cell_type": "code",
   "execution_count": 31,
   "id": "1147c970",
   "metadata": {
    "scrolled": false
   },
   "outputs": [
    {
     "data": {
      "application/vnd.plotly.v1+json": {
       "config": {
        "plotlyServerURL": "https://plot.ly"
       },
       "data": [
        {
         "mode": "markers",
         "name": "ctn1",
         "opacity": 0.7,
         "type": "scatter",
         "x": [
          "none",
          "cpumem",
          "cpu"
         ],
         "y": [
          146.5283227822116,
          146.25088790522295,
          145.535254106185
         ]
        },
        {
         "mode": "markers",
         "name": "ctn2",
         "opacity": 0.7,
         "type": "scatter",
         "x": [
          "none",
          "cpumem",
          "cpu"
         ],
         "y": [
          181.10923126684295,
          190.37697512652136,
          190.65874832980657
         ]
        },
        {
         "mode": "markers",
         "name": "ctn4",
         "opacity": 0.7,
         "type": "scatter",
         "x": [
          "none",
          "cpumem",
          "cpu"
         ],
         "y": [
          184.01460702935157,
          191.337909304242,
          191.4382574854029
         ]
        },
        {
         "mode": "markers",
         "name": "ctn8",
         "opacity": 0.7,
         "type": "scatter",
         "x": [
          "none",
          "cpumem",
          "cpu"
         ],
         "y": [
          181.92627595789423,
          190.77078540153093,
          190.95098704878407
         ]
        },
        {
         "mode": "markers",
         "name": "ctn16",
         "opacity": 0.7,
         "type": "scatter",
         "x": [
          "none",
          "cpumem",
          "cpu"
         ],
         "y": [
          178.10570055634977,
          188.62146701232453,
          188.63688451273768
         ]
        },
        {
         "mode": "markers",
         "name": "ctn32",
         "opacity": 0.7,
         "type": "scatter",
         "x": [
          "none",
          "cpumem",
          "cpu"
         ],
         "y": [
          166.62277688438,
          185.3954751731473,
          186.18403800479368
         ]
        }
       ],
       "layout": {
        "bargap": 0.15,
        "bargroupgap": 0.08,
        "barmode": "group",
        "height": 460,
        "legend": {
         "bgcolor": "rgba(255, 255, 255, 0)",
         "bordercolor": "rgba(255, 255, 255, 0)",
         "font": {
          "size": 28
         },
         "orientation": "h",
         "x": 1,
         "y": 1
        },
        "template": {
         "data": {
          "scatter": [
           {
            "type": "scatter"
           }
          ]
         }
        },
        "title": {
         "text": "exp13= inter96,intra32 -> inter3,intra1; restapi=32",
         "x": 0.5,
         "xanchor": "center",
         "y": 0.85,
         "yanchor": "top"
        },
        "width": 1000,
        "xaxis": {
         "tickfont": {
          "color": "rgb(107, 107, 107)",
          "size": 10
         },
         "tickvals": [
          "none",
          "cpumem",
          "cpu"
         ],
         "title": {
          "font": {
           "color": "rgb(107, 107, 107)",
           "size": 10
          },
          "text": "scenarios"
         }
        },
        "yaxis": {
         "automargin": true,
         "tickfont": {
          "color": "rgb(107, 107, 107)",
          "size": 25
         },
         "title": {
          "font": {
           "color": "rgb(107, 107, 107)",
           "size": 25
          },
          "text": "qpsbatch10"
         }
        }
       }
      },
      "text/html": [
       "<div>                            <div id=\"44a701b5-a593-47b9-9927-3f4ca0a82347\" class=\"plotly-graph-div\" style=\"height:460px; width:1000px;\"></div>            <script type=\"text/javascript\">                require([\"plotly\"], function(Plotly) {                    window.PLOTLYENV=window.PLOTLYENV || {};                                    if (document.getElementById(\"44a701b5-a593-47b9-9927-3f4ca0a82347\")) {                    Plotly.newPlot(                        \"44a701b5-a593-47b9-9927-3f4ca0a82347\",                        [{\"mode\": \"markers\", \"name\": \"ctn1\", \"opacity\": 0.7, \"type\": \"scatter\", \"x\": [\"none\", \"cpumem\", \"cpu\"], \"y\": [146.5283227822116, 146.25088790522295, 145.535254106185]}, {\"mode\": \"markers\", \"name\": \"ctn2\", \"opacity\": 0.7, \"type\": \"scatter\", \"x\": [\"none\", \"cpumem\", \"cpu\"], \"y\": [181.10923126684295, 190.37697512652136, 190.65874832980657]}, {\"mode\": \"markers\", \"name\": \"ctn4\", \"opacity\": 0.7, \"type\": \"scatter\", \"x\": [\"none\", \"cpumem\", \"cpu\"], \"y\": [184.01460702935157, 191.337909304242, 191.4382574854029]}, {\"mode\": \"markers\", \"name\": \"ctn8\", \"opacity\": 0.7, \"type\": \"scatter\", \"x\": [\"none\", \"cpumem\", \"cpu\"], \"y\": [181.92627595789423, 190.77078540153093, 190.95098704878407]}, {\"mode\": \"markers\", \"name\": \"ctn16\", \"opacity\": 0.7, \"type\": \"scatter\", \"x\": [\"none\", \"cpumem\", \"cpu\"], \"y\": [178.10570055634977, 188.62146701232453, 188.63688451273768]}, {\"mode\": \"markers\", \"name\": \"ctn32\", \"opacity\": 0.7, \"type\": \"scatter\", \"x\": [\"none\", \"cpumem\", \"cpu\"], \"y\": [166.62277688438, 185.3954751731473, 186.18403800479368]}],                        {\"bargap\": 0.15, \"bargroupgap\": 0.08, \"barmode\": \"group\", \"height\": 460, \"legend\": {\"bgcolor\": \"rgba(255, 255, 255, 0)\", \"bordercolor\": \"rgba(255, 255, 255, 0)\", \"font\": {\"size\": 28}, \"orientation\": \"h\", \"x\": 1.0, \"y\": 1.0}, \"template\": {\"data\": {\"scatter\": [{\"type\": \"scatter\"}]}}, \"title\": {\"text\": \"exp13= inter96,intra32 -> inter3,intra1; restapi=32\", \"x\": 0.5, \"xanchor\": \"center\", \"y\": 0.85, \"yanchor\": \"top\"}, \"width\": 1000, \"xaxis\": {\"tickfont\": {\"color\": \"rgb(107, 107, 107)\", \"size\": 10}, \"tickvals\": [\"none\", \"cpumem\", \"cpu\"], \"title\": {\"font\": {\"color\": \"rgb(107, 107, 107)\", \"size\": 10}, \"text\": \"scenarios\"}}, \"yaxis\": {\"automargin\": true, \"tickfont\": {\"color\": \"rgb(107, 107, 107)\", \"size\": 25}, \"title\": {\"font\": {\"color\": \"rgb(107, 107, 107)\", \"size\": 25}, \"text\": \"qpsbatch10\"}}},                        {\"responsive\": true}                    ).then(function(){\n",
       "                            \n",
       "var gd = document.getElementById('44a701b5-a593-47b9-9927-3f4ca0a82347');\n",
       "var x = new MutationObserver(function (mutations, observer) {{\n",
       "        var display = window.getComputedStyle(gd).display;\n",
       "        if (!display || display === 'none') {{\n",
       "            console.log([gd, 'removed!']);\n",
       "            Plotly.purge(gd);\n",
       "            observer.disconnect();\n",
       "        }}\n",
       "}});\n",
       "\n",
       "// Listen for the removal of the full notebook cells\n",
       "var notebookContainer = gd.closest('#notebook-container');\n",
       "if (notebookContainer) {{\n",
       "    x.observe(notebookContainer, {childList: true});\n",
       "}}\n",
       "\n",
       "// Listen for the clearing of the current output cell\n",
       "var outputEl = gd.closest('.output');\n",
       "if (outputEl) {{\n",
       "    x.observe(outputEl, {childList: true});\n",
       "}}\n",
       "\n",
       "                        })                };                });            </script>        </div>"
      ]
     },
     "metadata": {},
     "output_type": "display_data"
    },
    {
     "data": {
      "application/vnd.plotly.v1+json": {
       "config": {
        "plotlyServerURL": "https://plot.ly"
       },
       "data": [
        {
         "mode": "markers",
         "name": "ctn1",
         "opacity": 0.7,
         "type": "scatter",
         "x": [
          "none",
          "cpumem",
          "cpu"
         ],
         "y": [
          85.4273748945861,
          85.55848598032738,
          85.92580874744867
         ]
        },
        {
         "mode": "markers",
         "name": "ctn2",
         "opacity": 0.7,
         "type": "scatter",
         "x": [
          "none",
          "cpumem",
          "cpu"
         ],
         "y": [
          70.88551710138313,
          65.92240086813932,
          65.7134976520651
         ]
        },
        {
         "mode": "markers",
         "name": "ctn4",
         "opacity": 0.7,
         "type": "scatter",
         "x": [
          "none",
          "cpumem",
          "cpu"
         ],
         "y": [
          69.23940570541008,
          65.34922376670475,
          65.40852501306486
         ]
        },
        {
         "mode": "markers",
         "name": "ctn8",
         "opacity": 0.7,
         "type": "scatter",
         "x": [
          "none",
          "cpumem",
          "cpu"
         ],
         "y": [
          69.0763436356499,
          65.40372448929963,
          65.44645035281616
         ]
        },
        {
         "mode": "markers",
         "name": "ctn16",
         "opacity": 0.7,
         "type": "scatter",
         "x": [
          "none",
          "cpumem",
          "cpu"
         ],
         "y": [
          70.3527540782526,
          66.01502149613924,
          65.96764668899137
         ]
        },
        {
         "mode": "markers",
         "name": "ctn32",
         "opacity": 0.7,
         "type": "scatter",
         "x": [
          "none",
          "cpumem",
          "cpu"
         ],
         "y": [
          74.38010678174301,
          67.47537461475416,
          66.97381583574666
         ]
        }
       ],
       "layout": {
        "bargap": 0.15,
        "bargroupgap": 0.08,
        "barmode": "group",
        "height": 460,
        "legend": {
         "bgcolor": "rgba(255, 255, 255, 0)",
         "bordercolor": "rgba(255, 255, 255, 0)",
         "font": {
          "size": 28
         },
         "orientation": "h",
         "x": 1,
         "y": 1
        },
        "template": {
         "data": {
          "scatter": [
           {
            "type": "scatter"
           }
          ]
         }
        },
        "title": {
         "text": "exp13= inter96,intra32 -> inter3,intra1; restapi=32",
         "x": 0.5,
         "xanchor": "center",
         "y": 0.85,
         "yanchor": "top"
        },
        "width": 1000,
        "xaxis": {
         "tickfont": {
          "color": "rgb(107, 107, 107)",
          "size": 10
         },
         "tickvals": [
          "none",
          "cpumem",
          "cpu"
         ],
         "title": {
          "font": {
           "color": "rgb(107, 107, 107)",
           "size": 10
          },
          "text": "scenarios"
         }
        },
        "yaxis": {
         "automargin": true,
         "tickfont": {
          "color": "rgb(107, 107, 107)",
          "size": 25
         },
         "title": {
          "font": {
           "color": "rgb(107, 107, 107)",
           "size": 25
          },
          "text": "meanbatch10"
         }
        }
       }
      },
      "text/html": [
       "<div>                            <div id=\"093d48c7-7bbd-40a8-b721-8a3c5c58d1c1\" class=\"plotly-graph-div\" style=\"height:460px; width:1000px;\"></div>            <script type=\"text/javascript\">                require([\"plotly\"], function(Plotly) {                    window.PLOTLYENV=window.PLOTLYENV || {};                                    if (document.getElementById(\"093d48c7-7bbd-40a8-b721-8a3c5c58d1c1\")) {                    Plotly.newPlot(                        \"093d48c7-7bbd-40a8-b721-8a3c5c58d1c1\",                        [{\"mode\": \"markers\", \"name\": \"ctn1\", \"opacity\": 0.7, \"type\": \"scatter\", \"x\": [\"none\", \"cpumem\", \"cpu\"], \"y\": [85.4273748945861, 85.55848598032738, 85.92580874744867]}, {\"mode\": \"markers\", \"name\": \"ctn2\", \"opacity\": 0.7, \"type\": \"scatter\", \"x\": [\"none\", \"cpumem\", \"cpu\"], \"y\": [70.88551710138313, 65.92240086813932, 65.7134976520651]}, {\"mode\": \"markers\", \"name\": \"ctn4\", \"opacity\": 0.7, \"type\": \"scatter\", \"x\": [\"none\", \"cpumem\", \"cpu\"], \"y\": [69.23940570541008, 65.34922376670475, 65.40852501306486]}, {\"mode\": \"markers\", \"name\": \"ctn8\", \"opacity\": 0.7, \"type\": \"scatter\", \"x\": [\"none\", \"cpumem\", \"cpu\"], \"y\": [69.0763436356499, 65.40372448929963, 65.44645035281616]}, {\"mode\": \"markers\", \"name\": \"ctn16\", \"opacity\": 0.7, \"type\": \"scatter\", \"x\": [\"none\", \"cpumem\", \"cpu\"], \"y\": [70.3527540782526, 66.01502149613924, 65.96764668899137]}, {\"mode\": \"markers\", \"name\": \"ctn32\", \"opacity\": 0.7, \"type\": \"scatter\", \"x\": [\"none\", \"cpumem\", \"cpu\"], \"y\": [74.38010678174301, 67.47537461475416, 66.97381583574666]}],                        {\"bargap\": 0.15, \"bargroupgap\": 0.08, \"barmode\": \"group\", \"height\": 460, \"legend\": {\"bgcolor\": \"rgba(255, 255, 255, 0)\", \"bordercolor\": \"rgba(255, 255, 255, 0)\", \"font\": {\"size\": 28}, \"orientation\": \"h\", \"x\": 1.0, \"y\": 1.0}, \"template\": {\"data\": {\"scatter\": [{\"type\": \"scatter\"}]}}, \"title\": {\"text\": \"exp13= inter96,intra32 -> inter3,intra1; restapi=32\", \"x\": 0.5, \"xanchor\": \"center\", \"y\": 0.85, \"yanchor\": \"top\"}, \"width\": 1000, \"xaxis\": {\"tickfont\": {\"color\": \"rgb(107, 107, 107)\", \"size\": 10}, \"tickvals\": [\"none\", \"cpumem\", \"cpu\"], \"title\": {\"font\": {\"color\": \"rgb(107, 107, 107)\", \"size\": 10}, \"text\": \"scenarios\"}}, \"yaxis\": {\"automargin\": true, \"tickfont\": {\"color\": \"rgb(107, 107, 107)\", \"size\": 25}, \"title\": {\"font\": {\"color\": \"rgb(107, 107, 107)\", \"size\": 25}, \"text\": \"meanbatch10\"}}},                        {\"responsive\": true}                    ).then(function(){\n",
       "                            \n",
       "var gd = document.getElementById('093d48c7-7bbd-40a8-b721-8a3c5c58d1c1');\n",
       "var x = new MutationObserver(function (mutations, observer) {{\n",
       "        var display = window.getComputedStyle(gd).display;\n",
       "        if (!display || display === 'none') {{\n",
       "            console.log([gd, 'removed!']);\n",
       "            Plotly.purge(gd);\n",
       "            observer.disconnect();\n",
       "        }}\n",
       "}});\n",
       "\n",
       "// Listen for the removal of the full notebook cells\n",
       "var notebookContainer = gd.closest('#notebook-container');\n",
       "if (notebookContainer) {{\n",
       "    x.observe(notebookContainer, {childList: true});\n",
       "}}\n",
       "\n",
       "// Listen for the clearing of the current output cell\n",
       "var outputEl = gd.closest('.output');\n",
       "if (outputEl) {{\n",
       "    x.observe(outputEl, {childList: true});\n",
       "}}\n",
       "\n",
       "                        })                };                });            </script>        </div>"
      ]
     },
     "metadata": {},
     "output_type": "display_data"
    },
    {
     "data": {
      "application/vnd.plotly.v1+json": {
       "config": {
        "plotlyServerURL": "https://plot.ly"
       },
       "data": [
        {
         "mode": "markers",
         "name": "ctn1",
         "opacity": 0.7,
         "type": "scatter",
         "x": [
          "none",
          "cpumem",
          "cpu"
         ],
         "y": [
          167.1325226605,
          167.416861163,
          168.21878605575
         ]
        },
        {
         "mode": "markers",
         "name": "ctn2",
         "opacity": 0.7,
         "type": "scatter",
         "x": [
          "none",
          "cpumem",
          "cpu"
         ],
         "y": [
          135.21129800575,
          128.6272930385,
          128.38966566825
         ]
        },
        {
         "mode": "markers",
         "name": "ctn4",
         "opacity": 0.7,
         "type": "scatter",
         "x": [
          "none",
          "cpumem",
          "cpu"
         ],
         "y": [
          132.93200006375,
          127.721077598,
          127.75273525275
         ]
        },
        {
         "mode": "markers",
         "name": "ctn8",
         "opacity": 0.7,
         "type": "scatter",
         "x": [
          "none",
          "cpumem",
          "cpu"
         ],
         "y": [
          133.74399935075,
          127.9828998285,
          127.956417278
         ]
        },
        {
         "mode": "markers",
         "name": "ctn16",
         "opacity": 0.7,
         "type": "scatter",
         "x": [
          "none",
          "cpumem",
          "cpu"
         ],
         "y": [
          136.104947744,
          128.82618882125,
          128.95836088250002
         ]
        },
        {
         "mode": "markers",
         "name": "ctn32",
         "opacity": 0.7,
         "type": "scatter",
         "x": [
          "none",
          "cpumem",
          "cpu"
         ],
         "y": [
          145.29650126425,
          131.267632746,
          130.37507126125
         ]
        }
       ],
       "layout": {
        "bargap": 0.15,
        "bargroupgap": 0.08,
        "barmode": "group",
        "height": 460,
        "legend": {
         "bgcolor": "rgba(255, 255, 255, 0)",
         "bordercolor": "rgba(255, 255, 255, 0)",
         "font": {
          "size": 28
         },
         "orientation": "h",
         "x": 1,
         "y": 1
        },
        "template": {
         "data": {
          "scatter": [
           {
            "type": "scatter"
           }
          ]
         }
        },
        "title": {
         "text": "exp13= inter96,intra32 -> inter3,intra1; restapi=32",
         "x": 0.5,
         "xanchor": "center",
         "y": 0.85,
         "yanchor": "top"
        },
        "width": 1000,
        "xaxis": {
         "tickfont": {
          "color": "rgb(107, 107, 107)",
          "size": 10
         },
         "tickvals": [
          "none",
          "cpumem",
          "cpu"
         ],
         "title": {
          "font": {
           "color": "rgb(107, 107, 107)",
           "size": 10
          },
          "text": "scenarios"
         }
        },
        "yaxis": {
         "automargin": true,
         "tickfont": {
          "color": "rgb(107, 107, 107)",
          "size": 25
         },
         "title": {
          "font": {
           "color": "rgb(107, 107, 107)",
           "size": 25
          },
          "text": "p99batch10"
         }
        }
       }
      },
      "text/html": [
       "<div>                            <div id=\"c57c73c2-b710-4d88-960b-85a3132b80c2\" class=\"plotly-graph-div\" style=\"height:460px; width:1000px;\"></div>            <script type=\"text/javascript\">                require([\"plotly\"], function(Plotly) {                    window.PLOTLYENV=window.PLOTLYENV || {};                                    if (document.getElementById(\"c57c73c2-b710-4d88-960b-85a3132b80c2\")) {                    Plotly.newPlot(                        \"c57c73c2-b710-4d88-960b-85a3132b80c2\",                        [{\"mode\": \"markers\", \"name\": \"ctn1\", \"opacity\": 0.7, \"type\": \"scatter\", \"x\": [\"none\", \"cpumem\", \"cpu\"], \"y\": [167.1325226605, 167.416861163, 168.21878605575]}, {\"mode\": \"markers\", \"name\": \"ctn2\", \"opacity\": 0.7, \"type\": \"scatter\", \"x\": [\"none\", \"cpumem\", \"cpu\"], \"y\": [135.21129800575, 128.6272930385, 128.38966566825]}, {\"mode\": \"markers\", \"name\": \"ctn4\", \"opacity\": 0.7, \"type\": \"scatter\", \"x\": [\"none\", \"cpumem\", \"cpu\"], \"y\": [132.93200006375, 127.721077598, 127.75273525275]}, {\"mode\": \"markers\", \"name\": \"ctn8\", \"opacity\": 0.7, \"type\": \"scatter\", \"x\": [\"none\", \"cpumem\", \"cpu\"], \"y\": [133.74399935075, 127.9828998285, 127.956417278]}, {\"mode\": \"markers\", \"name\": \"ctn16\", \"opacity\": 0.7, \"type\": \"scatter\", \"x\": [\"none\", \"cpumem\", \"cpu\"], \"y\": [136.104947744, 128.82618882125, 128.95836088250002]}, {\"mode\": \"markers\", \"name\": \"ctn32\", \"opacity\": 0.7, \"type\": \"scatter\", \"x\": [\"none\", \"cpumem\", \"cpu\"], \"y\": [145.29650126425, 131.267632746, 130.37507126125]}],                        {\"bargap\": 0.15, \"bargroupgap\": 0.08, \"barmode\": \"group\", \"height\": 460, \"legend\": {\"bgcolor\": \"rgba(255, 255, 255, 0)\", \"bordercolor\": \"rgba(255, 255, 255, 0)\", \"font\": {\"size\": 28}, \"orientation\": \"h\", \"x\": 1.0, \"y\": 1.0}, \"template\": {\"data\": {\"scatter\": [{\"type\": \"scatter\"}]}}, \"title\": {\"text\": \"exp13= inter96,intra32 -> inter3,intra1; restapi=32\", \"x\": 0.5, \"xanchor\": \"center\", \"y\": 0.85, \"yanchor\": \"top\"}, \"width\": 1000, \"xaxis\": {\"tickfont\": {\"color\": \"rgb(107, 107, 107)\", \"size\": 10}, \"tickvals\": [\"none\", \"cpumem\", \"cpu\"], \"title\": {\"font\": {\"color\": \"rgb(107, 107, 107)\", \"size\": 10}, \"text\": \"scenarios\"}}, \"yaxis\": {\"automargin\": true, \"tickfont\": {\"color\": \"rgb(107, 107, 107)\", \"size\": 25}, \"title\": {\"font\": {\"color\": \"rgb(107, 107, 107)\", \"size\": 25}, \"text\": \"p99batch10\"}}},                        {\"responsive\": true}                    ).then(function(){\n",
       "                            \n",
       "var gd = document.getElementById('c57c73c2-b710-4d88-960b-85a3132b80c2');\n",
       "var x = new MutationObserver(function (mutations, observer) {{\n",
       "        var display = window.getComputedStyle(gd).display;\n",
       "        if (!display || display === 'none') {{\n",
       "            console.log([gd, 'removed!']);\n",
       "            Plotly.purge(gd);\n",
       "            observer.disconnect();\n",
       "        }}\n",
       "}});\n",
       "\n",
       "// Listen for the removal of the full notebook cells\n",
       "var notebookContainer = gd.closest('#notebook-container');\n",
       "if (notebookContainer) {{\n",
       "    x.observe(notebookContainer, {childList: true});\n",
       "}}\n",
       "\n",
       "// Listen for the clearing of the current output cell\n",
       "var outputEl = gd.closest('.output');\n",
       "if (outputEl) {{\n",
       "    x.observe(outputEl, {childList: true});\n",
       "}}\n",
       "\n",
       "                        })                };                });            </script>        </div>"
      ]
     },
     "metadata": {},
     "output_type": "display_data"
    }
   ],
   "source": [
    "import matplotlib\n",
    "import matplotlib.pyplot as plt\n",
    "import numpy as np\n",
    "from svglib.svglib import svg2rlg\n",
    "from reportlab.graphics import renderPDF\n",
    "from reportlab.pdfgen import canvas\n",
    "\n",
    "from numpy import percentile, mean, std\n",
    "import plotly.graph_objects as go\n",
    "\n",
    "from plotly.offline import init_notebook_mode, iplot\n",
    "\n",
    "import plotly.io as pio\n",
    "pio.templates.default = \"none\"\n",
    "# pio.templates.default = \"simple_white\"\n",
    "\n",
    "import plotly.graph_objects as go\n",
    "from plotly.subplots import make_subplots\n",
    "import pandas as pd\n",
    "# import plotly.express as px\n",
    "\n",
    "for x in ['qps','mean','p99']:\n",
    "    for cbatch in [10]:\n",
    "        for model_name in ['resnet']:\n",
    "            list_traces = []\n",
    "            for numctn in [1,2,4,8,16,32]: \n",
    "                dfg_bench = dfg[(dfg['benchmark']== model_name)  & (dfg['cbatch']==cbatch) & (dfg['numctn']==numctn) &\\\n",
    "                            ((dfg['k8senv']=='none') |\\\n",
    "                             (dfg['k8senv']=='cpumem')| (dfg['k8senv']=='cpumemory'))]\n",
    "#                 print(dfg_bench)\n",
    "\n",
    "\n",
    "                #data\n",
    "                trace = go.Scatter(\n",
    "                    name=\"ctn\"+str(numctn),\n",
    "                    x=[ 'none','cpumem','cpu'],\n",
    "                    y= dfg_bench[x].values.tolist(),\n",
    "        #             error_y = dict(type='data', array=df1_bench['model_time_std'].values.tolist()),\n",
    "                    opacity=0.7,\n",
    "                    mode='markers'\n",
    "                )\n",
    "                list_traces.append(trace)\n",
    "\n",
    "\n",
    "\n",
    "            #layout\n",
    "            layout = go.Layout(\n",
    "                title={\n",
    "                    'text': \"exp13= inter96,intra32 -> inter3,intra1; restapi=32\" ,\n",
    "                    'y':0.85,\n",
    "                    'x':0.5,\n",
    "                    'xanchor': 'center',\n",
    "                    'yanchor': 'top'},\n",
    "                width=1000,\n",
    "                height=460,\n",
    "                xaxis=dict(\n",
    "                    title= \"scenarios\",\n",
    "                    tickvals=[ 'none','cpumem','cpu'],\n",
    "                    titlefont=dict(\n",
    "                        size=10,\n",
    "                        color='rgb(107, 107, 107)'\n",
    "                    ),\n",
    "                    tickfont=dict(\n",
    "                        size=10,\n",
    "                        color='rgb(107, 107, 107)'\n",
    "                    )\n",
    "                ),\n",
    "                yaxis=dict(\n",
    "                    title= x+\"batch\"+str(cbatch),\n",
    "                    automargin=True,\n",
    "                    titlefont=dict(\n",
    "                        size=25,\n",
    "                        color='rgb(107, 107, 107)'\n",
    "                    ),\n",
    "                    tickfont=dict(\n",
    "                        size=25,\n",
    "                        color='rgb(107, 107, 107)'\n",
    "                    ),    \n",
    "                ),\n",
    "                legend=dict(\n",
    "                    x=1.0,\n",
    "                    y=1.0,\n",
    "                    bgcolor='rgba(255, 255, 255, 0)',\n",
    "                    bordercolor='rgba(255, 255, 255, 0)',\n",
    "                    font = dict( size = 28)\n",
    "                ),\n",
    "                barmode='group',\n",
    "                bargap=0.15,\n",
    "                bargroupgap=0.08\n",
    "        #         legend_orientation=\"h\"\n",
    "            )\n",
    "\n",
    "        data = list_traces\n",
    "        fig = go.Figure(data=data, layout=layout)\n",
    "        fig.update_layout(legend_orientation=\"h\")\n",
    "        fig.show()    \n",
    "\n",
    "    #     fig.write_image(path + model_name + k8senv +'.pdf')"
   ]
  },
  {
   "cell_type": "code",
   "execution_count": null,
   "id": "4232f1de",
   "metadata": {},
   "outputs": [],
   "source": []
  },
  {
   "cell_type": "code",
   "execution_count": null,
   "id": "41a87e54",
   "metadata": {},
   "outputs": [],
   "source": []
  },
  {
   "cell_type": "code",
   "execution_count": null,
   "id": "e58b2c83",
   "metadata": {},
   "outputs": [],
   "source": []
  }
 ],
 "metadata": {
  "kernelspec": {
   "display_name": "Python 3",
   "language": "python",
   "name": "python3"
  },
  "language_info": {
   "codemirror_mode": {
    "name": "ipython",
    "version": 3
   },
   "file_extension": ".py",
   "mimetype": "text/x-python",
   "name": "python",
   "nbconvert_exporter": "python",
   "pygments_lexer": "ipython3",
   "version": "3.8.5"
  }
 },
 "nbformat": 4,
 "nbformat_minor": 5
}
