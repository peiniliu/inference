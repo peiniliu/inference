{
 "cells": [
  {
   "cell_type": "code",
   "execution_count": 73,
   "id": "de0246d4",
   "metadata": {},
   "outputs": [
    {
     "data": {
      "text/html": [
       "        <script type=\"text/javascript\">\n",
       "        window.PlotlyConfig = {MathJaxConfig: 'local'};\n",
       "        if (window.MathJax) {MathJax.Hub.Config({SVG: {font: \"STIX-Web\"}});}\n",
       "        if (typeof require !== 'undefined') {\n",
       "        require.undef(\"plotly\");\n",
       "        requirejs.config({\n",
       "            paths: {\n",
       "                'plotly': ['https://cdn.plot.ly/plotly-latest.min']\n",
       "            }\n",
       "        });\n",
       "        require(['plotly'], function(Plotly) {\n",
       "            window._Plotly = Plotly;\n",
       "        });\n",
       "        }\n",
       "        </script>\n",
       "        "
      ]
     },
     "metadata": {},
     "output_type": "display_data"
    },
    {
     "data": {
      "text/html": [
       "<div>\n",
       "<style scoped>\n",
       "    .dataframe tbody tr th:only-of-type {\n",
       "        vertical-align: middle;\n",
       "    }\n",
       "\n",
       "    .dataframe tbody tr th {\n",
       "        vertical-align: top;\n",
       "    }\n",
       "\n",
       "    .dataframe thead th {\n",
       "        text-align: right;\n",
       "    }\n",
       "</style>\n",
       "<table border=\"1\" class=\"dataframe\">\n",
       "  <thead>\n",
       "    <tr style=\"text-align: right;\">\n",
       "      <th></th>\n",
       "      <th>benchmark</th>\n",
       "      <th>k8senv</th>\n",
       "      <th>sbatch</th>\n",
       "      <th>numctn</th>\n",
       "      <th>cscenario</th>\n",
       "      <th>cbatch</th>\n",
       "      <th>reps</th>\n",
       "      <th>qps</th>\n",
       "    </tr>\n",
       "  </thead>\n",
       "  <tbody>\n",
       "    <tr>\n",
       "      <th>0</th>\n",
       "      <td>resnet</td>\n",
       "      <td>none</td>\n",
       "      <td>0</td>\n",
       "      <td>1</td>\n",
       "      <td>offline</td>\n",
       "      <td>2</td>\n",
       "      <td>10</td>\n",
       "      <td>120.015846</td>\n",
       "    </tr>\n",
       "    <tr>\n",
       "      <th>1</th>\n",
       "      <td>resnet</td>\n",
       "      <td>none</td>\n",
       "      <td>0</td>\n",
       "      <td>1</td>\n",
       "      <td>offline</td>\n",
       "      <td>4</td>\n",
       "      <td>10</td>\n",
       "      <td>128.694181</td>\n",
       "    </tr>\n",
       "    <tr>\n",
       "      <th>2</th>\n",
       "      <td>resnet</td>\n",
       "      <td>none</td>\n",
       "      <td>0</td>\n",
       "      <td>1</td>\n",
       "      <td>offline</td>\n",
       "      <td>8</td>\n",
       "      <td>10</td>\n",
       "      <td>132.946237</td>\n",
       "    </tr>\n",
       "    <tr>\n",
       "      <th>3</th>\n",
       "      <td>resnet</td>\n",
       "      <td>none</td>\n",
       "      <td>0</td>\n",
       "      <td>1</td>\n",
       "      <td>offline</td>\n",
       "      <td>10</td>\n",
       "      <td>10</td>\n",
       "      <td>120.351551</td>\n",
       "    </tr>\n",
       "    <tr>\n",
       "      <th>4</th>\n",
       "      <td>resnet</td>\n",
       "      <td>none</td>\n",
       "      <td>0</td>\n",
       "      <td>1</td>\n",
       "      <td>offline</td>\n",
       "      <td>16</td>\n",
       "      <td>10</td>\n",
       "      <td>112.438636</td>\n",
       "    </tr>\n",
       "  </tbody>\n",
       "</table>\n",
       "</div>"
      ],
      "text/plain": [
       "  benchmark k8senv  sbatch  numctn cscenario  cbatch  reps         qps\n",
       "0    resnet   none       0       1   offline       2    10  120.015846\n",
       "1    resnet   none       0       1   offline       4    10  128.694181\n",
       "2    resnet   none       0       1   offline       8    10  132.946237\n",
       "3    resnet   none       0       1   offline      10    10  120.351551\n",
       "4    resnet   none       0       1   offline      16    10  112.438636"
      ]
     },
     "execution_count": 73,
     "metadata": {},
     "output_type": "execute_result"
    }
   ],
   "source": [
    "import pandas as pd\n",
    "import glob\n",
    "# import plotly.plotly as py\n",
    "import plotly.graph_objs as go\n",
    "\n",
    "from plotly import tools\n",
    "from plotly.offline import init_notebook_mode, iplot\n",
    "init_notebook_mode(connected=True) \n",
    "\n",
    "import numpy as np\n",
    "import matplotlib.pyplot as plt\n",
    "# include if using a Jupyter notebook\n",
    "# %matplotlib inline\n",
    "\n",
    "path = \"/gpfs/bsc_home/xpliu/inference/vision/classification_and_detection/output-exp1/\"\n",
    "all_files = glob.glob(path + \"*.csv\")\n",
    "\n",
    "li = []\n",
    "\n",
    "for filename in all_files:\n",
    "    df = pd.read_csv(filename, index_col=None, header=0)\n",
    "    li.append(df)\n",
    "\n",
    "df = pd.concat(li, axis=0, ignore_index=True)\n",
    "df.head()"
   ]
  },
  {
   "cell_type": "code",
   "execution_count": 74,
   "id": "fe8c3d7f",
   "metadata": {},
   "outputs": [
    {
     "data": {
      "text/plain": [
       "108"
      ]
     },
     "execution_count": 74,
     "metadata": {},
     "output_type": "execute_result"
    }
   ],
   "source": [
    "len(df)"
   ]
  },
  {
   "cell_type": "code",
   "execution_count": 75,
   "id": "d48083a0",
   "metadata": {},
   "outputs": [
    {
     "data": {
      "text/plain": [
       "array(['resnet'], dtype=object)"
      ]
     },
     "execution_count": 75,
     "metadata": {},
     "output_type": "execute_result"
    }
   ],
   "source": [
    "df['benchmark'].unique()"
   ]
  },
  {
   "cell_type": "code",
   "execution_count": 76,
   "id": "b318f564",
   "metadata": {},
   "outputs": [
    {
     "data": {
      "text/plain": [
       "array(['none', 'cpumemory', 'cpumem'], dtype=object)"
      ]
     },
     "execution_count": 76,
     "metadata": {},
     "output_type": "execute_result"
    }
   ],
   "source": [
    "df['k8senv'].unique()"
   ]
  },
  {
   "cell_type": "code",
   "execution_count": 77,
   "id": "a2a7701a",
   "metadata": {},
   "outputs": [
    {
     "data": {
      "text/plain": [
       "numpy.float64"
      ]
     },
     "execution_count": 77,
     "metadata": {},
     "output_type": "execute_result"
    }
   ],
   "source": [
    "type(df['qps'][0])"
   ]
  },
  {
   "cell_type": "markdown",
   "id": "53f2033c",
   "metadata": {},
   "source": [
    "# Graph"
   ]
  },
  {
   "cell_type": "code",
   "execution_count": 78,
   "id": "5786faec",
   "metadata": {},
   "outputs": [
    {
     "data": {
      "text/html": [
       "        <script type=\"text/javascript\">\n",
       "        window.PlotlyConfig = {MathJaxConfig: 'local'};\n",
       "        if (window.MathJax) {MathJax.Hub.Config({SVG: {font: \"STIX-Web\"}});}\n",
       "        if (typeof require !== 'undefined') {\n",
       "        require.undef(\"plotly\");\n",
       "        requirejs.config({\n",
       "            paths: {\n",
       "                'plotly': ['https://cdn.plot.ly/plotly-latest.min']\n",
       "            }\n",
       "        });\n",
       "        require(['plotly'], function(Plotly) {\n",
       "            window._Plotly = Plotly;\n",
       "        });\n",
       "        }\n",
       "        </script>\n",
       "        "
      ]
     },
     "metadata": {},
     "output_type": "display_data"
    },
    {
     "data": {
      "text/html": [
       "<div>\n",
       "<style scoped>\n",
       "    .dataframe tbody tr th:only-of-type {\n",
       "        vertical-align: middle;\n",
       "    }\n",
       "\n",
       "    .dataframe tbody tr th {\n",
       "        vertical-align: top;\n",
       "    }\n",
       "\n",
       "    .dataframe thead th {\n",
       "        text-align: right;\n",
       "    }\n",
       "</style>\n",
       "<table border=\"1\" class=\"dataframe\">\n",
       "  <thead>\n",
       "    <tr style=\"text-align: right;\">\n",
       "      <th></th>\n",
       "      <th>benchmark</th>\n",
       "      <th>k8senv</th>\n",
       "      <th>sbatch</th>\n",
       "      <th>numctn</th>\n",
       "      <th>cscenario</th>\n",
       "      <th>cbatch</th>\n",
       "      <th>reps</th>\n",
       "      <th>qps</th>\n",
       "    </tr>\n",
       "  </thead>\n",
       "  <tbody>\n",
       "    <tr>\n",
       "      <th>0</th>\n",
       "      <td>resnet</td>\n",
       "      <td>none</td>\n",
       "      <td>0</td>\n",
       "      <td>1</td>\n",
       "      <td>offline</td>\n",
       "      <td>2</td>\n",
       "      <td>10</td>\n",
       "      <td>120.015846</td>\n",
       "    </tr>\n",
       "    <tr>\n",
       "      <th>1</th>\n",
       "      <td>resnet</td>\n",
       "      <td>none</td>\n",
       "      <td>0</td>\n",
       "      <td>1</td>\n",
       "      <td>offline</td>\n",
       "      <td>4</td>\n",
       "      <td>10</td>\n",
       "      <td>128.694181</td>\n",
       "    </tr>\n",
       "    <tr>\n",
       "      <th>2</th>\n",
       "      <td>resnet</td>\n",
       "      <td>none</td>\n",
       "      <td>0</td>\n",
       "      <td>1</td>\n",
       "      <td>offline</td>\n",
       "      <td>8</td>\n",
       "      <td>10</td>\n",
       "      <td>132.946237</td>\n",
       "    </tr>\n",
       "    <tr>\n",
       "      <th>3</th>\n",
       "      <td>resnet</td>\n",
       "      <td>none</td>\n",
       "      <td>0</td>\n",
       "      <td>1</td>\n",
       "      <td>offline</td>\n",
       "      <td>10</td>\n",
       "      <td>10</td>\n",
       "      <td>120.351551</td>\n",
       "    </tr>\n",
       "    <tr>\n",
       "      <th>4</th>\n",
       "      <td>resnet</td>\n",
       "      <td>none</td>\n",
       "      <td>0</td>\n",
       "      <td>1</td>\n",
       "      <td>offline</td>\n",
       "      <td>16</td>\n",
       "      <td>10</td>\n",
       "      <td>112.438636</td>\n",
       "    </tr>\n",
       "    <tr>\n",
       "      <th>...</th>\n",
       "      <td>...</td>\n",
       "      <td>...</td>\n",
       "      <td>...</td>\n",
       "      <td>...</td>\n",
       "      <td>...</td>\n",
       "      <td>...</td>\n",
       "      <td>...</td>\n",
       "      <td>...</td>\n",
       "    </tr>\n",
       "    <tr>\n",
       "      <th>103</th>\n",
       "      <td>resnet</td>\n",
       "      <td>cpumem</td>\n",
       "      <td>0</td>\n",
       "      <td>32</td>\n",
       "      <td>offline</td>\n",
       "      <td>4</td>\n",
       "      <td>10</td>\n",
       "      <td>146.138048</td>\n",
       "    </tr>\n",
       "    <tr>\n",
       "      <th>104</th>\n",
       "      <td>resnet</td>\n",
       "      <td>cpumem</td>\n",
       "      <td>0</td>\n",
       "      <td>32</td>\n",
       "      <td>offline</td>\n",
       "      <td>8</td>\n",
       "      <td>10</td>\n",
       "      <td>144.782303</td>\n",
       "    </tr>\n",
       "    <tr>\n",
       "      <th>105</th>\n",
       "      <td>resnet</td>\n",
       "      <td>cpumem</td>\n",
       "      <td>0</td>\n",
       "      <td>32</td>\n",
       "      <td>offline</td>\n",
       "      <td>10</td>\n",
       "      <td>10</td>\n",
       "      <td>145.245926</td>\n",
       "    </tr>\n",
       "    <tr>\n",
       "      <th>106</th>\n",
       "      <td>resnet</td>\n",
       "      <td>cpumem</td>\n",
       "      <td>0</td>\n",
       "      <td>32</td>\n",
       "      <td>offline</td>\n",
       "      <td>16</td>\n",
       "      <td>10</td>\n",
       "      <td>143.675519</td>\n",
       "    </tr>\n",
       "    <tr>\n",
       "      <th>107</th>\n",
       "      <td>resnet</td>\n",
       "      <td>cpumem</td>\n",
       "      <td>0</td>\n",
       "      <td>32</td>\n",
       "      <td>offline</td>\n",
       "      <td>32</td>\n",
       "      <td>10</td>\n",
       "      <td>141.994293</td>\n",
       "    </tr>\n",
       "  </tbody>\n",
       "</table>\n",
       "<p>108 rows × 8 columns</p>\n",
       "</div>"
      ],
      "text/plain": [
       "    benchmark  k8senv  sbatch  numctn cscenario  cbatch  reps         qps\n",
       "0      resnet    none       0       1   offline       2    10  120.015846\n",
       "1      resnet    none       0       1   offline       4    10  128.694181\n",
       "2      resnet    none       0       1   offline       8    10  132.946237\n",
       "3      resnet    none       0       1   offline      10    10  120.351551\n",
       "4      resnet    none       0       1   offline      16    10  112.438636\n",
       "..        ...     ...     ...     ...       ...     ...   ...         ...\n",
       "103    resnet  cpumem       0      32   offline       4    10  146.138048\n",
       "104    resnet  cpumem       0      32   offline       8    10  144.782303\n",
       "105    resnet  cpumem       0      32   offline      10    10  145.245926\n",
       "106    resnet  cpumem       0      32   offline      16    10  143.675519\n",
       "107    resnet  cpumem       0      32   offline      32    10  141.994293\n",
       "\n",
       "[108 rows x 8 columns]"
      ]
     },
     "execution_count": 78,
     "metadata": {},
     "output_type": "execute_result"
    }
   ],
   "source": [
    "import pandas as pd\n",
    "import glob\n",
    "# import plotly.plotly as py\n",
    "import plotly.graph_objs as go\n",
    "\n",
    "from plotly import tools\n",
    "from plotly.offline import init_notebook_mode, iplot\n",
    "init_notebook_mode(connected=True) \n",
    "\n",
    "import numpy as np\n",
    "import matplotlib.pyplot as plt\n",
    "# include if using a Jupyter notebook\n",
    "%matplotlib inline\n",
    "dfg = df\n",
    "dfg"
   ]
  },
  {
   "cell_type": "code",
   "execution_count": 79,
   "id": "4f4ad921",
   "metadata": {
    "scrolled": false
   },
   "outputs": [
    {
     "name": "stdout",
     "output_type": "stream",
     "text": [
      "   benchmark k8senv  sbatch  numctn cscenario  cbatch  reps         qps\n",
      "0     resnet   none       0       1   offline       2    10  120.015846\n",
      "6     resnet   none       0       2   offline       2    10  140.550229\n",
      "12    resnet   none       0       4   offline       2    10  141.736530\n",
      "18    resnet   none       0       8   offline       2    10  141.409995\n",
      "24    resnet   none       0      16   offline       2    10  133.537390\n",
      "30    resnet   none       0      32   offline       2    10  137.179443\n",
      "   benchmark k8senv  sbatch  numctn cscenario  cbatch  reps         qps\n",
      "1     resnet   none       0       1   offline       4    10  128.694181\n",
      "7     resnet   none       0       2   offline       4    10  148.147729\n",
      "13    resnet   none       0       4   offline       4    10  150.730823\n",
      "19    resnet   none       0       8   offline       4    10  147.347308\n",
      "25    resnet   none       0      16   offline       4    10  145.470845\n",
      "31    resnet   none       0      32   offline       4    10  138.795622\n",
      "   benchmark k8senv  sbatch  numctn cscenario  cbatch  reps         qps\n",
      "2     resnet   none       0       1   offline       8    10  132.946237\n",
      "8     resnet   none       0       2   offline       8    10  152.035532\n",
      "14    resnet   none       0       4   offline       8    10  153.810909\n",
      "20    resnet   none       0       8   offline       8    10  150.329090\n",
      "26    resnet   none       0      16   offline       8    10  149.573706\n",
      "32    resnet   none       0      32   offline       8    10  137.092325\n",
      "   benchmark k8senv  sbatch  numctn cscenario  cbatch  reps         qps\n",
      "3     resnet   none       0       1   offline      10    10  120.351551\n",
      "9     resnet   none       0       2   offline      10    10  147.535494\n",
      "15    resnet   none       0       4   offline      10    10  146.515897\n",
      "21    resnet   none       0       8   offline      10    10  128.209697\n",
      "27    resnet   none       0      16   offline      10    10  137.454065\n",
      "33    resnet   none       0      32   offline      10    10  137.759292\n",
      "   benchmark k8senv  sbatch  numctn cscenario  cbatch  reps         qps\n",
      "4     resnet   none       0       1   offline      16    10  112.438636\n",
      "10    resnet   none       0       2   offline      16    10  133.902688\n",
      "16    resnet   none       0       4   offline      16    10  140.609556\n",
      "22    resnet   none       0       8   offline      16    10  140.331201\n",
      "28    resnet   none       0      16   offline      16    10  142.229920\n",
      "34    resnet   none       0      32   offline      16    10  132.992469\n",
      "   benchmark k8senv  sbatch  numctn cscenario  cbatch  reps         qps\n",
      "5     resnet   none       0       1   offline      32    10  100.812854\n",
      "11    resnet   none       0       2   offline      32    10  117.431946\n",
      "17    resnet   none       0       4   offline      32    10  131.509849\n",
      "23    resnet   none       0       8   offline      32    10  133.945420\n",
      "29    resnet   none       0      16   offline      32    10  136.203181\n",
      "35    resnet   none       0      32   offline      32    10  129.071856\n"
     ]
    },
    {
     "data": {
      "application/vnd.plotly.v1+json": {
       "config": {
        "plotlyServerURL": "https://plot.ly"
       },
       "data": [
        {
         "mode": "markers",
         "name": "cbatch-2",
         "opacity": 0.7,
         "type": "scatter",
         "x": [
          "ctn1",
          "ctn2",
          "ctn4",
          "ctn8",
          "ctn16",
          "ctn32"
         ],
         "y": [
          120.01584615233632,
          140.55022861572766,
          141.73653036784594,
          141.40999540156108,
          133.53738977446105,
          137.17944343680176
         ]
        },
        {
         "mode": "markers",
         "name": "cbatch-4",
         "opacity": 0.7,
         "type": "scatter",
         "x": [
          "ctn1",
          "ctn2",
          "ctn4",
          "ctn8",
          "ctn16",
          "ctn32"
         ],
         "y": [
          128.6941806374338,
          148.1477293207525,
          150.73082267760566,
          147.34730765465414,
          145.47084513654133,
          138.79562163911797
         ]
        },
        {
         "mode": "markers",
         "name": "cbatch-8",
         "opacity": 0.7,
         "type": "scatter",
         "x": [
          "ctn1",
          "ctn2",
          "ctn4",
          "ctn8",
          "ctn16",
          "ctn32"
         ],
         "y": [
          132.9462374554732,
          152.03553152294245,
          153.8109087857375,
          150.32908985022715,
          149.5737061108781,
          137.09232466856386
         ]
        },
        {
         "mode": "markers",
         "name": "cbatch-10",
         "opacity": 0.7,
         "type": "scatter",
         "x": [
          "ctn1",
          "ctn2",
          "ctn4",
          "ctn8",
          "ctn16",
          "ctn32"
         ],
         "y": [
          120.3515511268987,
          147.53549405900398,
          146.515896734099,
          128.20969658040033,
          137.4540646220483,
          137.75929176558853
         ]
        },
        {
         "mode": "markers",
         "name": "cbatch-16",
         "opacity": 0.7,
         "type": "scatter",
         "x": [
          "ctn1",
          "ctn2",
          "ctn4",
          "ctn8",
          "ctn16",
          "ctn32"
         ],
         "y": [
          112.4386360669417,
          133.90268844974986,
          140.60955552739614,
          140.33120066085445,
          142.22992016419806,
          132.99246856032104
         ]
        },
        {
         "mode": "markers",
         "name": "cbatch-32",
         "opacity": 0.7,
         "type": "scatter",
         "x": [
          "ctn1",
          "ctn2",
          "ctn4",
          "ctn8",
          "ctn16",
          "ctn32"
         ],
         "y": [
          100.81285442924715,
          117.43194573711456,
          131.50984944444383,
          133.94542010028192,
          136.2031805619277,
          129.07185563051257
         ]
        }
       ],
       "layout": {
        "bargap": 0.15,
        "bargroupgap": 0.08,
        "barmode": "group",
        "height": 460,
        "legend": {
         "bgcolor": "rgba(255, 255, 255, 0)",
         "bordercolor": "rgba(255, 255, 255, 0)",
         "font": {
          "size": 28
         },
         "orientation": "h",
         "x": 1,
         "y": 1
        },
        "template": {
         "data": {
          "scatter": [
           {
            "type": "scatter"
           }
          ]
         }
        },
        "title": {
         "text": "none-resnet",
         "x": 0.5,
         "xanchor": "center",
         "y": 0.85,
         "yanchor": "top"
        },
        "width": 1000,
        "xaxis": {
         "tickfont": {
          "color": "rgb(107, 107, 107)",
          "size": 10
         },
         "tickvals": [
          "ctn1",
          "ctn2",
          "ctn4",
          "ctn8",
          "ctn16",
          "ctn32"
         ],
         "title": {
          "font": {
           "color": "rgb(107, 107, 107)",
           "size": 10
          },
          "text": "num_ctn"
         }
        },
        "yaxis": {
         "automargin": true,
         "tickfont": {
          "color": "rgb(107, 107, 107)",
          "size": 25
         },
         "title": {
          "font": {
           "color": "rgb(107, 107, 107)",
           "size": 25
          },
          "text": "qps"
         }
        }
       }
      },
      "text/html": [
       "<div>                            <div id=\"c7b41622-e0b7-4707-88b8-96c6d949d842\" class=\"plotly-graph-div\" style=\"height:460px; width:1000px;\"></div>            <script type=\"text/javascript\">                require([\"plotly\"], function(Plotly) {                    window.PLOTLYENV=window.PLOTLYENV || {};                                    if (document.getElementById(\"c7b41622-e0b7-4707-88b8-96c6d949d842\")) {                    Plotly.newPlot(                        \"c7b41622-e0b7-4707-88b8-96c6d949d842\",                        [{\"mode\": \"markers\", \"name\": \"cbatch-2\", \"opacity\": 0.7, \"type\": \"scatter\", \"x\": [\"ctn1\", \"ctn2\", \"ctn4\", \"ctn8\", \"ctn16\", \"ctn32\"], \"y\": [120.01584615233632, 140.55022861572766, 141.73653036784594, 141.40999540156108, 133.53738977446105, 137.17944343680176]}, {\"mode\": \"markers\", \"name\": \"cbatch-4\", \"opacity\": 0.7, \"type\": \"scatter\", \"x\": [\"ctn1\", \"ctn2\", \"ctn4\", \"ctn8\", \"ctn16\", \"ctn32\"], \"y\": [128.6941806374338, 148.1477293207525, 150.73082267760566, 147.34730765465414, 145.47084513654133, 138.79562163911797]}, {\"mode\": \"markers\", \"name\": \"cbatch-8\", \"opacity\": 0.7, \"type\": \"scatter\", \"x\": [\"ctn1\", \"ctn2\", \"ctn4\", \"ctn8\", \"ctn16\", \"ctn32\"], \"y\": [132.9462374554732, 152.03553152294245, 153.8109087857375, 150.32908985022715, 149.5737061108781, 137.09232466856386]}, {\"mode\": \"markers\", \"name\": \"cbatch-10\", \"opacity\": 0.7, \"type\": \"scatter\", \"x\": [\"ctn1\", \"ctn2\", \"ctn4\", \"ctn8\", \"ctn16\", \"ctn32\"], \"y\": [120.3515511268987, 147.53549405900398, 146.515896734099, 128.20969658040033, 137.4540646220483, 137.75929176558853]}, {\"mode\": \"markers\", \"name\": \"cbatch-16\", \"opacity\": 0.7, \"type\": \"scatter\", \"x\": [\"ctn1\", \"ctn2\", \"ctn4\", \"ctn8\", \"ctn16\", \"ctn32\"], \"y\": [112.4386360669417, 133.90268844974986, 140.60955552739614, 140.33120066085445, 142.22992016419806, 132.99246856032104]}, {\"mode\": \"markers\", \"name\": \"cbatch-32\", \"opacity\": 0.7, \"type\": \"scatter\", \"x\": [\"ctn1\", \"ctn2\", \"ctn4\", \"ctn8\", \"ctn16\", \"ctn32\"], \"y\": [100.81285442924715, 117.43194573711456, 131.50984944444383, 133.94542010028192, 136.2031805619277, 129.07185563051257]}],                        {\"bargap\": 0.15, \"bargroupgap\": 0.08, \"barmode\": \"group\", \"height\": 460, \"legend\": {\"bgcolor\": \"rgba(255, 255, 255, 0)\", \"bordercolor\": \"rgba(255, 255, 255, 0)\", \"font\": {\"size\": 28}, \"orientation\": \"h\", \"x\": 1.0, \"y\": 1.0}, \"template\": {\"data\": {\"scatter\": [{\"type\": \"scatter\"}]}}, \"title\": {\"text\": \"none-resnet\", \"x\": 0.5, \"xanchor\": \"center\", \"y\": 0.85, \"yanchor\": \"top\"}, \"width\": 1000, \"xaxis\": {\"tickfont\": {\"color\": \"rgb(107, 107, 107)\", \"size\": 10}, \"tickvals\": [\"ctn1\", \"ctn2\", \"ctn4\", \"ctn8\", \"ctn16\", \"ctn32\"], \"title\": {\"font\": {\"color\": \"rgb(107, 107, 107)\", \"size\": 10}, \"text\": \"num_ctn\"}}, \"yaxis\": {\"automargin\": true, \"tickfont\": {\"color\": \"rgb(107, 107, 107)\", \"size\": 25}, \"title\": {\"font\": {\"color\": \"rgb(107, 107, 107)\", \"size\": 25}, \"text\": \"qps\"}}},                        {\"responsive\": true}                    ).then(function(){\n",
       "                            \n",
       "var gd = document.getElementById('c7b41622-e0b7-4707-88b8-96c6d949d842');\n",
       "var x = new MutationObserver(function (mutations, observer) {{\n",
       "        var display = window.getComputedStyle(gd).display;\n",
       "        if (!display || display === 'none') {{\n",
       "            console.log([gd, 'removed!']);\n",
       "            Plotly.purge(gd);\n",
       "            observer.disconnect();\n",
       "        }}\n",
       "}});\n",
       "\n",
       "// Listen for the removal of the full notebook cells\n",
       "var notebookContainer = gd.closest('#notebook-container');\n",
       "if (notebookContainer) {{\n",
       "    x.observe(notebookContainer, {childList: true});\n",
       "}}\n",
       "\n",
       "// Listen for the clearing of the current output cell\n",
       "var outputEl = gd.closest('.output');\n",
       "if (outputEl) {{\n",
       "    x.observe(outputEl, {childList: true});\n",
       "}}\n",
       "\n",
       "                        })                };                });            </script>        </div>"
      ]
     },
     "metadata": {},
     "output_type": "display_data"
    },
    {
     "name": "stdout",
     "output_type": "stream",
     "text": [
      "    benchmark  k8senv  sbatch  numctn cscenario  cbatch  reps         qps\n",
      "72     resnet  cpumem       0       1   offline       2    10  120.077373\n",
      "78     resnet  cpumem       0       2   offline       2    10  146.322647\n",
      "84     resnet  cpumem       0       4   offline       2    10  149.158220\n",
      "90     resnet  cpumem       0       8   offline       2    10  148.897936\n",
      "96     resnet  cpumem       0      16   offline       2    10  148.528105\n",
      "102    resnet  cpumem       0      32   offline       2    10  143.921271\n",
      "    benchmark  k8senv  sbatch  numctn cscenario  cbatch  reps         qps\n",
      "73     resnet  cpumem       0       1   offline       4    10  129.320131\n",
      "79     resnet  cpumem       0       2   offline       4    10  151.947549\n",
      "85     resnet  cpumem       0       4   offline       4    10  155.184620\n",
      "91     resnet  cpumem       0       8   offline       4    10  153.739778\n",
      "97     resnet  cpumem       0      16   offline       4    10  155.685683\n",
      "103    resnet  cpumem       0      32   offline       4    10  146.138048\n",
      "    benchmark  k8senv  sbatch  numctn cscenario  cbatch  reps         qps\n",
      "74     resnet  cpumem       0       1   offline       8    10  135.142543\n",
      "80     resnet  cpumem       0       2   offline       8    10  155.793463\n",
      "86     resnet  cpumem       0       4   offline       8    10  159.133344\n",
      "92     resnet  cpumem       0       8   offline       8    10  158.236037\n",
      "98     resnet  cpumem       0      16   offline       8    10  156.046876\n",
      "104    resnet  cpumem       0      32   offline       8    10  144.782303\n",
      "    benchmark  k8senv  sbatch  numctn cscenario  cbatch  reps         qps\n",
      "75     resnet  cpumem       0       1   offline      10    10  117.552228\n",
      "81     resnet  cpumem       0       2   offline      10    10  159.369003\n",
      "87     resnet  cpumem       0       4   offline      10    10  160.993541\n",
      "93     resnet  cpumem       0       8   offline      10    10  158.562657\n",
      "99     resnet  cpumem       0      16   offline      10    10  157.205035\n",
      "105    resnet  cpumem       0      32   offline      10    10  145.245926\n",
      "    benchmark  k8senv  sbatch  numctn cscenario  cbatch  reps         qps\n",
      "76     resnet  cpumem       0       1   offline      16    10  116.176649\n",
      "82     resnet  cpumem       0       2   offline      16    10  141.449541\n",
      "88     resnet  cpumem       0       4   offline      16    10  158.044038\n",
      "94     resnet  cpumem       0       8   offline      16    10  157.002084\n",
      "100    resnet  cpumem       0      16   offline      16    10  155.476333\n",
      "106    resnet  cpumem       0      32   offline      16    10  143.675519\n",
      "    benchmark  k8senv  sbatch  numctn cscenario  cbatch  reps         qps\n",
      "77     resnet  cpumem       0       1   offline      32    10  102.602071\n",
      "83     resnet  cpumem       0       2   offline      32    10  125.183031\n",
      "89     resnet  cpumem       0       4   offline      32    10  157.383153\n",
      "95     resnet  cpumem       0       8   offline      32    10  156.968884\n",
      "101    resnet  cpumem       0      16   offline      32    10  155.103849\n",
      "107    resnet  cpumem       0      32   offline      32    10  141.994293\n"
     ]
    },
    {
     "data": {
      "application/vnd.plotly.v1+json": {
       "config": {
        "plotlyServerURL": "https://plot.ly"
       },
       "data": [
        {
         "mode": "markers",
         "name": "cbatch-2",
         "opacity": 0.7,
         "type": "scatter",
         "x": [
          "ctn1",
          "ctn2",
          "ctn4",
          "ctn8",
          "ctn16",
          "ctn32"
         ],
         "y": [
          120.0773730805294,
          146.32264717854096,
          149.15822038041642,
          148.89793592073644,
          148.52810496052172,
          143.9212705449754
         ]
        },
        {
         "mode": "markers",
         "name": "cbatch-4",
         "opacity": 0.7,
         "type": "scatter",
         "x": [
          "ctn1",
          "ctn2",
          "ctn4",
          "ctn8",
          "ctn16",
          "ctn32"
         ],
         "y": [
          129.3201308233883,
          151.9475486629623,
          155.18461972732567,
          153.73977842158797,
          155.6856826944158,
          146.13804797357923
         ]
        },
        {
         "mode": "markers",
         "name": "cbatch-8",
         "opacity": 0.7,
         "type": "scatter",
         "x": [
          "ctn1",
          "ctn2",
          "ctn4",
          "ctn8",
          "ctn16",
          "ctn32"
         ],
         "y": [
          135.14254308782,
          155.79346259868862,
          159.1333437996569,
          158.236037391663,
          156.04687643896548,
          144.78230320354564
         ]
        },
        {
         "mode": "markers",
         "name": "cbatch-10",
         "opacity": 0.7,
         "type": "scatter",
         "x": [
          "ctn1",
          "ctn2",
          "ctn4",
          "ctn8",
          "ctn16",
          "ctn32"
         ],
         "y": [
          117.5522276179336,
          159.36900337902892,
          160.9935408502878,
          158.56265663546253,
          157.20503531196192,
          145.24592586021103
         ]
        },
        {
         "mode": "markers",
         "name": "cbatch-16",
         "opacity": 0.7,
         "type": "scatter",
         "x": [
          "ctn1",
          "ctn2",
          "ctn4",
          "ctn8",
          "ctn16",
          "ctn32"
         ],
         "y": [
          116.17664866519758,
          141.4495411510319,
          158.04403807689496,
          157.0020835910041,
          155.4763327012577,
          143.67551906441537
         ]
        },
        {
         "mode": "markers",
         "name": "cbatch-32",
         "opacity": 0.7,
         "type": "scatter",
         "x": [
          "ctn1",
          "ctn2",
          "ctn4",
          "ctn8",
          "ctn16",
          "ctn32"
         ],
         "y": [
          102.60207125118926,
          125.18303115255792,
          157.38315308005437,
          156.96888387055688,
          155.1038491434874,
          141.99429282737313
         ]
        }
       ],
       "layout": {
        "bargap": 0.15,
        "bargroupgap": 0.08,
        "barmode": "group",
        "height": 460,
        "legend": {
         "bgcolor": "rgba(255, 255, 255, 0)",
         "bordercolor": "rgba(255, 255, 255, 0)",
         "font": {
          "size": 28
         },
         "orientation": "h",
         "x": 1,
         "y": 1
        },
        "template": {
         "data": {
          "scatter": [
           {
            "type": "scatter"
           }
          ]
         }
        },
        "title": {
         "text": "cpumem-resnet",
         "x": 0.5,
         "xanchor": "center",
         "y": 0.85,
         "yanchor": "top"
        },
        "width": 1000,
        "xaxis": {
         "tickfont": {
          "color": "rgb(107, 107, 107)",
          "size": 10
         },
         "tickvals": [
          "ctn1",
          "ctn2",
          "ctn4",
          "ctn8",
          "ctn16",
          "ctn32"
         ],
         "title": {
          "font": {
           "color": "rgb(107, 107, 107)",
           "size": 10
          },
          "text": "num_ctn"
         }
        },
        "yaxis": {
         "automargin": true,
         "tickfont": {
          "color": "rgb(107, 107, 107)",
          "size": 25
         },
         "title": {
          "font": {
           "color": "rgb(107, 107, 107)",
           "size": 25
          },
          "text": "qps"
         }
        }
       }
      },
      "text/html": [
       "<div>                            <div id=\"9274c38b-2bfc-44eb-8296-f213762f9590\" class=\"plotly-graph-div\" style=\"height:460px; width:1000px;\"></div>            <script type=\"text/javascript\">                require([\"plotly\"], function(Plotly) {                    window.PLOTLYENV=window.PLOTLYENV || {};                                    if (document.getElementById(\"9274c38b-2bfc-44eb-8296-f213762f9590\")) {                    Plotly.newPlot(                        \"9274c38b-2bfc-44eb-8296-f213762f9590\",                        [{\"mode\": \"markers\", \"name\": \"cbatch-2\", \"opacity\": 0.7, \"type\": \"scatter\", \"x\": [\"ctn1\", \"ctn2\", \"ctn4\", \"ctn8\", \"ctn16\", \"ctn32\"], \"y\": [120.0773730805294, 146.32264717854096, 149.15822038041642, 148.89793592073644, 148.52810496052172, 143.9212705449754]}, {\"mode\": \"markers\", \"name\": \"cbatch-4\", \"opacity\": 0.7, \"type\": \"scatter\", \"x\": [\"ctn1\", \"ctn2\", \"ctn4\", \"ctn8\", \"ctn16\", \"ctn32\"], \"y\": [129.3201308233883, 151.9475486629623, 155.18461972732567, 153.73977842158797, 155.6856826944158, 146.13804797357923]}, {\"mode\": \"markers\", \"name\": \"cbatch-8\", \"opacity\": 0.7, \"type\": \"scatter\", \"x\": [\"ctn1\", \"ctn2\", \"ctn4\", \"ctn8\", \"ctn16\", \"ctn32\"], \"y\": [135.14254308782, 155.79346259868862, 159.1333437996569, 158.236037391663, 156.04687643896548, 144.78230320354564]}, {\"mode\": \"markers\", \"name\": \"cbatch-10\", \"opacity\": 0.7, \"type\": \"scatter\", \"x\": [\"ctn1\", \"ctn2\", \"ctn4\", \"ctn8\", \"ctn16\", \"ctn32\"], \"y\": [117.5522276179336, 159.36900337902892, 160.9935408502878, 158.56265663546253, 157.20503531196192, 145.24592586021103]}, {\"mode\": \"markers\", \"name\": \"cbatch-16\", \"opacity\": 0.7, \"type\": \"scatter\", \"x\": [\"ctn1\", \"ctn2\", \"ctn4\", \"ctn8\", \"ctn16\", \"ctn32\"], \"y\": [116.17664866519758, 141.4495411510319, 158.04403807689496, 157.0020835910041, 155.4763327012577, 143.67551906441537]}, {\"mode\": \"markers\", \"name\": \"cbatch-32\", \"opacity\": 0.7, \"type\": \"scatter\", \"x\": [\"ctn1\", \"ctn2\", \"ctn4\", \"ctn8\", \"ctn16\", \"ctn32\"], \"y\": [102.60207125118926, 125.18303115255792, 157.38315308005437, 156.96888387055688, 155.1038491434874, 141.99429282737313]}],                        {\"bargap\": 0.15, \"bargroupgap\": 0.08, \"barmode\": \"group\", \"height\": 460, \"legend\": {\"bgcolor\": \"rgba(255, 255, 255, 0)\", \"bordercolor\": \"rgba(255, 255, 255, 0)\", \"font\": {\"size\": 28}, \"orientation\": \"h\", \"x\": 1.0, \"y\": 1.0}, \"template\": {\"data\": {\"scatter\": [{\"type\": \"scatter\"}]}}, \"title\": {\"text\": \"cpumem-resnet\", \"x\": 0.5, \"xanchor\": \"center\", \"y\": 0.85, \"yanchor\": \"top\"}, \"width\": 1000, \"xaxis\": {\"tickfont\": {\"color\": \"rgb(107, 107, 107)\", \"size\": 10}, \"tickvals\": [\"ctn1\", \"ctn2\", \"ctn4\", \"ctn8\", \"ctn16\", \"ctn32\"], \"title\": {\"font\": {\"color\": \"rgb(107, 107, 107)\", \"size\": 10}, \"text\": \"num_ctn\"}}, \"yaxis\": {\"automargin\": true, \"tickfont\": {\"color\": \"rgb(107, 107, 107)\", \"size\": 25}, \"title\": {\"font\": {\"color\": \"rgb(107, 107, 107)\", \"size\": 25}, \"text\": \"qps\"}}},                        {\"responsive\": true}                    ).then(function(){\n",
       "                            \n",
       "var gd = document.getElementById('9274c38b-2bfc-44eb-8296-f213762f9590');\n",
       "var x = new MutationObserver(function (mutations, observer) {{\n",
       "        var display = window.getComputedStyle(gd).display;\n",
       "        if (!display || display === 'none') {{\n",
       "            console.log([gd, 'removed!']);\n",
       "            Plotly.purge(gd);\n",
       "            observer.disconnect();\n",
       "        }}\n",
       "}});\n",
       "\n",
       "// Listen for the removal of the full notebook cells\n",
       "var notebookContainer = gd.closest('#notebook-container');\n",
       "if (notebookContainer) {{\n",
       "    x.observe(notebookContainer, {childList: true});\n",
       "}}\n",
       "\n",
       "// Listen for the clearing of the current output cell\n",
       "var outputEl = gd.closest('.output');\n",
       "if (outputEl) {{\n",
       "    x.observe(outputEl, {childList: true});\n",
       "}}\n",
       "\n",
       "                        })                };                });            </script>        </div>"
      ]
     },
     "metadata": {},
     "output_type": "display_data"
    }
   ],
   "source": [
    "import matplotlib\n",
    "import matplotlib.pyplot as plt\n",
    "import numpy as np\n",
    "from svglib.svglib import svg2rlg\n",
    "from reportlab.graphics import renderPDF\n",
    "from reportlab.pdfgen import canvas\n",
    "\n",
    "from numpy import percentile, mean, std\n",
    "import plotly.graph_objects as go\n",
    "\n",
    "from plotly.offline import init_notebook_mode, iplot\n",
    "\n",
    "import plotly.io as pio\n",
    "pio.templates.default = \"none\"\n",
    "# pio.templates.default = \"simple_white\"\n",
    "\n",
    "import plotly.graph_objects as go\n",
    "from plotly.subplots import make_subplots\n",
    "import pandas as pd\n",
    "# import plotly.express as px\n",
    "\n",
    "\n",
    "for k8senv in ['none','cpumem']:\n",
    "    for model_name in ['resnet']:\n",
    "        list_traces = []\n",
    "        for cbatch in [2,4,8,10,16,32]: \n",
    "            dfg_bench = dfg[(dfg['benchmark']== model_name)  & (dfg['k8senv']==k8senv) & (dfg['cbatch']==cbatch) &\\\n",
    "                        ((dfg['numctn']==1)| (dfg['numctn']==2)| \\\n",
    "                         (dfg['numctn']==4)| (dfg['numctn']==8)| (dfg['numctn']==16)| (dfg['numctn']==32))]\n",
    "            print(dfg_bench)\n",
    "\n",
    "\n",
    "            #data\n",
    "            trace = go.Scatter(\n",
    "                name=\"cbatch-\"+str(cbatch),\n",
    "                x=[ 'ctn1','ctn2','ctn4','ctn8','ctn16','ctn32'],\n",
    "                y= dfg_bench['qps'].values.tolist(),\n",
    "    #             error_y = dict(type='data', array=df1_bench['model_time_std'].values.tolist()),\n",
    "                opacity=0.7,\n",
    "                mode='markers'\n",
    "            )\n",
    "            list_traces.append(trace)\n",
    "\n",
    "        \n",
    "\n",
    "        #layout\n",
    "        layout = go.Layout(\n",
    "            title={\n",
    "                'text': k8senv+\"-\"+model_name ,\n",
    "                'y':0.85,\n",
    "                'x':0.5,\n",
    "                'xanchor': 'center',\n",
    "                'yanchor': 'top'},\n",
    "            width=1000,\n",
    "            height=460,\n",
    "            xaxis=dict(\n",
    "                title= \"num_ctn\",\n",
    "                tickvals=[ 'ctn1','ctn2','ctn4','ctn8','ctn16','ctn32'],\n",
    "                titlefont=dict(\n",
    "                    size=10,\n",
    "                    color='rgb(107, 107, 107)'\n",
    "                ),\n",
    "                tickfont=dict(\n",
    "                    size=10,\n",
    "                    color='rgb(107, 107, 107)'\n",
    "                )\n",
    "            ),\n",
    "            yaxis=dict(\n",
    "                title= \"qps\",\n",
    "                automargin=True,\n",
    "                titlefont=dict(\n",
    "                    size=25,\n",
    "                    color='rgb(107, 107, 107)'\n",
    "                ),\n",
    "                tickfont=dict(\n",
    "                    size=25,\n",
    "                    color='rgb(107, 107, 107)'\n",
    "                ),    \n",
    "            ),\n",
    "            legend=dict(\n",
    "                x=1.0,\n",
    "                y=1.0,\n",
    "                bgcolor='rgba(255, 255, 255, 0)',\n",
    "                bordercolor='rgba(255, 255, 255, 0)',\n",
    "                font = dict( size = 28)\n",
    "            ),\n",
    "            barmode='group',\n",
    "            bargap=0.15,\n",
    "            bargroupgap=0.08\n",
    "    #         legend_orientation=\"h\"\n",
    "        )\n",
    "\n",
    "    data = list_traces\n",
    "    fig = go.Figure(data=data, layout=layout)\n",
    "    fig.update_layout(legend_orientation=\"h\")\n",
    "    fig.show()    \n",
    "\n",
    "#     fig.write_image(path + model_name + k8senv +'.pdf')"
   ]
  },
  {
   "cell_type": "code",
   "execution_count": 80,
   "id": "99a43b0a",
   "metadata": {
    "scrolled": false
   },
   "outputs": [
    {
     "name": "stdout",
     "output_type": "stream",
     "text": [
      "  benchmark k8senv  sbatch  numctn cscenario  cbatch  reps         qps\n",
      "0    resnet   none       0       1   offline       2    10  120.015846\n",
      "1    resnet   none       0       1   offline       4    10  128.694181\n",
      "2    resnet   none       0       1   offline       8    10  132.946237\n",
      "3    resnet   none       0       1   offline      10    10  120.351551\n",
      "4    resnet   none       0       1   offline      16    10  112.438636\n",
      "5    resnet   none       0       1   offline      32    10  100.812854\n",
      "   benchmark k8senv  sbatch  numctn cscenario  cbatch  reps         qps\n",
      "6     resnet   none       0       2   offline       2    10  140.550229\n",
      "7     resnet   none       0       2   offline       4    10  148.147729\n",
      "8     resnet   none       0       2   offline       8    10  152.035532\n",
      "9     resnet   none       0       2   offline      10    10  147.535494\n",
      "10    resnet   none       0       2   offline      16    10  133.902688\n",
      "11    resnet   none       0       2   offline      32    10  117.431946\n",
      "   benchmark k8senv  sbatch  numctn cscenario  cbatch  reps         qps\n",
      "12    resnet   none       0       4   offline       2    10  141.736530\n",
      "13    resnet   none       0       4   offline       4    10  150.730823\n",
      "14    resnet   none       0       4   offline       8    10  153.810909\n",
      "15    resnet   none       0       4   offline      10    10  146.515897\n",
      "16    resnet   none       0       4   offline      16    10  140.609556\n",
      "17    resnet   none       0       4   offline      32    10  131.509849\n",
      "   benchmark k8senv  sbatch  numctn cscenario  cbatch  reps         qps\n",
      "18    resnet   none       0       8   offline       2    10  141.409995\n",
      "19    resnet   none       0       8   offline       4    10  147.347308\n",
      "20    resnet   none       0       8   offline       8    10  150.329090\n",
      "21    resnet   none       0       8   offline      10    10  128.209697\n",
      "22    resnet   none       0       8   offline      16    10  140.331201\n",
      "23    resnet   none       0       8   offline      32    10  133.945420\n",
      "   benchmark k8senv  sbatch  numctn cscenario  cbatch  reps         qps\n",
      "24    resnet   none       0      16   offline       2    10  133.537390\n",
      "25    resnet   none       0      16   offline       4    10  145.470845\n",
      "26    resnet   none       0      16   offline       8    10  149.573706\n",
      "27    resnet   none       0      16   offline      10    10  137.454065\n",
      "28    resnet   none       0      16   offline      16    10  142.229920\n",
      "29    resnet   none       0      16   offline      32    10  136.203181\n",
      "   benchmark k8senv  sbatch  numctn cscenario  cbatch  reps         qps\n",
      "30    resnet   none       0      32   offline       2    10  137.179443\n",
      "31    resnet   none       0      32   offline       4    10  138.795622\n",
      "32    resnet   none       0      32   offline       8    10  137.092325\n",
      "33    resnet   none       0      32   offline      10    10  137.759292\n",
      "34    resnet   none       0      32   offline      16    10  132.992469\n",
      "35    resnet   none       0      32   offline      32    10  129.071856\n"
     ]
    },
    {
     "data": {
      "application/vnd.plotly.v1+json": {
       "config": {
        "plotlyServerURL": "https://plot.ly"
       },
       "data": [
        {
         "mode": "markers",
         "name": "numctn-1",
         "opacity": 0.7,
         "type": "scatter",
         "x": [
          "cbatch2",
          "cbatch4",
          "cbatch8",
          "cbatch10",
          "cbatch16",
          "cbatch32"
         ],
         "y": [
          120.01584615233632,
          128.6941806374338,
          132.9462374554732,
          120.3515511268987,
          112.4386360669417,
          100.81285442924715
         ]
        },
        {
         "mode": "markers",
         "name": "numctn-2",
         "opacity": 0.7,
         "type": "scatter",
         "x": [
          "cbatch2",
          "cbatch4",
          "cbatch8",
          "cbatch10",
          "cbatch16",
          "cbatch32"
         ],
         "y": [
          140.55022861572766,
          148.1477293207525,
          152.03553152294245,
          147.53549405900398,
          133.90268844974986,
          117.43194573711456
         ]
        },
        {
         "mode": "markers",
         "name": "numctn-4",
         "opacity": 0.7,
         "type": "scatter",
         "x": [
          "cbatch2",
          "cbatch4",
          "cbatch8",
          "cbatch10",
          "cbatch16",
          "cbatch32"
         ],
         "y": [
          141.73653036784594,
          150.73082267760566,
          153.8109087857375,
          146.515896734099,
          140.60955552739614,
          131.50984944444383
         ]
        },
        {
         "mode": "markers",
         "name": "numctn-8",
         "opacity": 0.7,
         "type": "scatter",
         "x": [
          "cbatch2",
          "cbatch4",
          "cbatch8",
          "cbatch10",
          "cbatch16",
          "cbatch32"
         ],
         "y": [
          141.40999540156108,
          147.34730765465414,
          150.32908985022715,
          128.20969658040033,
          140.33120066085445,
          133.94542010028192
         ]
        },
        {
         "mode": "markers",
         "name": "numctn-16",
         "opacity": 0.7,
         "type": "scatter",
         "x": [
          "cbatch2",
          "cbatch4",
          "cbatch8",
          "cbatch10",
          "cbatch16",
          "cbatch32"
         ],
         "y": [
          133.53738977446105,
          145.47084513654133,
          149.5737061108781,
          137.4540646220483,
          142.22992016419806,
          136.2031805619277
         ]
        },
        {
         "mode": "markers",
         "name": "numctn-32",
         "opacity": 0.7,
         "type": "scatter",
         "x": [
          "cbatch2",
          "cbatch4",
          "cbatch8",
          "cbatch10",
          "cbatch16",
          "cbatch32"
         ],
         "y": [
          137.17944343680176,
          138.79562163911797,
          137.09232466856386,
          137.75929176558853,
          132.99246856032104,
          129.07185563051257
         ]
        }
       ],
       "layout": {
        "bargap": 0.15,
        "bargroupgap": 0.08,
        "barmode": "group",
        "height": 460,
        "legend": {
         "bgcolor": "rgba(255, 255, 255, 0)",
         "bordercolor": "rgba(255, 255, 255, 0)",
         "font": {
          "size": 28
         },
         "orientation": "h",
         "x": 1,
         "y": 1
        },
        "template": {
         "data": {
          "scatter": [
           {
            "type": "scatter"
           }
          ]
         }
        },
        "title": {
         "text": "none-resnet",
         "x": 0.5,
         "xanchor": "center",
         "y": 0.85,
         "yanchor": "top"
        },
        "width": 1000,
        "xaxis": {
         "tickfont": {
          "color": "rgb(107, 107, 107)",
          "size": 10
         },
         "tickvals": [
          "cbatch2",
          "cbatch4",
          "cbatch8",
          "cbatch10",
          "cbatch16",
          "cbatch32"
         ],
         "title": {
          "font": {
           "color": "rgb(107, 107, 107)",
           "size": 10
          },
          "text": "cbatch"
         }
        },
        "yaxis": {
         "automargin": true,
         "tickfont": {
          "color": "rgb(107, 107, 107)",
          "size": 25
         },
         "title": {
          "font": {
           "color": "rgb(107, 107, 107)",
           "size": 25
          },
          "text": "qps"
         }
        }
       }
      },
      "text/html": [
       "<div>                            <div id=\"7102362f-74c1-43b1-8eec-4660599a4694\" class=\"plotly-graph-div\" style=\"height:460px; width:1000px;\"></div>            <script type=\"text/javascript\">                require([\"plotly\"], function(Plotly) {                    window.PLOTLYENV=window.PLOTLYENV || {};                                    if (document.getElementById(\"7102362f-74c1-43b1-8eec-4660599a4694\")) {                    Plotly.newPlot(                        \"7102362f-74c1-43b1-8eec-4660599a4694\",                        [{\"mode\": \"markers\", \"name\": \"numctn-1\", \"opacity\": 0.7, \"type\": \"scatter\", \"x\": [\"cbatch2\", \"cbatch4\", \"cbatch8\", \"cbatch10\", \"cbatch16\", \"cbatch32\"], \"y\": [120.01584615233632, 128.6941806374338, 132.9462374554732, 120.3515511268987, 112.4386360669417, 100.81285442924715]}, {\"mode\": \"markers\", \"name\": \"numctn-2\", \"opacity\": 0.7, \"type\": \"scatter\", \"x\": [\"cbatch2\", \"cbatch4\", \"cbatch8\", \"cbatch10\", \"cbatch16\", \"cbatch32\"], \"y\": [140.55022861572766, 148.1477293207525, 152.03553152294245, 147.53549405900398, 133.90268844974986, 117.43194573711456]}, {\"mode\": \"markers\", \"name\": \"numctn-4\", \"opacity\": 0.7, \"type\": \"scatter\", \"x\": [\"cbatch2\", \"cbatch4\", \"cbatch8\", \"cbatch10\", \"cbatch16\", \"cbatch32\"], \"y\": [141.73653036784594, 150.73082267760566, 153.8109087857375, 146.515896734099, 140.60955552739614, 131.50984944444383]}, {\"mode\": \"markers\", \"name\": \"numctn-8\", \"opacity\": 0.7, \"type\": \"scatter\", \"x\": [\"cbatch2\", \"cbatch4\", \"cbatch8\", \"cbatch10\", \"cbatch16\", \"cbatch32\"], \"y\": [141.40999540156108, 147.34730765465414, 150.32908985022715, 128.20969658040033, 140.33120066085445, 133.94542010028192]}, {\"mode\": \"markers\", \"name\": \"numctn-16\", \"opacity\": 0.7, \"type\": \"scatter\", \"x\": [\"cbatch2\", \"cbatch4\", \"cbatch8\", \"cbatch10\", \"cbatch16\", \"cbatch32\"], \"y\": [133.53738977446105, 145.47084513654133, 149.5737061108781, 137.4540646220483, 142.22992016419806, 136.2031805619277]}, {\"mode\": \"markers\", \"name\": \"numctn-32\", \"opacity\": 0.7, \"type\": \"scatter\", \"x\": [\"cbatch2\", \"cbatch4\", \"cbatch8\", \"cbatch10\", \"cbatch16\", \"cbatch32\"], \"y\": [137.17944343680176, 138.79562163911797, 137.09232466856386, 137.75929176558853, 132.99246856032104, 129.07185563051257]}],                        {\"bargap\": 0.15, \"bargroupgap\": 0.08, \"barmode\": \"group\", \"height\": 460, \"legend\": {\"bgcolor\": \"rgba(255, 255, 255, 0)\", \"bordercolor\": \"rgba(255, 255, 255, 0)\", \"font\": {\"size\": 28}, \"orientation\": \"h\", \"x\": 1.0, \"y\": 1.0}, \"template\": {\"data\": {\"scatter\": [{\"type\": \"scatter\"}]}}, \"title\": {\"text\": \"none-resnet\", \"x\": 0.5, \"xanchor\": \"center\", \"y\": 0.85, \"yanchor\": \"top\"}, \"width\": 1000, \"xaxis\": {\"tickfont\": {\"color\": \"rgb(107, 107, 107)\", \"size\": 10}, \"tickvals\": [\"cbatch2\", \"cbatch4\", \"cbatch8\", \"cbatch10\", \"cbatch16\", \"cbatch32\"], \"title\": {\"font\": {\"color\": \"rgb(107, 107, 107)\", \"size\": 10}, \"text\": \"cbatch\"}}, \"yaxis\": {\"automargin\": true, \"tickfont\": {\"color\": \"rgb(107, 107, 107)\", \"size\": 25}, \"title\": {\"font\": {\"color\": \"rgb(107, 107, 107)\", \"size\": 25}, \"text\": \"qps\"}}},                        {\"responsive\": true}                    ).then(function(){\n",
       "                            \n",
       "var gd = document.getElementById('7102362f-74c1-43b1-8eec-4660599a4694');\n",
       "var x = new MutationObserver(function (mutations, observer) {{\n",
       "        var display = window.getComputedStyle(gd).display;\n",
       "        if (!display || display === 'none') {{\n",
       "            console.log([gd, 'removed!']);\n",
       "            Plotly.purge(gd);\n",
       "            observer.disconnect();\n",
       "        }}\n",
       "}});\n",
       "\n",
       "// Listen for the removal of the full notebook cells\n",
       "var notebookContainer = gd.closest('#notebook-container');\n",
       "if (notebookContainer) {{\n",
       "    x.observe(notebookContainer, {childList: true});\n",
       "}}\n",
       "\n",
       "// Listen for the clearing of the current output cell\n",
       "var outputEl = gd.closest('.output');\n",
       "if (outputEl) {{\n",
       "    x.observe(outputEl, {childList: true});\n",
       "}}\n",
       "\n",
       "                        })                };                });            </script>        </div>"
      ]
     },
     "metadata": {},
     "output_type": "display_data"
    },
    {
     "name": "stdout",
     "output_type": "stream",
     "text": [
      "   benchmark  k8senv  sbatch  numctn cscenario  cbatch  reps         qps\n",
      "72    resnet  cpumem       0       1   offline       2    10  120.077373\n",
      "73    resnet  cpumem       0       1   offline       4    10  129.320131\n",
      "74    resnet  cpumem       0       1   offline       8    10  135.142543\n",
      "75    resnet  cpumem       0       1   offline      10    10  117.552228\n",
      "76    resnet  cpumem       0       1   offline      16    10  116.176649\n",
      "77    resnet  cpumem       0       1   offline      32    10  102.602071\n",
      "   benchmark  k8senv  sbatch  numctn cscenario  cbatch  reps         qps\n",
      "78    resnet  cpumem       0       2   offline       2    10  146.322647\n",
      "79    resnet  cpumem       0       2   offline       4    10  151.947549\n",
      "80    resnet  cpumem       0       2   offline       8    10  155.793463\n",
      "81    resnet  cpumem       0       2   offline      10    10  159.369003\n",
      "82    resnet  cpumem       0       2   offline      16    10  141.449541\n",
      "83    resnet  cpumem       0       2   offline      32    10  125.183031\n",
      "   benchmark  k8senv  sbatch  numctn cscenario  cbatch  reps         qps\n",
      "84    resnet  cpumem       0       4   offline       2    10  149.158220\n",
      "85    resnet  cpumem       0       4   offline       4    10  155.184620\n",
      "86    resnet  cpumem       0       4   offline       8    10  159.133344\n",
      "87    resnet  cpumem       0       4   offline      10    10  160.993541\n",
      "88    resnet  cpumem       0       4   offline      16    10  158.044038\n",
      "89    resnet  cpumem       0       4   offline      32    10  157.383153\n",
      "   benchmark  k8senv  sbatch  numctn cscenario  cbatch  reps         qps\n",
      "90    resnet  cpumem       0       8   offline       2    10  148.897936\n",
      "91    resnet  cpumem       0       8   offline       4    10  153.739778\n",
      "92    resnet  cpumem       0       8   offline       8    10  158.236037\n",
      "93    resnet  cpumem       0       8   offline      10    10  158.562657\n",
      "94    resnet  cpumem       0       8   offline      16    10  157.002084\n",
      "95    resnet  cpumem       0       8   offline      32    10  156.968884\n",
      "    benchmark  k8senv  sbatch  numctn cscenario  cbatch  reps         qps\n",
      "96     resnet  cpumem       0      16   offline       2    10  148.528105\n",
      "97     resnet  cpumem       0      16   offline       4    10  155.685683\n",
      "98     resnet  cpumem       0      16   offline       8    10  156.046876\n",
      "99     resnet  cpumem       0      16   offline      10    10  157.205035\n",
      "100    resnet  cpumem       0      16   offline      16    10  155.476333\n",
      "101    resnet  cpumem       0      16   offline      32    10  155.103849\n",
      "    benchmark  k8senv  sbatch  numctn cscenario  cbatch  reps         qps\n",
      "102    resnet  cpumem       0      32   offline       2    10  143.921271\n",
      "103    resnet  cpumem       0      32   offline       4    10  146.138048\n",
      "104    resnet  cpumem       0      32   offline       8    10  144.782303\n",
      "105    resnet  cpumem       0      32   offline      10    10  145.245926\n",
      "106    resnet  cpumem       0      32   offline      16    10  143.675519\n",
      "107    resnet  cpumem       0      32   offline      32    10  141.994293\n"
     ]
    },
    {
     "data": {
      "application/vnd.plotly.v1+json": {
       "config": {
        "plotlyServerURL": "https://plot.ly"
       },
       "data": [
        {
         "mode": "markers",
         "name": "numctn-1",
         "opacity": 0.7,
         "type": "scatter",
         "x": [
          "cbatch2",
          "cbatch4",
          "cbatch8",
          "cbatch10",
          "cbatch16",
          "cbatch32"
         ],
         "y": [
          120.0773730805294,
          129.3201308233883,
          135.14254308782,
          117.5522276179336,
          116.17664866519758,
          102.60207125118926
         ]
        },
        {
         "mode": "markers",
         "name": "numctn-2",
         "opacity": 0.7,
         "type": "scatter",
         "x": [
          "cbatch2",
          "cbatch4",
          "cbatch8",
          "cbatch10",
          "cbatch16",
          "cbatch32"
         ],
         "y": [
          146.32264717854096,
          151.9475486629623,
          155.79346259868862,
          159.36900337902892,
          141.4495411510319,
          125.18303115255792
         ]
        },
        {
         "mode": "markers",
         "name": "numctn-4",
         "opacity": 0.7,
         "type": "scatter",
         "x": [
          "cbatch2",
          "cbatch4",
          "cbatch8",
          "cbatch10",
          "cbatch16",
          "cbatch32"
         ],
         "y": [
          149.15822038041642,
          155.18461972732567,
          159.1333437996569,
          160.9935408502878,
          158.04403807689496,
          157.38315308005437
         ]
        },
        {
         "mode": "markers",
         "name": "numctn-8",
         "opacity": 0.7,
         "type": "scatter",
         "x": [
          "cbatch2",
          "cbatch4",
          "cbatch8",
          "cbatch10",
          "cbatch16",
          "cbatch32"
         ],
         "y": [
          148.89793592073644,
          153.73977842158797,
          158.236037391663,
          158.56265663546253,
          157.0020835910041,
          156.96888387055688
         ]
        },
        {
         "mode": "markers",
         "name": "numctn-16",
         "opacity": 0.7,
         "type": "scatter",
         "x": [
          "cbatch2",
          "cbatch4",
          "cbatch8",
          "cbatch10",
          "cbatch16",
          "cbatch32"
         ],
         "y": [
          148.52810496052172,
          155.6856826944158,
          156.04687643896548,
          157.20503531196192,
          155.4763327012577,
          155.1038491434874
         ]
        },
        {
         "mode": "markers",
         "name": "numctn-32",
         "opacity": 0.7,
         "type": "scatter",
         "x": [
          "cbatch2",
          "cbatch4",
          "cbatch8",
          "cbatch10",
          "cbatch16",
          "cbatch32"
         ],
         "y": [
          143.9212705449754,
          146.13804797357923,
          144.78230320354564,
          145.24592586021103,
          143.67551906441537,
          141.99429282737313
         ]
        }
       ],
       "layout": {
        "bargap": 0.15,
        "bargroupgap": 0.08,
        "barmode": "group",
        "height": 460,
        "legend": {
         "bgcolor": "rgba(255, 255, 255, 0)",
         "bordercolor": "rgba(255, 255, 255, 0)",
         "font": {
          "size": 28
         },
         "orientation": "h",
         "x": 1,
         "y": 1
        },
        "template": {
         "data": {
          "scatter": [
           {
            "type": "scatter"
           }
          ]
         }
        },
        "title": {
         "text": "cpumem-resnet",
         "x": 0.5,
         "xanchor": "center",
         "y": 0.85,
         "yanchor": "top"
        },
        "width": 1000,
        "xaxis": {
         "tickfont": {
          "color": "rgb(107, 107, 107)",
          "size": 10
         },
         "tickvals": [
          "cbatch2",
          "cbatch4",
          "cbatch8",
          "cbatch10",
          "cbatch16",
          "cbatch32"
         ],
         "title": {
          "font": {
           "color": "rgb(107, 107, 107)",
           "size": 10
          },
          "text": "cbatch"
         }
        },
        "yaxis": {
         "automargin": true,
         "tickfont": {
          "color": "rgb(107, 107, 107)",
          "size": 25
         },
         "title": {
          "font": {
           "color": "rgb(107, 107, 107)",
           "size": 25
          },
          "text": "qps"
         }
        }
       }
      },
      "text/html": [
       "<div>                            <div id=\"ddcabfe1-3604-410c-85cd-596d74e65544\" class=\"plotly-graph-div\" style=\"height:460px; width:1000px;\"></div>            <script type=\"text/javascript\">                require([\"plotly\"], function(Plotly) {                    window.PLOTLYENV=window.PLOTLYENV || {};                                    if (document.getElementById(\"ddcabfe1-3604-410c-85cd-596d74e65544\")) {                    Plotly.newPlot(                        \"ddcabfe1-3604-410c-85cd-596d74e65544\",                        [{\"mode\": \"markers\", \"name\": \"numctn-1\", \"opacity\": 0.7, \"type\": \"scatter\", \"x\": [\"cbatch2\", \"cbatch4\", \"cbatch8\", \"cbatch10\", \"cbatch16\", \"cbatch32\"], \"y\": [120.0773730805294, 129.3201308233883, 135.14254308782, 117.5522276179336, 116.17664866519758, 102.60207125118926]}, {\"mode\": \"markers\", \"name\": \"numctn-2\", \"opacity\": 0.7, \"type\": \"scatter\", \"x\": [\"cbatch2\", \"cbatch4\", \"cbatch8\", \"cbatch10\", \"cbatch16\", \"cbatch32\"], \"y\": [146.32264717854096, 151.9475486629623, 155.79346259868862, 159.36900337902892, 141.4495411510319, 125.18303115255792]}, {\"mode\": \"markers\", \"name\": \"numctn-4\", \"opacity\": 0.7, \"type\": \"scatter\", \"x\": [\"cbatch2\", \"cbatch4\", \"cbatch8\", \"cbatch10\", \"cbatch16\", \"cbatch32\"], \"y\": [149.15822038041642, 155.18461972732567, 159.1333437996569, 160.9935408502878, 158.04403807689496, 157.38315308005437]}, {\"mode\": \"markers\", \"name\": \"numctn-8\", \"opacity\": 0.7, \"type\": \"scatter\", \"x\": [\"cbatch2\", \"cbatch4\", \"cbatch8\", \"cbatch10\", \"cbatch16\", \"cbatch32\"], \"y\": [148.89793592073644, 153.73977842158797, 158.236037391663, 158.56265663546253, 157.0020835910041, 156.96888387055688]}, {\"mode\": \"markers\", \"name\": \"numctn-16\", \"opacity\": 0.7, \"type\": \"scatter\", \"x\": [\"cbatch2\", \"cbatch4\", \"cbatch8\", \"cbatch10\", \"cbatch16\", \"cbatch32\"], \"y\": [148.52810496052172, 155.6856826944158, 156.04687643896548, 157.20503531196192, 155.4763327012577, 155.1038491434874]}, {\"mode\": \"markers\", \"name\": \"numctn-32\", \"opacity\": 0.7, \"type\": \"scatter\", \"x\": [\"cbatch2\", \"cbatch4\", \"cbatch8\", \"cbatch10\", \"cbatch16\", \"cbatch32\"], \"y\": [143.9212705449754, 146.13804797357923, 144.78230320354564, 145.24592586021103, 143.67551906441537, 141.99429282737313]}],                        {\"bargap\": 0.15, \"bargroupgap\": 0.08, \"barmode\": \"group\", \"height\": 460, \"legend\": {\"bgcolor\": \"rgba(255, 255, 255, 0)\", \"bordercolor\": \"rgba(255, 255, 255, 0)\", \"font\": {\"size\": 28}, \"orientation\": \"h\", \"x\": 1.0, \"y\": 1.0}, \"template\": {\"data\": {\"scatter\": [{\"type\": \"scatter\"}]}}, \"title\": {\"text\": \"cpumem-resnet\", \"x\": 0.5, \"xanchor\": \"center\", \"y\": 0.85, \"yanchor\": \"top\"}, \"width\": 1000, \"xaxis\": {\"tickfont\": {\"color\": \"rgb(107, 107, 107)\", \"size\": 10}, \"tickvals\": [\"cbatch2\", \"cbatch4\", \"cbatch8\", \"cbatch10\", \"cbatch16\", \"cbatch32\"], \"title\": {\"font\": {\"color\": \"rgb(107, 107, 107)\", \"size\": 10}, \"text\": \"cbatch\"}}, \"yaxis\": {\"automargin\": true, \"tickfont\": {\"color\": \"rgb(107, 107, 107)\", \"size\": 25}, \"title\": {\"font\": {\"color\": \"rgb(107, 107, 107)\", \"size\": 25}, \"text\": \"qps\"}}},                        {\"responsive\": true}                    ).then(function(){\n",
       "                            \n",
       "var gd = document.getElementById('ddcabfe1-3604-410c-85cd-596d74e65544');\n",
       "var x = new MutationObserver(function (mutations, observer) {{\n",
       "        var display = window.getComputedStyle(gd).display;\n",
       "        if (!display || display === 'none') {{\n",
       "            console.log([gd, 'removed!']);\n",
       "            Plotly.purge(gd);\n",
       "            observer.disconnect();\n",
       "        }}\n",
       "}});\n",
       "\n",
       "// Listen for the removal of the full notebook cells\n",
       "var notebookContainer = gd.closest('#notebook-container');\n",
       "if (notebookContainer) {{\n",
       "    x.observe(notebookContainer, {childList: true});\n",
       "}}\n",
       "\n",
       "// Listen for the clearing of the current output cell\n",
       "var outputEl = gd.closest('.output');\n",
       "if (outputEl) {{\n",
       "    x.observe(outputEl, {childList: true});\n",
       "}}\n",
       "\n",
       "                        })                };                });            </script>        </div>"
      ]
     },
     "metadata": {},
     "output_type": "display_data"
    },
    {
     "name": "stdout",
     "output_type": "stream",
     "text": [
      "   benchmark     k8senv  sbatch  numctn cscenario  cbatch  reps         qps\n",
      "36    resnet  cpumemory       0       1   offline       2    10         NaN\n",
      "37    resnet  cpumemory       0       1   offline       4    10         NaN\n",
      "38    resnet  cpumemory       0       1   offline       8    10         NaN\n",
      "39    resnet  cpumemory       0       1   offline      10    10  117.877875\n",
      "40    resnet  cpumemory       0       1   offline      16    10         NaN\n",
      "41    resnet  cpumemory       0       1   offline      32    10         NaN\n",
      "   benchmark     k8senv  sbatch  numctn cscenario  cbatch  reps         qps\n",
      "42    resnet  cpumemory       0       2   offline       2    10         NaN\n",
      "43    resnet  cpumemory       0       2   offline       4    10         NaN\n",
      "44    resnet  cpumemory       0       2   offline       8    10         NaN\n",
      "45    resnet  cpumemory       0       2   offline      10    10  159.308878\n",
      "46    resnet  cpumemory       0       2   offline      16    10         NaN\n",
      "47    resnet  cpumemory       0       2   offline      32    10         NaN\n",
      "   benchmark     k8senv  sbatch  numctn cscenario  cbatch  reps         qps\n",
      "48    resnet  cpumemory       0       4   offline       2    10         NaN\n",
      "49    resnet  cpumemory       0       4   offline       4    10         NaN\n",
      "50    resnet  cpumemory       0       4   offline       8    10         NaN\n",
      "51    resnet  cpumemory       0       4   offline      10    10  160.467568\n",
      "52    resnet  cpumemory       0       4   offline      16    10         NaN\n",
      "53    resnet  cpumemory       0       4   offline      32    10         NaN\n",
      "   benchmark     k8senv  sbatch  numctn cscenario  cbatch  reps         qps\n",
      "54    resnet  cpumemory       0       8   offline       2    10         NaN\n",
      "55    resnet  cpumemory       0       8   offline       4    10         NaN\n",
      "56    resnet  cpumemory       0       8   offline       8    10         NaN\n",
      "57    resnet  cpumemory       0       8   offline      10    10  159.091984\n",
      "58    resnet  cpumemory       0       8   offline      16    10         NaN\n",
      "59    resnet  cpumemory       0       8   offline      32    10         NaN\n",
      "   benchmark     k8senv  sbatch  numctn cscenario  cbatch  reps         qps\n",
      "60    resnet  cpumemory       0      16   offline       2    10         NaN\n",
      "61    resnet  cpumemory       0      16   offline       4    10         NaN\n",
      "62    resnet  cpumemory       0      16   offline       8    10         NaN\n",
      "63    resnet  cpumemory       0      16   offline      10    10  156.993617\n",
      "64    resnet  cpumemory       0      16   offline      16    10         NaN\n",
      "65    resnet  cpumemory       0      16   offline      32    10         NaN\n",
      "   benchmark     k8senv  sbatch  numctn cscenario  cbatch  reps         qps\n",
      "66    resnet  cpumemory       0      32   offline       2    10         NaN\n",
      "67    resnet  cpumemory       0      32   offline       4    10         NaN\n",
      "68    resnet  cpumemory       0      32   offline       8    10         NaN\n",
      "69    resnet  cpumemory       0      32   offline      10    10  145.225391\n",
      "70    resnet  cpumemory       0      32   offline      16    10         NaN\n",
      "71    resnet  cpumemory       0      32   offline      32    10         NaN\n"
     ]
    },
    {
     "data": {
      "application/vnd.plotly.v1+json": {
       "config": {
        "plotlyServerURL": "https://plot.ly"
       },
       "data": [
        {
         "mode": "markers",
         "name": "numctn-1",
         "opacity": 0.7,
         "type": "scatter",
         "x": [
          "cbatch2",
          "cbatch4",
          "cbatch8",
          "cbatch10",
          "cbatch16",
          "cbatch32"
         ],
         "y": [
          null,
          null,
          null,
          117.87787540925908,
          null,
          null
         ]
        },
        {
         "mode": "markers",
         "name": "numctn-2",
         "opacity": 0.7,
         "type": "scatter",
         "x": [
          "cbatch2",
          "cbatch4",
          "cbatch8",
          "cbatch10",
          "cbatch16",
          "cbatch32"
         ],
         "y": [
          null,
          null,
          null,
          159.30887793408604,
          null,
          null
         ]
        },
        {
         "mode": "markers",
         "name": "numctn-4",
         "opacity": 0.7,
         "type": "scatter",
         "x": [
          "cbatch2",
          "cbatch4",
          "cbatch8",
          "cbatch10",
          "cbatch16",
          "cbatch32"
         ],
         "y": [
          null,
          null,
          null,
          160.46756766975705,
          null,
          null
         ]
        },
        {
         "mode": "markers",
         "name": "numctn-8",
         "opacity": 0.7,
         "type": "scatter",
         "x": [
          "cbatch2",
          "cbatch4",
          "cbatch8",
          "cbatch10",
          "cbatch16",
          "cbatch32"
         ],
         "y": [
          null,
          null,
          null,
          159.09198429645824,
          null,
          null
         ]
        },
        {
         "mode": "markers",
         "name": "numctn-16",
         "opacity": 0.7,
         "type": "scatter",
         "x": [
          "cbatch2",
          "cbatch4",
          "cbatch8",
          "cbatch10",
          "cbatch16",
          "cbatch32"
         ],
         "y": [
          null,
          null,
          null,
          156.9936168221312,
          null,
          null
         ]
        },
        {
         "mode": "markers",
         "name": "numctn-32",
         "opacity": 0.7,
         "type": "scatter",
         "x": [
          "cbatch2",
          "cbatch4",
          "cbatch8",
          "cbatch10",
          "cbatch16",
          "cbatch32"
         ],
         "y": [
          null,
          null,
          null,
          145.2253909509832,
          null,
          null
         ]
        }
       ],
       "layout": {
        "bargap": 0.15,
        "bargroupgap": 0.08,
        "barmode": "group",
        "height": 460,
        "legend": {
         "bgcolor": "rgba(255, 255, 255, 0)",
         "bordercolor": "rgba(255, 255, 255, 0)",
         "font": {
          "size": 28
         },
         "orientation": "h",
         "x": 1,
         "y": 1
        },
        "template": {
         "data": {
          "scatter": [
           {
            "type": "scatter"
           }
          ]
         }
        },
        "title": {
         "text": "cpumemory-resnet",
         "x": 0.5,
         "xanchor": "center",
         "y": 0.85,
         "yanchor": "top"
        },
        "width": 1000,
        "xaxis": {
         "tickfont": {
          "color": "rgb(107, 107, 107)",
          "size": 10
         },
         "tickvals": [
          "cbatch2",
          "cbatch4",
          "cbatch8",
          "cbatch10",
          "cbatch16",
          "cbatch32"
         ],
         "title": {
          "font": {
           "color": "rgb(107, 107, 107)",
           "size": 10
          },
          "text": "cbatch"
         }
        },
        "yaxis": {
         "automargin": true,
         "tickfont": {
          "color": "rgb(107, 107, 107)",
          "size": 25
         },
         "title": {
          "font": {
           "color": "rgb(107, 107, 107)",
           "size": 25
          },
          "text": "qps"
         }
        }
       }
      },
      "text/html": [
       "<div>                            <div id=\"e0cc6d8a-b01d-449f-93c0-2b9206fa26d6\" class=\"plotly-graph-div\" style=\"height:460px; width:1000px;\"></div>            <script type=\"text/javascript\">                require([\"plotly\"], function(Plotly) {                    window.PLOTLYENV=window.PLOTLYENV || {};                                    if (document.getElementById(\"e0cc6d8a-b01d-449f-93c0-2b9206fa26d6\")) {                    Plotly.newPlot(                        \"e0cc6d8a-b01d-449f-93c0-2b9206fa26d6\",                        [{\"mode\": \"markers\", \"name\": \"numctn-1\", \"opacity\": 0.7, \"type\": \"scatter\", \"x\": [\"cbatch2\", \"cbatch4\", \"cbatch8\", \"cbatch10\", \"cbatch16\", \"cbatch32\"], \"y\": [null, null, null, 117.87787540925908, null, null]}, {\"mode\": \"markers\", \"name\": \"numctn-2\", \"opacity\": 0.7, \"type\": \"scatter\", \"x\": [\"cbatch2\", \"cbatch4\", \"cbatch8\", \"cbatch10\", \"cbatch16\", \"cbatch32\"], \"y\": [null, null, null, 159.30887793408604, null, null]}, {\"mode\": \"markers\", \"name\": \"numctn-4\", \"opacity\": 0.7, \"type\": \"scatter\", \"x\": [\"cbatch2\", \"cbatch4\", \"cbatch8\", \"cbatch10\", \"cbatch16\", \"cbatch32\"], \"y\": [null, null, null, 160.46756766975705, null, null]}, {\"mode\": \"markers\", \"name\": \"numctn-8\", \"opacity\": 0.7, \"type\": \"scatter\", \"x\": [\"cbatch2\", \"cbatch4\", \"cbatch8\", \"cbatch10\", \"cbatch16\", \"cbatch32\"], \"y\": [null, null, null, 159.09198429645824, null, null]}, {\"mode\": \"markers\", \"name\": \"numctn-16\", \"opacity\": 0.7, \"type\": \"scatter\", \"x\": [\"cbatch2\", \"cbatch4\", \"cbatch8\", \"cbatch10\", \"cbatch16\", \"cbatch32\"], \"y\": [null, null, null, 156.9936168221312, null, null]}, {\"mode\": \"markers\", \"name\": \"numctn-32\", \"opacity\": 0.7, \"type\": \"scatter\", \"x\": [\"cbatch2\", \"cbatch4\", \"cbatch8\", \"cbatch10\", \"cbatch16\", \"cbatch32\"], \"y\": [null, null, null, 145.2253909509832, null, null]}],                        {\"bargap\": 0.15, \"bargroupgap\": 0.08, \"barmode\": \"group\", \"height\": 460, \"legend\": {\"bgcolor\": \"rgba(255, 255, 255, 0)\", \"bordercolor\": \"rgba(255, 255, 255, 0)\", \"font\": {\"size\": 28}, \"orientation\": \"h\", \"x\": 1.0, \"y\": 1.0}, \"template\": {\"data\": {\"scatter\": [{\"type\": \"scatter\"}]}}, \"title\": {\"text\": \"cpumemory-resnet\", \"x\": 0.5, \"xanchor\": \"center\", \"y\": 0.85, \"yanchor\": \"top\"}, \"width\": 1000, \"xaxis\": {\"tickfont\": {\"color\": \"rgb(107, 107, 107)\", \"size\": 10}, \"tickvals\": [\"cbatch2\", \"cbatch4\", \"cbatch8\", \"cbatch10\", \"cbatch16\", \"cbatch32\"], \"title\": {\"font\": {\"color\": \"rgb(107, 107, 107)\", \"size\": 10}, \"text\": \"cbatch\"}}, \"yaxis\": {\"automargin\": true, \"tickfont\": {\"color\": \"rgb(107, 107, 107)\", \"size\": 25}, \"title\": {\"font\": {\"color\": \"rgb(107, 107, 107)\", \"size\": 25}, \"text\": \"qps\"}}},                        {\"responsive\": true}                    ).then(function(){\n",
       "                            \n",
       "var gd = document.getElementById('e0cc6d8a-b01d-449f-93c0-2b9206fa26d6');\n",
       "var x = new MutationObserver(function (mutations, observer) {{\n",
       "        var display = window.getComputedStyle(gd).display;\n",
       "        if (!display || display === 'none') {{\n",
       "            console.log([gd, 'removed!']);\n",
       "            Plotly.purge(gd);\n",
       "            observer.disconnect();\n",
       "        }}\n",
       "}});\n",
       "\n",
       "// Listen for the removal of the full notebook cells\n",
       "var notebookContainer = gd.closest('#notebook-container');\n",
       "if (notebookContainer) {{\n",
       "    x.observe(notebookContainer, {childList: true});\n",
       "}}\n",
       "\n",
       "// Listen for the clearing of the current output cell\n",
       "var outputEl = gd.closest('.output');\n",
       "if (outputEl) {{\n",
       "    x.observe(outputEl, {childList: true});\n",
       "}}\n",
       "\n",
       "                        })                };                });            </script>        </div>"
      ]
     },
     "metadata": {},
     "output_type": "display_data"
    }
   ],
   "source": [
    "import matplotlib\n",
    "import matplotlib.pyplot as plt\n",
    "import numpy as np\n",
    "from svglib.svglib import svg2rlg\n",
    "from reportlab.graphics import renderPDF\n",
    "from reportlab.pdfgen import canvas\n",
    "\n",
    "from numpy import percentile, mean, std\n",
    "import plotly.graph_objects as go\n",
    "\n",
    "from plotly.offline import init_notebook_mode, iplot\n",
    "\n",
    "import plotly.io as pio\n",
    "pio.templates.default = \"none\"\n",
    "# pio.templates.default = \"simple_white\"\n",
    "\n",
    "import plotly.graph_objects as go\n",
    "from plotly.subplots import make_subplots\n",
    "import pandas as pd\n",
    "# import plotly.express as px\n",
    "\n",
    "\n",
    "for k8senv in ['none','cpumem','cpumemory']:\n",
    "    for model_name in ['resnet']:\n",
    "        list_traces = []\n",
    "        for numctn in [1,2,4,8,16,32]: \n",
    "            dfg_bench = dfg[(dfg['benchmark']== model_name)  & (dfg['k8senv']==k8senv) & (dfg['numctn']==numctn) &\\\n",
    "                        ((dfg['cbatch']==2) |\\\n",
    "                         (dfg['cbatch']==4)| (dfg['cbatch']==8)| (dfg['cbatch']==10)| (dfg['cbatch']==16)| (dfg['cbatch']==32))]\n",
    "            print(dfg_bench)\n",
    "\n",
    "\n",
    "            #data\n",
    "            trace = go.Scatter(\n",
    "                name=\"numctn-\"+str(numctn),\n",
    "                x=[ 'cbatch2','cbatch4','cbatch8','cbatch10','cbatch16','cbatch32'],\n",
    "                y= dfg_bench['qps'].values.tolist(),\n",
    "    #             error_y = dict(type='data', array=df1_bench['model_time_std'].values.tolist()),\n",
    "                opacity=0.7,\n",
    "                mode='markers'\n",
    "            )\n",
    "            list_traces.append(trace)\n",
    "\n",
    "        \n",
    "\n",
    "        #layout\n",
    "        layout = go.Layout(\n",
    "            title={\n",
    "                'text': k8senv+\"-\"+model_name ,\n",
    "                'y':0.85,\n",
    "                'x':0.5,\n",
    "                'xanchor': 'center',\n",
    "                'yanchor': 'top'},\n",
    "            width=1000,\n",
    "            height=460,\n",
    "            xaxis=dict(\n",
    "                title= \"cbatch\",\n",
    "                tickvals=[ 'cbatch2','cbatch4','cbatch8','cbatch10','cbatch16','cbatch32'],\n",
    "                titlefont=dict(\n",
    "                    size=10,\n",
    "                    color='rgb(107, 107, 107)'\n",
    "                ),\n",
    "                tickfont=dict(\n",
    "                    size=10,\n",
    "                    color='rgb(107, 107, 107)'\n",
    "                )\n",
    "            ),\n",
    "            yaxis=dict(\n",
    "                title= \"qps\",\n",
    "                automargin=True,\n",
    "                titlefont=dict(\n",
    "                    size=25,\n",
    "                    color='rgb(107, 107, 107)'\n",
    "                ),\n",
    "                tickfont=dict(\n",
    "                    size=25,\n",
    "                    color='rgb(107, 107, 107)'\n",
    "                ),    \n",
    "            ),\n",
    "            legend=dict(\n",
    "                x=1.0,\n",
    "                y=1.0,\n",
    "                bgcolor='rgba(255, 255, 255, 0)',\n",
    "                bordercolor='rgba(255, 255, 255, 0)',\n",
    "                font = dict( size = 28)\n",
    "            ),\n",
    "            barmode='group',\n",
    "            bargap=0.15,\n",
    "            bargroupgap=0.08\n",
    "    #         legend_orientation=\"h\"\n",
    "        )\n",
    "\n",
    "    data = list_traces\n",
    "    fig = go.Figure(data=data, layout=layout)\n",
    "    fig.update_layout(legend_orientation=\"h\")\n",
    "    fig.show()    \n",
    "\n",
    "#     fig.write_image(path + model_name + k8senv +'.pdf')"
   ]
  },
  {
   "cell_type": "code",
   "execution_count": 81,
   "id": "1147c970",
   "metadata": {},
   "outputs": [
    {
     "name": "stdout",
     "output_type": "stream",
     "text": [
      "   benchmark     k8senv  sbatch  numctn cscenario  cbatch  reps         qps\n",
      "3     resnet       none       0       1   offline      10    10  120.351551\n",
      "39    resnet  cpumemory       0       1   offline      10    10  117.877875\n",
      "75    resnet     cpumem       0       1   offline      10    10  117.552228\n",
      "   benchmark     k8senv  sbatch  numctn cscenario  cbatch  reps         qps\n",
      "9     resnet       none       0       2   offline      10    10  147.535494\n",
      "45    resnet  cpumemory       0       2   offline      10    10  159.308878\n",
      "81    resnet     cpumem       0       2   offline      10    10  159.369003\n",
      "   benchmark     k8senv  sbatch  numctn cscenario  cbatch  reps         qps\n",
      "15    resnet       none       0       4   offline      10    10  146.515897\n",
      "51    resnet  cpumemory       0       4   offline      10    10  160.467568\n",
      "87    resnet     cpumem       0       4   offline      10    10  160.993541\n",
      "   benchmark     k8senv  sbatch  numctn cscenario  cbatch  reps         qps\n",
      "21    resnet       none       0       8   offline      10    10  128.209697\n",
      "57    resnet  cpumemory       0       8   offline      10    10  159.091984\n",
      "93    resnet     cpumem       0       8   offline      10    10  158.562657\n",
      "   benchmark     k8senv  sbatch  numctn cscenario  cbatch  reps         qps\n",
      "27    resnet       none       0      16   offline      10    10  137.454065\n",
      "63    resnet  cpumemory       0      16   offline      10    10  156.993617\n",
      "99    resnet     cpumem       0      16   offline      10    10  157.205035\n",
      "    benchmark     k8senv  sbatch  numctn cscenario  cbatch  reps         qps\n",
      "33     resnet       none       0      32   offline      10    10  137.759292\n",
      "69     resnet  cpumemory       0      32   offline      10    10  145.225391\n",
      "105    resnet     cpumem       0      32   offline      10    10  145.245926\n"
     ]
    },
    {
     "data": {
      "application/vnd.plotly.v1+json": {
       "config": {
        "plotlyServerURL": "https://plot.ly"
       },
       "data": [
        {
         "mode": "markers",
         "name": "ctn1",
         "opacity": 0.7,
         "type": "scatter",
         "x": [
          "none",
          "cpu",
          "cpumem"
         ],
         "y": [
          120.3515511268987,
          117.87787540925908,
          117.5522276179336
         ]
        },
        {
         "mode": "markers",
         "name": "ctn2",
         "opacity": 0.7,
         "type": "scatter",
         "x": [
          "none",
          "cpu",
          "cpumem"
         ],
         "y": [
          147.53549405900398,
          159.30887793408604,
          159.36900337902892
         ]
        },
        {
         "mode": "markers",
         "name": "ctn4",
         "opacity": 0.7,
         "type": "scatter",
         "x": [
          "none",
          "cpu",
          "cpumem"
         ],
         "y": [
          146.515896734099,
          160.46756766975705,
          160.9935408502878
         ]
        },
        {
         "mode": "markers",
         "name": "ctn8",
         "opacity": 0.7,
         "type": "scatter",
         "x": [
          "none",
          "cpu",
          "cpumem"
         ],
         "y": [
          128.20969658040033,
          159.09198429645824,
          158.56265663546253
         ]
        },
        {
         "mode": "markers",
         "name": "ctn16",
         "opacity": 0.7,
         "type": "scatter",
         "x": [
          "none",
          "cpu",
          "cpumem"
         ],
         "y": [
          137.4540646220483,
          156.9936168221312,
          157.20503531196192
         ]
        },
        {
         "mode": "markers",
         "name": "ctn32",
         "opacity": 0.7,
         "type": "scatter",
         "x": [
          "none",
          "cpu",
          "cpumem"
         ],
         "y": [
          137.75929176558853,
          145.2253909509832,
          145.24592586021103
         ]
        }
       ],
       "layout": {
        "bargap": 0.15,
        "bargroupgap": 0.08,
        "barmode": "group",
        "height": 460,
        "legend": {
         "bgcolor": "rgba(255, 255, 255, 0)",
         "bordercolor": "rgba(255, 255, 255, 0)",
         "font": {
          "size": 28
         },
         "orientation": "h",
         "x": 1,
         "y": 1
        },
        "template": {
         "data": {
          "scatter": [
           {
            "type": "scatter"
           }
          ]
         }
        },
        "title": {
         "text": "cpumemory-resnet",
         "x": 0.5,
         "xanchor": "center",
         "y": 0.85,
         "yanchor": "top"
        },
        "width": 1000,
        "xaxis": {
         "tickfont": {
          "color": "rgb(107, 107, 107)",
          "size": 10
         },
         "tickvals": [
          "none",
          "cpu",
          "cpumem"
         ],
         "title": {
          "font": {
           "color": "rgb(107, 107, 107)",
           "size": 10
          },
          "text": "scenarios"
         }
        },
        "yaxis": {
         "automargin": true,
         "tickfont": {
          "color": "rgb(107, 107, 107)",
          "size": 25
         },
         "title": {
          "font": {
           "color": "rgb(107, 107, 107)",
           "size": 25
          },
          "text": "qps"
         }
        }
       }
      },
      "text/html": [
       "<div>                            <div id=\"b5325221-9a00-4ee2-93db-06e993650879\" class=\"plotly-graph-div\" style=\"height:460px; width:1000px;\"></div>            <script type=\"text/javascript\">                require([\"plotly\"], function(Plotly) {                    window.PLOTLYENV=window.PLOTLYENV || {};                                    if (document.getElementById(\"b5325221-9a00-4ee2-93db-06e993650879\")) {                    Plotly.newPlot(                        \"b5325221-9a00-4ee2-93db-06e993650879\",                        [{\"mode\": \"markers\", \"name\": \"ctn1\", \"opacity\": 0.7, \"type\": \"scatter\", \"x\": [\"none\", \"cpu\", \"cpumem\"], \"y\": [120.3515511268987, 117.87787540925908, 117.5522276179336]}, {\"mode\": \"markers\", \"name\": \"ctn2\", \"opacity\": 0.7, \"type\": \"scatter\", \"x\": [\"none\", \"cpu\", \"cpumem\"], \"y\": [147.53549405900398, 159.30887793408604, 159.36900337902892]}, {\"mode\": \"markers\", \"name\": \"ctn4\", \"opacity\": 0.7, \"type\": \"scatter\", \"x\": [\"none\", \"cpu\", \"cpumem\"], \"y\": [146.515896734099, 160.46756766975705, 160.9935408502878]}, {\"mode\": \"markers\", \"name\": \"ctn8\", \"opacity\": 0.7, \"type\": \"scatter\", \"x\": [\"none\", \"cpu\", \"cpumem\"], \"y\": [128.20969658040033, 159.09198429645824, 158.56265663546253]}, {\"mode\": \"markers\", \"name\": \"ctn16\", \"opacity\": 0.7, \"type\": \"scatter\", \"x\": [\"none\", \"cpu\", \"cpumem\"], \"y\": [137.4540646220483, 156.9936168221312, 157.20503531196192]}, {\"mode\": \"markers\", \"name\": \"ctn32\", \"opacity\": 0.7, \"type\": \"scatter\", \"x\": [\"none\", \"cpu\", \"cpumem\"], \"y\": [137.75929176558853, 145.2253909509832, 145.24592586021103]}],                        {\"bargap\": 0.15, \"bargroupgap\": 0.08, \"barmode\": \"group\", \"height\": 460, \"legend\": {\"bgcolor\": \"rgba(255, 255, 255, 0)\", \"bordercolor\": \"rgba(255, 255, 255, 0)\", \"font\": {\"size\": 28}, \"orientation\": \"h\", \"x\": 1.0, \"y\": 1.0}, \"template\": {\"data\": {\"scatter\": [{\"type\": \"scatter\"}]}}, \"title\": {\"text\": \"cpumemory-resnet\", \"x\": 0.5, \"xanchor\": \"center\", \"y\": 0.85, \"yanchor\": \"top\"}, \"width\": 1000, \"xaxis\": {\"tickfont\": {\"color\": \"rgb(107, 107, 107)\", \"size\": 10}, \"tickvals\": [\"none\", \"cpu\", \"cpumem\"], \"title\": {\"font\": {\"color\": \"rgb(107, 107, 107)\", \"size\": 10}, \"text\": \"scenarios\"}}, \"yaxis\": {\"automargin\": true, \"tickfont\": {\"color\": \"rgb(107, 107, 107)\", \"size\": 25}, \"title\": {\"font\": {\"color\": \"rgb(107, 107, 107)\", \"size\": 25}, \"text\": \"qps\"}}},                        {\"responsive\": true}                    ).then(function(){\n",
       "                            \n",
       "var gd = document.getElementById('b5325221-9a00-4ee2-93db-06e993650879');\n",
       "var x = new MutationObserver(function (mutations, observer) {{\n",
       "        var display = window.getComputedStyle(gd).display;\n",
       "        if (!display || display === 'none') {{\n",
       "            console.log([gd, 'removed!']);\n",
       "            Plotly.purge(gd);\n",
       "            observer.disconnect();\n",
       "        }}\n",
       "}});\n",
       "\n",
       "// Listen for the removal of the full notebook cells\n",
       "var notebookContainer = gd.closest('#notebook-container');\n",
       "if (notebookContainer) {{\n",
       "    x.observe(notebookContainer, {childList: true});\n",
       "}}\n",
       "\n",
       "// Listen for the clearing of the current output cell\n",
       "var outputEl = gd.closest('.output');\n",
       "if (outputEl) {{\n",
       "    x.observe(outputEl, {childList: true});\n",
       "}}\n",
       "\n",
       "                        })                };                });            </script>        </div>"
      ]
     },
     "metadata": {},
     "output_type": "display_data"
    }
   ],
   "source": [
    "import matplotlib\n",
    "import matplotlib.pyplot as plt\n",
    "import numpy as np\n",
    "from svglib.svglib import svg2rlg\n",
    "from reportlab.graphics import renderPDF\n",
    "from reportlab.pdfgen import canvas\n",
    "\n",
    "from numpy import percentile, mean, std\n",
    "import plotly.graph_objects as go\n",
    "\n",
    "from plotly.offline import init_notebook_mode, iplot\n",
    "\n",
    "import plotly.io as pio\n",
    "pio.templates.default = \"none\"\n",
    "# pio.templates.default = \"simple_white\"\n",
    "\n",
    "import plotly.graph_objects as go\n",
    "from plotly.subplots import make_subplots\n",
    "import pandas as pd\n",
    "# import plotly.express as px\n",
    "\n",
    "\n",
    "for cbatch in [10]:\n",
    "    for model_name in ['resnet']:\n",
    "        list_traces = []\n",
    "        for numctn in [1,2,4,8,16,32]: \n",
    "            dfg_bench = dfg[(dfg['benchmark']== model_name)  & (dfg['cbatch']==cbatch) & (dfg['numctn']==numctn) &\\\n",
    "                        ((dfg['k8senv']=='none') |\\\n",
    "                         (dfg['k8senv']=='cpumem')| (dfg['k8senv']=='cpumemory'))]\n",
    "            print(dfg_bench)\n",
    "\n",
    "\n",
    "            #data\n",
    "            trace = go.Scatter(\n",
    "                name=\"ctn\"+str(numctn),\n",
    "                x=[ 'none','cpu','cpumem'],\n",
    "                y= dfg_bench['qps'].values.tolist(),\n",
    "    #             error_y = dict(type='data', array=df1_bench['model_time_std'].values.tolist()),\n",
    "                opacity=0.7,\n",
    "                mode='markers'\n",
    "            )\n",
    "            list_traces.append(trace)\n",
    "\n",
    "        \n",
    "\n",
    "        #layout\n",
    "        layout = go.Layout(\n",
    "            title={\n",
    "                'text': k8senv+\"-\"+model_name ,\n",
    "                'y':0.85,\n",
    "                'x':0.5,\n",
    "                'xanchor': 'center',\n",
    "                'yanchor': 'top'},\n",
    "            width=1000,\n",
    "            height=460,\n",
    "            xaxis=dict(\n",
    "                title= \"scenarios\",\n",
    "                tickvals=[ 'none','cpu','cpumem'],\n",
    "                titlefont=dict(\n",
    "                    size=10,\n",
    "                    color='rgb(107, 107, 107)'\n",
    "                ),\n",
    "                tickfont=dict(\n",
    "                    size=10,\n",
    "                    color='rgb(107, 107, 107)'\n",
    "                )\n",
    "            ),\n",
    "            yaxis=dict(\n",
    "                title= \"qps\",\n",
    "                automargin=True,\n",
    "                titlefont=dict(\n",
    "                    size=25,\n",
    "                    color='rgb(107, 107, 107)'\n",
    "                ),\n",
    "                tickfont=dict(\n",
    "                    size=25,\n",
    "                    color='rgb(107, 107, 107)'\n",
    "                ),    \n",
    "            ),\n",
    "            legend=dict(\n",
    "                x=1.0,\n",
    "                y=1.0,\n",
    "                bgcolor='rgba(255, 255, 255, 0)',\n",
    "                bordercolor='rgba(255, 255, 255, 0)',\n",
    "                font = dict( size = 28)\n",
    "            ),\n",
    "            barmode='group',\n",
    "            bargap=0.15,\n",
    "            bargroupgap=0.08\n",
    "    #         legend_orientation=\"h\"\n",
    "        )\n",
    "\n",
    "    data = list_traces\n",
    "    fig = go.Figure(data=data, layout=layout)\n",
    "    fig.update_layout(legend_orientation=\"h\")\n",
    "    fig.show()    \n",
    "\n",
    "#     fig.write_image(path + model_name + k8senv +'.pdf')"
   ]
  },
  {
   "cell_type": "code",
   "execution_count": null,
   "id": "19510c7e",
   "metadata": {},
   "outputs": [],
   "source": []
  },
  {
   "cell_type": "code",
   "execution_count": null,
   "id": "f46906ab",
   "metadata": {},
   "outputs": [],
   "source": []
  },
  {
   "cell_type": "code",
   "execution_count": null,
   "id": "3428b284",
   "metadata": {},
   "outputs": [],
   "source": []
  }
 ],
 "metadata": {
  "kernelspec": {
   "display_name": "Python 3",
   "language": "python",
   "name": "python3"
  },
  "language_info": {
   "codemirror_mode": {
    "name": "ipython",
    "version": 3
   },
   "file_extension": ".py",
   "mimetype": "text/x-python",
   "name": "python",
   "nbconvert_exporter": "python",
   "pygments_lexer": "ipython3",
   "version": "3.8.5"
  }
 },
 "nbformat": 4,
 "nbformat_minor": 5
}
