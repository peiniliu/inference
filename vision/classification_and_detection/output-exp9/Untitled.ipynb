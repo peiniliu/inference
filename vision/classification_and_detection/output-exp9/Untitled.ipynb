{
 "cells": [
  {
   "cell_type": "code",
   "execution_count": 1,
   "id": "de0246d4",
   "metadata": {},
   "outputs": [
    {
     "data": {
      "text/html": [
       "        <script type=\"text/javascript\">\n",
       "        window.PlotlyConfig = {MathJaxConfig: 'local'};\n",
       "        if (window.MathJax) {MathJax.Hub.Config({SVG: {font: \"STIX-Web\"}});}\n",
       "        if (typeof require !== 'undefined') {\n",
       "        require.undef(\"plotly\");\n",
       "        requirejs.config({\n",
       "            paths: {\n",
       "                'plotly': ['https://cdn.plot.ly/plotly-latest.min']\n",
       "            }\n",
       "        });\n",
       "        require(['plotly'], function(Plotly) {\n",
       "            window._Plotly = Plotly;\n",
       "        });\n",
       "        }\n",
       "        </script>\n",
       "        "
      ]
     },
     "metadata": {},
     "output_type": "display_data"
    },
    {
     "data": {
      "text/html": [
       "<div>\n",
       "<style scoped>\n",
       "    .dataframe tbody tr th:only-of-type {\n",
       "        vertical-align: middle;\n",
       "    }\n",
       "\n",
       "    .dataframe tbody tr th {\n",
       "        vertical-align: top;\n",
       "    }\n",
       "\n",
       "    .dataframe thead th {\n",
       "        text-align: right;\n",
       "    }\n",
       "</style>\n",
       "<table border=\"1\" class=\"dataframe\">\n",
       "  <thead>\n",
       "    <tr style=\"text-align: right;\">\n",
       "      <th></th>\n",
       "      <th>benchmark</th>\n",
       "      <th>k8senv</th>\n",
       "      <th>sbatch</th>\n",
       "      <th>numctn</th>\n",
       "      <th>cscenario</th>\n",
       "      <th>cbatch</th>\n",
       "      <th>reps</th>\n",
       "      <th>qps</th>\n",
       "      <th>mean</th>\n",
       "      <th>p50</th>\n",
       "      <th>p80</th>\n",
       "      <th>p90</th>\n",
       "      <th>p95</th>\n",
       "      <th>p99</th>\n",
       "      <th>p999</th>\n",
       "    </tr>\n",
       "  </thead>\n",
       "  <tbody>\n",
       "    <tr>\n",
       "      <th>0</th>\n",
       "      <td>resnet</td>\n",
       "      <td>none</td>\n",
       "      <td>0</td>\n",
       "      <td>1</td>\n",
       "      <td>offline</td>\n",
       "      <td>10</td>\n",
       "      <td>10</td>\n",
       "      <td>143.593109</td>\n",
       "      <td>86.864787</td>\n",
       "      <td>86.633716</td>\n",
       "      <td>138.602509</td>\n",
       "      <td>155.287678</td>\n",
       "      <td>163.773011</td>\n",
       "      <td>170.442332</td>\n",
       "      <td>171.104011</td>\n",
       "    </tr>\n",
       "    <tr>\n",
       "      <th>1</th>\n",
       "      <td>resnet</td>\n",
       "      <td>none</td>\n",
       "      <td>0</td>\n",
       "      <td>2</td>\n",
       "      <td>offline</td>\n",
       "      <td>10</td>\n",
       "      <td>10</td>\n",
       "      <td>182.806770</td>\n",
       "      <td>70.047177</td>\n",
       "      <td>70.112081</td>\n",
       "      <td>109.306289</td>\n",
       "      <td>122.374341</td>\n",
       "      <td>128.855411</td>\n",
       "      <td>133.929794</td>\n",
       "      <td>134.405699</td>\n",
       "    </tr>\n",
       "    <tr>\n",
       "      <th>2</th>\n",
       "      <td>resnet</td>\n",
       "      <td>none</td>\n",
       "      <td>0</td>\n",
       "      <td>4</td>\n",
       "      <td>offline</td>\n",
       "      <td>10</td>\n",
       "      <td>10</td>\n",
       "      <td>181.073983</td>\n",
       "      <td>71.076152</td>\n",
       "      <td>71.405156</td>\n",
       "      <td>110.599751</td>\n",
       "      <td>123.507405</td>\n",
       "      <td>130.064741</td>\n",
       "      <td>135.191287</td>\n",
       "      <td>135.657010</td>\n",
       "    </tr>\n",
       "    <tr>\n",
       "      <th>3</th>\n",
       "      <td>resnet</td>\n",
       "      <td>none</td>\n",
       "      <td>0</td>\n",
       "      <td>8</td>\n",
       "      <td>offline</td>\n",
       "      <td>10</td>\n",
       "      <td>10</td>\n",
       "      <td>182.496241</td>\n",
       "      <td>68.989236</td>\n",
       "      <td>68.925107</td>\n",
       "      <td>108.761991</td>\n",
       "      <td>121.881921</td>\n",
       "      <td>128.668057</td>\n",
       "      <td>133.717840</td>\n",
       "      <td>134.604920</td>\n",
       "    </tr>\n",
       "    <tr>\n",
       "      <th>4</th>\n",
       "      <td>resnet</td>\n",
       "      <td>none</td>\n",
       "      <td>0</td>\n",
       "      <td>16</td>\n",
       "      <td>offline</td>\n",
       "      <td>10</td>\n",
       "      <td>10</td>\n",
       "      <td>178.769900</td>\n",
       "      <td>70.081636</td>\n",
       "      <td>70.244820</td>\n",
       "      <td>110.496416</td>\n",
       "      <td>123.947411</td>\n",
       "      <td>130.774219</td>\n",
       "      <td>135.992393</td>\n",
       "      <td>137.141357</td>\n",
       "    </tr>\n",
       "  </tbody>\n",
       "</table>\n",
       "</div>"
      ],
      "text/plain": [
       "  benchmark k8senv  sbatch  numctn cscenario  cbatch  reps         qps  \\\n",
       "0    resnet   none       0       1   offline      10    10  143.593109   \n",
       "1    resnet   none       0       2   offline      10    10  182.806770   \n",
       "2    resnet   none       0       4   offline      10    10  181.073983   \n",
       "3    resnet   none       0       8   offline      10    10  182.496241   \n",
       "4    resnet   none       0      16   offline      10    10  178.769900   \n",
       "\n",
       "        mean        p50         p80         p90         p95         p99  \\\n",
       "0  86.864787  86.633716  138.602509  155.287678  163.773011  170.442332   \n",
       "1  70.047177  70.112081  109.306289  122.374341  128.855411  133.929794   \n",
       "2  71.076152  71.405156  110.599751  123.507405  130.064741  135.191287   \n",
       "3  68.989236  68.925107  108.761991  121.881921  128.668057  133.717840   \n",
       "4  70.081636  70.244820  110.496416  123.947411  130.774219  135.992393   \n",
       "\n",
       "         p999  \n",
       "0  171.104011  \n",
       "1  134.405699  \n",
       "2  135.657010  \n",
       "3  134.604920  \n",
       "4  137.141357  "
      ]
     },
     "execution_count": 1,
     "metadata": {},
     "output_type": "execute_result"
    }
   ],
   "source": [
    "import pandas as pd\n",
    "import glob\n",
    "# import plotly.plotly as py\n",
    "import plotly.graph_objs as go\n",
    "\n",
    "from plotly import tools\n",
    "from plotly.offline import init_notebook_mode, iplot\n",
    "init_notebook_mode(connected=True) \n",
    "\n",
    "import numpy as np\n",
    "import matplotlib.pyplot as plt\n",
    "# include if using a Jupyter notebook\n",
    "# %matplotlib inline\n",
    "\n",
    "path = \"/gpfs/bsc_home/xpliu/inference/vision/classification_and_detection/output-exp9/\"\n",
    "all_files = glob.glob(path + \"*.csv\")\n",
    "\n",
    "li = []\n",
    "\n",
    "for filename in all_files:\n",
    "    df = pd.read_csv(filename, index_col=None, header=0)\n",
    "    li.append(df)\n",
    "\n",
    "df = pd.concat(li, axis=0, ignore_index=True)\n",
    "df.head()"
   ]
  },
  {
   "cell_type": "code",
   "execution_count": 2,
   "id": "fe8c3d7f",
   "metadata": {},
   "outputs": [
    {
     "data": {
      "text/plain": [
       "18"
      ]
     },
     "execution_count": 2,
     "metadata": {},
     "output_type": "execute_result"
    }
   ],
   "source": [
    "len(df)"
   ]
  },
  {
   "cell_type": "code",
   "execution_count": 3,
   "id": "d48083a0",
   "metadata": {},
   "outputs": [
    {
     "data": {
      "text/plain": [
       "array(['resnet'], dtype=object)"
      ]
     },
     "execution_count": 3,
     "metadata": {},
     "output_type": "execute_result"
    }
   ],
   "source": [
    "df['benchmark'].unique()"
   ]
  },
  {
   "cell_type": "code",
   "execution_count": 4,
   "id": "b318f564",
   "metadata": {},
   "outputs": [
    {
     "data": {
      "text/plain": [
       "array(['none', 'cpumemory', 'cpumem'], dtype=object)"
      ]
     },
     "execution_count": 4,
     "metadata": {},
     "output_type": "execute_result"
    }
   ],
   "source": [
    "df['k8senv'].unique()"
   ]
  },
  {
   "cell_type": "code",
   "execution_count": 5,
   "id": "a2a7701a",
   "metadata": {},
   "outputs": [
    {
     "data": {
      "text/plain": [
       "numpy.float64"
      ]
     },
     "execution_count": 5,
     "metadata": {},
     "output_type": "execute_result"
    }
   ],
   "source": [
    "type(df['qps'][0])"
   ]
  },
  {
   "cell_type": "markdown",
   "id": "53f2033c",
   "metadata": {},
   "source": [
    "# Graph"
   ]
  },
  {
   "cell_type": "code",
   "execution_count": 6,
   "id": "5786faec",
   "metadata": {},
   "outputs": [
    {
     "data": {
      "text/html": [
       "        <script type=\"text/javascript\">\n",
       "        window.PlotlyConfig = {MathJaxConfig: 'local'};\n",
       "        if (window.MathJax) {MathJax.Hub.Config({SVG: {font: \"STIX-Web\"}});}\n",
       "        if (typeof require !== 'undefined') {\n",
       "        require.undef(\"plotly\");\n",
       "        requirejs.config({\n",
       "            paths: {\n",
       "                'plotly': ['https://cdn.plot.ly/plotly-latest.min']\n",
       "            }\n",
       "        });\n",
       "        require(['plotly'], function(Plotly) {\n",
       "            window._Plotly = Plotly;\n",
       "        });\n",
       "        }\n",
       "        </script>\n",
       "        "
      ]
     },
     "metadata": {},
     "output_type": "display_data"
    },
    {
     "data": {
      "text/html": [
       "<div>\n",
       "<style scoped>\n",
       "    .dataframe tbody tr th:only-of-type {\n",
       "        vertical-align: middle;\n",
       "    }\n",
       "\n",
       "    .dataframe tbody tr th {\n",
       "        vertical-align: top;\n",
       "    }\n",
       "\n",
       "    .dataframe thead th {\n",
       "        text-align: right;\n",
       "    }\n",
       "</style>\n",
       "<table border=\"1\" class=\"dataframe\">\n",
       "  <thead>\n",
       "    <tr style=\"text-align: right;\">\n",
       "      <th></th>\n",
       "      <th>benchmark</th>\n",
       "      <th>k8senv</th>\n",
       "      <th>sbatch</th>\n",
       "      <th>numctn</th>\n",
       "      <th>cscenario</th>\n",
       "      <th>cbatch</th>\n",
       "      <th>reps</th>\n",
       "      <th>qps</th>\n",
       "      <th>mean</th>\n",
       "      <th>p50</th>\n",
       "      <th>p80</th>\n",
       "      <th>p90</th>\n",
       "      <th>p95</th>\n",
       "      <th>p99</th>\n",
       "      <th>p999</th>\n",
       "    </tr>\n",
       "  </thead>\n",
       "  <tbody>\n",
       "    <tr>\n",
       "      <th>0</th>\n",
       "      <td>resnet</td>\n",
       "      <td>none</td>\n",
       "      <td>0</td>\n",
       "      <td>1</td>\n",
       "      <td>offline</td>\n",
       "      <td>10</td>\n",
       "      <td>10</td>\n",
       "      <td>143.593109</td>\n",
       "      <td>86.864787</td>\n",
       "      <td>86.633716</td>\n",
       "      <td>138.602509</td>\n",
       "      <td>155.287678</td>\n",
       "      <td>163.773011</td>\n",
       "      <td>170.442332</td>\n",
       "      <td>171.104011</td>\n",
       "    </tr>\n",
       "    <tr>\n",
       "      <th>1</th>\n",
       "      <td>resnet</td>\n",
       "      <td>none</td>\n",
       "      <td>0</td>\n",
       "      <td>2</td>\n",
       "      <td>offline</td>\n",
       "      <td>10</td>\n",
       "      <td>10</td>\n",
       "      <td>182.806770</td>\n",
       "      <td>70.047177</td>\n",
       "      <td>70.112081</td>\n",
       "      <td>109.306289</td>\n",
       "      <td>122.374341</td>\n",
       "      <td>128.855411</td>\n",
       "      <td>133.929794</td>\n",
       "      <td>134.405699</td>\n",
       "    </tr>\n",
       "    <tr>\n",
       "      <th>2</th>\n",
       "      <td>resnet</td>\n",
       "      <td>none</td>\n",
       "      <td>0</td>\n",
       "      <td>4</td>\n",
       "      <td>offline</td>\n",
       "      <td>10</td>\n",
       "      <td>10</td>\n",
       "      <td>181.073983</td>\n",
       "      <td>71.076152</td>\n",
       "      <td>71.405156</td>\n",
       "      <td>110.599751</td>\n",
       "      <td>123.507405</td>\n",
       "      <td>130.064741</td>\n",
       "      <td>135.191287</td>\n",
       "      <td>135.657010</td>\n",
       "    </tr>\n",
       "    <tr>\n",
       "      <th>3</th>\n",
       "      <td>resnet</td>\n",
       "      <td>none</td>\n",
       "      <td>0</td>\n",
       "      <td>8</td>\n",
       "      <td>offline</td>\n",
       "      <td>10</td>\n",
       "      <td>10</td>\n",
       "      <td>182.496241</td>\n",
       "      <td>68.989236</td>\n",
       "      <td>68.925107</td>\n",
       "      <td>108.761991</td>\n",
       "      <td>121.881921</td>\n",
       "      <td>128.668057</td>\n",
       "      <td>133.717840</td>\n",
       "      <td>134.604920</td>\n",
       "    </tr>\n",
       "    <tr>\n",
       "      <th>4</th>\n",
       "      <td>resnet</td>\n",
       "      <td>none</td>\n",
       "      <td>0</td>\n",
       "      <td>16</td>\n",
       "      <td>offline</td>\n",
       "      <td>10</td>\n",
       "      <td>10</td>\n",
       "      <td>178.769900</td>\n",
       "      <td>70.081636</td>\n",
       "      <td>70.244820</td>\n",
       "      <td>110.496416</td>\n",
       "      <td>123.947411</td>\n",
       "      <td>130.774219</td>\n",
       "      <td>135.992393</td>\n",
       "      <td>137.141357</td>\n",
       "    </tr>\n",
       "    <tr>\n",
       "      <th>5</th>\n",
       "      <td>resnet</td>\n",
       "      <td>none</td>\n",
       "      <td>0</td>\n",
       "      <td>32</td>\n",
       "      <td>offline</td>\n",
       "      <td>10</td>\n",
       "      <td>10</td>\n",
       "      <td>168.859178</td>\n",
       "      <td>73.806623</td>\n",
       "      <td>74.051938</td>\n",
       "      <td>117.017456</td>\n",
       "      <td>131.330571</td>\n",
       "      <td>138.186332</td>\n",
       "      <td>143.739391</td>\n",
       "      <td>144.951359</td>\n",
       "    </tr>\n",
       "    <tr>\n",
       "      <th>6</th>\n",
       "      <td>resnet</td>\n",
       "      <td>cpumemory</td>\n",
       "      <td>0</td>\n",
       "      <td>1</td>\n",
       "      <td>offline</td>\n",
       "      <td>10</td>\n",
       "      <td>10</td>\n",
       "      <td>146.676971</td>\n",
       "      <td>85.218096</td>\n",
       "      <td>84.974311</td>\n",
       "      <td>135.405113</td>\n",
       "      <td>151.989364</td>\n",
       "      <td>160.486105</td>\n",
       "      <td>166.851600</td>\n",
       "      <td>167.504501</td>\n",
       "    </tr>\n",
       "    <tr>\n",
       "      <th>7</th>\n",
       "      <td>resnet</td>\n",
       "      <td>cpumemory</td>\n",
       "      <td>0</td>\n",
       "      <td>2</td>\n",
       "      <td>offline</td>\n",
       "      <td>10</td>\n",
       "      <td>10</td>\n",
       "      <td>190.655735</td>\n",
       "      <td>65.649433</td>\n",
       "      <td>65.724547</td>\n",
       "      <td>104.029687</td>\n",
       "      <td>117.041663</td>\n",
       "      <td>123.399702</td>\n",
       "      <td>128.475601</td>\n",
       "      <td>128.862830</td>\n",
       "    </tr>\n",
       "    <tr>\n",
       "      <th>8</th>\n",
       "      <td>resnet</td>\n",
       "      <td>cpumemory</td>\n",
       "      <td>0</td>\n",
       "      <td>4</td>\n",
       "      <td>offline</td>\n",
       "      <td>10</td>\n",
       "      <td>10</td>\n",
       "      <td>191.812977</td>\n",
       "      <td>65.152918</td>\n",
       "      <td>65.133785</td>\n",
       "      <td>103.475450</td>\n",
       "      <td>116.021436</td>\n",
       "      <td>122.364661</td>\n",
       "      <td>127.372676</td>\n",
       "      <td>128.036982</td>\n",
       "    </tr>\n",
       "    <tr>\n",
       "      <th>9</th>\n",
       "      <td>resnet</td>\n",
       "      <td>cpumemory</td>\n",
       "      <td>0</td>\n",
       "      <td>8</td>\n",
       "      <td>offline</td>\n",
       "      <td>10</td>\n",
       "      <td>10</td>\n",
       "      <td>190.700965</td>\n",
       "      <td>65.362707</td>\n",
       "      <td>65.339790</td>\n",
       "      <td>103.641328</td>\n",
       "      <td>116.453519</td>\n",
       "      <td>122.822889</td>\n",
       "      <td>127.881224</td>\n",
       "      <td>128.597611</td>\n",
       "    </tr>\n",
       "    <tr>\n",
       "      <th>10</th>\n",
       "      <td>resnet</td>\n",
       "      <td>cpumemory</td>\n",
       "      <td>0</td>\n",
       "      <td>16</td>\n",
       "      <td>offline</td>\n",
       "      <td>10</td>\n",
       "      <td>10</td>\n",
       "      <td>185.834471</td>\n",
       "      <td>66.132404</td>\n",
       "      <td>65.951899</td>\n",
       "      <td>104.962759</td>\n",
       "      <td>118.037387</td>\n",
       "      <td>124.348566</td>\n",
       "      <td>129.430058</td>\n",
       "      <td>132.173836</td>\n",
       "    </tr>\n",
       "    <tr>\n",
       "      <th>11</th>\n",
       "      <td>resnet</td>\n",
       "      <td>cpumemory</td>\n",
       "      <td>0</td>\n",
       "      <td>32</td>\n",
       "      <td>offline</td>\n",
       "      <td>10</td>\n",
       "      <td>10</td>\n",
       "      <td>186.138793</td>\n",
       "      <td>66.874318</td>\n",
       "      <td>67.050745</td>\n",
       "      <td>105.751772</td>\n",
       "      <td>118.449439</td>\n",
       "      <td>125.171217</td>\n",
       "      <td>130.379460</td>\n",
       "      <td>131.296659</td>\n",
       "    </tr>\n",
       "    <tr>\n",
       "      <th>12</th>\n",
       "      <td>resnet</td>\n",
       "      <td>cpumem</td>\n",
       "      <td>0</td>\n",
       "      <td>1</td>\n",
       "      <td>offline</td>\n",
       "      <td>10</td>\n",
       "      <td>10</td>\n",
       "      <td>146.872491</td>\n",
       "      <td>85.144515</td>\n",
       "      <td>85.120356</td>\n",
       "      <td>135.429467</td>\n",
       "      <td>152.052936</td>\n",
       "      <td>160.360067</td>\n",
       "      <td>166.721932</td>\n",
       "      <td>167.285063</td>\n",
       "    </tr>\n",
       "    <tr>\n",
       "      <th>13</th>\n",
       "      <td>resnet</td>\n",
       "      <td>cpumem</td>\n",
       "      <td>0</td>\n",
       "      <td>2</td>\n",
       "      <td>offline</td>\n",
       "      <td>10</td>\n",
       "      <td>10</td>\n",
       "      <td>190.337492</td>\n",
       "      <td>65.773080</td>\n",
       "      <td>65.798206</td>\n",
       "      <td>104.270421</td>\n",
       "      <td>117.192418</td>\n",
       "      <td>123.584755</td>\n",
       "      <td>128.645523</td>\n",
       "      <td>129.075802</td>\n",
       "    </tr>\n",
       "    <tr>\n",
       "      <th>14</th>\n",
       "      <td>resnet</td>\n",
       "      <td>cpumem</td>\n",
       "      <td>0</td>\n",
       "      <td>4</td>\n",
       "      <td>offline</td>\n",
       "      <td>10</td>\n",
       "      <td>10</td>\n",
       "      <td>191.662500</td>\n",
       "      <td>65.322695</td>\n",
       "      <td>65.287444</td>\n",
       "      <td>103.656409</td>\n",
       "      <td>116.384585</td>\n",
       "      <td>122.665569</td>\n",
       "      <td>127.629056</td>\n",
       "      <td>128.154019</td>\n",
       "    </tr>\n",
       "    <tr>\n",
       "      <th>15</th>\n",
       "      <td>resnet</td>\n",
       "      <td>cpumem</td>\n",
       "      <td>0</td>\n",
       "      <td>8</td>\n",
       "      <td>offline</td>\n",
       "      <td>10</td>\n",
       "      <td>10</td>\n",
       "      <td>190.176885</td>\n",
       "      <td>65.435992</td>\n",
       "      <td>65.325820</td>\n",
       "      <td>104.000730</td>\n",
       "      <td>116.593754</td>\n",
       "      <td>123.129473</td>\n",
       "      <td>128.065448</td>\n",
       "      <td>129.113059</td>\n",
       "    </tr>\n",
       "    <tr>\n",
       "      <th>16</th>\n",
       "      <td>resnet</td>\n",
       "      <td>cpumem</td>\n",
       "      <td>0</td>\n",
       "      <td>16</td>\n",
       "      <td>offline</td>\n",
       "      <td>10</td>\n",
       "      <td>10</td>\n",
       "      <td>186.500615</td>\n",
       "      <td>65.893013</td>\n",
       "      <td>65.745466</td>\n",
       "      <td>104.453776</td>\n",
       "      <td>117.422768</td>\n",
       "      <td>123.833958</td>\n",
       "      <td>128.899755</td>\n",
       "      <td>131.669266</td>\n",
       "    </tr>\n",
       "    <tr>\n",
       "      <th>17</th>\n",
       "      <td>resnet</td>\n",
       "      <td>cpumem</td>\n",
       "      <td>0</td>\n",
       "      <td>32</td>\n",
       "      <td>offline</td>\n",
       "      <td>10</td>\n",
       "      <td>10</td>\n",
       "      <td>184.404877</td>\n",
       "      <td>67.363760</td>\n",
       "      <td>67.360832</td>\n",
       "      <td>106.786983</td>\n",
       "      <td>119.938612</td>\n",
       "      <td>126.684922</td>\n",
       "      <td>131.792890</td>\n",
       "      <td>133.022308</td>\n",
       "    </tr>\n",
       "  </tbody>\n",
       "</table>\n",
       "</div>"
      ],
      "text/plain": [
       "   benchmark     k8senv  sbatch  numctn cscenario  cbatch  reps         qps  \\\n",
       "0     resnet       none       0       1   offline      10    10  143.593109   \n",
       "1     resnet       none       0       2   offline      10    10  182.806770   \n",
       "2     resnet       none       0       4   offline      10    10  181.073983   \n",
       "3     resnet       none       0       8   offline      10    10  182.496241   \n",
       "4     resnet       none       0      16   offline      10    10  178.769900   \n",
       "5     resnet       none       0      32   offline      10    10  168.859178   \n",
       "6     resnet  cpumemory       0       1   offline      10    10  146.676971   \n",
       "7     resnet  cpumemory       0       2   offline      10    10  190.655735   \n",
       "8     resnet  cpumemory       0       4   offline      10    10  191.812977   \n",
       "9     resnet  cpumemory       0       8   offline      10    10  190.700965   \n",
       "10    resnet  cpumemory       0      16   offline      10    10  185.834471   \n",
       "11    resnet  cpumemory       0      32   offline      10    10  186.138793   \n",
       "12    resnet     cpumem       0       1   offline      10    10  146.872491   \n",
       "13    resnet     cpumem       0       2   offline      10    10  190.337492   \n",
       "14    resnet     cpumem       0       4   offline      10    10  191.662500   \n",
       "15    resnet     cpumem       0       8   offline      10    10  190.176885   \n",
       "16    resnet     cpumem       0      16   offline      10    10  186.500615   \n",
       "17    resnet     cpumem       0      32   offline      10    10  184.404877   \n",
       "\n",
       "         mean        p50         p80         p90         p95         p99  \\\n",
       "0   86.864787  86.633716  138.602509  155.287678  163.773011  170.442332   \n",
       "1   70.047177  70.112081  109.306289  122.374341  128.855411  133.929794   \n",
       "2   71.076152  71.405156  110.599751  123.507405  130.064741  135.191287   \n",
       "3   68.989236  68.925107  108.761991  121.881921  128.668057  133.717840   \n",
       "4   70.081636  70.244820  110.496416  123.947411  130.774219  135.992393   \n",
       "5   73.806623  74.051938  117.017456  131.330571  138.186332  143.739391   \n",
       "6   85.218096  84.974311  135.405113  151.989364  160.486105  166.851600   \n",
       "7   65.649433  65.724547  104.029687  117.041663  123.399702  128.475601   \n",
       "8   65.152918  65.133785  103.475450  116.021436  122.364661  127.372676   \n",
       "9   65.362707  65.339790  103.641328  116.453519  122.822889  127.881224   \n",
       "10  66.132404  65.951899  104.962759  118.037387  124.348566  129.430058   \n",
       "11  66.874318  67.050745  105.751772  118.449439  125.171217  130.379460   \n",
       "12  85.144515  85.120356  135.429467  152.052936  160.360067  166.721932   \n",
       "13  65.773080  65.798206  104.270421  117.192418  123.584755  128.645523   \n",
       "14  65.322695  65.287444  103.656409  116.384585  122.665569  127.629056   \n",
       "15  65.435992  65.325820  104.000730  116.593754  123.129473  128.065448   \n",
       "16  65.893013  65.745466  104.453776  117.422768  123.833958  128.899755   \n",
       "17  67.363760  67.360832  106.786983  119.938612  126.684922  131.792890   \n",
       "\n",
       "          p999  \n",
       "0   171.104011  \n",
       "1   134.405699  \n",
       "2   135.657010  \n",
       "3   134.604920  \n",
       "4   137.141357  \n",
       "5   144.951359  \n",
       "6   167.504501  \n",
       "7   128.862830  \n",
       "8   128.036982  \n",
       "9   128.597611  \n",
       "10  132.173836  \n",
       "11  131.296659  \n",
       "12  167.285063  \n",
       "13  129.075802  \n",
       "14  128.154019  \n",
       "15  129.113059  \n",
       "16  131.669266  \n",
       "17  133.022308  "
      ]
     },
     "execution_count": 6,
     "metadata": {},
     "output_type": "execute_result"
    }
   ],
   "source": [
    "import pandas as pd\n",
    "import glob\n",
    "# import plotly.plotly as py\n",
    "import plotly.graph_objs as go\n",
    "\n",
    "from plotly import tools\n",
    "from plotly.offline import init_notebook_mode, iplot\n",
    "init_notebook_mode(connected=True) \n",
    "\n",
    "import numpy as np\n",
    "import matplotlib.pyplot as plt\n",
    "# include if using a Jupyter notebook\n",
    "%matplotlib inline\n",
    "dfg = df\n",
    "dfg"
   ]
  },
  {
   "cell_type": "code",
   "execution_count": 8,
   "id": "1147c970",
   "metadata": {
    "scrolled": false
   },
   "outputs": [
    {
     "data": {
      "application/vnd.plotly.v1+json": {
       "config": {
        "plotlyServerURL": "https://plot.ly"
       },
       "data": [
        {
         "mode": "markers",
         "name": "ctn1",
         "opacity": 0.7,
         "type": "scatter",
         "x": [
          "none",
          "cpu",
          "cpumem"
         ],
         "y": [
          143.593108660711,
          146.67697086019658,
          146.87249092377945
         ]
        },
        {
         "mode": "markers",
         "name": "ctn2",
         "opacity": 0.7,
         "type": "scatter",
         "x": [
          "none",
          "cpu",
          "cpumem"
         ],
         "y": [
          182.80676951745625,
          190.65573464106407,
          190.3374915011992
         ]
        },
        {
         "mode": "markers",
         "name": "ctn4",
         "opacity": 0.7,
         "type": "scatter",
         "x": [
          "none",
          "cpu",
          "cpumem"
         ],
         "y": [
          181.073983310501,
          191.8129766809972,
          191.66249971530704
         ]
        },
        {
         "mode": "markers",
         "name": "ctn8",
         "opacity": 0.7,
         "type": "scatter",
         "x": [
          "none",
          "cpu",
          "cpumem"
         ],
         "y": [
          182.4962413047837,
          190.70096514885572,
          190.1768848785737
         ]
        },
        {
         "mode": "markers",
         "name": "ctn16",
         "opacity": 0.7,
         "type": "scatter",
         "x": [
          "none",
          "cpu",
          "cpumem"
         ],
         "y": [
          178.76990007045492,
          185.8344711842177,
          186.50061454754407
         ]
        },
        {
         "mode": "markers",
         "name": "ctn32",
         "opacity": 0.7,
         "type": "scatter",
         "x": [
          "none",
          "cpu",
          "cpumem"
         ],
         "y": [
          168.85917831797045,
          186.1387927931928,
          184.4048769207129
         ]
        }
       ],
       "layout": {
        "bargap": 0.15,
        "bargroupgap": 0.08,
        "barmode": "group",
        "height": 460,
        "legend": {
         "bgcolor": "rgba(255, 255, 255, 0)",
         "bordercolor": "rgba(255, 255, 255, 0)",
         "font": {
          "size": 28
         },
         "orientation": "h",
         "x": 1,
         "y": 1
        },
        "template": {
         "data": {
          "scatter": [
           {
            "type": "scatter"
           }
          ]
         }
        },
        "title": {
         "text": "exp9= inter64,intra32 -> inter2,intra1; restapi=32",
         "x": 0.5,
         "xanchor": "center",
         "y": 0.85,
         "yanchor": "top"
        },
        "width": 1000,
        "xaxis": {
         "tickfont": {
          "color": "rgb(107, 107, 107)",
          "size": 10
         },
         "tickvals": [
          "none",
          "cpu",
          "cpumem"
         ],
         "title": {
          "font": {
           "color": "rgb(107, 107, 107)",
           "size": 10
          },
          "text": "scenarios"
         }
        },
        "yaxis": {
         "automargin": true,
         "tickfont": {
          "color": "rgb(107, 107, 107)",
          "size": 25
         },
         "title": {
          "font": {
           "color": "rgb(107, 107, 107)",
           "size": 25
          },
          "text": "qps"
         }
        }
       }
      },
      "text/html": [
       "<div>                            <div id=\"481124fc-2e38-4799-930c-6eb42930472a\" class=\"plotly-graph-div\" style=\"height:460px; width:1000px;\"></div>            <script type=\"text/javascript\">                require([\"plotly\"], function(Plotly) {                    window.PLOTLYENV=window.PLOTLYENV || {};                                    if (document.getElementById(\"481124fc-2e38-4799-930c-6eb42930472a\")) {                    Plotly.newPlot(                        \"481124fc-2e38-4799-930c-6eb42930472a\",                        [{\"mode\": \"markers\", \"name\": \"ctn1\", \"opacity\": 0.7, \"type\": \"scatter\", \"x\": [\"none\", \"cpu\", \"cpumem\"], \"y\": [143.593108660711, 146.67697086019658, 146.87249092377945]}, {\"mode\": \"markers\", \"name\": \"ctn2\", \"opacity\": 0.7, \"type\": \"scatter\", \"x\": [\"none\", \"cpu\", \"cpumem\"], \"y\": [182.80676951745625, 190.65573464106407, 190.3374915011992]}, {\"mode\": \"markers\", \"name\": \"ctn4\", \"opacity\": 0.7, \"type\": \"scatter\", \"x\": [\"none\", \"cpu\", \"cpumem\"], \"y\": [181.073983310501, 191.8129766809972, 191.66249971530704]}, {\"mode\": \"markers\", \"name\": \"ctn8\", \"opacity\": 0.7, \"type\": \"scatter\", \"x\": [\"none\", \"cpu\", \"cpumem\"], \"y\": [182.4962413047837, 190.70096514885572, 190.1768848785737]}, {\"mode\": \"markers\", \"name\": \"ctn16\", \"opacity\": 0.7, \"type\": \"scatter\", \"x\": [\"none\", \"cpu\", \"cpumem\"], \"y\": [178.76990007045492, 185.8344711842177, 186.50061454754407]}, {\"mode\": \"markers\", \"name\": \"ctn32\", \"opacity\": 0.7, \"type\": \"scatter\", \"x\": [\"none\", \"cpu\", \"cpumem\"], \"y\": [168.85917831797045, 186.1387927931928, 184.4048769207129]}],                        {\"bargap\": 0.15, \"bargroupgap\": 0.08, \"barmode\": \"group\", \"height\": 460, \"legend\": {\"bgcolor\": \"rgba(255, 255, 255, 0)\", \"bordercolor\": \"rgba(255, 255, 255, 0)\", \"font\": {\"size\": 28}, \"orientation\": \"h\", \"x\": 1.0, \"y\": 1.0}, \"template\": {\"data\": {\"scatter\": [{\"type\": \"scatter\"}]}}, \"title\": {\"text\": \"exp9= inter64,intra32 -> inter2,intra1; restapi=32\", \"x\": 0.5, \"xanchor\": \"center\", \"y\": 0.85, \"yanchor\": \"top\"}, \"width\": 1000, \"xaxis\": {\"tickfont\": {\"color\": \"rgb(107, 107, 107)\", \"size\": 10}, \"tickvals\": [\"none\", \"cpu\", \"cpumem\"], \"title\": {\"font\": {\"color\": \"rgb(107, 107, 107)\", \"size\": 10}, \"text\": \"scenarios\"}}, \"yaxis\": {\"automargin\": true, \"tickfont\": {\"color\": \"rgb(107, 107, 107)\", \"size\": 25}, \"title\": {\"font\": {\"color\": \"rgb(107, 107, 107)\", \"size\": 25}, \"text\": \"qps\"}}},                        {\"responsive\": true}                    ).then(function(){\n",
       "                            \n",
       "var gd = document.getElementById('481124fc-2e38-4799-930c-6eb42930472a');\n",
       "var x = new MutationObserver(function (mutations, observer) {{\n",
       "        var display = window.getComputedStyle(gd).display;\n",
       "        if (!display || display === 'none') {{\n",
       "            console.log([gd, 'removed!']);\n",
       "            Plotly.purge(gd);\n",
       "            observer.disconnect();\n",
       "        }}\n",
       "}});\n",
       "\n",
       "// Listen for the removal of the full notebook cells\n",
       "var notebookContainer = gd.closest('#notebook-container');\n",
       "if (notebookContainer) {{\n",
       "    x.observe(notebookContainer, {childList: true});\n",
       "}}\n",
       "\n",
       "// Listen for the clearing of the current output cell\n",
       "var outputEl = gd.closest('.output');\n",
       "if (outputEl) {{\n",
       "    x.observe(outputEl, {childList: true});\n",
       "}}\n",
       "\n",
       "                        })                };                });            </script>        </div>"
      ]
     },
     "metadata": {},
     "output_type": "display_data"
    },
    {
     "data": {
      "application/vnd.plotly.v1+json": {
       "config": {
        "plotlyServerURL": "https://plot.ly"
       },
       "data": [
        {
         "mode": "markers",
         "name": "ctn1",
         "opacity": 0.7,
         "type": "scatter",
         "x": [
          "none",
          "cpu",
          "cpumem"
         ],
         "y": [
          86.86478656280127,
          85.21809600269499,
          85.14451548818758
         ]
        },
        {
         "mode": "markers",
         "name": "ctn2",
         "opacity": 0.7,
         "type": "scatter",
         "x": [
          "none",
          "cpu",
          "cpumem"
         ],
         "y": [
          70.04717724091267,
          65.64943320913534,
          65.7730803472457
         ]
        },
        {
         "mode": "markers",
         "name": "ctn4",
         "opacity": 0.7,
         "type": "scatter",
         "x": [
          "none",
          "cpu",
          "cpumem"
         ],
         "y": [
          71.07615209958048,
          65.1529181855778,
          65.32269503484383
         ]
        },
        {
         "mode": "markers",
         "name": "ctn8",
         "opacity": 0.7,
         "type": "scatter",
         "x": [
          "none",
          "cpu",
          "cpumem"
         ],
         "y": [
          68.98923617253702,
          65.36270724175904,
          65.43599159352117
         ]
        },
        {
         "mode": "markers",
         "name": "ctn16",
         "opacity": 0.7,
         "type": "scatter",
         "x": [
          "none",
          "cpu",
          "cpumem"
         ],
         "y": [
          70.08163604041219,
          66.1324035851456,
          65.89301301488965
         ]
        },
        {
         "mode": "markers",
         "name": "ctn32",
         "opacity": 0.7,
         "type": "scatter",
         "x": [
          "none",
          "cpu",
          "cpumem"
         ],
         "y": [
          73.80662266612134,
          66.87431800562403,
          67.36375997380566
         ]
        }
       ],
       "layout": {
        "bargap": 0.15,
        "bargroupgap": 0.08,
        "barmode": "group",
        "height": 460,
        "legend": {
         "bgcolor": "rgba(255, 255, 255, 0)",
         "bordercolor": "rgba(255, 255, 255, 0)",
         "font": {
          "size": 28
         },
         "orientation": "h",
         "x": 1,
         "y": 1
        },
        "template": {
         "data": {
          "scatter": [
           {
            "type": "scatter"
           }
          ]
         }
        },
        "title": {
         "text": "exp9= inter64,intra32 -> inter2,intra1; restapi=32",
         "x": 0.5,
         "xanchor": "center",
         "y": 0.85,
         "yanchor": "top"
        },
        "width": 1000,
        "xaxis": {
         "tickfont": {
          "color": "rgb(107, 107, 107)",
          "size": 10
         },
         "tickvals": [
          "none",
          "cpu",
          "cpumem"
         ],
         "title": {
          "font": {
           "color": "rgb(107, 107, 107)",
           "size": 10
          },
          "text": "scenarios"
         }
        },
        "yaxis": {
         "automargin": true,
         "tickfont": {
          "color": "rgb(107, 107, 107)",
          "size": 25
         },
         "title": {
          "font": {
           "color": "rgb(107, 107, 107)",
           "size": 25
          },
          "text": "mean"
         }
        }
       }
      },
      "text/html": [
       "<div>                            <div id=\"f8f8eed5-bb96-479e-8baf-626cb094d317\" class=\"plotly-graph-div\" style=\"height:460px; width:1000px;\"></div>            <script type=\"text/javascript\">                require([\"plotly\"], function(Plotly) {                    window.PLOTLYENV=window.PLOTLYENV || {};                                    if (document.getElementById(\"f8f8eed5-bb96-479e-8baf-626cb094d317\")) {                    Plotly.newPlot(                        \"f8f8eed5-bb96-479e-8baf-626cb094d317\",                        [{\"mode\": \"markers\", \"name\": \"ctn1\", \"opacity\": 0.7, \"type\": \"scatter\", \"x\": [\"none\", \"cpu\", \"cpumem\"], \"y\": [86.86478656280127, 85.21809600269499, 85.14451548818758]}, {\"mode\": \"markers\", \"name\": \"ctn2\", \"opacity\": 0.7, \"type\": \"scatter\", \"x\": [\"none\", \"cpu\", \"cpumem\"], \"y\": [70.04717724091267, 65.64943320913534, 65.7730803472457]}, {\"mode\": \"markers\", \"name\": \"ctn4\", \"opacity\": 0.7, \"type\": \"scatter\", \"x\": [\"none\", \"cpu\", \"cpumem\"], \"y\": [71.07615209958048, 65.1529181855778, 65.32269503484383]}, {\"mode\": \"markers\", \"name\": \"ctn8\", \"opacity\": 0.7, \"type\": \"scatter\", \"x\": [\"none\", \"cpu\", \"cpumem\"], \"y\": [68.98923617253702, 65.36270724175904, 65.43599159352117]}, {\"mode\": \"markers\", \"name\": \"ctn16\", \"opacity\": 0.7, \"type\": \"scatter\", \"x\": [\"none\", \"cpu\", \"cpumem\"], \"y\": [70.08163604041219, 66.1324035851456, 65.89301301488965]}, {\"mode\": \"markers\", \"name\": \"ctn32\", \"opacity\": 0.7, \"type\": \"scatter\", \"x\": [\"none\", \"cpu\", \"cpumem\"], \"y\": [73.80662266612134, 66.87431800562403, 67.36375997380566]}],                        {\"bargap\": 0.15, \"bargroupgap\": 0.08, \"barmode\": \"group\", \"height\": 460, \"legend\": {\"bgcolor\": \"rgba(255, 255, 255, 0)\", \"bordercolor\": \"rgba(255, 255, 255, 0)\", \"font\": {\"size\": 28}, \"orientation\": \"h\", \"x\": 1.0, \"y\": 1.0}, \"template\": {\"data\": {\"scatter\": [{\"type\": \"scatter\"}]}}, \"title\": {\"text\": \"exp9= inter64,intra32 -> inter2,intra1; restapi=32\", \"x\": 0.5, \"xanchor\": \"center\", \"y\": 0.85, \"yanchor\": \"top\"}, \"width\": 1000, \"xaxis\": {\"tickfont\": {\"color\": \"rgb(107, 107, 107)\", \"size\": 10}, \"tickvals\": [\"none\", \"cpu\", \"cpumem\"], \"title\": {\"font\": {\"color\": \"rgb(107, 107, 107)\", \"size\": 10}, \"text\": \"scenarios\"}}, \"yaxis\": {\"automargin\": true, \"tickfont\": {\"color\": \"rgb(107, 107, 107)\", \"size\": 25}, \"title\": {\"font\": {\"color\": \"rgb(107, 107, 107)\", \"size\": 25}, \"text\": \"mean\"}}},                        {\"responsive\": true}                    ).then(function(){\n",
       "                            \n",
       "var gd = document.getElementById('f8f8eed5-bb96-479e-8baf-626cb094d317');\n",
       "var x = new MutationObserver(function (mutations, observer) {{\n",
       "        var display = window.getComputedStyle(gd).display;\n",
       "        if (!display || display === 'none') {{\n",
       "            console.log([gd, 'removed!']);\n",
       "            Plotly.purge(gd);\n",
       "            observer.disconnect();\n",
       "        }}\n",
       "}});\n",
       "\n",
       "// Listen for the removal of the full notebook cells\n",
       "var notebookContainer = gd.closest('#notebook-container');\n",
       "if (notebookContainer) {{\n",
       "    x.observe(notebookContainer, {childList: true});\n",
       "}}\n",
       "\n",
       "// Listen for the clearing of the current output cell\n",
       "var outputEl = gd.closest('.output');\n",
       "if (outputEl) {{\n",
       "    x.observe(outputEl, {childList: true});\n",
       "}}\n",
       "\n",
       "                        })                };                });            </script>        </div>"
      ]
     },
     "metadata": {},
     "output_type": "display_data"
    },
    {
     "data": {
      "application/vnd.plotly.v1+json": {
       "config": {
        "plotlyServerURL": "https://plot.ly"
       },
       "data": [
        {
         "mode": "markers",
         "name": "ctn1",
         "opacity": 0.7,
         "type": "scatter",
         "x": [
          "none",
          "cpu",
          "cpumem"
         ],
         "y": [
          86.6337156,
          84.974310909,
          85.120355719
         ]
        },
        {
         "mode": "markers",
         "name": "ctn2",
         "opacity": 0.7,
         "type": "scatter",
         "x": [
          "none",
          "cpu",
          "cpumem"
         ],
         "y": [
          70.112081282,
          65.724546783,
          65.798206308
         ]
        },
        {
         "mode": "markers",
         "name": "ctn4",
         "opacity": 0.7,
         "type": "scatter",
         "x": [
          "none",
          "cpu",
          "cpumem"
         ],
         "y": [
          71.405155695,
          65.133784623,
          65.28744387
         ]
        },
        {
         "mode": "markers",
         "name": "ctn8",
         "opacity": 0.7,
         "type": "scatter",
         "x": [
          "none",
          "cpu",
          "cpumem"
         ],
         "y": [
          68.925107098,
          65.339789916,
          65.325820275
         ]
        },
        {
         "mode": "markers",
         "name": "ctn16",
         "opacity": 0.7,
         "type": "scatter",
         "x": [
          "none",
          "cpu",
          "cpumem"
         ],
         "y": [
          70.244820077,
          65.951898723,
          65.745465833
         ]
        },
        {
         "mode": "markers",
         "name": "ctn32",
         "opacity": 0.7,
         "type": "scatter",
         "x": [
          "none",
          "cpu",
          "cpumem"
         ],
         "y": [
          74.051937777,
          67.050745071,
          67.36083215
         ]
        }
       ],
       "layout": {
        "bargap": 0.15,
        "bargroupgap": 0.08,
        "barmode": "group",
        "height": 460,
        "legend": {
         "bgcolor": "rgba(255, 255, 255, 0)",
         "bordercolor": "rgba(255, 255, 255, 0)",
         "font": {
          "size": 28
         },
         "orientation": "h",
         "x": 1,
         "y": 1
        },
        "template": {
         "data": {
          "scatter": [
           {
            "type": "scatter"
           }
          ]
         }
        },
        "title": {
         "text": "exp9= inter64,intra32 -> inter2,intra1; restapi=32",
         "x": 0.5,
         "xanchor": "center",
         "y": 0.85,
         "yanchor": "top"
        },
        "width": 1000,
        "xaxis": {
         "tickfont": {
          "color": "rgb(107, 107, 107)",
          "size": 10
         },
         "tickvals": [
          "none",
          "cpu",
          "cpumem"
         ],
         "title": {
          "font": {
           "color": "rgb(107, 107, 107)",
           "size": 10
          },
          "text": "scenarios"
         }
        },
        "yaxis": {
         "automargin": true,
         "tickfont": {
          "color": "rgb(107, 107, 107)",
          "size": 25
         },
         "title": {
          "font": {
           "color": "rgb(107, 107, 107)",
           "size": 25
          },
          "text": "p50"
         }
        }
       }
      },
      "text/html": [
       "<div>                            <div id=\"b72227de-3d42-4f1a-9671-e7ecbeeaaa54\" class=\"plotly-graph-div\" style=\"height:460px; width:1000px;\"></div>            <script type=\"text/javascript\">                require([\"plotly\"], function(Plotly) {                    window.PLOTLYENV=window.PLOTLYENV || {};                                    if (document.getElementById(\"b72227de-3d42-4f1a-9671-e7ecbeeaaa54\")) {                    Plotly.newPlot(                        \"b72227de-3d42-4f1a-9671-e7ecbeeaaa54\",                        [{\"mode\": \"markers\", \"name\": \"ctn1\", \"opacity\": 0.7, \"type\": \"scatter\", \"x\": [\"none\", \"cpu\", \"cpumem\"], \"y\": [86.6337156, 84.974310909, 85.120355719]}, {\"mode\": \"markers\", \"name\": \"ctn2\", \"opacity\": 0.7, \"type\": \"scatter\", \"x\": [\"none\", \"cpu\", \"cpumem\"], \"y\": [70.112081282, 65.724546783, 65.798206308]}, {\"mode\": \"markers\", \"name\": \"ctn4\", \"opacity\": 0.7, \"type\": \"scatter\", \"x\": [\"none\", \"cpu\", \"cpumem\"], \"y\": [71.405155695, 65.133784623, 65.28744387]}, {\"mode\": \"markers\", \"name\": \"ctn8\", \"opacity\": 0.7, \"type\": \"scatter\", \"x\": [\"none\", \"cpu\", \"cpumem\"], \"y\": [68.925107098, 65.339789916, 65.325820275]}, {\"mode\": \"markers\", \"name\": \"ctn16\", \"opacity\": 0.7, \"type\": \"scatter\", \"x\": [\"none\", \"cpu\", \"cpumem\"], \"y\": [70.244820077, 65.951898723, 65.745465833]}, {\"mode\": \"markers\", \"name\": \"ctn32\", \"opacity\": 0.7, \"type\": \"scatter\", \"x\": [\"none\", \"cpu\", \"cpumem\"], \"y\": [74.051937777, 67.050745071, 67.36083215]}],                        {\"bargap\": 0.15, \"bargroupgap\": 0.08, \"barmode\": \"group\", \"height\": 460, \"legend\": {\"bgcolor\": \"rgba(255, 255, 255, 0)\", \"bordercolor\": \"rgba(255, 255, 255, 0)\", \"font\": {\"size\": 28}, \"orientation\": \"h\", \"x\": 1.0, \"y\": 1.0}, \"template\": {\"data\": {\"scatter\": [{\"type\": \"scatter\"}]}}, \"title\": {\"text\": \"exp9= inter64,intra32 -> inter2,intra1; restapi=32\", \"x\": 0.5, \"xanchor\": \"center\", \"y\": 0.85, \"yanchor\": \"top\"}, \"width\": 1000, \"xaxis\": {\"tickfont\": {\"color\": \"rgb(107, 107, 107)\", \"size\": 10}, \"tickvals\": [\"none\", \"cpu\", \"cpumem\"], \"title\": {\"font\": {\"color\": \"rgb(107, 107, 107)\", \"size\": 10}, \"text\": \"scenarios\"}}, \"yaxis\": {\"automargin\": true, \"tickfont\": {\"color\": \"rgb(107, 107, 107)\", \"size\": 25}, \"title\": {\"font\": {\"color\": \"rgb(107, 107, 107)\", \"size\": 25}, \"text\": \"p50\"}}},                        {\"responsive\": true}                    ).then(function(){\n",
       "                            \n",
       "var gd = document.getElementById('b72227de-3d42-4f1a-9671-e7ecbeeaaa54');\n",
       "var x = new MutationObserver(function (mutations, observer) {{\n",
       "        var display = window.getComputedStyle(gd).display;\n",
       "        if (!display || display === 'none') {{\n",
       "            console.log([gd, 'removed!']);\n",
       "            Plotly.purge(gd);\n",
       "            observer.disconnect();\n",
       "        }}\n",
       "}});\n",
       "\n",
       "// Listen for the removal of the full notebook cells\n",
       "var notebookContainer = gd.closest('#notebook-container');\n",
       "if (notebookContainer) {{\n",
       "    x.observe(notebookContainer, {childList: true});\n",
       "}}\n",
       "\n",
       "// Listen for the clearing of the current output cell\n",
       "var outputEl = gd.closest('.output');\n",
       "if (outputEl) {{\n",
       "    x.observe(outputEl, {childList: true});\n",
       "}}\n",
       "\n",
       "                        })                };                });            </script>        </div>"
      ]
     },
     "metadata": {},
     "output_type": "display_data"
    },
    {
     "data": {
      "application/vnd.plotly.v1+json": {
       "config": {
        "plotlyServerURL": "https://plot.ly"
       },
       "data": [
        {
         "mode": "markers",
         "name": "ctn1",
         "opacity": 0.7,
         "type": "scatter",
         "x": [
          "none",
          "cpu",
          "cpumem"
         ],
         "y": [
          155.287678247,
          151.989363511,
          152.052936309
         ]
        },
        {
         "mode": "markers",
         "name": "ctn2",
         "opacity": 0.7,
         "type": "scatter",
         "x": [
          "none",
          "cpu",
          "cpumem"
         ],
         "y": [
          122.374341484,
          117.04166318,
          117.19241793
         ]
        },
        {
         "mode": "markers",
         "name": "ctn4",
         "opacity": 0.7,
         "type": "scatter",
         "x": [
          "none",
          "cpu",
          "cpumem"
         ],
         "y": [
          123.50740541,
          116.02143629,
          116.384585211
         ]
        },
        {
         "mode": "markers",
         "name": "ctn8",
         "opacity": 0.7,
         "type": "scatter",
         "x": [
          "none",
          "cpu",
          "cpumem"
         ],
         "y": [
          121.88192106,
          116.453518896,
          116.593754209
         ]
        },
        {
         "mode": "markers",
         "name": "ctn16",
         "opacity": 0.7,
         "type": "scatter",
         "x": [
          "none",
          "cpu",
          "cpumem"
         ],
         "y": [
          123.947410752,
          118.037387238,
          117.422767801
         ]
        },
        {
         "mode": "markers",
         "name": "ctn32",
         "opacity": 0.7,
         "type": "scatter",
         "x": [
          "none",
          "cpu",
          "cpumem"
         ],
         "y": [
          131.33057071,
          118.449439125,
          119.938612235
         ]
        }
       ],
       "layout": {
        "bargap": 0.15,
        "bargroupgap": 0.08,
        "barmode": "group",
        "height": 460,
        "legend": {
         "bgcolor": "rgba(255, 255, 255, 0)",
         "bordercolor": "rgba(255, 255, 255, 0)",
         "font": {
          "size": 28
         },
         "orientation": "h",
         "x": 1,
         "y": 1
        },
        "template": {
         "data": {
          "scatter": [
           {
            "type": "scatter"
           }
          ]
         }
        },
        "title": {
         "text": "exp9= inter64,intra32 -> inter2,intra1; restapi=32",
         "x": 0.5,
         "xanchor": "center",
         "y": 0.85,
         "yanchor": "top"
        },
        "width": 1000,
        "xaxis": {
         "tickfont": {
          "color": "rgb(107, 107, 107)",
          "size": 10
         },
         "tickvals": [
          "none",
          "cpu",
          "cpumem"
         ],
         "title": {
          "font": {
           "color": "rgb(107, 107, 107)",
           "size": 10
          },
          "text": "scenarios"
         }
        },
        "yaxis": {
         "automargin": true,
         "tickfont": {
          "color": "rgb(107, 107, 107)",
          "size": 25
         },
         "title": {
          "font": {
           "color": "rgb(107, 107, 107)",
           "size": 25
          },
          "text": "p90"
         }
        }
       }
      },
      "text/html": [
       "<div>                            <div id=\"d9695b4c-d8f5-4011-8c73-4d7dca51d299\" class=\"plotly-graph-div\" style=\"height:460px; width:1000px;\"></div>            <script type=\"text/javascript\">                require([\"plotly\"], function(Plotly) {                    window.PLOTLYENV=window.PLOTLYENV || {};                                    if (document.getElementById(\"d9695b4c-d8f5-4011-8c73-4d7dca51d299\")) {                    Plotly.newPlot(                        \"d9695b4c-d8f5-4011-8c73-4d7dca51d299\",                        [{\"mode\": \"markers\", \"name\": \"ctn1\", \"opacity\": 0.7, \"type\": \"scatter\", \"x\": [\"none\", \"cpu\", \"cpumem\"], \"y\": [155.287678247, 151.989363511, 152.052936309]}, {\"mode\": \"markers\", \"name\": \"ctn2\", \"opacity\": 0.7, \"type\": \"scatter\", \"x\": [\"none\", \"cpu\", \"cpumem\"], \"y\": [122.374341484, 117.04166318, 117.19241793]}, {\"mode\": \"markers\", \"name\": \"ctn4\", \"opacity\": 0.7, \"type\": \"scatter\", \"x\": [\"none\", \"cpu\", \"cpumem\"], \"y\": [123.50740541, 116.02143629, 116.384585211]}, {\"mode\": \"markers\", \"name\": \"ctn8\", \"opacity\": 0.7, \"type\": \"scatter\", \"x\": [\"none\", \"cpu\", \"cpumem\"], \"y\": [121.88192106, 116.453518896, 116.593754209]}, {\"mode\": \"markers\", \"name\": \"ctn16\", \"opacity\": 0.7, \"type\": \"scatter\", \"x\": [\"none\", \"cpu\", \"cpumem\"], \"y\": [123.947410752, 118.037387238, 117.422767801]}, {\"mode\": \"markers\", \"name\": \"ctn32\", \"opacity\": 0.7, \"type\": \"scatter\", \"x\": [\"none\", \"cpu\", \"cpumem\"], \"y\": [131.33057071, 118.449439125, 119.938612235]}],                        {\"bargap\": 0.15, \"bargroupgap\": 0.08, \"barmode\": \"group\", \"height\": 460, \"legend\": {\"bgcolor\": \"rgba(255, 255, 255, 0)\", \"bordercolor\": \"rgba(255, 255, 255, 0)\", \"font\": {\"size\": 28}, \"orientation\": \"h\", \"x\": 1.0, \"y\": 1.0}, \"template\": {\"data\": {\"scatter\": [{\"type\": \"scatter\"}]}}, \"title\": {\"text\": \"exp9= inter64,intra32 -> inter2,intra1; restapi=32\", \"x\": 0.5, \"xanchor\": \"center\", \"y\": 0.85, \"yanchor\": \"top\"}, \"width\": 1000, \"xaxis\": {\"tickfont\": {\"color\": \"rgb(107, 107, 107)\", \"size\": 10}, \"tickvals\": [\"none\", \"cpu\", \"cpumem\"], \"title\": {\"font\": {\"color\": \"rgb(107, 107, 107)\", \"size\": 10}, \"text\": \"scenarios\"}}, \"yaxis\": {\"automargin\": true, \"tickfont\": {\"color\": \"rgb(107, 107, 107)\", \"size\": 25}, \"title\": {\"font\": {\"color\": \"rgb(107, 107, 107)\", \"size\": 25}, \"text\": \"p90\"}}},                        {\"responsive\": true}                    ).then(function(){\n",
       "                            \n",
       "var gd = document.getElementById('d9695b4c-d8f5-4011-8c73-4d7dca51d299');\n",
       "var x = new MutationObserver(function (mutations, observer) {{\n",
       "        var display = window.getComputedStyle(gd).display;\n",
       "        if (!display || display === 'none') {{\n",
       "            console.log([gd, 'removed!']);\n",
       "            Plotly.purge(gd);\n",
       "            observer.disconnect();\n",
       "        }}\n",
       "}});\n",
       "\n",
       "// Listen for the removal of the full notebook cells\n",
       "var notebookContainer = gd.closest('#notebook-container');\n",
       "if (notebookContainer) {{\n",
       "    x.observe(notebookContainer, {childList: true});\n",
       "}}\n",
       "\n",
       "// Listen for the clearing of the current output cell\n",
       "var outputEl = gd.closest('.output');\n",
       "if (outputEl) {{\n",
       "    x.observe(outputEl, {childList: true});\n",
       "}}\n",
       "\n",
       "                        })                };                });            </script>        </div>"
      ]
     },
     "metadata": {},
     "output_type": "display_data"
    },
    {
     "data": {
      "application/vnd.plotly.v1+json": {
       "config": {
        "plotlyServerURL": "https://plot.ly"
       },
       "data": [
        {
         "mode": "markers",
         "name": "ctn1",
         "opacity": 0.7,
         "type": "scatter",
         "x": [
          "none",
          "cpu",
          "cpumem"
         ],
         "y": [
          170.44233246375,
          166.85160032074998,
          166.72193201675
         ]
        },
        {
         "mode": "markers",
         "name": "ctn2",
         "opacity": 0.7,
         "type": "scatter",
         "x": [
          "none",
          "cpu",
          "cpumem"
         ],
         "y": [
          133.92979359275,
          128.47560051175,
          128.6455229625
         ]
        },
        {
         "mode": "markers",
         "name": "ctn4",
         "opacity": 0.7,
         "type": "scatter",
         "x": [
          "none",
          "cpu",
          "cpumem"
         ],
         "y": [
          135.19128683875,
          127.37267611275,
          127.62905556525
         ]
        },
        {
         "mode": "markers",
         "name": "ctn8",
         "opacity": 0.7,
         "type": "scatter",
         "x": [
          "none",
          "cpu",
          "cpumem"
         ],
         "y": [
          133.71783981175,
          127.88122438775,
          128.06544833925
         ]
        },
        {
         "mode": "markers",
         "name": "ctn16",
         "opacity": 0.7,
         "type": "scatter",
         "x": [
          "none",
          "cpu",
          "cpumem"
         ],
         "y": [
          135.99239266,
          129.43005772774998,
          128.89975485225
         ]
        },
        {
         "mode": "markers",
         "name": "ctn32",
         "opacity": 0.7,
         "type": "scatter",
         "x": [
          "none",
          "cpu",
          "cpumem"
         ],
         "y": [
          143.73939056875,
          130.37945995475002,
          131.792890042
         ]
        }
       ],
       "layout": {
        "bargap": 0.15,
        "bargroupgap": 0.08,
        "barmode": "group",
        "height": 460,
        "legend": {
         "bgcolor": "rgba(255, 255, 255, 0)",
         "bordercolor": "rgba(255, 255, 255, 0)",
         "font": {
          "size": 28
         },
         "orientation": "h",
         "x": 1,
         "y": 1
        },
        "template": {
         "data": {
          "scatter": [
           {
            "type": "scatter"
           }
          ]
         }
        },
        "title": {
         "text": "exp9= inter64,intra32 -> inter2,intra1; restapi=32",
         "x": 0.5,
         "xanchor": "center",
         "y": 0.85,
         "yanchor": "top"
        },
        "width": 1000,
        "xaxis": {
         "tickfont": {
          "color": "rgb(107, 107, 107)",
          "size": 10
         },
         "tickvals": [
          "none",
          "cpu",
          "cpumem"
         ],
         "title": {
          "font": {
           "color": "rgb(107, 107, 107)",
           "size": 10
          },
          "text": "scenarios"
         }
        },
        "yaxis": {
         "automargin": true,
         "tickfont": {
          "color": "rgb(107, 107, 107)",
          "size": 25
         },
         "title": {
          "font": {
           "color": "rgb(107, 107, 107)",
           "size": 25
          },
          "text": "p99"
         }
        }
       }
      },
      "text/html": [
       "<div>                            <div id=\"77dbe883-92d2-4096-b8ed-89b1c2ebc714\" class=\"plotly-graph-div\" style=\"height:460px; width:1000px;\"></div>            <script type=\"text/javascript\">                require([\"plotly\"], function(Plotly) {                    window.PLOTLYENV=window.PLOTLYENV || {};                                    if (document.getElementById(\"77dbe883-92d2-4096-b8ed-89b1c2ebc714\")) {                    Plotly.newPlot(                        \"77dbe883-92d2-4096-b8ed-89b1c2ebc714\",                        [{\"mode\": \"markers\", \"name\": \"ctn1\", \"opacity\": 0.7, \"type\": \"scatter\", \"x\": [\"none\", \"cpu\", \"cpumem\"], \"y\": [170.44233246375, 166.85160032074998, 166.72193201675]}, {\"mode\": \"markers\", \"name\": \"ctn2\", \"opacity\": 0.7, \"type\": \"scatter\", \"x\": [\"none\", \"cpu\", \"cpumem\"], \"y\": [133.92979359275, 128.47560051175, 128.6455229625]}, {\"mode\": \"markers\", \"name\": \"ctn4\", \"opacity\": 0.7, \"type\": \"scatter\", \"x\": [\"none\", \"cpu\", \"cpumem\"], \"y\": [135.19128683875, 127.37267611275, 127.62905556525]}, {\"mode\": \"markers\", \"name\": \"ctn8\", \"opacity\": 0.7, \"type\": \"scatter\", \"x\": [\"none\", \"cpu\", \"cpumem\"], \"y\": [133.71783981175, 127.88122438775, 128.06544833925]}, {\"mode\": \"markers\", \"name\": \"ctn16\", \"opacity\": 0.7, \"type\": \"scatter\", \"x\": [\"none\", \"cpu\", \"cpumem\"], \"y\": [135.99239266, 129.43005772774998, 128.89975485225]}, {\"mode\": \"markers\", \"name\": \"ctn32\", \"opacity\": 0.7, \"type\": \"scatter\", \"x\": [\"none\", \"cpu\", \"cpumem\"], \"y\": [143.73939056875, 130.37945995475002, 131.792890042]}],                        {\"bargap\": 0.15, \"bargroupgap\": 0.08, \"barmode\": \"group\", \"height\": 460, \"legend\": {\"bgcolor\": \"rgba(255, 255, 255, 0)\", \"bordercolor\": \"rgba(255, 255, 255, 0)\", \"font\": {\"size\": 28}, \"orientation\": \"h\", \"x\": 1.0, \"y\": 1.0}, \"template\": {\"data\": {\"scatter\": [{\"type\": \"scatter\"}]}}, \"title\": {\"text\": \"exp9= inter64,intra32 -> inter2,intra1; restapi=32\", \"x\": 0.5, \"xanchor\": \"center\", \"y\": 0.85, \"yanchor\": \"top\"}, \"width\": 1000, \"xaxis\": {\"tickfont\": {\"color\": \"rgb(107, 107, 107)\", \"size\": 10}, \"tickvals\": [\"none\", \"cpu\", \"cpumem\"], \"title\": {\"font\": {\"color\": \"rgb(107, 107, 107)\", \"size\": 10}, \"text\": \"scenarios\"}}, \"yaxis\": {\"automargin\": true, \"tickfont\": {\"color\": \"rgb(107, 107, 107)\", \"size\": 25}, \"title\": {\"font\": {\"color\": \"rgb(107, 107, 107)\", \"size\": 25}, \"text\": \"p99\"}}},                        {\"responsive\": true}                    ).then(function(){\n",
       "                            \n",
       "var gd = document.getElementById('77dbe883-92d2-4096-b8ed-89b1c2ebc714');\n",
       "var x = new MutationObserver(function (mutations, observer) {{\n",
       "        var display = window.getComputedStyle(gd).display;\n",
       "        if (!display || display === 'none') {{\n",
       "            console.log([gd, 'removed!']);\n",
       "            Plotly.purge(gd);\n",
       "            observer.disconnect();\n",
       "        }}\n",
       "}});\n",
       "\n",
       "// Listen for the removal of the full notebook cells\n",
       "var notebookContainer = gd.closest('#notebook-container');\n",
       "if (notebookContainer) {{\n",
       "    x.observe(notebookContainer, {childList: true});\n",
       "}}\n",
       "\n",
       "// Listen for the clearing of the current output cell\n",
       "var outputEl = gd.closest('.output');\n",
       "if (outputEl) {{\n",
       "    x.observe(outputEl, {childList: true});\n",
       "}}\n",
       "\n",
       "                        })                };                });            </script>        </div>"
      ]
     },
     "metadata": {},
     "output_type": "display_data"
    },
    {
     "data": {
      "application/vnd.plotly.v1+json": {
       "config": {
        "plotlyServerURL": "https://plot.ly"
       },
       "data": [
        {
         "mode": "markers",
         "name": "ctn1",
         "opacity": 0.7,
         "type": "scatter",
         "x": [
          "none",
          "cpu",
          "cpumem"
         ],
         "y": [
          171.104010947,
          167.504501407,
          167.285063203
         ]
        },
        {
         "mode": "markers",
         "name": "ctn2",
         "opacity": 0.7,
         "type": "scatter",
         "x": [
          "none",
          "cpu",
          "cpumem"
         ],
         "y": [
          134.40569935,
          128.862830022,
          129.07580151
         ]
        },
        {
         "mode": "markers",
         "name": "ctn4",
         "opacity": 0.7,
         "type": "scatter",
         "x": [
          "none",
          "cpu",
          "cpumem"
         ],
         "y": [
          135.65700972,
          128.036982128,
          128.154018897
         ]
        },
        {
         "mode": "markers",
         "name": "ctn8",
         "opacity": 0.7,
         "type": "scatter",
         "x": [
          "none",
          "cpu",
          "cpumem"
         ],
         "y": [
          134.6049196,
          128.597611227,
          129.113059457
         ]
        },
        {
         "mode": "markers",
         "name": "ctn16",
         "opacity": 0.7,
         "type": "scatter",
         "x": [
          "none",
          "cpu",
          "cpumem"
         ],
         "y": [
          137.14135667,
          132.173835829,
          131.66926634
         ]
        },
        {
         "mode": "markers",
         "name": "ctn32",
         "opacity": 0.7,
         "type": "scatter",
         "x": [
          "none",
          "cpu",
          "cpumem"
         ],
         "y": [
          144.951359211,
          131.296659126,
          133.022307971
         ]
        }
       ],
       "layout": {
        "bargap": 0.15,
        "bargroupgap": 0.08,
        "barmode": "group",
        "height": 460,
        "legend": {
         "bgcolor": "rgba(255, 255, 255, 0)",
         "bordercolor": "rgba(255, 255, 255, 0)",
         "font": {
          "size": 28
         },
         "orientation": "h",
         "x": 1,
         "y": 1
        },
        "template": {
         "data": {
          "scatter": [
           {
            "type": "scatter"
           }
          ]
         }
        },
        "title": {
         "text": "exp9= inter64,intra32 -> inter2,intra1; restapi=32",
         "x": 0.5,
         "xanchor": "center",
         "y": 0.85,
         "yanchor": "top"
        },
        "width": 1000,
        "xaxis": {
         "tickfont": {
          "color": "rgb(107, 107, 107)",
          "size": 10
         },
         "tickvals": [
          "none",
          "cpu",
          "cpumem"
         ],
         "title": {
          "font": {
           "color": "rgb(107, 107, 107)",
           "size": 10
          },
          "text": "scenarios"
         }
        },
        "yaxis": {
         "automargin": true,
         "tickfont": {
          "color": "rgb(107, 107, 107)",
          "size": 25
         },
         "title": {
          "font": {
           "color": "rgb(107, 107, 107)",
           "size": 25
          },
          "text": "p999"
         }
        }
       }
      },
      "text/html": [
       "<div>                            <div id=\"42493501-87fe-4d53-b384-d8fb509e8b20\" class=\"plotly-graph-div\" style=\"height:460px; width:1000px;\"></div>            <script type=\"text/javascript\">                require([\"plotly\"], function(Plotly) {                    window.PLOTLYENV=window.PLOTLYENV || {};                                    if (document.getElementById(\"42493501-87fe-4d53-b384-d8fb509e8b20\")) {                    Plotly.newPlot(                        \"42493501-87fe-4d53-b384-d8fb509e8b20\",                        [{\"mode\": \"markers\", \"name\": \"ctn1\", \"opacity\": 0.7, \"type\": \"scatter\", \"x\": [\"none\", \"cpu\", \"cpumem\"], \"y\": [171.104010947, 167.504501407, 167.285063203]}, {\"mode\": \"markers\", \"name\": \"ctn2\", \"opacity\": 0.7, \"type\": \"scatter\", \"x\": [\"none\", \"cpu\", \"cpumem\"], \"y\": [134.40569935, 128.862830022, 129.07580151]}, {\"mode\": \"markers\", \"name\": \"ctn4\", \"opacity\": 0.7, \"type\": \"scatter\", \"x\": [\"none\", \"cpu\", \"cpumem\"], \"y\": [135.65700972, 128.036982128, 128.154018897]}, {\"mode\": \"markers\", \"name\": \"ctn8\", \"opacity\": 0.7, \"type\": \"scatter\", \"x\": [\"none\", \"cpu\", \"cpumem\"], \"y\": [134.6049196, 128.597611227, 129.113059457]}, {\"mode\": \"markers\", \"name\": \"ctn16\", \"opacity\": 0.7, \"type\": \"scatter\", \"x\": [\"none\", \"cpu\", \"cpumem\"], \"y\": [137.14135667, 132.173835829, 131.66926634]}, {\"mode\": \"markers\", \"name\": \"ctn32\", \"opacity\": 0.7, \"type\": \"scatter\", \"x\": [\"none\", \"cpu\", \"cpumem\"], \"y\": [144.951359211, 131.296659126, 133.022307971]}],                        {\"bargap\": 0.15, \"bargroupgap\": 0.08, \"barmode\": \"group\", \"height\": 460, \"legend\": {\"bgcolor\": \"rgba(255, 255, 255, 0)\", \"bordercolor\": \"rgba(255, 255, 255, 0)\", \"font\": {\"size\": 28}, \"orientation\": \"h\", \"x\": 1.0, \"y\": 1.0}, \"template\": {\"data\": {\"scatter\": [{\"type\": \"scatter\"}]}}, \"title\": {\"text\": \"exp9= inter64,intra32 -> inter2,intra1; restapi=32\", \"x\": 0.5, \"xanchor\": \"center\", \"y\": 0.85, \"yanchor\": \"top\"}, \"width\": 1000, \"xaxis\": {\"tickfont\": {\"color\": \"rgb(107, 107, 107)\", \"size\": 10}, \"tickvals\": [\"none\", \"cpu\", \"cpumem\"], \"title\": {\"font\": {\"color\": \"rgb(107, 107, 107)\", \"size\": 10}, \"text\": \"scenarios\"}}, \"yaxis\": {\"automargin\": true, \"tickfont\": {\"color\": \"rgb(107, 107, 107)\", \"size\": 25}, \"title\": {\"font\": {\"color\": \"rgb(107, 107, 107)\", \"size\": 25}, \"text\": \"p999\"}}},                        {\"responsive\": true}                    ).then(function(){\n",
       "                            \n",
       "var gd = document.getElementById('42493501-87fe-4d53-b384-d8fb509e8b20');\n",
       "var x = new MutationObserver(function (mutations, observer) {{\n",
       "        var display = window.getComputedStyle(gd).display;\n",
       "        if (!display || display === 'none') {{\n",
       "            console.log([gd, 'removed!']);\n",
       "            Plotly.purge(gd);\n",
       "            observer.disconnect();\n",
       "        }}\n",
       "}});\n",
       "\n",
       "// Listen for the removal of the full notebook cells\n",
       "var notebookContainer = gd.closest('#notebook-container');\n",
       "if (notebookContainer) {{\n",
       "    x.observe(notebookContainer, {childList: true});\n",
       "}}\n",
       "\n",
       "// Listen for the clearing of the current output cell\n",
       "var outputEl = gd.closest('.output');\n",
       "if (outputEl) {{\n",
       "    x.observe(outputEl, {childList: true});\n",
       "}}\n",
       "\n",
       "                        })                };                });            </script>        </div>"
      ]
     },
     "metadata": {},
     "output_type": "display_data"
    }
   ],
   "source": [
    "import matplotlib\n",
    "import matplotlib.pyplot as plt\n",
    "import numpy as np\n",
    "from svglib.svglib import svg2rlg\n",
    "from reportlab.graphics import renderPDF\n",
    "from reportlab.pdfgen import canvas\n",
    "\n",
    "from numpy import percentile, mean, std\n",
    "import plotly.graph_objects as go\n",
    "\n",
    "from plotly.offline import init_notebook_mode, iplot\n",
    "\n",
    "import plotly.io as pio\n",
    "pio.templates.default = \"none\"\n",
    "# pio.templates.default = \"simple_white\"\n",
    "\n",
    "import plotly.graph_objects as go\n",
    "from plotly.subplots import make_subplots\n",
    "import pandas as pd\n",
    "# import plotly.express as px\n",
    "\n",
    "for x in ['qps','mean','p50','p90','p99','p999']:\n",
    "    for cbatch in [10]:\n",
    "        for model_name in ['resnet']:\n",
    "            list_traces = []\n",
    "            for numctn in [1,2,4,8,16,32]: \n",
    "                dfg_bench = dfg[(dfg['benchmark']== model_name)  & (dfg['cbatch']==cbatch) & (dfg['numctn']==numctn) &\\\n",
    "                            ((dfg['k8senv']=='none') |\\\n",
    "                             (dfg['k8senv']=='cpumem')| (dfg['k8senv']=='cpumemory'))]\n",
    "#                 print(dfg_bench)\n",
    "\n",
    "\n",
    "                #data\n",
    "                trace = go.Scatter(\n",
    "                    name=\"ctn\"+str(numctn),\n",
    "                    x=[ 'none','cpu','cpumem'],\n",
    "                    y= dfg_bench[x].values.tolist(),\n",
    "        #             error_y = dict(type='data', array=df1_bench['model_time_std'].values.tolist()),\n",
    "                    opacity=0.7,\n",
    "                    mode='markers'\n",
    "                )\n",
    "                list_traces.append(trace)\n",
    "\n",
    "\n",
    "\n",
    "            #layout\n",
    "            layout = go.Layout(\n",
    "                title={\n",
    "                    'text': \"exp9= inter64,intra32 -> inter2,intra1; restapi=32\" ,\n",
    "                    'y':0.85,\n",
    "                    'x':0.5,\n",
    "                    'xanchor': 'center',\n",
    "                    'yanchor': 'top'},\n",
    "                width=1000,\n",
    "                height=460,\n",
    "                xaxis=dict(\n",
    "                    title= \"scenarios\",\n",
    "                    tickvals=[ 'none','cpu','cpumem'],\n",
    "                    titlefont=dict(\n",
    "                        size=10,\n",
    "                        color='rgb(107, 107, 107)'\n",
    "                    ),\n",
    "                    tickfont=dict(\n",
    "                        size=10,\n",
    "                        color='rgb(107, 107, 107)'\n",
    "                    )\n",
    "                ),\n",
    "                yaxis=dict(\n",
    "                    title= x,\n",
    "                    automargin=True,\n",
    "                    titlefont=dict(\n",
    "                        size=25,\n",
    "                        color='rgb(107, 107, 107)'\n",
    "                    ),\n",
    "                    tickfont=dict(\n",
    "                        size=25,\n",
    "                        color='rgb(107, 107, 107)'\n",
    "                    ),    \n",
    "                ),\n",
    "                legend=dict(\n",
    "                    x=1.0,\n",
    "                    y=1.0,\n",
    "                    bgcolor='rgba(255, 255, 255, 0)',\n",
    "                    bordercolor='rgba(255, 255, 255, 0)',\n",
    "                    font = dict( size = 28)\n",
    "                ),\n",
    "                barmode='group',\n",
    "                bargap=0.15,\n",
    "                bargroupgap=0.08\n",
    "        #         legend_orientation=\"h\"\n",
    "            )\n",
    "\n",
    "        data = list_traces\n",
    "        fig = go.Figure(data=data, layout=layout)\n",
    "        fig.update_layout(legend_orientation=\"h\")\n",
    "        fig.show()    \n",
    "\n",
    "    #     fig.write_image(path + model_name + k8senv +'.pdf')"
   ]
  },
  {
   "cell_type": "code",
   "execution_count": null,
   "id": "d7ddb081",
   "metadata": {},
   "outputs": [],
   "source": []
  },
  {
   "cell_type": "code",
   "execution_count": null,
   "id": "4232f1de",
   "metadata": {},
   "outputs": [],
   "source": []
  },
  {
   "cell_type": "code",
   "execution_count": null,
   "id": "41a87e54",
   "metadata": {},
   "outputs": [],
   "source": []
  },
  {
   "cell_type": "code",
   "execution_count": null,
   "id": "e58b2c83",
   "metadata": {},
   "outputs": [],
   "source": []
  }
 ],
 "metadata": {
  "kernelspec": {
   "display_name": "Python 3",
   "language": "python",
   "name": "python3"
  },
  "language_info": {
   "codemirror_mode": {
    "name": "ipython",
    "version": 3
   },
   "file_extension": ".py",
   "mimetype": "text/x-python",
   "name": "python",
   "nbconvert_exporter": "python",
   "pygments_lexer": "ipython3",
   "version": "3.8.5"
  }
 },
 "nbformat": 4,
 "nbformat_minor": 5
}
