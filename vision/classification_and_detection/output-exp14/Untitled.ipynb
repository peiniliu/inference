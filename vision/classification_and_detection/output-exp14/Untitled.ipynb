{
 "cells": [
  {
   "cell_type": "code",
   "execution_count": 17,
   "id": "de0246d4",
   "metadata": {},
   "outputs": [
    {
     "data": {
      "text/html": [
       "        <script type=\"text/javascript\">\n",
       "        window.PlotlyConfig = {MathJaxConfig: 'local'};\n",
       "        if (window.MathJax) {MathJax.Hub.Config({SVG: {font: \"STIX-Web\"}});}\n",
       "        if (typeof require !== 'undefined') {\n",
       "        require.undef(\"plotly\");\n",
       "        requirejs.config({\n",
       "            paths: {\n",
       "                'plotly': ['https://cdn.plot.ly/plotly-latest.min']\n",
       "            }\n",
       "        });\n",
       "        require(['plotly'], function(Plotly) {\n",
       "            window._Plotly = Plotly;\n",
       "        });\n",
       "        }\n",
       "        </script>\n",
       "        "
      ]
     },
     "metadata": {},
     "output_type": "display_data"
    },
    {
     "data": {
      "text/html": [
       "<div>\n",
       "<style scoped>\n",
       "    .dataframe tbody tr th:only-of-type {\n",
       "        vertical-align: middle;\n",
       "    }\n",
       "\n",
       "    .dataframe tbody tr th {\n",
       "        vertical-align: top;\n",
       "    }\n",
       "\n",
       "    .dataframe thead th {\n",
       "        text-align: right;\n",
       "    }\n",
       "</style>\n",
       "<table border=\"1\" class=\"dataframe\">\n",
       "  <thead>\n",
       "    <tr style=\"text-align: right;\">\n",
       "      <th></th>\n",
       "      <th>benchmark</th>\n",
       "      <th>k8senv</th>\n",
       "      <th>sbatch</th>\n",
       "      <th>numctn</th>\n",
       "      <th>cscenario</th>\n",
       "      <th>cbatch</th>\n",
       "      <th>reps</th>\n",
       "      <th>qps</th>\n",
       "      <th>mean</th>\n",
       "      <th>p50</th>\n",
       "      <th>p80</th>\n",
       "      <th>p90</th>\n",
       "      <th>p95</th>\n",
       "      <th>p99</th>\n",
       "      <th>p999</th>\n",
       "    </tr>\n",
       "  </thead>\n",
       "  <tbody>\n",
       "    <tr>\n",
       "      <th>0</th>\n",
       "      <td>resnet</td>\n",
       "      <td>none</td>\n",
       "      <td>32</td>\n",
       "      <td>1</td>\n",
       "      <td>offline</td>\n",
       "      <td>10</td>\n",
       "      <td>10</td>\n",
       "      <td>145.105535</td>\n",
       "      <td>86.047223</td>\n",
       "      <td>86.040832</td>\n",
       "      <td>136.817413</td>\n",
       "      <td>153.585346</td>\n",
       "      <td>162.045532</td>\n",
       "      <td>168.788954</td>\n",
       "      <td>169.333315</td>\n",
       "    </tr>\n",
       "    <tr>\n",
       "      <th>1</th>\n",
       "      <td>resnet</td>\n",
       "      <td>none</td>\n",
       "      <td>32</td>\n",
       "      <td>2</td>\n",
       "      <td>offline</td>\n",
       "      <td>10</td>\n",
       "      <td>10</td>\n",
       "      <td>179.289124</td>\n",
       "      <td>71.823908</td>\n",
       "      <td>72.170672</td>\n",
       "      <td>111.525782</td>\n",
       "      <td>124.701304</td>\n",
       "      <td>131.445730</td>\n",
       "      <td>136.548346</td>\n",
       "      <td>137.013168</td>\n",
       "    </tr>\n",
       "    <tr>\n",
       "      <th>2</th>\n",
       "      <td>resnet</td>\n",
       "      <td>none</td>\n",
       "      <td>32</td>\n",
       "      <td>4</td>\n",
       "      <td>offline</td>\n",
       "      <td>10</td>\n",
       "      <td>10</td>\n",
       "      <td>182.274241</td>\n",
       "      <td>69.342681</td>\n",
       "      <td>69.235692</td>\n",
       "      <td>108.922794</td>\n",
       "      <td>122.047597</td>\n",
       "      <td>128.668389</td>\n",
       "      <td>133.769875</td>\n",
       "      <td>134.747987</td>\n",
       "    </tr>\n",
       "    <tr>\n",
       "      <th>3</th>\n",
       "      <td>resnet</td>\n",
       "      <td>none</td>\n",
       "      <td>32</td>\n",
       "      <td>8</td>\n",
       "      <td>offline</td>\n",
       "      <td>10</td>\n",
       "      <td>10</td>\n",
       "      <td>180.016676</td>\n",
       "      <td>69.809955</td>\n",
       "      <td>69.875741</td>\n",
       "      <td>109.707407</td>\n",
       "      <td>123.118075</td>\n",
       "      <td>129.645654</td>\n",
       "      <td>134.984853</td>\n",
       "      <td>136.088860</td>\n",
       "    </tr>\n",
       "    <tr>\n",
       "      <th>4</th>\n",
       "      <td>resnet</td>\n",
       "      <td>none</td>\n",
       "      <td>32</td>\n",
       "      <td>16</td>\n",
       "      <td>offline</td>\n",
       "      <td>10</td>\n",
       "      <td>10</td>\n",
       "      <td>177.117117</td>\n",
       "      <td>70.435924</td>\n",
       "      <td>70.608259</td>\n",
       "      <td>110.992407</td>\n",
       "      <td>124.677720</td>\n",
       "      <td>131.476866</td>\n",
       "      <td>136.866434</td>\n",
       "      <td>138.165044</td>\n",
       "    </tr>\n",
       "  </tbody>\n",
       "</table>\n",
       "</div>"
      ],
      "text/plain": [
       "  benchmark k8senv  sbatch  numctn cscenario  cbatch  reps         qps  \\\n",
       "0    resnet   none      32       1   offline      10    10  145.105535   \n",
       "1    resnet   none      32       2   offline      10    10  179.289124   \n",
       "2    resnet   none      32       4   offline      10    10  182.274241   \n",
       "3    resnet   none      32       8   offline      10    10  180.016676   \n",
       "4    resnet   none      32      16   offline      10    10  177.117117   \n",
       "\n",
       "        mean        p50         p80         p90         p95         p99  \\\n",
       "0  86.047223  86.040832  136.817413  153.585346  162.045532  168.788954   \n",
       "1  71.823908  72.170672  111.525782  124.701304  131.445730  136.548346   \n",
       "2  69.342681  69.235692  108.922794  122.047597  128.668389  133.769875   \n",
       "3  69.809955  69.875741  109.707407  123.118075  129.645654  134.984853   \n",
       "4  70.435924  70.608259  110.992407  124.677720  131.476866  136.866434   \n",
       "\n",
       "         p999  \n",
       "0  169.333315  \n",
       "1  137.013168  \n",
       "2  134.747987  \n",
       "3  136.088860  \n",
       "4  138.165044  "
      ]
     },
     "execution_count": 17,
     "metadata": {},
     "output_type": "execute_result"
    }
   ],
   "source": [
    "import pandas as pd\n",
    "import glob\n",
    "# import plotly.plotly as py\n",
    "import plotly.graph_objs as go\n",
    "\n",
    "from plotly import tools\n",
    "from plotly.offline import init_notebook_mode, iplot\n",
    "init_notebook_mode(connected=True) \n",
    "\n",
    "import numpy as np\n",
    "import matplotlib.pyplot as plt\n",
    "# include if using a Jupyter notebook\n",
    "# %matplotlib inline\n",
    "\n",
    "path = \"/gpfs/bsc_home/xpliu/inference/vision/classification_and_detection/output-exp14/\"\n",
    "all_files = glob.glob(path + \"*.csv\")\n",
    "\n",
    "li = []\n",
    "\n",
    "for filename in all_files:\n",
    "    df = pd.read_csv(filename, index_col=None, header=0)\n",
    "    li.append(df)\n",
    "\n",
    "df = pd.concat(li, axis=0, ignore_index=True)\n",
    "df.head()"
   ]
  },
  {
   "cell_type": "code",
   "execution_count": 18,
   "id": "fe8c3d7f",
   "metadata": {},
   "outputs": [
    {
     "data": {
      "text/plain": [
       "18"
      ]
     },
     "execution_count": 18,
     "metadata": {},
     "output_type": "execute_result"
    }
   ],
   "source": [
    "len(df)"
   ]
  },
  {
   "cell_type": "code",
   "execution_count": 19,
   "id": "d48083a0",
   "metadata": {},
   "outputs": [
    {
     "data": {
      "text/plain": [
       "array(['resnet'], dtype=object)"
      ]
     },
     "execution_count": 19,
     "metadata": {},
     "output_type": "execute_result"
    }
   ],
   "source": [
    "df['benchmark'].unique()"
   ]
  },
  {
   "cell_type": "code",
   "execution_count": 20,
   "id": "b318f564",
   "metadata": {},
   "outputs": [
    {
     "data": {
      "text/plain": [
       "array(['none', 'cpumemory', 'cpumem'], dtype=object)"
      ]
     },
     "execution_count": 20,
     "metadata": {},
     "output_type": "execute_result"
    }
   ],
   "source": [
    "df['k8senv'].unique()"
   ]
  },
  {
   "cell_type": "code",
   "execution_count": 21,
   "id": "a2a7701a",
   "metadata": {},
   "outputs": [
    {
     "data": {
      "text/plain": [
       "numpy.float64"
      ]
     },
     "execution_count": 21,
     "metadata": {},
     "output_type": "execute_result"
    }
   ],
   "source": [
    "type(df['qps'][0])"
   ]
  },
  {
   "cell_type": "markdown",
   "id": "53f2033c",
   "metadata": {},
   "source": [
    "# Graph"
   ]
  },
  {
   "cell_type": "code",
   "execution_count": 22,
   "id": "5786faec",
   "metadata": {},
   "outputs": [
    {
     "data": {
      "text/html": [
       "        <script type=\"text/javascript\">\n",
       "        window.PlotlyConfig = {MathJaxConfig: 'local'};\n",
       "        if (window.MathJax) {MathJax.Hub.Config({SVG: {font: \"STIX-Web\"}});}\n",
       "        if (typeof require !== 'undefined') {\n",
       "        require.undef(\"plotly\");\n",
       "        requirejs.config({\n",
       "            paths: {\n",
       "                'plotly': ['https://cdn.plot.ly/plotly-latest.min']\n",
       "            }\n",
       "        });\n",
       "        require(['plotly'], function(Plotly) {\n",
       "            window._Plotly = Plotly;\n",
       "        });\n",
       "        }\n",
       "        </script>\n",
       "        "
      ]
     },
     "metadata": {},
     "output_type": "display_data"
    },
    {
     "data": {
      "text/html": [
       "<div>\n",
       "<style scoped>\n",
       "    .dataframe tbody tr th:only-of-type {\n",
       "        vertical-align: middle;\n",
       "    }\n",
       "\n",
       "    .dataframe tbody tr th {\n",
       "        vertical-align: top;\n",
       "    }\n",
       "\n",
       "    .dataframe thead th {\n",
       "        text-align: right;\n",
       "    }\n",
       "</style>\n",
       "<table border=\"1\" class=\"dataframe\">\n",
       "  <thead>\n",
       "    <tr style=\"text-align: right;\">\n",
       "      <th></th>\n",
       "      <th>benchmark</th>\n",
       "      <th>k8senv</th>\n",
       "      <th>sbatch</th>\n",
       "      <th>numctn</th>\n",
       "      <th>cscenario</th>\n",
       "      <th>cbatch</th>\n",
       "      <th>reps</th>\n",
       "      <th>qps</th>\n",
       "      <th>mean</th>\n",
       "      <th>p50</th>\n",
       "      <th>p80</th>\n",
       "      <th>p90</th>\n",
       "      <th>p95</th>\n",
       "      <th>p99</th>\n",
       "      <th>p999</th>\n",
       "    </tr>\n",
       "  </thead>\n",
       "  <tbody>\n",
       "    <tr>\n",
       "      <th>0</th>\n",
       "      <td>resnet</td>\n",
       "      <td>none</td>\n",
       "      <td>32</td>\n",
       "      <td>1</td>\n",
       "      <td>offline</td>\n",
       "      <td>10</td>\n",
       "      <td>10</td>\n",
       "      <td>145.105535</td>\n",
       "      <td>86.047223</td>\n",
       "      <td>86.040832</td>\n",
       "      <td>136.817413</td>\n",
       "      <td>153.585346</td>\n",
       "      <td>162.045532</td>\n",
       "      <td>168.788954</td>\n",
       "      <td>169.333315</td>\n",
       "    </tr>\n",
       "    <tr>\n",
       "      <th>1</th>\n",
       "      <td>resnet</td>\n",
       "      <td>none</td>\n",
       "      <td>32</td>\n",
       "      <td>2</td>\n",
       "      <td>offline</td>\n",
       "      <td>10</td>\n",
       "      <td>10</td>\n",
       "      <td>179.289124</td>\n",
       "      <td>71.823908</td>\n",
       "      <td>72.170672</td>\n",
       "      <td>111.525782</td>\n",
       "      <td>124.701304</td>\n",
       "      <td>131.445730</td>\n",
       "      <td>136.548346</td>\n",
       "      <td>137.013168</td>\n",
       "    </tr>\n",
       "    <tr>\n",
       "      <th>2</th>\n",
       "      <td>resnet</td>\n",
       "      <td>none</td>\n",
       "      <td>32</td>\n",
       "      <td>4</td>\n",
       "      <td>offline</td>\n",
       "      <td>10</td>\n",
       "      <td>10</td>\n",
       "      <td>182.274241</td>\n",
       "      <td>69.342681</td>\n",
       "      <td>69.235692</td>\n",
       "      <td>108.922794</td>\n",
       "      <td>122.047597</td>\n",
       "      <td>128.668389</td>\n",
       "      <td>133.769875</td>\n",
       "      <td>134.747987</td>\n",
       "    </tr>\n",
       "    <tr>\n",
       "      <th>3</th>\n",
       "      <td>resnet</td>\n",
       "      <td>none</td>\n",
       "      <td>32</td>\n",
       "      <td>8</td>\n",
       "      <td>offline</td>\n",
       "      <td>10</td>\n",
       "      <td>10</td>\n",
       "      <td>180.016676</td>\n",
       "      <td>69.809955</td>\n",
       "      <td>69.875741</td>\n",
       "      <td>109.707407</td>\n",
       "      <td>123.118075</td>\n",
       "      <td>129.645654</td>\n",
       "      <td>134.984853</td>\n",
       "      <td>136.088860</td>\n",
       "    </tr>\n",
       "    <tr>\n",
       "      <th>4</th>\n",
       "      <td>resnet</td>\n",
       "      <td>none</td>\n",
       "      <td>32</td>\n",
       "      <td>16</td>\n",
       "      <td>offline</td>\n",
       "      <td>10</td>\n",
       "      <td>10</td>\n",
       "      <td>177.117117</td>\n",
       "      <td>70.435924</td>\n",
       "      <td>70.608259</td>\n",
       "      <td>110.992407</td>\n",
       "      <td>124.677720</td>\n",
       "      <td>131.476866</td>\n",
       "      <td>136.866434</td>\n",
       "      <td>138.165044</td>\n",
       "    </tr>\n",
       "    <tr>\n",
       "      <th>5</th>\n",
       "      <td>resnet</td>\n",
       "      <td>none</td>\n",
       "      <td>32</td>\n",
       "      <td>32</td>\n",
       "      <td>offline</td>\n",
       "      <td>10</td>\n",
       "      <td>10</td>\n",
       "      <td>181.329312</td>\n",
       "      <td>68.640939</td>\n",
       "      <td>68.540783</td>\n",
       "      <td>108.797648</td>\n",
       "      <td>122.307613</td>\n",
       "      <td>128.543516</td>\n",
       "      <td>134.430388</td>\n",
       "      <td>135.368005</td>\n",
       "    </tr>\n",
       "    <tr>\n",
       "      <th>6</th>\n",
       "      <td>resnet</td>\n",
       "      <td>cpumemory</td>\n",
       "      <td>32</td>\n",
       "      <td>1</td>\n",
       "      <td>offline</td>\n",
       "      <td>10</td>\n",
       "      <td>10</td>\n",
       "      <td>144.611971</td>\n",
       "      <td>85.785188</td>\n",
       "      <td>85.674065</td>\n",
       "      <td>136.301660</td>\n",
       "      <td>153.719454</td>\n",
       "      <td>162.314471</td>\n",
       "      <td>169.160969</td>\n",
       "      <td>169.902477</td>\n",
       "    </tr>\n",
       "    <tr>\n",
       "      <th>7</th>\n",
       "      <td>resnet</td>\n",
       "      <td>cpumemory</td>\n",
       "      <td>32</td>\n",
       "      <td>2</td>\n",
       "      <td>offline</td>\n",
       "      <td>10</td>\n",
       "      <td>10</td>\n",
       "      <td>189.233641</td>\n",
       "      <td>65.920884</td>\n",
       "      <td>65.966587</td>\n",
       "      <td>104.593140</td>\n",
       "      <td>117.362178</td>\n",
       "      <td>123.979503</td>\n",
       "      <td>128.961567</td>\n",
       "      <td>129.822123</td>\n",
       "    </tr>\n",
       "    <tr>\n",
       "      <th>8</th>\n",
       "      <td>resnet</td>\n",
       "      <td>cpumemory</td>\n",
       "      <td>32</td>\n",
       "      <td>4</td>\n",
       "      <td>offline</td>\n",
       "      <td>10</td>\n",
       "      <td>10</td>\n",
       "      <td>189.639913</td>\n",
       "      <td>65.524538</td>\n",
       "      <td>65.351006</td>\n",
       "      <td>104.027197</td>\n",
       "      <td>116.883408</td>\n",
       "      <td>123.307229</td>\n",
       "      <td>128.459096</td>\n",
       "      <td>129.515143</td>\n",
       "    </tr>\n",
       "    <tr>\n",
       "      <th>9</th>\n",
       "      <td>resnet</td>\n",
       "      <td>cpumemory</td>\n",
       "      <td>32</td>\n",
       "      <td>8</td>\n",
       "      <td>offline</td>\n",
       "      <td>10</td>\n",
       "      <td>10</td>\n",
       "      <td>189.539045</td>\n",
       "      <td>65.847764</td>\n",
       "      <td>65.894795</td>\n",
       "      <td>104.694668</td>\n",
       "      <td>117.370903</td>\n",
       "      <td>123.754331</td>\n",
       "      <td>128.846122</td>\n",
       "      <td>129.589350</td>\n",
       "    </tr>\n",
       "    <tr>\n",
       "      <th>10</th>\n",
       "      <td>resnet</td>\n",
       "      <td>cpumemory</td>\n",
       "      <td>32</td>\n",
       "      <td>16</td>\n",
       "      <td>offline</td>\n",
       "      <td>10</td>\n",
       "      <td>10</td>\n",
       "      <td>185.764432</td>\n",
       "      <td>66.465498</td>\n",
       "      <td>66.472675</td>\n",
       "      <td>105.322004</td>\n",
       "      <td>118.582956</td>\n",
       "      <td>124.844299</td>\n",
       "      <td>130.110592</td>\n",
       "      <td>131.499085</td>\n",
       "    </tr>\n",
       "    <tr>\n",
       "      <th>11</th>\n",
       "      <td>resnet</td>\n",
       "      <td>cpumemory</td>\n",
       "      <td>32</td>\n",
       "      <td>32</td>\n",
       "      <td>offline</td>\n",
       "      <td>10</td>\n",
       "      <td>10</td>\n",
       "      <td>185.968344</td>\n",
       "      <td>66.582462</td>\n",
       "      <td>66.222731</td>\n",
       "      <td>105.594864</td>\n",
       "      <td>118.520371</td>\n",
       "      <td>124.938943</td>\n",
       "      <td>130.312308</td>\n",
       "      <td>131.410090</td>\n",
       "    </tr>\n",
       "    <tr>\n",
       "      <th>12</th>\n",
       "      <td>resnet</td>\n",
       "      <td>cpumem</td>\n",
       "      <td>32</td>\n",
       "      <td>1</td>\n",
       "      <td>offline</td>\n",
       "      <td>10</td>\n",
       "      <td>10</td>\n",
       "      <td>146.353925</td>\n",
       "      <td>85.439940</td>\n",
       "      <td>85.519676</td>\n",
       "      <td>135.619507</td>\n",
       "      <td>152.156771</td>\n",
       "      <td>160.592660</td>\n",
       "      <td>167.219233</td>\n",
       "      <td>167.885685</td>\n",
       "    </tr>\n",
       "    <tr>\n",
       "      <th>13</th>\n",
       "      <td>resnet</td>\n",
       "      <td>cpumem</td>\n",
       "      <td>32</td>\n",
       "      <td>2</td>\n",
       "      <td>offline</td>\n",
       "      <td>10</td>\n",
       "      <td>10</td>\n",
       "      <td>189.542004</td>\n",
       "      <td>65.691013</td>\n",
       "      <td>65.698940</td>\n",
       "      <td>104.200737</td>\n",
       "      <td>117.109839</td>\n",
       "      <td>123.461040</td>\n",
       "      <td>128.522095</td>\n",
       "      <td>129.615333</td>\n",
       "    </tr>\n",
       "    <tr>\n",
       "      <th>14</th>\n",
       "      <td>resnet</td>\n",
       "      <td>cpumem</td>\n",
       "      <td>32</td>\n",
       "      <td>4</td>\n",
       "      <td>offline</td>\n",
       "      <td>10</td>\n",
       "      <td>10</td>\n",
       "      <td>189.728438</td>\n",
       "      <td>65.492648</td>\n",
       "      <td>65.379300</td>\n",
       "      <td>103.895486</td>\n",
       "      <td>116.753354</td>\n",
       "      <td>123.256996</td>\n",
       "      <td>128.348379</td>\n",
       "      <td>129.448684</td>\n",
       "    </tr>\n",
       "    <tr>\n",
       "      <th>15</th>\n",
       "      <td>resnet</td>\n",
       "      <td>cpumem</td>\n",
       "      <td>32</td>\n",
       "      <td>8</td>\n",
       "      <td>offline</td>\n",
       "      <td>10</td>\n",
       "      <td>10</td>\n",
       "      <td>189.564117</td>\n",
       "      <td>65.669392</td>\n",
       "      <td>65.615767</td>\n",
       "      <td>104.311306</td>\n",
       "      <td>116.961355</td>\n",
       "      <td>123.506586</td>\n",
       "      <td>128.498062</td>\n",
       "      <td>129.501322</td>\n",
       "    </tr>\n",
       "    <tr>\n",
       "      <th>16</th>\n",
       "      <td>resnet</td>\n",
       "      <td>cpumem</td>\n",
       "      <td>32</td>\n",
       "      <td>16</td>\n",
       "      <td>offline</td>\n",
       "      <td>10</td>\n",
       "      <td>10</td>\n",
       "      <td>187.222642</td>\n",
       "      <td>66.367407</td>\n",
       "      <td>66.497118</td>\n",
       "      <td>105.616034</td>\n",
       "      <td>118.168982</td>\n",
       "      <td>124.666454</td>\n",
       "      <td>129.671861</td>\n",
       "      <td>131.029700</td>\n",
       "    </tr>\n",
       "    <tr>\n",
       "      <th>17</th>\n",
       "      <td>resnet</td>\n",
       "      <td>cpumem</td>\n",
       "      <td>32</td>\n",
       "      <td>32</td>\n",
       "      <td>offline</td>\n",
       "      <td>10</td>\n",
       "      <td>10</td>\n",
       "      <td>185.634539</td>\n",
       "      <td>66.967433</td>\n",
       "      <td>67.215704</td>\n",
       "      <td>105.969709</td>\n",
       "      <td>118.934351</td>\n",
       "      <td>125.502473</td>\n",
       "      <td>130.679135</td>\n",
       "      <td>131.569601</td>\n",
       "    </tr>\n",
       "  </tbody>\n",
       "</table>\n",
       "</div>"
      ],
      "text/plain": [
       "   benchmark     k8senv  sbatch  numctn cscenario  cbatch  reps         qps  \\\n",
       "0     resnet       none      32       1   offline      10    10  145.105535   \n",
       "1     resnet       none      32       2   offline      10    10  179.289124   \n",
       "2     resnet       none      32       4   offline      10    10  182.274241   \n",
       "3     resnet       none      32       8   offline      10    10  180.016676   \n",
       "4     resnet       none      32      16   offline      10    10  177.117117   \n",
       "5     resnet       none      32      32   offline      10    10  181.329312   \n",
       "6     resnet  cpumemory      32       1   offline      10    10  144.611971   \n",
       "7     resnet  cpumemory      32       2   offline      10    10  189.233641   \n",
       "8     resnet  cpumemory      32       4   offline      10    10  189.639913   \n",
       "9     resnet  cpumemory      32       8   offline      10    10  189.539045   \n",
       "10    resnet  cpumemory      32      16   offline      10    10  185.764432   \n",
       "11    resnet  cpumemory      32      32   offline      10    10  185.968344   \n",
       "12    resnet     cpumem      32       1   offline      10    10  146.353925   \n",
       "13    resnet     cpumem      32       2   offline      10    10  189.542004   \n",
       "14    resnet     cpumem      32       4   offline      10    10  189.728438   \n",
       "15    resnet     cpumem      32       8   offline      10    10  189.564117   \n",
       "16    resnet     cpumem      32      16   offline      10    10  187.222642   \n",
       "17    resnet     cpumem      32      32   offline      10    10  185.634539   \n",
       "\n",
       "         mean        p50         p80         p90         p95         p99  \\\n",
       "0   86.047223  86.040832  136.817413  153.585346  162.045532  168.788954   \n",
       "1   71.823908  72.170672  111.525782  124.701304  131.445730  136.548346   \n",
       "2   69.342681  69.235692  108.922794  122.047597  128.668389  133.769875   \n",
       "3   69.809955  69.875741  109.707407  123.118075  129.645654  134.984853   \n",
       "4   70.435924  70.608259  110.992407  124.677720  131.476866  136.866434   \n",
       "5   68.640939  68.540783  108.797648  122.307613  128.543516  134.430388   \n",
       "6   85.785188  85.674065  136.301660  153.719454  162.314471  169.160969   \n",
       "7   65.920884  65.966587  104.593140  117.362178  123.979503  128.961567   \n",
       "8   65.524538  65.351006  104.027197  116.883408  123.307229  128.459096   \n",
       "9   65.847764  65.894795  104.694668  117.370903  123.754331  128.846122   \n",
       "10  66.465498  66.472675  105.322004  118.582956  124.844299  130.110592   \n",
       "11  66.582462  66.222731  105.594864  118.520371  124.938943  130.312308   \n",
       "12  85.439940  85.519676  135.619507  152.156771  160.592660  167.219233   \n",
       "13  65.691013  65.698940  104.200737  117.109839  123.461040  128.522095   \n",
       "14  65.492648  65.379300  103.895486  116.753354  123.256996  128.348379   \n",
       "15  65.669392  65.615767  104.311306  116.961355  123.506586  128.498062   \n",
       "16  66.367407  66.497118  105.616034  118.168982  124.666454  129.671861   \n",
       "17  66.967433  67.215704  105.969709  118.934351  125.502473  130.679135   \n",
       "\n",
       "          p999  \n",
       "0   169.333315  \n",
       "1   137.013168  \n",
       "2   134.747987  \n",
       "3   136.088860  \n",
       "4   138.165044  \n",
       "5   135.368005  \n",
       "6   169.902477  \n",
       "7   129.822123  \n",
       "8   129.515143  \n",
       "9   129.589350  \n",
       "10  131.499085  \n",
       "11  131.410090  \n",
       "12  167.885685  \n",
       "13  129.615333  \n",
       "14  129.448684  \n",
       "15  129.501322  \n",
       "16  131.029700  \n",
       "17  131.569601  "
      ]
     },
     "execution_count": 22,
     "metadata": {},
     "output_type": "execute_result"
    }
   ],
   "source": [
    "import pandas as pd\n",
    "import glob\n",
    "# import plotly.plotly as py\n",
    "import plotly.graph_objs as go\n",
    "\n",
    "from plotly import tools\n",
    "from plotly.offline import init_notebook_mode, iplot\n",
    "init_notebook_mode(connected=True) \n",
    "\n",
    "import numpy as np\n",
    "import matplotlib.pyplot as plt\n",
    "# include if using a Jupyter notebook\n",
    "%matplotlib inline\n",
    "dfg = df\n",
    "dfg"
   ]
  },
  {
   "cell_type": "code",
   "execution_count": 23,
   "id": "1147c970",
   "metadata": {
    "scrolled": false
   },
   "outputs": [
    {
     "data": {
      "application/vnd.plotly.v1+json": {
       "config": {
        "plotlyServerURL": "https://plot.ly"
       },
       "data": [
        {
         "mode": "markers",
         "name": "ctn1",
         "opacity": 0.7,
         "type": "scatter",
         "x": [
          "none",
          "cpumem",
          "cpu"
         ],
         "y": [
          145.1055353626508,
          144.61197060038137,
          146.353924837078
         ]
        },
        {
         "mode": "markers",
         "name": "ctn2",
         "opacity": 0.7,
         "type": "scatter",
         "x": [
          "none",
          "cpumem",
          "cpu"
         ],
         "y": [
          179.289124313002,
          189.2336405914052,
          189.542003756454
         ]
        },
        {
         "mode": "markers",
         "name": "ctn4",
         "opacity": 0.7,
         "type": "scatter",
         "x": [
          "none",
          "cpumem",
          "cpu"
         ],
         "y": [
          182.27424064672496,
          189.63991309009623,
          189.72843845499605
         ]
        },
        {
         "mode": "markers",
         "name": "ctn8",
         "opacity": 0.7,
         "type": "scatter",
         "x": [
          "none",
          "cpumem",
          "cpu"
         ],
         "y": [
          180.01667570662994,
          189.5390454822629,
          189.56411741083963
         ]
        },
        {
         "mode": "markers",
         "name": "ctn16",
         "opacity": 0.7,
         "type": "scatter",
         "x": [
          "none",
          "cpumem",
          "cpu"
         ],
         "y": [
          177.11711680169992,
          185.76443179006023,
          187.2226419589576
         ]
        },
        {
         "mode": "markers",
         "name": "ctn32",
         "opacity": 0.7,
         "type": "scatter",
         "x": [
          "none",
          "cpumem",
          "cpu"
         ],
         "y": [
          181.32931245011,
          185.9683440066168,
          185.63453861989493
         ]
        }
       ],
       "layout": {
        "bargap": 0.15,
        "bargroupgap": 0.08,
        "barmode": "group",
        "height": 460,
        "legend": {
         "bgcolor": "rgba(255, 255, 255, 0)",
         "bordercolor": "rgba(255, 255, 255, 0)",
         "font": {
          "size": 28
         },
         "orientation": "h",
         "x": 1,
         "y": 1
        },
        "template": {
         "data": {
          "scatter": [
           {
            "type": "scatter"
           }
          ]
         }
        },
        "title": {
         "text": "exp14= inter32,intra32 -> inter1,intra1; restapi=32",
         "x": 0.5,
         "xanchor": "center",
         "y": 0.85,
         "yanchor": "top"
        },
        "width": 1000,
        "xaxis": {
         "tickfont": {
          "color": "rgb(107, 107, 107)",
          "size": 10
         },
         "tickvals": [
          "none",
          "cpumem",
          "cpu"
         ],
         "title": {
          "font": {
           "color": "rgb(107, 107, 107)",
           "size": 10
          },
          "text": "scenarios"
         }
        },
        "yaxis": {
         "automargin": true,
         "tickfont": {
          "color": "rgb(107, 107, 107)",
          "size": 25
         },
         "title": {
          "font": {
           "color": "rgb(107, 107, 107)",
           "size": 25
          },
          "text": "qpsbatch10"
         }
        }
       }
      },
      "text/html": [
       "<div>                            <div id=\"cbbf7df0-3442-4ace-adba-8c7c07db910e\" class=\"plotly-graph-div\" style=\"height:460px; width:1000px;\"></div>            <script type=\"text/javascript\">                require([\"plotly\"], function(Plotly) {                    window.PLOTLYENV=window.PLOTLYENV || {};                                    if (document.getElementById(\"cbbf7df0-3442-4ace-adba-8c7c07db910e\")) {                    Plotly.newPlot(                        \"cbbf7df0-3442-4ace-adba-8c7c07db910e\",                        [{\"mode\": \"markers\", \"name\": \"ctn1\", \"opacity\": 0.7, \"type\": \"scatter\", \"x\": [\"none\", \"cpumem\", \"cpu\"], \"y\": [145.1055353626508, 144.61197060038137, 146.353924837078]}, {\"mode\": \"markers\", \"name\": \"ctn2\", \"opacity\": 0.7, \"type\": \"scatter\", \"x\": [\"none\", \"cpumem\", \"cpu\"], \"y\": [179.289124313002, 189.2336405914052, 189.542003756454]}, {\"mode\": \"markers\", \"name\": \"ctn4\", \"opacity\": 0.7, \"type\": \"scatter\", \"x\": [\"none\", \"cpumem\", \"cpu\"], \"y\": [182.27424064672496, 189.63991309009623, 189.72843845499605]}, {\"mode\": \"markers\", \"name\": \"ctn8\", \"opacity\": 0.7, \"type\": \"scatter\", \"x\": [\"none\", \"cpumem\", \"cpu\"], \"y\": [180.01667570662994, 189.5390454822629, 189.56411741083963]}, {\"mode\": \"markers\", \"name\": \"ctn16\", \"opacity\": 0.7, \"type\": \"scatter\", \"x\": [\"none\", \"cpumem\", \"cpu\"], \"y\": [177.11711680169992, 185.76443179006023, 187.2226419589576]}, {\"mode\": \"markers\", \"name\": \"ctn32\", \"opacity\": 0.7, \"type\": \"scatter\", \"x\": [\"none\", \"cpumem\", \"cpu\"], \"y\": [181.32931245011, 185.9683440066168, 185.63453861989493]}],                        {\"bargap\": 0.15, \"bargroupgap\": 0.08, \"barmode\": \"group\", \"height\": 460, \"legend\": {\"bgcolor\": \"rgba(255, 255, 255, 0)\", \"bordercolor\": \"rgba(255, 255, 255, 0)\", \"font\": {\"size\": 28}, \"orientation\": \"h\", \"x\": 1.0, \"y\": 1.0}, \"template\": {\"data\": {\"scatter\": [{\"type\": \"scatter\"}]}}, \"title\": {\"text\": \"exp14= inter32,intra32 -> inter1,intra1; restapi=32\", \"x\": 0.5, \"xanchor\": \"center\", \"y\": 0.85, \"yanchor\": \"top\"}, \"width\": 1000, \"xaxis\": {\"tickfont\": {\"color\": \"rgb(107, 107, 107)\", \"size\": 10}, \"tickvals\": [\"none\", \"cpumem\", \"cpu\"], \"title\": {\"font\": {\"color\": \"rgb(107, 107, 107)\", \"size\": 10}, \"text\": \"scenarios\"}}, \"yaxis\": {\"automargin\": true, \"tickfont\": {\"color\": \"rgb(107, 107, 107)\", \"size\": 25}, \"title\": {\"font\": {\"color\": \"rgb(107, 107, 107)\", \"size\": 25}, \"text\": \"qpsbatch10\"}}},                        {\"responsive\": true}                    ).then(function(){\n",
       "                            \n",
       "var gd = document.getElementById('cbbf7df0-3442-4ace-adba-8c7c07db910e');\n",
       "var x = new MutationObserver(function (mutations, observer) {{\n",
       "        var display = window.getComputedStyle(gd).display;\n",
       "        if (!display || display === 'none') {{\n",
       "            console.log([gd, 'removed!']);\n",
       "            Plotly.purge(gd);\n",
       "            observer.disconnect();\n",
       "        }}\n",
       "}});\n",
       "\n",
       "// Listen for the removal of the full notebook cells\n",
       "var notebookContainer = gd.closest('#notebook-container');\n",
       "if (notebookContainer) {{\n",
       "    x.observe(notebookContainer, {childList: true});\n",
       "}}\n",
       "\n",
       "// Listen for the clearing of the current output cell\n",
       "var outputEl = gd.closest('.output');\n",
       "if (outputEl) {{\n",
       "    x.observe(outputEl, {childList: true});\n",
       "}}\n",
       "\n",
       "                        })                };                });            </script>        </div>"
      ]
     },
     "metadata": {},
     "output_type": "display_data"
    },
    {
     "data": {
      "application/vnd.plotly.v1+json": {
       "config": {
        "plotlyServerURL": "https://plot.ly"
       },
       "data": [
        {
         "mode": "markers",
         "name": "ctn1",
         "opacity": 0.7,
         "type": "scatter",
         "x": [
          "none",
          "cpumem",
          "cpu"
         ],
         "y": [
          86.04722305482886,
          85.78518805746153,
          85.43993972973811
         ]
        },
        {
         "mode": "markers",
         "name": "ctn2",
         "opacity": 0.7,
         "type": "scatter",
         "x": [
          "none",
          "cpumem",
          "cpu"
         ],
         "y": [
          71.8239077173221,
          65.92088379972616,
          65.69101313545882
         ]
        },
        {
         "mode": "markers",
         "name": "ctn4",
         "opacity": 0.7,
         "type": "scatter",
         "x": [
          "none",
          "cpumem",
          "cpu"
         ],
         "y": [
          69.34268053704191,
          65.52453809078621,
          65.49264847267187
         ]
        },
        {
         "mode": "markers",
         "name": "ctn8",
         "opacity": 0.7,
         "type": "scatter",
         "x": [
          "none",
          "cpumem",
          "cpu"
         ],
         "y": [
          69.80995455767082,
          65.84776367059213,
          65.66939207167188
         ]
        },
        {
         "mode": "markers",
         "name": "ctn16",
         "opacity": 0.7,
         "type": "scatter",
         "x": [
          "none",
          "cpumem",
          "cpu"
         ],
         "y": [
          70.43592377513899,
          66.46549795265372,
          66.36740747382366
         ]
        },
        {
         "mode": "markers",
         "name": "ctn32",
         "opacity": 0.7,
         "type": "scatter",
         "x": [
          "none",
          "cpumem",
          "cpu"
         ],
         "y": [
          68.64093889657023,
          66.58246238244018,
          66.9674325448068
         ]
        }
       ],
       "layout": {
        "bargap": 0.15,
        "bargroupgap": 0.08,
        "barmode": "group",
        "height": 460,
        "legend": {
         "bgcolor": "rgba(255, 255, 255, 0)",
         "bordercolor": "rgba(255, 255, 255, 0)",
         "font": {
          "size": 28
         },
         "orientation": "h",
         "x": 1,
         "y": 1
        },
        "template": {
         "data": {
          "scatter": [
           {
            "type": "scatter"
           }
          ]
         }
        },
        "title": {
         "text": "exp14= inter32,intra32 -> inter1,intra1; restapi=32",
         "x": 0.5,
         "xanchor": "center",
         "y": 0.85,
         "yanchor": "top"
        },
        "width": 1000,
        "xaxis": {
         "tickfont": {
          "color": "rgb(107, 107, 107)",
          "size": 10
         },
         "tickvals": [
          "none",
          "cpumem",
          "cpu"
         ],
         "title": {
          "font": {
           "color": "rgb(107, 107, 107)",
           "size": 10
          },
          "text": "scenarios"
         }
        },
        "yaxis": {
         "automargin": true,
         "tickfont": {
          "color": "rgb(107, 107, 107)",
          "size": 25
         },
         "title": {
          "font": {
           "color": "rgb(107, 107, 107)",
           "size": 25
          },
          "text": "meanbatch10"
         }
        }
       }
      },
      "text/html": [
       "<div>                            <div id=\"7d95b290-ef0d-46c3-a553-500a7776fd3e\" class=\"plotly-graph-div\" style=\"height:460px; width:1000px;\"></div>            <script type=\"text/javascript\">                require([\"plotly\"], function(Plotly) {                    window.PLOTLYENV=window.PLOTLYENV || {};                                    if (document.getElementById(\"7d95b290-ef0d-46c3-a553-500a7776fd3e\")) {                    Plotly.newPlot(                        \"7d95b290-ef0d-46c3-a553-500a7776fd3e\",                        [{\"mode\": \"markers\", \"name\": \"ctn1\", \"opacity\": 0.7, \"type\": \"scatter\", \"x\": [\"none\", \"cpumem\", \"cpu\"], \"y\": [86.04722305482886, 85.78518805746153, 85.43993972973811]}, {\"mode\": \"markers\", \"name\": \"ctn2\", \"opacity\": 0.7, \"type\": \"scatter\", \"x\": [\"none\", \"cpumem\", \"cpu\"], \"y\": [71.8239077173221, 65.92088379972616, 65.69101313545882]}, {\"mode\": \"markers\", \"name\": \"ctn4\", \"opacity\": 0.7, \"type\": \"scatter\", \"x\": [\"none\", \"cpumem\", \"cpu\"], \"y\": [69.34268053704191, 65.52453809078621, 65.49264847267187]}, {\"mode\": \"markers\", \"name\": \"ctn8\", \"opacity\": 0.7, \"type\": \"scatter\", \"x\": [\"none\", \"cpumem\", \"cpu\"], \"y\": [69.80995455767082, 65.84776367059213, 65.66939207167188]}, {\"mode\": \"markers\", \"name\": \"ctn16\", \"opacity\": 0.7, \"type\": \"scatter\", \"x\": [\"none\", \"cpumem\", \"cpu\"], \"y\": [70.43592377513899, 66.46549795265372, 66.36740747382366]}, {\"mode\": \"markers\", \"name\": \"ctn32\", \"opacity\": 0.7, \"type\": \"scatter\", \"x\": [\"none\", \"cpumem\", \"cpu\"], \"y\": [68.64093889657023, 66.58246238244018, 66.9674325448068]}],                        {\"bargap\": 0.15, \"bargroupgap\": 0.08, \"barmode\": \"group\", \"height\": 460, \"legend\": {\"bgcolor\": \"rgba(255, 255, 255, 0)\", \"bordercolor\": \"rgba(255, 255, 255, 0)\", \"font\": {\"size\": 28}, \"orientation\": \"h\", \"x\": 1.0, \"y\": 1.0}, \"template\": {\"data\": {\"scatter\": [{\"type\": \"scatter\"}]}}, \"title\": {\"text\": \"exp14= inter32,intra32 -> inter1,intra1; restapi=32\", \"x\": 0.5, \"xanchor\": \"center\", \"y\": 0.85, \"yanchor\": \"top\"}, \"width\": 1000, \"xaxis\": {\"tickfont\": {\"color\": \"rgb(107, 107, 107)\", \"size\": 10}, \"tickvals\": [\"none\", \"cpumem\", \"cpu\"], \"title\": {\"font\": {\"color\": \"rgb(107, 107, 107)\", \"size\": 10}, \"text\": \"scenarios\"}}, \"yaxis\": {\"automargin\": true, \"tickfont\": {\"color\": \"rgb(107, 107, 107)\", \"size\": 25}, \"title\": {\"font\": {\"color\": \"rgb(107, 107, 107)\", \"size\": 25}, \"text\": \"meanbatch10\"}}},                        {\"responsive\": true}                    ).then(function(){\n",
       "                            \n",
       "var gd = document.getElementById('7d95b290-ef0d-46c3-a553-500a7776fd3e');\n",
       "var x = new MutationObserver(function (mutations, observer) {{\n",
       "        var display = window.getComputedStyle(gd).display;\n",
       "        if (!display || display === 'none') {{\n",
       "            console.log([gd, 'removed!']);\n",
       "            Plotly.purge(gd);\n",
       "            observer.disconnect();\n",
       "        }}\n",
       "}});\n",
       "\n",
       "// Listen for the removal of the full notebook cells\n",
       "var notebookContainer = gd.closest('#notebook-container');\n",
       "if (notebookContainer) {{\n",
       "    x.observe(notebookContainer, {childList: true});\n",
       "}}\n",
       "\n",
       "// Listen for the clearing of the current output cell\n",
       "var outputEl = gd.closest('.output');\n",
       "if (outputEl) {{\n",
       "    x.observe(outputEl, {childList: true});\n",
       "}}\n",
       "\n",
       "                        })                };                });            </script>        </div>"
      ]
     },
     "metadata": {},
     "output_type": "display_data"
    },
    {
     "data": {
      "application/vnd.plotly.v1+json": {
       "config": {
        "plotlyServerURL": "https://plot.ly"
       },
       "data": [
        {
         "mode": "markers",
         "name": "ctn1",
         "opacity": 0.7,
         "type": "scatter",
         "x": [
          "none",
          "cpumem",
          "cpu"
         ],
         "y": [
          168.788953803,
          169.16096900924998,
          167.21923298425003
         ]
        },
        {
         "mode": "markers",
         "name": "ctn2",
         "opacity": 0.7,
         "type": "scatter",
         "x": [
          "none",
          "cpumem",
          "cpu"
         ],
         "y": [
          136.54834609425,
          128.96156727075,
          128.522094787
         ]
        },
        {
         "mode": "markers",
         "name": "ctn4",
         "opacity": 0.7,
         "type": "scatter",
         "x": [
          "none",
          "cpumem",
          "cpu"
         ],
         "y": [
          133.7698751215,
          128.45909642075,
          128.34837888375
         ]
        },
        {
         "mode": "markers",
         "name": "ctn8",
         "opacity": 0.7,
         "type": "scatter",
         "x": [
          "none",
          "cpumem",
          "cpu"
         ],
         "y": [
          134.984853074,
          128.8461216175,
          128.49806176500002
         ]
        },
        {
         "mode": "markers",
         "name": "ctn16",
         "opacity": 0.7,
         "type": "scatter",
         "x": [
          "none",
          "cpumem",
          "cpu"
         ],
         "y": [
          136.86643357075002,
          130.11059188175,
          129.67186091825
         ]
        },
        {
         "mode": "markers",
         "name": "ctn32",
         "opacity": 0.7,
         "type": "scatter",
         "x": [
          "none",
          "cpumem",
          "cpu"
         ],
         "y": [
          134.43038771674998,
          130.312307631,
          130.67913464449998
         ]
        }
       ],
       "layout": {
        "bargap": 0.15,
        "bargroupgap": 0.08,
        "barmode": "group",
        "height": 460,
        "legend": {
         "bgcolor": "rgba(255, 255, 255, 0)",
         "bordercolor": "rgba(255, 255, 255, 0)",
         "font": {
          "size": 28
         },
         "orientation": "h",
         "x": 1,
         "y": 1
        },
        "template": {
         "data": {
          "scatter": [
           {
            "type": "scatter"
           }
          ]
         }
        },
        "title": {
         "text": "exp14= inter32,intra32 -> inter1,intra1; restapi=32",
         "x": 0.5,
         "xanchor": "center",
         "y": 0.85,
         "yanchor": "top"
        },
        "width": 1000,
        "xaxis": {
         "tickfont": {
          "color": "rgb(107, 107, 107)",
          "size": 10
         },
         "tickvals": [
          "none",
          "cpumem",
          "cpu"
         ],
         "title": {
          "font": {
           "color": "rgb(107, 107, 107)",
           "size": 10
          },
          "text": "scenarios"
         }
        },
        "yaxis": {
         "automargin": true,
         "tickfont": {
          "color": "rgb(107, 107, 107)",
          "size": 25
         },
         "title": {
          "font": {
           "color": "rgb(107, 107, 107)",
           "size": 25
          },
          "text": "p99batch10"
         }
        }
       }
      },
      "text/html": [
       "<div>                            <div id=\"6a6ec69e-1ad6-4311-aea5-3535a493bae6\" class=\"plotly-graph-div\" style=\"height:460px; width:1000px;\"></div>            <script type=\"text/javascript\">                require([\"plotly\"], function(Plotly) {                    window.PLOTLYENV=window.PLOTLYENV || {};                                    if (document.getElementById(\"6a6ec69e-1ad6-4311-aea5-3535a493bae6\")) {                    Plotly.newPlot(                        \"6a6ec69e-1ad6-4311-aea5-3535a493bae6\",                        [{\"mode\": \"markers\", \"name\": \"ctn1\", \"opacity\": 0.7, \"type\": \"scatter\", \"x\": [\"none\", \"cpumem\", \"cpu\"], \"y\": [168.788953803, 169.16096900924998, 167.21923298425003]}, {\"mode\": \"markers\", \"name\": \"ctn2\", \"opacity\": 0.7, \"type\": \"scatter\", \"x\": [\"none\", \"cpumem\", \"cpu\"], \"y\": [136.54834609425, 128.96156727075, 128.522094787]}, {\"mode\": \"markers\", \"name\": \"ctn4\", \"opacity\": 0.7, \"type\": \"scatter\", \"x\": [\"none\", \"cpumem\", \"cpu\"], \"y\": [133.7698751215, 128.45909642075, 128.34837888375]}, {\"mode\": \"markers\", \"name\": \"ctn8\", \"opacity\": 0.7, \"type\": \"scatter\", \"x\": [\"none\", \"cpumem\", \"cpu\"], \"y\": [134.984853074, 128.8461216175, 128.49806176500002]}, {\"mode\": \"markers\", \"name\": \"ctn16\", \"opacity\": 0.7, \"type\": \"scatter\", \"x\": [\"none\", \"cpumem\", \"cpu\"], \"y\": [136.86643357075002, 130.11059188175, 129.67186091825]}, {\"mode\": \"markers\", \"name\": \"ctn32\", \"opacity\": 0.7, \"type\": \"scatter\", \"x\": [\"none\", \"cpumem\", \"cpu\"], \"y\": [134.43038771674998, 130.312307631, 130.67913464449998]}],                        {\"bargap\": 0.15, \"bargroupgap\": 0.08, \"barmode\": \"group\", \"height\": 460, \"legend\": {\"bgcolor\": \"rgba(255, 255, 255, 0)\", \"bordercolor\": \"rgba(255, 255, 255, 0)\", \"font\": {\"size\": 28}, \"orientation\": \"h\", \"x\": 1.0, \"y\": 1.0}, \"template\": {\"data\": {\"scatter\": [{\"type\": \"scatter\"}]}}, \"title\": {\"text\": \"exp14= inter32,intra32 -> inter1,intra1; restapi=32\", \"x\": 0.5, \"xanchor\": \"center\", \"y\": 0.85, \"yanchor\": \"top\"}, \"width\": 1000, \"xaxis\": {\"tickfont\": {\"color\": \"rgb(107, 107, 107)\", \"size\": 10}, \"tickvals\": [\"none\", \"cpumem\", \"cpu\"], \"title\": {\"font\": {\"color\": \"rgb(107, 107, 107)\", \"size\": 10}, \"text\": \"scenarios\"}}, \"yaxis\": {\"automargin\": true, \"tickfont\": {\"color\": \"rgb(107, 107, 107)\", \"size\": 25}, \"title\": {\"font\": {\"color\": \"rgb(107, 107, 107)\", \"size\": 25}, \"text\": \"p99batch10\"}}},                        {\"responsive\": true}                    ).then(function(){\n",
       "                            \n",
       "var gd = document.getElementById('6a6ec69e-1ad6-4311-aea5-3535a493bae6');\n",
       "var x = new MutationObserver(function (mutations, observer) {{\n",
       "        var display = window.getComputedStyle(gd).display;\n",
       "        if (!display || display === 'none') {{\n",
       "            console.log([gd, 'removed!']);\n",
       "            Plotly.purge(gd);\n",
       "            observer.disconnect();\n",
       "        }}\n",
       "}});\n",
       "\n",
       "// Listen for the removal of the full notebook cells\n",
       "var notebookContainer = gd.closest('#notebook-container');\n",
       "if (notebookContainer) {{\n",
       "    x.observe(notebookContainer, {childList: true});\n",
       "}}\n",
       "\n",
       "// Listen for the clearing of the current output cell\n",
       "var outputEl = gd.closest('.output');\n",
       "if (outputEl) {{\n",
       "    x.observe(outputEl, {childList: true});\n",
       "}}\n",
       "\n",
       "                        })                };                });            </script>        </div>"
      ]
     },
     "metadata": {},
     "output_type": "display_data"
    }
   ],
   "source": [
    "import matplotlib\n",
    "import matplotlib.pyplot as plt\n",
    "import numpy as np\n",
    "from svglib.svglib import svg2rlg\n",
    "from reportlab.graphics import renderPDF\n",
    "from reportlab.pdfgen import canvas\n",
    "\n",
    "from numpy import percentile, mean, std\n",
    "import plotly.graph_objects as go\n",
    "\n",
    "from plotly.offline import init_notebook_mode, iplot\n",
    "\n",
    "import plotly.io as pio\n",
    "pio.templates.default = \"none\"\n",
    "# pio.templates.default = \"simple_white\"\n",
    "\n",
    "import plotly.graph_objects as go\n",
    "from plotly.subplots import make_subplots\n",
    "import pandas as pd\n",
    "# import plotly.express as px\n",
    "\n",
    "for x in ['qps','mean','p99']:\n",
    "    for cbatch in [10]:\n",
    "        for model_name in ['resnet']:\n",
    "            list_traces = []\n",
    "            for numctn in [1,2,4,8,16,32]: \n",
    "                dfg_bench = dfg[(dfg['benchmark']== model_name)  & (dfg['cbatch']==cbatch) & (dfg['numctn']==numctn) &\\\n",
    "                            ((dfg['k8senv']=='none') |\\\n",
    "                             (dfg['k8senv']=='cpumem')| (dfg['k8senv']=='cpumemory'))]\n",
    "#                 print(dfg_bench)\n",
    "\n",
    "\n",
    "                #data\n",
    "                trace = go.Scatter(\n",
    "                    name=\"ctn\"+str(numctn),\n",
    "                    x=[ 'none','cpumem','cpu'],\n",
    "                    y= dfg_bench[x].values.tolist(),\n",
    "        #             error_y = dict(type='data', array=df1_bench['model_time_std'].values.tolist()),\n",
    "                    opacity=0.7,\n",
    "                    mode='markers'\n",
    "                )\n",
    "                list_traces.append(trace)\n",
    "\n",
    "\n",
    "\n",
    "            #layout\n",
    "            layout = go.Layout(\n",
    "                title={\n",
    "                    'text': \"exp14= inter32,intra32 -> inter1,intra1; restapi=32\" ,\n",
    "                    'y':0.85,\n",
    "                    'x':0.5,\n",
    "                    'xanchor': 'center',\n",
    "                    'yanchor': 'top'},\n",
    "                width=1000,\n",
    "                height=460,\n",
    "                xaxis=dict(\n",
    "                    title= \"scenarios\",\n",
    "                    tickvals=[ 'none','cpumem','cpu'],\n",
    "                    titlefont=dict(\n",
    "                        size=10,\n",
    "                        color='rgb(107, 107, 107)'\n",
    "                    ),\n",
    "                    tickfont=dict(\n",
    "                        size=10,\n",
    "                        color='rgb(107, 107, 107)'\n",
    "                    )\n",
    "                ),\n",
    "                yaxis=dict(\n",
    "                    title= x+\"batch\"+str(cbatch),\n",
    "                    automargin=True,\n",
    "                    titlefont=dict(\n",
    "                        size=25,\n",
    "                        color='rgb(107, 107, 107)'\n",
    "                    ),\n",
    "                    tickfont=dict(\n",
    "                        size=25,\n",
    "                        color='rgb(107, 107, 107)'\n",
    "                    ),    \n",
    "                ),\n",
    "                legend=dict(\n",
    "                    x=1.0,\n",
    "                    y=1.0,\n",
    "                    bgcolor='rgba(255, 255, 255, 0)',\n",
    "                    bordercolor='rgba(255, 255, 255, 0)',\n",
    "                    font = dict( size = 28)\n",
    "                ),\n",
    "                barmode='group',\n",
    "                bargap=0.15,\n",
    "                bargroupgap=0.08\n",
    "        #         legend_orientation=\"h\"\n",
    "            )\n",
    "\n",
    "        data = list_traces\n",
    "        fig = go.Figure(data=data, layout=layout)\n",
    "        fig.update_layout(legend_orientation=\"h\")\n",
    "        fig.show()    \n",
    "\n",
    "    #     fig.write_image(path + model_name + k8senv +'.pdf')"
   ]
  },
  {
   "cell_type": "code",
   "execution_count": null,
   "id": "4232f1de",
   "metadata": {},
   "outputs": [],
   "source": []
  },
  {
   "cell_type": "code",
   "execution_count": null,
   "id": "41a87e54",
   "metadata": {},
   "outputs": [],
   "source": []
  },
  {
   "cell_type": "code",
   "execution_count": null,
   "id": "e58b2c83",
   "metadata": {},
   "outputs": [],
   "source": []
  },
  {
   "cell_type": "code",
   "execution_count": null,
   "id": "ae9e270b",
   "metadata": {},
   "outputs": [],
   "source": []
  }
 ],
 "metadata": {
  "kernelspec": {
   "display_name": "Python 3",
   "language": "python",
   "name": "python3"
  },
  "language_info": {
   "codemirror_mode": {
    "name": "ipython",
    "version": 3
   },
   "file_extension": ".py",
   "mimetype": "text/x-python",
   "name": "python",
   "nbconvert_exporter": "python",
   "pygments_lexer": "ipython3",
   "version": "3.8.5"
  }
 },
 "nbformat": 4,
 "nbformat_minor": 5
}
