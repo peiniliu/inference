{
 "cells": [
  {
   "cell_type": "code",
   "execution_count": 1,
   "id": "de0246d4",
   "metadata": {},
   "outputs": [
    {
     "data": {
      "text/html": [
       "        <script type=\"text/javascript\">\n",
       "        window.PlotlyConfig = {MathJaxConfig: 'local'};\n",
       "        if (window.MathJax) {MathJax.Hub.Config({SVG: {font: \"STIX-Web\"}});}\n",
       "        if (typeof require !== 'undefined') {\n",
       "        require.undef(\"plotly\");\n",
       "        requirejs.config({\n",
       "            paths: {\n",
       "                'plotly': ['https://cdn.plot.ly/plotly-latest.min']\n",
       "            }\n",
       "        });\n",
       "        require(['plotly'], function(Plotly) {\n",
       "            window._Plotly = Plotly;\n",
       "        });\n",
       "        }\n",
       "        </script>\n",
       "        "
      ]
     },
     "metadata": {},
     "output_type": "display_data"
    },
    {
     "data": {
      "text/html": [
       "<div>\n",
       "<style scoped>\n",
       "    .dataframe tbody tr th:only-of-type {\n",
       "        vertical-align: middle;\n",
       "    }\n",
       "\n",
       "    .dataframe tbody tr th {\n",
       "        vertical-align: top;\n",
       "    }\n",
       "\n",
       "    .dataframe thead th {\n",
       "        text-align: right;\n",
       "    }\n",
       "</style>\n",
       "<table border=\"1\" class=\"dataframe\">\n",
       "  <thead>\n",
       "    <tr style=\"text-align: right;\">\n",
       "      <th></th>\n",
       "      <th>benchmark</th>\n",
       "      <th>k8senv</th>\n",
       "      <th>sbatch</th>\n",
       "      <th>numctn</th>\n",
       "      <th>cscenario</th>\n",
       "      <th>cbatch</th>\n",
       "      <th>reps</th>\n",
       "      <th>qps</th>\n",
       "      <th>mean</th>\n",
       "      <th>p50</th>\n",
       "      <th>p80</th>\n",
       "      <th>p90</th>\n",
       "      <th>p95</th>\n",
       "      <th>p99</th>\n",
       "      <th>p999</th>\n",
       "    </tr>\n",
       "  </thead>\n",
       "  <tbody>\n",
       "    <tr>\n",
       "      <th>0</th>\n",
       "      <td>resnet</td>\n",
       "      <td>none</td>\n",
       "      <td>1</td>\n",
       "      <td>1</td>\n",
       "      <td>offline</td>\n",
       "      <td>1</td>\n",
       "      <td>10</td>\n",
       "      <td>9.460323</td>\n",
       "      <td>1298.794732</td>\n",
       "      <td>1298.691618</td>\n",
       "      <td>2076.336847</td>\n",
       "      <td>2337.875394</td>\n",
       "      <td>2467.432087</td>\n",
       "      <td>2571.341324</td>\n",
       "      <td>2592.541989</td>\n",
       "    </tr>\n",
       "    <tr>\n",
       "      <th>1</th>\n",
       "      <td>resnet</td>\n",
       "      <td>none</td>\n",
       "      <td>1</td>\n",
       "      <td>1</td>\n",
       "      <td>offline</td>\n",
       "      <td>2</td>\n",
       "      <td>10</td>\n",
       "      <td>10.829275</td>\n",
       "      <td>1137.127147</td>\n",
       "      <td>1136.129638</td>\n",
       "      <td>1815.254758</td>\n",
       "      <td>2043.636648</td>\n",
       "      <td>2157.039447</td>\n",
       "      <td>2248.630086</td>\n",
       "      <td>2263.845699</td>\n",
       "    </tr>\n",
       "    <tr>\n",
       "      <th>2</th>\n",
       "      <td>resnet</td>\n",
       "      <td>none</td>\n",
       "      <td>1</td>\n",
       "      <td>1</td>\n",
       "      <td>offline</td>\n",
       "      <td>4</td>\n",
       "      <td>10</td>\n",
       "      <td>11.779711</td>\n",
       "      <td>1056.558070</td>\n",
       "      <td>1056.387310</td>\n",
       "      <td>1680.820557</td>\n",
       "      <td>1887.279452</td>\n",
       "      <td>1990.957671</td>\n",
       "      <td>2072.954834</td>\n",
       "      <td>2081.341039</td>\n",
       "    </tr>\n",
       "    <tr>\n",
       "      <th>3</th>\n",
       "      <td>resnet</td>\n",
       "      <td>none</td>\n",
       "      <td>1</td>\n",
       "      <td>1</td>\n",
       "      <td>offline</td>\n",
       "      <td>8</td>\n",
       "      <td>10</td>\n",
       "      <td>12.570170</td>\n",
       "      <td>1001.642882</td>\n",
       "      <td>1001.322000</td>\n",
       "      <td>1584.573801</td>\n",
       "      <td>1778.948475</td>\n",
       "      <td>1875.382074</td>\n",
       "      <td>1949.063195</td>\n",
       "      <td>1949.074468</td>\n",
       "    </tr>\n",
       "    <tr>\n",
       "      <th>4</th>\n",
       "      <td>resnet</td>\n",
       "      <td>none</td>\n",
       "      <td>1</td>\n",
       "      <td>1</td>\n",
       "      <td>offline</td>\n",
       "      <td>10</td>\n",
       "      <td>10</td>\n",
       "      <td>12.705023</td>\n",
       "      <td>1002.312083</td>\n",
       "      <td>1003.896919</td>\n",
       "      <td>1578.771455</td>\n",
       "      <td>1768.845686</td>\n",
       "      <td>1861.361859</td>\n",
       "      <td>1929.356117</td>\n",
       "      <td>1930.451102</td>\n",
       "    </tr>\n",
       "  </tbody>\n",
       "</table>\n",
       "</div>"
      ],
      "text/plain": [
       "  benchmark k8senv  sbatch  numctn cscenario  cbatch  reps        qps  \\\n",
       "0    resnet   none       1       1   offline       1    10   9.460323   \n",
       "1    resnet   none       1       1   offline       2    10  10.829275   \n",
       "2    resnet   none       1       1   offline       4    10  11.779711   \n",
       "3    resnet   none       1       1   offline       8    10  12.570170   \n",
       "4    resnet   none       1       1   offline      10    10  12.705023   \n",
       "\n",
       "          mean          p50          p80          p90          p95  \\\n",
       "0  1298.794732  1298.691618  2076.336847  2337.875394  2467.432087   \n",
       "1  1137.127147  1136.129638  1815.254758  2043.636648  2157.039447   \n",
       "2  1056.558070  1056.387310  1680.820557  1887.279452  1990.957671   \n",
       "3  1001.642882  1001.322000  1584.573801  1778.948475  1875.382074   \n",
       "4  1002.312083  1003.896919  1578.771455  1768.845686  1861.361859   \n",
       "\n",
       "           p99         p999  \n",
       "0  2571.341324  2592.541989  \n",
       "1  2248.630086  2263.845699  \n",
       "2  2072.954834  2081.341039  \n",
       "3  1949.063195  1949.074468  \n",
       "4  1929.356117  1930.451102  "
      ]
     },
     "execution_count": 1,
     "metadata": {},
     "output_type": "execute_result"
    }
   ],
   "source": [
    "import pandas as pd\n",
    "import glob\n",
    "# import plotly.plotly as py\n",
    "import plotly.graph_objs as go\n",
    "\n",
    "from plotly import tools\n",
    "from plotly.offline import init_notebook_mode, iplot\n",
    "init_notebook_mode(connected=True) \n",
    "\n",
    "import numpy as np\n",
    "import matplotlib.pyplot as plt\n",
    "# include if using a Jupyter notebook\n",
    "# %matplotlib inline\n",
    "\n",
    "path = \"/gpfs/bsc_home/xpliu/inference/vision/classification_and_detection/output-exp19/\"\n",
    "all_files = glob.glob(path + \"*.csv\")\n",
    "\n",
    "li = []\n",
    "\n",
    "for filename in all_files:\n",
    "    df = pd.read_csv(filename, index_col=None, header=0)\n",
    "    li.append(df)\n",
    "\n",
    "df = pd.concat(li, axis=0, ignore_index=True)\n",
    "df.head()"
   ]
  },
  {
   "cell_type": "code",
   "execution_count": 2,
   "id": "fe8c3d7f",
   "metadata": {},
   "outputs": [
    {
     "data": {
      "text/plain": [
       "252"
      ]
     },
     "execution_count": 2,
     "metadata": {},
     "output_type": "execute_result"
    }
   ],
   "source": [
    "len(df)"
   ]
  },
  {
   "cell_type": "code",
   "execution_count": 3,
   "id": "d48083a0",
   "metadata": {},
   "outputs": [
    {
     "data": {
      "text/plain": [
       "array(['resnet'], dtype=object)"
      ]
     },
     "execution_count": 3,
     "metadata": {},
     "output_type": "execute_result"
    }
   ],
   "source": [
    "df['benchmark'].unique()"
   ]
  },
  {
   "cell_type": "code",
   "execution_count": 4,
   "id": "b318f564",
   "metadata": {},
   "outputs": [
    {
     "data": {
      "text/plain": [
       "array(['none'], dtype=object)"
      ]
     },
     "execution_count": 4,
     "metadata": {},
     "output_type": "execute_result"
    }
   ],
   "source": [
    "df['k8senv'].unique()"
   ]
  },
  {
   "cell_type": "code",
   "execution_count": 5,
   "id": "a2a7701a",
   "metadata": {},
   "outputs": [
    {
     "data": {
      "text/plain": [
       "numpy.float64"
      ]
     },
     "execution_count": 5,
     "metadata": {},
     "output_type": "execute_result"
    }
   ],
   "source": [
    "type(df['qps'][0])"
   ]
  },
  {
   "cell_type": "markdown",
   "id": "53f2033c",
   "metadata": {},
   "source": [
    "# Graph"
   ]
  },
  {
   "cell_type": "code",
   "execution_count": 6,
   "id": "5786faec",
   "metadata": {},
   "outputs": [
    {
     "data": {
      "text/html": [
       "        <script type=\"text/javascript\">\n",
       "        window.PlotlyConfig = {MathJaxConfig: 'local'};\n",
       "        if (window.MathJax) {MathJax.Hub.Config({SVG: {font: \"STIX-Web\"}});}\n",
       "        if (typeof require !== 'undefined') {\n",
       "        require.undef(\"plotly\");\n",
       "        requirejs.config({\n",
       "            paths: {\n",
       "                'plotly': ['https://cdn.plot.ly/plotly-latest.min']\n",
       "            }\n",
       "        });\n",
       "        require(['plotly'], function(Plotly) {\n",
       "            window._Plotly = Plotly;\n",
       "        });\n",
       "        }\n",
       "        </script>\n",
       "        "
      ]
     },
     "metadata": {},
     "output_type": "display_data"
    },
    {
     "data": {
      "text/html": [
       "<div>\n",
       "<style scoped>\n",
       "    .dataframe tbody tr th:only-of-type {\n",
       "        vertical-align: middle;\n",
       "    }\n",
       "\n",
       "    .dataframe tbody tr th {\n",
       "        vertical-align: top;\n",
       "    }\n",
       "\n",
       "    .dataframe thead th {\n",
       "        text-align: right;\n",
       "    }\n",
       "</style>\n",
       "<table border=\"1\" class=\"dataframe\">\n",
       "  <thead>\n",
       "    <tr style=\"text-align: right;\">\n",
       "      <th></th>\n",
       "      <th>benchmark</th>\n",
       "      <th>k8senv</th>\n",
       "      <th>sbatch</th>\n",
       "      <th>numctn</th>\n",
       "      <th>cscenario</th>\n",
       "      <th>cbatch</th>\n",
       "      <th>reps</th>\n",
       "      <th>qps</th>\n",
       "      <th>mean</th>\n",
       "      <th>p50</th>\n",
       "      <th>p80</th>\n",
       "      <th>p90</th>\n",
       "      <th>p95</th>\n",
       "      <th>p99</th>\n",
       "      <th>p999</th>\n",
       "    </tr>\n",
       "  </thead>\n",
       "  <tbody>\n",
       "    <tr>\n",
       "      <th>0</th>\n",
       "      <td>resnet</td>\n",
       "      <td>none</td>\n",
       "      <td>1</td>\n",
       "      <td>1</td>\n",
       "      <td>offline</td>\n",
       "      <td>1</td>\n",
       "      <td>10</td>\n",
       "      <td>9.460323</td>\n",
       "      <td>1298.794732</td>\n",
       "      <td>1298.691618</td>\n",
       "      <td>2076.336847</td>\n",
       "      <td>2337.875394</td>\n",
       "      <td>2467.432087</td>\n",
       "      <td>2571.341324</td>\n",
       "      <td>2592.541989</td>\n",
       "    </tr>\n",
       "    <tr>\n",
       "      <th>1</th>\n",
       "      <td>resnet</td>\n",
       "      <td>none</td>\n",
       "      <td>1</td>\n",
       "      <td>1</td>\n",
       "      <td>offline</td>\n",
       "      <td>2</td>\n",
       "      <td>10</td>\n",
       "      <td>10.829275</td>\n",
       "      <td>1137.127147</td>\n",
       "      <td>1136.129638</td>\n",
       "      <td>1815.254758</td>\n",
       "      <td>2043.636648</td>\n",
       "      <td>2157.039447</td>\n",
       "      <td>2248.630086</td>\n",
       "      <td>2263.845699</td>\n",
       "    </tr>\n",
       "    <tr>\n",
       "      <th>2</th>\n",
       "      <td>resnet</td>\n",
       "      <td>none</td>\n",
       "      <td>1</td>\n",
       "      <td>1</td>\n",
       "      <td>offline</td>\n",
       "      <td>4</td>\n",
       "      <td>10</td>\n",
       "      <td>11.779711</td>\n",
       "      <td>1056.558070</td>\n",
       "      <td>1056.387310</td>\n",
       "      <td>1680.820557</td>\n",
       "      <td>1887.279452</td>\n",
       "      <td>1990.957671</td>\n",
       "      <td>2072.954834</td>\n",
       "      <td>2081.341039</td>\n",
       "    </tr>\n",
       "    <tr>\n",
       "      <th>3</th>\n",
       "      <td>resnet</td>\n",
       "      <td>none</td>\n",
       "      <td>1</td>\n",
       "      <td>1</td>\n",
       "      <td>offline</td>\n",
       "      <td>8</td>\n",
       "      <td>10</td>\n",
       "      <td>12.570170</td>\n",
       "      <td>1001.642882</td>\n",
       "      <td>1001.322000</td>\n",
       "      <td>1584.573801</td>\n",
       "      <td>1778.948475</td>\n",
       "      <td>1875.382074</td>\n",
       "      <td>1949.063195</td>\n",
       "      <td>1949.074468</td>\n",
       "    </tr>\n",
       "    <tr>\n",
       "      <th>4</th>\n",
       "      <td>resnet</td>\n",
       "      <td>none</td>\n",
       "      <td>1</td>\n",
       "      <td>1</td>\n",
       "      <td>offline</td>\n",
       "      <td>10</td>\n",
       "      <td>10</td>\n",
       "      <td>12.705023</td>\n",
       "      <td>1002.312083</td>\n",
       "      <td>1003.896919</td>\n",
       "      <td>1578.771455</td>\n",
       "      <td>1768.845686</td>\n",
       "      <td>1861.361859</td>\n",
       "      <td>1929.356117</td>\n",
       "      <td>1930.451102</td>\n",
       "    </tr>\n",
       "    <tr>\n",
       "      <th>...</th>\n",
       "      <td>...</td>\n",
       "      <td>...</td>\n",
       "      <td>...</td>\n",
       "      <td>...</td>\n",
       "      <td>...</td>\n",
       "      <td>...</td>\n",
       "      <td>...</td>\n",
       "      <td>...</td>\n",
       "      <td>...</td>\n",
       "      <td>...</td>\n",
       "      <td>...</td>\n",
       "      <td>...</td>\n",
       "      <td>...</td>\n",
       "      <td>...</td>\n",
       "      <td>...</td>\n",
       "    </tr>\n",
       "    <tr>\n",
       "      <th>247</th>\n",
       "      <td>resnet</td>\n",
       "      <td>none</td>\n",
       "      <td>32</td>\n",
       "      <td>32</td>\n",
       "      <td>offline</td>\n",
       "      <td>4</td>\n",
       "      <td>10</td>\n",
       "      <td>NaN</td>\n",
       "      <td>NaN</td>\n",
       "      <td>NaN</td>\n",
       "      <td>NaN</td>\n",
       "      <td>NaN</td>\n",
       "      <td>NaN</td>\n",
       "      <td>NaN</td>\n",
       "      <td>NaN</td>\n",
       "    </tr>\n",
       "    <tr>\n",
       "      <th>248</th>\n",
       "      <td>resnet</td>\n",
       "      <td>none</td>\n",
       "      <td>32</td>\n",
       "      <td>32</td>\n",
       "      <td>offline</td>\n",
       "      <td>8</td>\n",
       "      <td>10</td>\n",
       "      <td>NaN</td>\n",
       "      <td>NaN</td>\n",
       "      <td>NaN</td>\n",
       "      <td>NaN</td>\n",
       "      <td>NaN</td>\n",
       "      <td>NaN</td>\n",
       "      <td>NaN</td>\n",
       "      <td>NaN</td>\n",
       "    </tr>\n",
       "    <tr>\n",
       "      <th>249</th>\n",
       "      <td>resnet</td>\n",
       "      <td>none</td>\n",
       "      <td>32</td>\n",
       "      <td>32</td>\n",
       "      <td>offline</td>\n",
       "      <td>10</td>\n",
       "      <td>10</td>\n",
       "      <td>NaN</td>\n",
       "      <td>NaN</td>\n",
       "      <td>NaN</td>\n",
       "      <td>NaN</td>\n",
       "      <td>NaN</td>\n",
       "      <td>NaN</td>\n",
       "      <td>NaN</td>\n",
       "      <td>NaN</td>\n",
       "    </tr>\n",
       "    <tr>\n",
       "      <th>250</th>\n",
       "      <td>resnet</td>\n",
       "      <td>none</td>\n",
       "      <td>32</td>\n",
       "      <td>32</td>\n",
       "      <td>offline</td>\n",
       "      <td>16</td>\n",
       "      <td>10</td>\n",
       "      <td>NaN</td>\n",
       "      <td>NaN</td>\n",
       "      <td>NaN</td>\n",
       "      <td>NaN</td>\n",
       "      <td>NaN</td>\n",
       "      <td>NaN</td>\n",
       "      <td>NaN</td>\n",
       "      <td>NaN</td>\n",
       "    </tr>\n",
       "    <tr>\n",
       "      <th>251</th>\n",
       "      <td>resnet</td>\n",
       "      <td>none</td>\n",
       "      <td>32</td>\n",
       "      <td>32</td>\n",
       "      <td>offline</td>\n",
       "      <td>32</td>\n",
       "      <td>10</td>\n",
       "      <td>NaN</td>\n",
       "      <td>NaN</td>\n",
       "      <td>NaN</td>\n",
       "      <td>NaN</td>\n",
       "      <td>NaN</td>\n",
       "      <td>NaN</td>\n",
       "      <td>NaN</td>\n",
       "      <td>NaN</td>\n",
       "    </tr>\n",
       "  </tbody>\n",
       "</table>\n",
       "<p>252 rows × 15 columns</p>\n",
       "</div>"
      ],
      "text/plain": [
       "    benchmark k8senv  sbatch  numctn cscenario  cbatch  reps        qps  \\\n",
       "0      resnet   none       1       1   offline       1    10   9.460323   \n",
       "1      resnet   none       1       1   offline       2    10  10.829275   \n",
       "2      resnet   none       1       1   offline       4    10  11.779711   \n",
       "3      resnet   none       1       1   offline       8    10  12.570170   \n",
       "4      resnet   none       1       1   offline      10    10  12.705023   \n",
       "..        ...    ...     ...     ...       ...     ...   ...        ...   \n",
       "247    resnet   none      32      32   offline       4    10        NaN   \n",
       "248    resnet   none      32      32   offline       8    10        NaN   \n",
       "249    resnet   none      32      32   offline      10    10        NaN   \n",
       "250    resnet   none      32      32   offline      16    10        NaN   \n",
       "251    resnet   none      32      32   offline      32    10        NaN   \n",
       "\n",
       "            mean          p50          p80          p90          p95  \\\n",
       "0    1298.794732  1298.691618  2076.336847  2337.875394  2467.432087   \n",
       "1    1137.127147  1136.129638  1815.254758  2043.636648  2157.039447   \n",
       "2    1056.558070  1056.387310  1680.820557  1887.279452  1990.957671   \n",
       "3    1001.642882  1001.322000  1584.573801  1778.948475  1875.382074   \n",
       "4    1002.312083  1003.896919  1578.771455  1768.845686  1861.361859   \n",
       "..           ...          ...          ...          ...          ...   \n",
       "247          NaN          NaN          NaN          NaN          NaN   \n",
       "248          NaN          NaN          NaN          NaN          NaN   \n",
       "249          NaN          NaN          NaN          NaN          NaN   \n",
       "250          NaN          NaN          NaN          NaN          NaN   \n",
       "251          NaN          NaN          NaN          NaN          NaN   \n",
       "\n",
       "             p99         p999  \n",
       "0    2571.341324  2592.541989  \n",
       "1    2248.630086  2263.845699  \n",
       "2    2072.954834  2081.341039  \n",
       "3    1949.063195  1949.074468  \n",
       "4    1929.356117  1930.451102  \n",
       "..           ...          ...  \n",
       "247          NaN          NaN  \n",
       "248          NaN          NaN  \n",
       "249          NaN          NaN  \n",
       "250          NaN          NaN  \n",
       "251          NaN          NaN  \n",
       "\n",
       "[252 rows x 15 columns]"
      ]
     },
     "execution_count": 6,
     "metadata": {},
     "output_type": "execute_result"
    }
   ],
   "source": [
    "import pandas as pd\n",
    "import glob\n",
    "# import plotly.plotly as py\n",
    "import plotly.graph_objs as go\n",
    "\n",
    "from plotly import tools\n",
    "from plotly.offline import init_notebook_mode, iplot\n",
    "init_notebook_mode(connected=True) \n",
    "\n",
    "import numpy as np\n",
    "import matplotlib.pyplot as plt\n",
    "# include if using a Jupyter notebook\n",
    "%matplotlib inline\n",
    "dfg = df\n",
    "dfg"
   ]
  },
  {
   "cell_type": "code",
   "execution_count": 8,
   "id": "1147c970",
   "metadata": {
    "scrolled": false
   },
   "outputs": [
    {
     "name": "stdout",
     "output_type": "stream",
     "text": [
      "    benchmark k8senv  sbatch  numctn cscenario  cbatch  reps        qps  \\\n",
      "4      resnet   none       1       1   offline      10    10  12.705023   \n",
      "46     resnet   none       2       1   offline      10    10  12.728682   \n",
      "88     resnet   none       4       1   offline      10    10  12.693350   \n",
      "130    resnet   none       8       1   offline      10    10  12.772940   \n",
      "172    resnet   none      16       1   offline      10    10  12.768926   \n",
      "214    resnet   none      32       1   offline      10    10  12.707605   \n",
      "\n",
      "            mean          p50          p80          p90          p95  \\\n",
      "4    1002.312083  1003.896919  1578.771455  1768.845686  1861.361859   \n",
      "46    998.027436   999.514325  1574.548567  1765.173398  1859.149997   \n",
      "88    999.089721   998.608680  1576.391513  1768.429392  1864.198925   \n",
      "130   992.614527   992.260206  1567.953746  1759.199368  1854.122769   \n",
      "172   991.669309   992.516917  1568.465984  1759.625185  1853.738012   \n",
      "214  1000.234853  1000.280774  1577.562091  1768.456854  1861.844674   \n",
      "\n",
      "             p99         p999  \n",
      "4    1929.356117  1930.451102  \n",
      "46   1926.212941  1926.819576  \n",
      "88   1931.391470  1932.370888  \n",
      "130  1919.830115  1920.579370  \n",
      "172  1920.179055  1920.906843  \n",
      "214  1929.367849  1930.046244  \n",
      "    benchmark k8senv  sbatch  numctn cscenario  cbatch  reps        qps  \\\n",
      "11     resnet   none       1       2   offline      10    10  12.809557   \n",
      "53     resnet   none       2       2   offline      10    10  12.802514   \n",
      "95     resnet   none       4       2   offline      10    10  12.775658   \n",
      "137    resnet   none       8       2   offline      10    10  12.908032   \n",
      "179    resnet   none      16       2   offline      10    10  12.716054   \n",
      "221    resnet   none      32       2   offline      10    10  12.766405   \n",
      "\n",
      "           mean         p50          p80          p90          p95  \\\n",
      "11   990.099625  989.749997  1564.728289  1754.368307  1848.335080   \n",
      "53   988.464375  988.403108  1563.885593  1754.172572  1848.904173   \n",
      "95   993.519222  993.601964  1568.007212  1758.305119  1852.988852   \n",
      "137  980.874393  980.001688  1551.004394  1739.415130  1833.440379   \n",
      "179  995.042906  994.977003  1573.332768  1766.354861  1861.545477   \n",
      "221  991.636696  991.337140  1566.968059  1758.338266  1853.275780   \n",
      "\n",
      "             p99         p999  \n",
      "11   1914.032129  1914.662527  \n",
      "53   1914.984307  1915.884855  \n",
      "95   1919.077023  1919.709426  \n",
      "137  1899.085713  1900.247189  \n",
      "179  1928.027498  1928.855582  \n",
      "221  1919.222869  1919.958550  \n",
      "    benchmark k8senv  sbatch  numctn cscenario  cbatch  reps  qps  mean  p50  \\\n",
      "18     resnet   none       1       4   offline      10    10  NaN   NaN  NaN   \n",
      "60     resnet   none       2       4   offline      10    10  NaN   NaN  NaN   \n",
      "102    resnet   none       4       4   offline      10    10  NaN   NaN  NaN   \n",
      "144    resnet   none       8       4   offline      10    10  NaN   NaN  NaN   \n",
      "186    resnet   none      16       4   offline      10    10  NaN   NaN  NaN   \n",
      "228    resnet   none      32       4   offline      10    10  NaN   NaN  NaN   \n",
      "\n",
      "     p80  p90  p95  p99  p999  \n",
      "18   NaN  NaN  NaN  NaN   NaN  \n",
      "60   NaN  NaN  NaN  NaN   NaN  \n",
      "102  NaN  NaN  NaN  NaN   NaN  \n",
      "144  NaN  NaN  NaN  NaN   NaN  \n",
      "186  NaN  NaN  NaN  NaN   NaN  \n",
      "228  NaN  NaN  NaN  NaN   NaN  \n",
      "    benchmark k8senv  sbatch  numctn cscenario  cbatch  reps  qps  mean  p50  \\\n",
      "25     resnet   none       1       8   offline      10    10  NaN   NaN  NaN   \n",
      "67     resnet   none       2       8   offline      10    10  NaN   NaN  NaN   \n",
      "109    resnet   none       4       8   offline      10    10  NaN   NaN  NaN   \n",
      "151    resnet   none       8       8   offline      10    10  NaN   NaN  NaN   \n",
      "193    resnet   none      16       8   offline      10    10  NaN   NaN  NaN   \n",
      "235    resnet   none      32       8   offline      10    10  NaN   NaN  NaN   \n",
      "\n",
      "     p80  p90  p95  p99  p999  \n",
      "25   NaN  NaN  NaN  NaN   NaN  \n",
      "67   NaN  NaN  NaN  NaN   NaN  \n",
      "109  NaN  NaN  NaN  NaN   NaN  \n",
      "151  NaN  NaN  NaN  NaN   NaN  \n",
      "193  NaN  NaN  NaN  NaN   NaN  \n",
      "235  NaN  NaN  NaN  NaN   NaN  \n",
      "    benchmark k8senv  sbatch  numctn cscenario  cbatch  reps  qps  mean  p50  \\\n",
      "32     resnet   none       1      16   offline      10    10  NaN   NaN  NaN   \n",
      "74     resnet   none       2      16   offline      10    10  NaN   NaN  NaN   \n",
      "116    resnet   none       4      16   offline      10    10  NaN   NaN  NaN   \n",
      "158    resnet   none       8      16   offline      10    10  NaN   NaN  NaN   \n",
      "200    resnet   none      16      16   offline      10    10  NaN   NaN  NaN   \n",
      "242    resnet   none      32      16   offline      10    10  NaN   NaN  NaN   \n",
      "\n",
      "     p80  p90  p95  p99  p999  \n",
      "32   NaN  NaN  NaN  NaN   NaN  \n",
      "74   NaN  NaN  NaN  NaN   NaN  \n",
      "116  NaN  NaN  NaN  NaN   NaN  \n",
      "158  NaN  NaN  NaN  NaN   NaN  \n",
      "200  NaN  NaN  NaN  NaN   NaN  \n",
      "242  NaN  NaN  NaN  NaN   NaN  \n",
      "    benchmark k8senv  sbatch  numctn cscenario  cbatch  reps  qps  mean  p50  \\\n",
      "39     resnet   none       1      32   offline      10    10  NaN   NaN  NaN   \n",
      "81     resnet   none       2      32   offline      10    10  NaN   NaN  NaN   \n",
      "123    resnet   none       4      32   offline      10    10  NaN   NaN  NaN   \n",
      "165    resnet   none       8      32   offline      10    10  NaN   NaN  NaN   \n",
      "207    resnet   none      16      32   offline      10    10  NaN   NaN  NaN   \n",
      "249    resnet   none      32      32   offline      10    10  NaN   NaN  NaN   \n",
      "\n",
      "     p80  p90  p95  p99  p999  \n",
      "39   NaN  NaN  NaN  NaN   NaN  \n",
      "81   NaN  NaN  NaN  NaN   NaN  \n",
      "123  NaN  NaN  NaN  NaN   NaN  \n",
      "165  NaN  NaN  NaN  NaN   NaN  \n",
      "207  NaN  NaN  NaN  NaN   NaN  \n",
      "249  NaN  NaN  NaN  NaN   NaN  \n"
     ]
    },
    {
     "data": {
      "application/vnd.plotly.v1+json": {
       "config": {
        "plotlyServerURL": "https://plot.ly"
       },
       "data": [
        {
         "mode": "markers",
         "name": "ctn1",
         "opacity": 0.7,
         "type": "scatter",
         "x": [
          "none",
          "cpumem",
          "cpu"
         ],
         "y": [
          12.705023086450684,
          12.728681708186167,
          12.693349983299868,
          12.77293995635164,
          12.768926176719283,
          12.707605070717031
         ]
        },
        {
         "mode": "markers",
         "name": "ctn2",
         "opacity": 0.7,
         "type": "scatter",
         "x": [
          "none",
          "cpumem",
          "cpu"
         ],
         "y": [
          12.809557193424531,
          12.802513814836386,
          12.77565797128785,
          12.90803209243168,
          12.716053896277309,
          12.766404695698538
         ]
        },
        {
         "mode": "markers",
         "name": "ctn4",
         "opacity": 0.7,
         "type": "scatter",
         "x": [
          "none",
          "cpumem",
          "cpu"
         ],
         "y": [
          null,
          null,
          null,
          null,
          null,
          null
         ]
        },
        {
         "mode": "markers",
         "name": "ctn8",
         "opacity": 0.7,
         "type": "scatter",
         "x": [
          "none",
          "cpumem",
          "cpu"
         ],
         "y": [
          null,
          null,
          null,
          null,
          null,
          null
         ]
        },
        {
         "mode": "markers",
         "name": "ctn16",
         "opacity": 0.7,
         "type": "scatter",
         "x": [
          "none",
          "cpumem",
          "cpu"
         ],
         "y": [
          null,
          null,
          null,
          null,
          null,
          null
         ]
        },
        {
         "mode": "markers",
         "name": "ctn32",
         "opacity": 0.7,
         "type": "scatter",
         "x": [
          "none",
          "cpumem",
          "cpu"
         ],
         "y": [
          null,
          null,
          null,
          null,
          null,
          null
         ]
        }
       ],
       "layout": {
        "bargap": 0.15,
        "bargroupgap": 0.08,
        "barmode": "group",
        "height": 460,
        "legend": {
         "bgcolor": "rgba(255, 255, 255, 0)",
         "bordercolor": "rgba(255, 255, 255, 0)",
         "font": {
          "size": 28
         },
         "orientation": "h",
         "x": 1,
         "y": 1
        },
        "template": {
         "data": {
          "scatter": [
           {
            "type": "scatter"
           }
          ]
         }
        },
        "title": {
         "text": "exp18(cpu32)= inter16,intra32 -> inter1,intra2; restapi=32",
         "x": 0.5,
         "xanchor": "center",
         "y": 0.85,
         "yanchor": "top"
        },
        "width": 1000,
        "xaxis": {
         "tickfont": {
          "color": "rgb(107, 107, 107)",
          "size": 10
         },
         "tickvals": [
          "none",
          "cpumem",
          "cpu"
         ],
         "title": {
          "font": {
           "color": "rgb(107, 107, 107)",
           "size": 10
          },
          "text": "scenarios"
         }
        },
        "yaxis": {
         "automargin": true,
         "tickfont": {
          "color": "rgb(107, 107, 107)",
          "size": 25
         },
         "title": {
          "font": {
           "color": "rgb(107, 107, 107)",
           "size": 25
          },
          "text": "qpsbatch10"
         }
        }
       }
      },
      "text/html": [
       "<div>                            <div id=\"4c3f2b94-81fb-4100-921d-f826215eb304\" class=\"plotly-graph-div\" style=\"height:460px; width:1000px;\"></div>            <script type=\"text/javascript\">                require([\"plotly\"], function(Plotly) {                    window.PLOTLYENV=window.PLOTLYENV || {};                                    if (document.getElementById(\"4c3f2b94-81fb-4100-921d-f826215eb304\")) {                    Plotly.newPlot(                        \"4c3f2b94-81fb-4100-921d-f826215eb304\",                        [{\"mode\": \"markers\", \"name\": \"ctn1\", \"opacity\": 0.7, \"type\": \"scatter\", \"x\": [\"none\", \"cpumem\", \"cpu\"], \"y\": [12.705023086450684, 12.728681708186167, 12.693349983299868, 12.77293995635164, 12.768926176719283, 12.707605070717031]}, {\"mode\": \"markers\", \"name\": \"ctn2\", \"opacity\": 0.7, \"type\": \"scatter\", \"x\": [\"none\", \"cpumem\", \"cpu\"], \"y\": [12.809557193424531, 12.802513814836386, 12.77565797128785, 12.90803209243168, 12.716053896277309, 12.766404695698538]}, {\"mode\": \"markers\", \"name\": \"ctn4\", \"opacity\": 0.7, \"type\": \"scatter\", \"x\": [\"none\", \"cpumem\", \"cpu\"], \"y\": [null, null, null, null, null, null]}, {\"mode\": \"markers\", \"name\": \"ctn8\", \"opacity\": 0.7, \"type\": \"scatter\", \"x\": [\"none\", \"cpumem\", \"cpu\"], \"y\": [null, null, null, null, null, null]}, {\"mode\": \"markers\", \"name\": \"ctn16\", \"opacity\": 0.7, \"type\": \"scatter\", \"x\": [\"none\", \"cpumem\", \"cpu\"], \"y\": [null, null, null, null, null, null]}, {\"mode\": \"markers\", \"name\": \"ctn32\", \"opacity\": 0.7, \"type\": \"scatter\", \"x\": [\"none\", \"cpumem\", \"cpu\"], \"y\": [null, null, null, null, null, null]}],                        {\"bargap\": 0.15, \"bargroupgap\": 0.08, \"barmode\": \"group\", \"height\": 460, \"legend\": {\"bgcolor\": \"rgba(255, 255, 255, 0)\", \"bordercolor\": \"rgba(255, 255, 255, 0)\", \"font\": {\"size\": 28}, \"orientation\": \"h\", \"x\": 1.0, \"y\": 1.0}, \"template\": {\"data\": {\"scatter\": [{\"type\": \"scatter\"}]}}, \"title\": {\"text\": \"exp18(cpu32)= inter16,intra32 -> inter1,intra2; restapi=32\", \"x\": 0.5, \"xanchor\": \"center\", \"y\": 0.85, \"yanchor\": \"top\"}, \"width\": 1000, \"xaxis\": {\"tickfont\": {\"color\": \"rgb(107, 107, 107)\", \"size\": 10}, \"tickvals\": [\"none\", \"cpumem\", \"cpu\"], \"title\": {\"font\": {\"color\": \"rgb(107, 107, 107)\", \"size\": 10}, \"text\": \"scenarios\"}}, \"yaxis\": {\"automargin\": true, \"tickfont\": {\"color\": \"rgb(107, 107, 107)\", \"size\": 25}, \"title\": {\"font\": {\"color\": \"rgb(107, 107, 107)\", \"size\": 25}, \"text\": \"qpsbatch10\"}}},                        {\"responsive\": true}                    ).then(function(){\n",
       "                            \n",
       "var gd = document.getElementById('4c3f2b94-81fb-4100-921d-f826215eb304');\n",
       "var x = new MutationObserver(function (mutations, observer) {{\n",
       "        var display = window.getComputedStyle(gd).display;\n",
       "        if (!display || display === 'none') {{\n",
       "            console.log([gd, 'removed!']);\n",
       "            Plotly.purge(gd);\n",
       "            observer.disconnect();\n",
       "        }}\n",
       "}});\n",
       "\n",
       "// Listen for the removal of the full notebook cells\n",
       "var notebookContainer = gd.closest('#notebook-container');\n",
       "if (notebookContainer) {{\n",
       "    x.observe(notebookContainer, {childList: true});\n",
       "}}\n",
       "\n",
       "// Listen for the clearing of the current output cell\n",
       "var outputEl = gd.closest('.output');\n",
       "if (outputEl) {{\n",
       "    x.observe(outputEl, {childList: true});\n",
       "}}\n",
       "\n",
       "                        })                };                });            </script>        </div>"
      ]
     },
     "metadata": {},
     "output_type": "display_data"
    },
    {
     "name": "stdout",
     "output_type": "stream",
     "text": [
      "    benchmark k8senv  sbatch  numctn cscenario  cbatch  reps        qps  \\\n",
      "4      resnet   none       1       1   offline      10    10  12.705023   \n",
      "46     resnet   none       2       1   offline      10    10  12.728682   \n",
      "88     resnet   none       4       1   offline      10    10  12.693350   \n",
      "130    resnet   none       8       1   offline      10    10  12.772940   \n",
      "172    resnet   none      16       1   offline      10    10  12.768926   \n",
      "214    resnet   none      32       1   offline      10    10  12.707605   \n",
      "\n",
      "            mean          p50          p80          p90          p95  \\\n",
      "4    1002.312083  1003.896919  1578.771455  1768.845686  1861.361859   \n",
      "46    998.027436   999.514325  1574.548567  1765.173398  1859.149997   \n",
      "88    999.089721   998.608680  1576.391513  1768.429392  1864.198925   \n",
      "130   992.614527   992.260206  1567.953746  1759.199368  1854.122769   \n",
      "172   991.669309   992.516917  1568.465984  1759.625185  1853.738012   \n",
      "214  1000.234853  1000.280774  1577.562091  1768.456854  1861.844674   \n",
      "\n",
      "             p99         p999  \n",
      "4    1929.356117  1930.451102  \n",
      "46   1926.212941  1926.819576  \n",
      "88   1931.391470  1932.370888  \n",
      "130  1919.830115  1920.579370  \n",
      "172  1920.179055  1920.906843  \n",
      "214  1929.367849  1930.046244  \n",
      "    benchmark k8senv  sbatch  numctn cscenario  cbatch  reps        qps  \\\n",
      "11     resnet   none       1       2   offline      10    10  12.809557   \n",
      "53     resnet   none       2       2   offline      10    10  12.802514   \n",
      "95     resnet   none       4       2   offline      10    10  12.775658   \n",
      "137    resnet   none       8       2   offline      10    10  12.908032   \n",
      "179    resnet   none      16       2   offline      10    10  12.716054   \n",
      "221    resnet   none      32       2   offline      10    10  12.766405   \n",
      "\n",
      "           mean         p50          p80          p90          p95  \\\n",
      "11   990.099625  989.749997  1564.728289  1754.368307  1848.335080   \n",
      "53   988.464375  988.403108  1563.885593  1754.172572  1848.904173   \n",
      "95   993.519222  993.601964  1568.007212  1758.305119  1852.988852   \n",
      "137  980.874393  980.001688  1551.004394  1739.415130  1833.440379   \n",
      "179  995.042906  994.977003  1573.332768  1766.354861  1861.545477   \n",
      "221  991.636696  991.337140  1566.968059  1758.338266  1853.275780   \n",
      "\n",
      "             p99         p999  \n",
      "11   1914.032129  1914.662527  \n",
      "53   1914.984307  1915.884855  \n",
      "95   1919.077023  1919.709426  \n",
      "137  1899.085713  1900.247189  \n",
      "179  1928.027498  1928.855582  \n",
      "221  1919.222869  1919.958550  \n",
      "    benchmark k8senv  sbatch  numctn cscenario  cbatch  reps  qps  mean  p50  \\\n",
      "18     resnet   none       1       4   offline      10    10  NaN   NaN  NaN   \n",
      "60     resnet   none       2       4   offline      10    10  NaN   NaN  NaN   \n",
      "102    resnet   none       4       4   offline      10    10  NaN   NaN  NaN   \n",
      "144    resnet   none       8       4   offline      10    10  NaN   NaN  NaN   \n",
      "186    resnet   none      16       4   offline      10    10  NaN   NaN  NaN   \n",
      "228    resnet   none      32       4   offline      10    10  NaN   NaN  NaN   \n",
      "\n",
      "     p80  p90  p95  p99  p999  \n",
      "18   NaN  NaN  NaN  NaN   NaN  \n",
      "60   NaN  NaN  NaN  NaN   NaN  \n",
      "102  NaN  NaN  NaN  NaN   NaN  \n",
      "144  NaN  NaN  NaN  NaN   NaN  \n",
      "186  NaN  NaN  NaN  NaN   NaN  \n",
      "228  NaN  NaN  NaN  NaN   NaN  \n",
      "    benchmark k8senv  sbatch  numctn cscenario  cbatch  reps  qps  mean  p50  \\\n",
      "25     resnet   none       1       8   offline      10    10  NaN   NaN  NaN   \n",
      "67     resnet   none       2       8   offline      10    10  NaN   NaN  NaN   \n",
      "109    resnet   none       4       8   offline      10    10  NaN   NaN  NaN   \n",
      "151    resnet   none       8       8   offline      10    10  NaN   NaN  NaN   \n",
      "193    resnet   none      16       8   offline      10    10  NaN   NaN  NaN   \n",
      "235    resnet   none      32       8   offline      10    10  NaN   NaN  NaN   \n",
      "\n",
      "     p80  p90  p95  p99  p999  \n",
      "25   NaN  NaN  NaN  NaN   NaN  \n",
      "67   NaN  NaN  NaN  NaN   NaN  \n",
      "109  NaN  NaN  NaN  NaN   NaN  \n",
      "151  NaN  NaN  NaN  NaN   NaN  \n",
      "193  NaN  NaN  NaN  NaN   NaN  \n",
      "235  NaN  NaN  NaN  NaN   NaN  \n",
      "    benchmark k8senv  sbatch  numctn cscenario  cbatch  reps  qps  mean  p50  \\\n",
      "32     resnet   none       1      16   offline      10    10  NaN   NaN  NaN   \n",
      "74     resnet   none       2      16   offline      10    10  NaN   NaN  NaN   \n",
      "116    resnet   none       4      16   offline      10    10  NaN   NaN  NaN   \n",
      "158    resnet   none       8      16   offline      10    10  NaN   NaN  NaN   \n",
      "200    resnet   none      16      16   offline      10    10  NaN   NaN  NaN   \n",
      "242    resnet   none      32      16   offline      10    10  NaN   NaN  NaN   \n",
      "\n",
      "     p80  p90  p95  p99  p999  \n",
      "32   NaN  NaN  NaN  NaN   NaN  \n",
      "74   NaN  NaN  NaN  NaN   NaN  \n",
      "116  NaN  NaN  NaN  NaN   NaN  \n",
      "158  NaN  NaN  NaN  NaN   NaN  \n",
      "200  NaN  NaN  NaN  NaN   NaN  \n",
      "242  NaN  NaN  NaN  NaN   NaN  \n",
      "    benchmark k8senv  sbatch  numctn cscenario  cbatch  reps  qps  mean  p50  \\\n",
      "39     resnet   none       1      32   offline      10    10  NaN   NaN  NaN   \n",
      "81     resnet   none       2      32   offline      10    10  NaN   NaN  NaN   \n",
      "123    resnet   none       4      32   offline      10    10  NaN   NaN  NaN   \n",
      "165    resnet   none       8      32   offline      10    10  NaN   NaN  NaN   \n",
      "207    resnet   none      16      32   offline      10    10  NaN   NaN  NaN   \n",
      "249    resnet   none      32      32   offline      10    10  NaN   NaN  NaN   \n",
      "\n",
      "     p80  p90  p95  p99  p999  \n",
      "39   NaN  NaN  NaN  NaN   NaN  \n",
      "81   NaN  NaN  NaN  NaN   NaN  \n",
      "123  NaN  NaN  NaN  NaN   NaN  \n",
      "165  NaN  NaN  NaN  NaN   NaN  \n",
      "207  NaN  NaN  NaN  NaN   NaN  \n",
      "249  NaN  NaN  NaN  NaN   NaN  \n"
     ]
    },
    {
     "data": {
      "application/vnd.plotly.v1+json": {
       "config": {
        "plotlyServerURL": "https://plot.ly"
       },
       "data": [
        {
         "mode": "markers",
         "name": "ctn1",
         "opacity": 0.7,
         "type": "scatter",
         "x": [
          "none",
          "cpumem",
          "cpu"
         ],
         "y": [
          1002.3120831687584,
          998.027435990786,
          999.0897207310225,
          992.6145274945832,
          991.6693093648204,
          1000.2348533306337
         ]
        },
        {
         "mode": "markers",
         "name": "ctn2",
         "opacity": 0.7,
         "type": "scatter",
         "x": [
          "none",
          "cpumem",
          "cpu"
         ],
         "y": [
          990.0996251468144,
          988.464374962808,
          993.519222212088,
          980.8743929508842,
          995.0429062337884,
          991.6366963418136
         ]
        },
        {
         "mode": "markers",
         "name": "ctn4",
         "opacity": 0.7,
         "type": "scatter",
         "x": [
          "none",
          "cpumem",
          "cpu"
         ],
         "y": [
          null,
          null,
          null,
          null,
          null,
          null
         ]
        },
        {
         "mode": "markers",
         "name": "ctn8",
         "opacity": 0.7,
         "type": "scatter",
         "x": [
          "none",
          "cpumem",
          "cpu"
         ],
         "y": [
          null,
          null,
          null,
          null,
          null,
          null
         ]
        },
        {
         "mode": "markers",
         "name": "ctn16",
         "opacity": 0.7,
         "type": "scatter",
         "x": [
          "none",
          "cpumem",
          "cpu"
         ],
         "y": [
          null,
          null,
          null,
          null,
          null,
          null
         ]
        },
        {
         "mode": "markers",
         "name": "ctn32",
         "opacity": 0.7,
         "type": "scatter",
         "x": [
          "none",
          "cpumem",
          "cpu"
         ],
         "y": [
          null,
          null,
          null,
          null,
          null,
          null
         ]
        }
       ],
       "layout": {
        "bargap": 0.15,
        "bargroupgap": 0.08,
        "barmode": "group",
        "height": 460,
        "legend": {
         "bgcolor": "rgba(255, 255, 255, 0)",
         "bordercolor": "rgba(255, 255, 255, 0)",
         "font": {
          "size": 28
         },
         "orientation": "h",
         "x": 1,
         "y": 1
        },
        "template": {
         "data": {
          "scatter": [
           {
            "type": "scatter"
           }
          ]
         }
        },
        "title": {
         "text": "exp18(cpu32)= inter16,intra32 -> inter1,intra2; restapi=32",
         "x": 0.5,
         "xanchor": "center",
         "y": 0.85,
         "yanchor": "top"
        },
        "width": 1000,
        "xaxis": {
         "tickfont": {
          "color": "rgb(107, 107, 107)",
          "size": 10
         },
         "tickvals": [
          "none",
          "cpumem",
          "cpu"
         ],
         "title": {
          "font": {
           "color": "rgb(107, 107, 107)",
           "size": 10
          },
          "text": "scenarios"
         }
        },
        "yaxis": {
         "automargin": true,
         "tickfont": {
          "color": "rgb(107, 107, 107)",
          "size": 25
         },
         "title": {
          "font": {
           "color": "rgb(107, 107, 107)",
           "size": 25
          },
          "text": "meanbatch10"
         }
        }
       }
      },
      "text/html": [
       "<div>                            <div id=\"85a61a9f-e4a3-47f2-84da-778d1ddbc31e\" class=\"plotly-graph-div\" style=\"height:460px; width:1000px;\"></div>            <script type=\"text/javascript\">                require([\"plotly\"], function(Plotly) {                    window.PLOTLYENV=window.PLOTLYENV || {};                                    if (document.getElementById(\"85a61a9f-e4a3-47f2-84da-778d1ddbc31e\")) {                    Plotly.newPlot(                        \"85a61a9f-e4a3-47f2-84da-778d1ddbc31e\",                        [{\"mode\": \"markers\", \"name\": \"ctn1\", \"opacity\": 0.7, \"type\": \"scatter\", \"x\": [\"none\", \"cpumem\", \"cpu\"], \"y\": [1002.3120831687584, 998.027435990786, 999.0897207310225, 992.6145274945832, 991.6693093648204, 1000.2348533306337]}, {\"mode\": \"markers\", \"name\": \"ctn2\", \"opacity\": 0.7, \"type\": \"scatter\", \"x\": [\"none\", \"cpumem\", \"cpu\"], \"y\": [990.0996251468144, 988.464374962808, 993.519222212088, 980.8743929508842, 995.0429062337884, 991.6366963418136]}, {\"mode\": \"markers\", \"name\": \"ctn4\", \"opacity\": 0.7, \"type\": \"scatter\", \"x\": [\"none\", \"cpumem\", \"cpu\"], \"y\": [null, null, null, null, null, null]}, {\"mode\": \"markers\", \"name\": \"ctn8\", \"opacity\": 0.7, \"type\": \"scatter\", \"x\": [\"none\", \"cpumem\", \"cpu\"], \"y\": [null, null, null, null, null, null]}, {\"mode\": \"markers\", \"name\": \"ctn16\", \"opacity\": 0.7, \"type\": \"scatter\", \"x\": [\"none\", \"cpumem\", \"cpu\"], \"y\": [null, null, null, null, null, null]}, {\"mode\": \"markers\", \"name\": \"ctn32\", \"opacity\": 0.7, \"type\": \"scatter\", \"x\": [\"none\", \"cpumem\", \"cpu\"], \"y\": [null, null, null, null, null, null]}],                        {\"bargap\": 0.15, \"bargroupgap\": 0.08, \"barmode\": \"group\", \"height\": 460, \"legend\": {\"bgcolor\": \"rgba(255, 255, 255, 0)\", \"bordercolor\": \"rgba(255, 255, 255, 0)\", \"font\": {\"size\": 28}, \"orientation\": \"h\", \"x\": 1.0, \"y\": 1.0}, \"template\": {\"data\": {\"scatter\": [{\"type\": \"scatter\"}]}}, \"title\": {\"text\": \"exp18(cpu32)= inter16,intra32 -> inter1,intra2; restapi=32\", \"x\": 0.5, \"xanchor\": \"center\", \"y\": 0.85, \"yanchor\": \"top\"}, \"width\": 1000, \"xaxis\": {\"tickfont\": {\"color\": \"rgb(107, 107, 107)\", \"size\": 10}, \"tickvals\": [\"none\", \"cpumem\", \"cpu\"], \"title\": {\"font\": {\"color\": \"rgb(107, 107, 107)\", \"size\": 10}, \"text\": \"scenarios\"}}, \"yaxis\": {\"automargin\": true, \"tickfont\": {\"color\": \"rgb(107, 107, 107)\", \"size\": 25}, \"title\": {\"font\": {\"color\": \"rgb(107, 107, 107)\", \"size\": 25}, \"text\": \"meanbatch10\"}}},                        {\"responsive\": true}                    ).then(function(){\n",
       "                            \n",
       "var gd = document.getElementById('85a61a9f-e4a3-47f2-84da-778d1ddbc31e');\n",
       "var x = new MutationObserver(function (mutations, observer) {{\n",
       "        var display = window.getComputedStyle(gd).display;\n",
       "        if (!display || display === 'none') {{\n",
       "            console.log([gd, 'removed!']);\n",
       "            Plotly.purge(gd);\n",
       "            observer.disconnect();\n",
       "        }}\n",
       "}});\n",
       "\n",
       "// Listen for the removal of the full notebook cells\n",
       "var notebookContainer = gd.closest('#notebook-container');\n",
       "if (notebookContainer) {{\n",
       "    x.observe(notebookContainer, {childList: true});\n",
       "}}\n",
       "\n",
       "// Listen for the clearing of the current output cell\n",
       "var outputEl = gd.closest('.output');\n",
       "if (outputEl) {{\n",
       "    x.observe(outputEl, {childList: true});\n",
       "}}\n",
       "\n",
       "                        })                };                });            </script>        </div>"
      ]
     },
     "metadata": {},
     "output_type": "display_data"
    },
    {
     "name": "stdout",
     "output_type": "stream",
     "text": [
      "    benchmark k8senv  sbatch  numctn cscenario  cbatch  reps        qps  \\\n",
      "4      resnet   none       1       1   offline      10    10  12.705023   \n",
      "46     resnet   none       2       1   offline      10    10  12.728682   \n",
      "88     resnet   none       4       1   offline      10    10  12.693350   \n",
      "130    resnet   none       8       1   offline      10    10  12.772940   \n",
      "172    resnet   none      16       1   offline      10    10  12.768926   \n",
      "214    resnet   none      32       1   offline      10    10  12.707605   \n",
      "\n",
      "            mean          p50          p80          p90          p95  \\\n",
      "4    1002.312083  1003.896919  1578.771455  1768.845686  1861.361859   \n",
      "46    998.027436   999.514325  1574.548567  1765.173398  1859.149997   \n",
      "88    999.089721   998.608680  1576.391513  1768.429392  1864.198925   \n",
      "130   992.614527   992.260206  1567.953746  1759.199368  1854.122769   \n",
      "172   991.669309   992.516917  1568.465984  1759.625185  1853.738012   \n",
      "214  1000.234853  1000.280774  1577.562091  1768.456854  1861.844674   \n",
      "\n",
      "             p99         p999  \n",
      "4    1929.356117  1930.451102  \n",
      "46   1926.212941  1926.819576  \n",
      "88   1931.391470  1932.370888  \n",
      "130  1919.830115  1920.579370  \n",
      "172  1920.179055  1920.906843  \n",
      "214  1929.367849  1930.046244  \n",
      "    benchmark k8senv  sbatch  numctn cscenario  cbatch  reps        qps  \\\n",
      "11     resnet   none       1       2   offline      10    10  12.809557   \n",
      "53     resnet   none       2       2   offline      10    10  12.802514   \n",
      "95     resnet   none       4       2   offline      10    10  12.775658   \n",
      "137    resnet   none       8       2   offline      10    10  12.908032   \n",
      "179    resnet   none      16       2   offline      10    10  12.716054   \n",
      "221    resnet   none      32       2   offline      10    10  12.766405   \n",
      "\n",
      "           mean         p50          p80          p90          p95  \\\n",
      "11   990.099625  989.749997  1564.728289  1754.368307  1848.335080   \n",
      "53   988.464375  988.403108  1563.885593  1754.172572  1848.904173   \n",
      "95   993.519222  993.601964  1568.007212  1758.305119  1852.988852   \n",
      "137  980.874393  980.001688  1551.004394  1739.415130  1833.440379   \n",
      "179  995.042906  994.977003  1573.332768  1766.354861  1861.545477   \n",
      "221  991.636696  991.337140  1566.968059  1758.338266  1853.275780   \n",
      "\n",
      "             p99         p999  \n",
      "11   1914.032129  1914.662527  \n",
      "53   1914.984307  1915.884855  \n",
      "95   1919.077023  1919.709426  \n",
      "137  1899.085713  1900.247189  \n",
      "179  1928.027498  1928.855582  \n",
      "221  1919.222869  1919.958550  \n",
      "    benchmark k8senv  sbatch  numctn cscenario  cbatch  reps  qps  mean  p50  \\\n",
      "18     resnet   none       1       4   offline      10    10  NaN   NaN  NaN   \n",
      "60     resnet   none       2       4   offline      10    10  NaN   NaN  NaN   \n",
      "102    resnet   none       4       4   offline      10    10  NaN   NaN  NaN   \n",
      "144    resnet   none       8       4   offline      10    10  NaN   NaN  NaN   \n",
      "186    resnet   none      16       4   offline      10    10  NaN   NaN  NaN   \n",
      "228    resnet   none      32       4   offline      10    10  NaN   NaN  NaN   \n",
      "\n",
      "     p80  p90  p95  p99  p999  \n",
      "18   NaN  NaN  NaN  NaN   NaN  \n",
      "60   NaN  NaN  NaN  NaN   NaN  \n",
      "102  NaN  NaN  NaN  NaN   NaN  \n",
      "144  NaN  NaN  NaN  NaN   NaN  \n",
      "186  NaN  NaN  NaN  NaN   NaN  \n",
      "228  NaN  NaN  NaN  NaN   NaN  \n",
      "    benchmark k8senv  sbatch  numctn cscenario  cbatch  reps  qps  mean  p50  \\\n",
      "25     resnet   none       1       8   offline      10    10  NaN   NaN  NaN   \n",
      "67     resnet   none       2       8   offline      10    10  NaN   NaN  NaN   \n",
      "109    resnet   none       4       8   offline      10    10  NaN   NaN  NaN   \n",
      "151    resnet   none       8       8   offline      10    10  NaN   NaN  NaN   \n",
      "193    resnet   none      16       8   offline      10    10  NaN   NaN  NaN   \n",
      "235    resnet   none      32       8   offline      10    10  NaN   NaN  NaN   \n",
      "\n",
      "     p80  p90  p95  p99  p999  \n",
      "25   NaN  NaN  NaN  NaN   NaN  \n",
      "67   NaN  NaN  NaN  NaN   NaN  \n",
      "109  NaN  NaN  NaN  NaN   NaN  \n",
      "151  NaN  NaN  NaN  NaN   NaN  \n",
      "193  NaN  NaN  NaN  NaN   NaN  \n",
      "235  NaN  NaN  NaN  NaN   NaN  \n",
      "    benchmark k8senv  sbatch  numctn cscenario  cbatch  reps  qps  mean  p50  \\\n",
      "32     resnet   none       1      16   offline      10    10  NaN   NaN  NaN   \n",
      "74     resnet   none       2      16   offline      10    10  NaN   NaN  NaN   \n",
      "116    resnet   none       4      16   offline      10    10  NaN   NaN  NaN   \n",
      "158    resnet   none       8      16   offline      10    10  NaN   NaN  NaN   \n",
      "200    resnet   none      16      16   offline      10    10  NaN   NaN  NaN   \n",
      "242    resnet   none      32      16   offline      10    10  NaN   NaN  NaN   \n",
      "\n",
      "     p80  p90  p95  p99  p999  \n",
      "32   NaN  NaN  NaN  NaN   NaN  \n",
      "74   NaN  NaN  NaN  NaN   NaN  \n",
      "116  NaN  NaN  NaN  NaN   NaN  \n",
      "158  NaN  NaN  NaN  NaN   NaN  \n",
      "200  NaN  NaN  NaN  NaN   NaN  \n",
      "242  NaN  NaN  NaN  NaN   NaN  \n",
      "    benchmark k8senv  sbatch  numctn cscenario  cbatch  reps  qps  mean  p50  \\\n",
      "39     resnet   none       1      32   offline      10    10  NaN   NaN  NaN   \n",
      "81     resnet   none       2      32   offline      10    10  NaN   NaN  NaN   \n",
      "123    resnet   none       4      32   offline      10    10  NaN   NaN  NaN   \n",
      "165    resnet   none       8      32   offline      10    10  NaN   NaN  NaN   \n",
      "207    resnet   none      16      32   offline      10    10  NaN   NaN  NaN   \n",
      "249    resnet   none      32      32   offline      10    10  NaN   NaN  NaN   \n",
      "\n",
      "     p80  p90  p95  p99  p999  \n",
      "39   NaN  NaN  NaN  NaN   NaN  \n",
      "81   NaN  NaN  NaN  NaN   NaN  \n",
      "123  NaN  NaN  NaN  NaN   NaN  \n",
      "165  NaN  NaN  NaN  NaN   NaN  \n",
      "207  NaN  NaN  NaN  NaN   NaN  \n",
      "249  NaN  NaN  NaN  NaN   NaN  \n"
     ]
    },
    {
     "data": {
      "application/vnd.plotly.v1+json": {
       "config": {
        "plotlyServerURL": "https://plot.ly"
       },
       "data": [
        {
         "mode": "markers",
         "name": "ctn1",
         "opacity": 0.7,
         "type": "scatter",
         "x": [
          "none",
          "cpumem",
          "cpu"
         ],
         "y": [
          1929.356116668,
          1926.21294117625,
          1931.39147002475,
          1919.83011512675,
          1920.17905467825,
          1929.367848698
         ]
        },
        {
         "mode": "markers",
         "name": "ctn2",
         "opacity": 0.7,
         "type": "scatter",
         "x": [
          "none",
          "cpumem",
          "cpu"
         ],
         "y": [
          1914.03212944525,
          1914.98430717625,
          1919.0770227727496,
          1899.08571272125,
          1928.027498467,
          1919.2228686165
         ]
        },
        {
         "mode": "markers",
         "name": "ctn4",
         "opacity": 0.7,
         "type": "scatter",
         "x": [
          "none",
          "cpumem",
          "cpu"
         ],
         "y": [
          null,
          null,
          null,
          null,
          null,
          null
         ]
        },
        {
         "mode": "markers",
         "name": "ctn8",
         "opacity": 0.7,
         "type": "scatter",
         "x": [
          "none",
          "cpumem",
          "cpu"
         ],
         "y": [
          null,
          null,
          null,
          null,
          null,
          null
         ]
        },
        {
         "mode": "markers",
         "name": "ctn16",
         "opacity": 0.7,
         "type": "scatter",
         "x": [
          "none",
          "cpumem",
          "cpu"
         ],
         "y": [
          null,
          null,
          null,
          null,
          null,
          null
         ]
        },
        {
         "mode": "markers",
         "name": "ctn32",
         "opacity": 0.7,
         "type": "scatter",
         "x": [
          "none",
          "cpumem",
          "cpu"
         ],
         "y": [
          null,
          null,
          null,
          null,
          null,
          null
         ]
        }
       ],
       "layout": {
        "bargap": 0.15,
        "bargroupgap": 0.08,
        "barmode": "group",
        "height": 460,
        "legend": {
         "bgcolor": "rgba(255, 255, 255, 0)",
         "bordercolor": "rgba(255, 255, 255, 0)",
         "font": {
          "size": 28
         },
         "orientation": "h",
         "x": 1,
         "y": 1
        },
        "template": {
         "data": {
          "scatter": [
           {
            "type": "scatter"
           }
          ]
         }
        },
        "title": {
         "text": "exp18(cpu32)= inter16,intra32 -> inter1,intra2; restapi=32",
         "x": 0.5,
         "xanchor": "center",
         "y": 0.85,
         "yanchor": "top"
        },
        "width": 1000,
        "xaxis": {
         "tickfont": {
          "color": "rgb(107, 107, 107)",
          "size": 10
         },
         "tickvals": [
          "none",
          "cpumem",
          "cpu"
         ],
         "title": {
          "font": {
           "color": "rgb(107, 107, 107)",
           "size": 10
          },
          "text": "scenarios"
         }
        },
        "yaxis": {
         "automargin": true,
         "tickfont": {
          "color": "rgb(107, 107, 107)",
          "size": 25
         },
         "title": {
          "font": {
           "color": "rgb(107, 107, 107)",
           "size": 25
          },
          "text": "p99batch10"
         }
        }
       }
      },
      "text/html": [
       "<div>                            <div id=\"0d947738-0ce1-4a25-bd1e-88896765a0d6\" class=\"plotly-graph-div\" style=\"height:460px; width:1000px;\"></div>            <script type=\"text/javascript\">                require([\"plotly\"], function(Plotly) {                    window.PLOTLYENV=window.PLOTLYENV || {};                                    if (document.getElementById(\"0d947738-0ce1-4a25-bd1e-88896765a0d6\")) {                    Plotly.newPlot(                        \"0d947738-0ce1-4a25-bd1e-88896765a0d6\",                        [{\"mode\": \"markers\", \"name\": \"ctn1\", \"opacity\": 0.7, \"type\": \"scatter\", \"x\": [\"none\", \"cpumem\", \"cpu\"], \"y\": [1929.356116668, 1926.21294117625, 1931.39147002475, 1919.83011512675, 1920.17905467825, 1929.367848698]}, {\"mode\": \"markers\", \"name\": \"ctn2\", \"opacity\": 0.7, \"type\": \"scatter\", \"x\": [\"none\", \"cpumem\", \"cpu\"], \"y\": [1914.03212944525, 1914.98430717625, 1919.0770227727496, 1899.08571272125, 1928.027498467, 1919.2228686165]}, {\"mode\": \"markers\", \"name\": \"ctn4\", \"opacity\": 0.7, \"type\": \"scatter\", \"x\": [\"none\", \"cpumem\", \"cpu\"], \"y\": [null, null, null, null, null, null]}, {\"mode\": \"markers\", \"name\": \"ctn8\", \"opacity\": 0.7, \"type\": \"scatter\", \"x\": [\"none\", \"cpumem\", \"cpu\"], \"y\": [null, null, null, null, null, null]}, {\"mode\": \"markers\", \"name\": \"ctn16\", \"opacity\": 0.7, \"type\": \"scatter\", \"x\": [\"none\", \"cpumem\", \"cpu\"], \"y\": [null, null, null, null, null, null]}, {\"mode\": \"markers\", \"name\": \"ctn32\", \"opacity\": 0.7, \"type\": \"scatter\", \"x\": [\"none\", \"cpumem\", \"cpu\"], \"y\": [null, null, null, null, null, null]}],                        {\"bargap\": 0.15, \"bargroupgap\": 0.08, \"barmode\": \"group\", \"height\": 460, \"legend\": {\"bgcolor\": \"rgba(255, 255, 255, 0)\", \"bordercolor\": \"rgba(255, 255, 255, 0)\", \"font\": {\"size\": 28}, \"orientation\": \"h\", \"x\": 1.0, \"y\": 1.0}, \"template\": {\"data\": {\"scatter\": [{\"type\": \"scatter\"}]}}, \"title\": {\"text\": \"exp18(cpu32)= inter16,intra32 -> inter1,intra2; restapi=32\", \"x\": 0.5, \"xanchor\": \"center\", \"y\": 0.85, \"yanchor\": \"top\"}, \"width\": 1000, \"xaxis\": {\"tickfont\": {\"color\": \"rgb(107, 107, 107)\", \"size\": 10}, \"tickvals\": [\"none\", \"cpumem\", \"cpu\"], \"title\": {\"font\": {\"color\": \"rgb(107, 107, 107)\", \"size\": 10}, \"text\": \"scenarios\"}}, \"yaxis\": {\"automargin\": true, \"tickfont\": {\"color\": \"rgb(107, 107, 107)\", \"size\": 25}, \"title\": {\"font\": {\"color\": \"rgb(107, 107, 107)\", \"size\": 25}, \"text\": \"p99batch10\"}}},                        {\"responsive\": true}                    ).then(function(){\n",
       "                            \n",
       "var gd = document.getElementById('0d947738-0ce1-4a25-bd1e-88896765a0d6');\n",
       "var x = new MutationObserver(function (mutations, observer) {{\n",
       "        var display = window.getComputedStyle(gd).display;\n",
       "        if (!display || display === 'none') {{\n",
       "            console.log([gd, 'removed!']);\n",
       "            Plotly.purge(gd);\n",
       "            observer.disconnect();\n",
       "        }}\n",
       "}});\n",
       "\n",
       "// Listen for the removal of the full notebook cells\n",
       "var notebookContainer = gd.closest('#notebook-container');\n",
       "if (notebookContainer) {{\n",
       "    x.observe(notebookContainer, {childList: true});\n",
       "}}\n",
       "\n",
       "// Listen for the clearing of the current output cell\n",
       "var outputEl = gd.closest('.output');\n",
       "if (outputEl) {{\n",
       "    x.observe(outputEl, {childList: true});\n",
       "}}\n",
       "\n",
       "                        })                };                });            </script>        </div>"
      ]
     },
     "metadata": {},
     "output_type": "display_data"
    }
   ],
   "source": [
    "import matplotlib\n",
    "import matplotlib.pyplot as plt\n",
    "import numpy as np\n",
    "from svglib.svglib import svg2rlg\n",
    "from reportlab.graphics import renderPDF\n",
    "from reportlab.pdfgen import canvas\n",
    "\n",
    "from numpy import percentile, mean, std\n",
    "import plotly.graph_objects as go\n",
    "\n",
    "from plotly.offline import init_notebook_mode, iplot\n",
    "\n",
    "import plotly.io as pio\n",
    "pio.templates.default = \"none\"\n",
    "# pio.templates.default = \"simple_white\"\n",
    "\n",
    "import plotly.graph_objects as go\n",
    "from plotly.subplots import make_subplots\n",
    "import pandas as pd\n",
    "# import plotly.express as px\n",
    "\n",
    "for x in ['qps','mean','p99']:\n",
    "    for cbatch in [10]:\n",
    "        for model_name in ['resnet']:\n",
    "            list_traces = []\n",
    "            for numctn in [1,2,4,8,16,32]: \n",
    "                dfg_bench = dfg[(dfg['benchmark']== model_name)  & (dfg['cbatch']==cbatch) & (dfg['numctn']==numctn) &\\\n",
    "                            ((dfg['k8senv']=='none') |\\\n",
    "                             (dfg['k8senv']=='cpumem')| (dfg['k8senv']=='cpumemory'))]\n",
    "                print(dfg_bench)\n",
    "\n",
    "\n",
    "                #data\n",
    "                trace = go.Scatter(\n",
    "                    name=\"ctn\"+str(numctn),\n",
    "                    x=[ 'none','cpumem','cpu'],\n",
    "                    y= dfg_bench[x].values.tolist(),\n",
    "        #             error_y = dict(type='data', array=df1_bench['model_time_std'].values.tolist()),\n",
    "                    opacity=0.7,\n",
    "                    mode='markers'\n",
    "                )\n",
    "                list_traces.append(trace)\n",
    "\n",
    "\n",
    "\n",
    "            #layout\n",
    "            layout = go.Layout(\n",
    "                title={\n",
    "                    'text': \"exp18(cpu32)= inter16,intra32 -> inter1,intra2; restapi=32\" ,\n",
    "                    'y':0.85,\n",
    "                    'x':0.5,\n",
    "                    'xanchor': 'center',\n",
    "                    'yanchor': 'top'},\n",
    "                width=1000,\n",
    "                height=460,\n",
    "                xaxis=dict(\n",
    "                    title= \"scenarios\",\n",
    "                    tickvals=[ 'none','cpumem','cpu'],\n",
    "                    titlefont=dict(\n",
    "                        size=10,\n",
    "                        color='rgb(107, 107, 107)'\n",
    "                    ),\n",
    "                    tickfont=dict(\n",
    "                        size=10,\n",
    "                        color='rgb(107, 107, 107)'\n",
    "                    )\n",
    "                ),\n",
    "                yaxis=dict(\n",
    "                    title= x+\"batch\"+str(cbatch),\n",
    "                    automargin=True,\n",
    "                    titlefont=dict(\n",
    "                        size=25,\n",
    "                        color='rgb(107, 107, 107)'\n",
    "                    ),\n",
    "                    tickfont=dict(\n",
    "                        size=25,\n",
    "                        color='rgb(107, 107, 107)'\n",
    "                    ),    \n",
    "                ),\n",
    "                legend=dict(\n",
    "                    x=1.0,\n",
    "                    y=1.0,\n",
    "                    bgcolor='rgba(255, 255, 255, 0)',\n",
    "                    bordercolor='rgba(255, 255, 255, 0)',\n",
    "                    font = dict( size = 28)\n",
    "                ),\n",
    "                barmode='group',\n",
    "                bargap=0.15,\n",
    "                bargroupgap=0.08\n",
    "        #         legend_orientation=\"h\"\n",
    "            )\n",
    "\n",
    "        data = list_traces\n",
    "        fig = go.Figure(data=data, layout=layout)\n",
    "        fig.update_layout(legend_orientation=\"h\")\n",
    "        fig.show()    \n",
    "\n",
    "    #     fig.write_image(path + model_name + k8senv +'.pdf')"
   ]
  },
  {
   "cell_type": "code",
   "execution_count": null,
   "id": "4232f1de",
   "metadata": {},
   "outputs": [],
   "source": []
  },
  {
   "cell_type": "code",
   "execution_count": null,
   "id": "41a87e54",
   "metadata": {},
   "outputs": [],
   "source": []
  },
  {
   "cell_type": "code",
   "execution_count": null,
   "id": "e58b2c83",
   "metadata": {},
   "outputs": [],
   "source": []
  },
  {
   "cell_type": "code",
   "execution_count": null,
   "id": "ae9e270b",
   "metadata": {},
   "outputs": [],
   "source": []
  }
 ],
 "metadata": {
  "kernelspec": {
   "display_name": "Python 3",
   "language": "python",
   "name": "python3"
  },
  "language_info": {
   "codemirror_mode": {
    "name": "ipython",
    "version": 3
   },
   "file_extension": ".py",
   "mimetype": "text/x-python",
   "name": "python",
   "nbconvert_exporter": "python",
   "pygments_lexer": "ipython3",
   "version": "3.8.5"
  }
 },
 "nbformat": 4,
 "nbformat_minor": 5
}
