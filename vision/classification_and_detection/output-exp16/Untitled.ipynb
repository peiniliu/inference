{
 "cells": [
  {
   "cell_type": "code",
   "execution_count": 8,
   "id": "de0246d4",
   "metadata": {},
   "outputs": [
    {
     "data": {
      "text/html": [
       "        <script type=\"text/javascript\">\n",
       "        window.PlotlyConfig = {MathJaxConfig: 'local'};\n",
       "        if (window.MathJax) {MathJax.Hub.Config({SVG: {font: \"STIX-Web\"}});}\n",
       "        if (typeof require !== 'undefined') {\n",
       "        require.undef(\"plotly\");\n",
       "        requirejs.config({\n",
       "            paths: {\n",
       "                'plotly': ['https://cdn.plot.ly/plotly-latest.min']\n",
       "            }\n",
       "        });\n",
       "        require(['plotly'], function(Plotly) {\n",
       "            window._Plotly = Plotly;\n",
       "        });\n",
       "        }\n",
       "        </script>\n",
       "        "
      ]
     },
     "metadata": {},
     "output_type": "display_data"
    },
    {
     "data": {
      "text/html": [
       "<div>\n",
       "<style scoped>\n",
       "    .dataframe tbody tr th:only-of-type {\n",
       "        vertical-align: middle;\n",
       "    }\n",
       "\n",
       "    .dataframe tbody tr th {\n",
       "        vertical-align: top;\n",
       "    }\n",
       "\n",
       "    .dataframe thead th {\n",
       "        text-align: right;\n",
       "    }\n",
       "</style>\n",
       "<table border=\"1\" class=\"dataframe\">\n",
       "  <thead>\n",
       "    <tr style=\"text-align: right;\">\n",
       "      <th></th>\n",
       "      <th>benchmark</th>\n",
       "      <th>k8senv</th>\n",
       "      <th>sbatch</th>\n",
       "      <th>numctn</th>\n",
       "      <th>cscenario</th>\n",
       "      <th>cbatch</th>\n",
       "      <th>reps</th>\n",
       "      <th>qps</th>\n",
       "      <th>mean</th>\n",
       "      <th>p50</th>\n",
       "      <th>p80</th>\n",
       "      <th>p90</th>\n",
       "      <th>p95</th>\n",
       "      <th>p99</th>\n",
       "      <th>p999</th>\n",
       "    </tr>\n",
       "  </thead>\n",
       "  <tbody>\n",
       "    <tr>\n",
       "      <th>0</th>\n",
       "      <td>resnet</td>\n",
       "      <td>none</td>\n",
       "      <td>16</td>\n",
       "      <td>1</td>\n",
       "      <td>offline</td>\n",
       "      <td>10</td>\n",
       "      <td>10</td>\n",
       "      <td>98.273027</td>\n",
       "      <td>125.820866</td>\n",
       "      <td>125.818935</td>\n",
       "      <td>200.564369</td>\n",
       "      <td>225.700320</td>\n",
       "      <td>238.344542</td>\n",
       "      <td>248.224760</td>\n",
       "      <td>250.012394</td>\n",
       "    </tr>\n",
       "    <tr>\n",
       "      <th>1</th>\n",
       "      <td>resnet</td>\n",
       "      <td>none</td>\n",
       "      <td>16</td>\n",
       "      <td>2</td>\n",
       "      <td>offline</td>\n",
       "      <td>10</td>\n",
       "      <td>10</td>\n",
       "      <td>106.801815</td>\n",
       "      <td>116.042795</td>\n",
       "      <td>116.111661</td>\n",
       "      <td>184.428568</td>\n",
       "      <td>206.989278</td>\n",
       "      <td>218.570299</td>\n",
       "      <td>227.435710</td>\n",
       "      <td>229.937693</td>\n",
       "    </tr>\n",
       "    <tr>\n",
       "      <th>2</th>\n",
       "      <td>resnet</td>\n",
       "      <td>none</td>\n",
       "      <td>16</td>\n",
       "      <td>4</td>\n",
       "      <td>offline</td>\n",
       "      <td>10</td>\n",
       "      <td>10</td>\n",
       "      <td>105.097964</td>\n",
       "      <td>116.672298</td>\n",
       "      <td>116.511182</td>\n",
       "      <td>185.617108</td>\n",
       "      <td>208.601253</td>\n",
       "      <td>219.957580</td>\n",
       "      <td>229.062004</td>\n",
       "      <td>233.604075</td>\n",
       "    </tr>\n",
       "    <tr>\n",
       "      <th>3</th>\n",
       "      <td>resnet</td>\n",
       "      <td>none</td>\n",
       "      <td>16</td>\n",
       "      <td>8</td>\n",
       "      <td>offline</td>\n",
       "      <td>10</td>\n",
       "      <td>10</td>\n",
       "      <td>104.080655</td>\n",
       "      <td>118.222165</td>\n",
       "      <td>118.111340</td>\n",
       "      <td>188.412951</td>\n",
       "      <td>211.439422</td>\n",
       "      <td>223.321596</td>\n",
       "      <td>232.476205</td>\n",
       "      <td>235.543738</td>\n",
       "    </tr>\n",
       "    <tr>\n",
       "      <th>4</th>\n",
       "      <td>resnet</td>\n",
       "      <td>none</td>\n",
       "      <td>16</td>\n",
       "      <td>16</td>\n",
       "      <td>offline</td>\n",
       "      <td>10</td>\n",
       "      <td>10</td>\n",
       "      <td>102.341570</td>\n",
       "      <td>118.458069</td>\n",
       "      <td>118.013440</td>\n",
       "      <td>189.734729</td>\n",
       "      <td>213.355906</td>\n",
       "      <td>225.465998</td>\n",
       "      <td>235.144693</td>\n",
       "      <td>239.149379</td>\n",
       "    </tr>\n",
       "  </tbody>\n",
       "</table>\n",
       "</div>"
      ],
      "text/plain": [
       "  benchmark k8senv  sbatch  numctn cscenario  cbatch  reps         qps  \\\n",
       "0    resnet   none      16       1   offline      10    10   98.273027   \n",
       "1    resnet   none      16       2   offline      10    10  106.801815   \n",
       "2    resnet   none      16       4   offline      10    10  105.097964   \n",
       "3    resnet   none      16       8   offline      10    10  104.080655   \n",
       "4    resnet   none      16      16   offline      10    10  102.341570   \n",
       "\n",
       "         mean         p50         p80         p90         p95         p99  \\\n",
       "0  125.820866  125.818935  200.564369  225.700320  238.344542  248.224760   \n",
       "1  116.042795  116.111661  184.428568  206.989278  218.570299  227.435710   \n",
       "2  116.672298  116.511182  185.617108  208.601253  219.957580  229.062004   \n",
       "3  118.222165  118.111340  188.412951  211.439422  223.321596  232.476205   \n",
       "4  118.458069  118.013440  189.734729  213.355906  225.465998  235.144693   \n",
       "\n",
       "         p999  \n",
       "0  250.012394  \n",
       "1  229.937693  \n",
       "2  233.604075  \n",
       "3  235.543738  \n",
       "4  239.149379  "
      ]
     },
     "execution_count": 8,
     "metadata": {},
     "output_type": "execute_result"
    }
   ],
   "source": [
    "import pandas as pd\n",
    "import glob\n",
    "# import plotly.plotly as py\n",
    "import plotly.graph_objs as go\n",
    "\n",
    "from plotly import tools\n",
    "from plotly.offline import init_notebook_mode, iplot\n",
    "init_notebook_mode(connected=True) \n",
    "\n",
    "import numpy as np\n",
    "import matplotlib.pyplot as plt\n",
    "# include if using a Jupyter notebook\n",
    "# %matplotlib inline\n",
    "\n",
    "path = \"/gpfs/bsc_home/xpliu/inference/vision/classification_and_detection/output-exp16/\"\n",
    "all_files = glob.glob(path + \"*.csv\")\n",
    "\n",
    "li = []\n",
    "\n",
    "for filename in all_files:\n",
    "    df = pd.read_csv(filename, index_col=None, header=0)\n",
    "    li.append(df)\n",
    "\n",
    "df = pd.concat(li, axis=0, ignore_index=True)\n",
    "df.head()"
   ]
  },
  {
   "cell_type": "code",
   "execution_count": 9,
   "id": "fe8c3d7f",
   "metadata": {},
   "outputs": [
    {
     "data": {
      "text/plain": [
       "15"
      ]
     },
     "execution_count": 9,
     "metadata": {},
     "output_type": "execute_result"
    }
   ],
   "source": [
    "len(df)"
   ]
  },
  {
   "cell_type": "code",
   "execution_count": 10,
   "id": "d48083a0",
   "metadata": {},
   "outputs": [
    {
     "data": {
      "text/plain": [
       "array(['resnet'], dtype=object)"
      ]
     },
     "execution_count": 10,
     "metadata": {},
     "output_type": "execute_result"
    }
   ],
   "source": [
    "df['benchmark'].unique()"
   ]
  },
  {
   "cell_type": "code",
   "execution_count": 11,
   "id": "b318f564",
   "metadata": {},
   "outputs": [
    {
     "data": {
      "text/plain": [
       "array(['none', 'cpumemory', 'cpumem'], dtype=object)"
      ]
     },
     "execution_count": 11,
     "metadata": {},
     "output_type": "execute_result"
    }
   ],
   "source": [
    "df['k8senv'].unique()"
   ]
  },
  {
   "cell_type": "code",
   "execution_count": 12,
   "id": "a2a7701a",
   "metadata": {},
   "outputs": [
    {
     "data": {
      "text/plain": [
       "numpy.float64"
      ]
     },
     "execution_count": 12,
     "metadata": {},
     "output_type": "execute_result"
    }
   ],
   "source": [
    "type(df['qps'][0])"
   ]
  },
  {
   "cell_type": "markdown",
   "id": "53f2033c",
   "metadata": {},
   "source": [
    "# Graph"
   ]
  },
  {
   "cell_type": "code",
   "execution_count": 13,
   "id": "5786faec",
   "metadata": {},
   "outputs": [
    {
     "data": {
      "text/html": [
       "        <script type=\"text/javascript\">\n",
       "        window.PlotlyConfig = {MathJaxConfig: 'local'};\n",
       "        if (window.MathJax) {MathJax.Hub.Config({SVG: {font: \"STIX-Web\"}});}\n",
       "        if (typeof require !== 'undefined') {\n",
       "        require.undef(\"plotly\");\n",
       "        requirejs.config({\n",
       "            paths: {\n",
       "                'plotly': ['https://cdn.plot.ly/plotly-latest.min']\n",
       "            }\n",
       "        });\n",
       "        require(['plotly'], function(Plotly) {\n",
       "            window._Plotly = Plotly;\n",
       "        });\n",
       "        }\n",
       "        </script>\n",
       "        "
      ]
     },
     "metadata": {},
     "output_type": "display_data"
    },
    {
     "data": {
      "text/html": [
       "<div>\n",
       "<style scoped>\n",
       "    .dataframe tbody tr th:only-of-type {\n",
       "        vertical-align: middle;\n",
       "    }\n",
       "\n",
       "    .dataframe tbody tr th {\n",
       "        vertical-align: top;\n",
       "    }\n",
       "\n",
       "    .dataframe thead th {\n",
       "        text-align: right;\n",
       "    }\n",
       "</style>\n",
       "<table border=\"1\" class=\"dataframe\">\n",
       "  <thead>\n",
       "    <tr style=\"text-align: right;\">\n",
       "      <th></th>\n",
       "      <th>benchmark</th>\n",
       "      <th>k8senv</th>\n",
       "      <th>sbatch</th>\n",
       "      <th>numctn</th>\n",
       "      <th>cscenario</th>\n",
       "      <th>cbatch</th>\n",
       "      <th>reps</th>\n",
       "      <th>qps</th>\n",
       "      <th>mean</th>\n",
       "      <th>p50</th>\n",
       "      <th>p80</th>\n",
       "      <th>p90</th>\n",
       "      <th>p95</th>\n",
       "      <th>p99</th>\n",
       "      <th>p999</th>\n",
       "    </tr>\n",
       "  </thead>\n",
       "  <tbody>\n",
       "    <tr>\n",
       "      <th>0</th>\n",
       "      <td>resnet</td>\n",
       "      <td>none</td>\n",
       "      <td>16</td>\n",
       "      <td>1</td>\n",
       "      <td>offline</td>\n",
       "      <td>10</td>\n",
       "      <td>10</td>\n",
       "      <td>98.273027</td>\n",
       "      <td>125.820866</td>\n",
       "      <td>125.818935</td>\n",
       "      <td>200.564369</td>\n",
       "      <td>225.700320</td>\n",
       "      <td>238.344542</td>\n",
       "      <td>248.224760</td>\n",
       "      <td>250.012394</td>\n",
       "    </tr>\n",
       "    <tr>\n",
       "      <th>1</th>\n",
       "      <td>resnet</td>\n",
       "      <td>none</td>\n",
       "      <td>16</td>\n",
       "      <td>2</td>\n",
       "      <td>offline</td>\n",
       "      <td>10</td>\n",
       "      <td>10</td>\n",
       "      <td>106.801815</td>\n",
       "      <td>116.042795</td>\n",
       "      <td>116.111661</td>\n",
       "      <td>184.428568</td>\n",
       "      <td>206.989278</td>\n",
       "      <td>218.570299</td>\n",
       "      <td>227.435710</td>\n",
       "      <td>229.937693</td>\n",
       "    </tr>\n",
       "    <tr>\n",
       "      <th>2</th>\n",
       "      <td>resnet</td>\n",
       "      <td>none</td>\n",
       "      <td>16</td>\n",
       "      <td>4</td>\n",
       "      <td>offline</td>\n",
       "      <td>10</td>\n",
       "      <td>10</td>\n",
       "      <td>105.097964</td>\n",
       "      <td>116.672298</td>\n",
       "      <td>116.511182</td>\n",
       "      <td>185.617108</td>\n",
       "      <td>208.601253</td>\n",
       "      <td>219.957580</td>\n",
       "      <td>229.062004</td>\n",
       "      <td>233.604075</td>\n",
       "    </tr>\n",
       "    <tr>\n",
       "      <th>3</th>\n",
       "      <td>resnet</td>\n",
       "      <td>none</td>\n",
       "      <td>16</td>\n",
       "      <td>8</td>\n",
       "      <td>offline</td>\n",
       "      <td>10</td>\n",
       "      <td>10</td>\n",
       "      <td>104.080655</td>\n",
       "      <td>118.222165</td>\n",
       "      <td>118.111340</td>\n",
       "      <td>188.412951</td>\n",
       "      <td>211.439422</td>\n",
       "      <td>223.321596</td>\n",
       "      <td>232.476205</td>\n",
       "      <td>235.543738</td>\n",
       "    </tr>\n",
       "    <tr>\n",
       "      <th>4</th>\n",
       "      <td>resnet</td>\n",
       "      <td>none</td>\n",
       "      <td>16</td>\n",
       "      <td>16</td>\n",
       "      <td>offline</td>\n",
       "      <td>10</td>\n",
       "      <td>10</td>\n",
       "      <td>102.341570</td>\n",
       "      <td>118.458069</td>\n",
       "      <td>118.013440</td>\n",
       "      <td>189.734729</td>\n",
       "      <td>213.355906</td>\n",
       "      <td>225.465998</td>\n",
       "      <td>235.144693</td>\n",
       "      <td>239.149379</td>\n",
       "    </tr>\n",
       "    <tr>\n",
       "      <th>5</th>\n",
       "      <td>resnet</td>\n",
       "      <td>cpumemory</td>\n",
       "      <td>16</td>\n",
       "      <td>1</td>\n",
       "      <td>offline</td>\n",
       "      <td>10</td>\n",
       "      <td>10</td>\n",
       "      <td>99.431221</td>\n",
       "      <td>124.548702</td>\n",
       "      <td>124.623667</td>\n",
       "      <td>198.350302</td>\n",
       "      <td>223.151197</td>\n",
       "      <td>235.694968</td>\n",
       "      <td>245.364184</td>\n",
       "      <td>247.111888</td>\n",
       "    </tr>\n",
       "    <tr>\n",
       "      <th>6</th>\n",
       "      <td>resnet</td>\n",
       "      <td>cpumemory</td>\n",
       "      <td>16</td>\n",
       "      <td>2</td>\n",
       "      <td>offline</td>\n",
       "      <td>10</td>\n",
       "      <td>10</td>\n",
       "      <td>NaN</td>\n",
       "      <td>NaN</td>\n",
       "      <td>NaN</td>\n",
       "      <td>NaN</td>\n",
       "      <td>NaN</td>\n",
       "      <td>NaN</td>\n",
       "      <td>NaN</td>\n",
       "      <td>NaN</td>\n",
       "    </tr>\n",
       "    <tr>\n",
       "      <th>7</th>\n",
       "      <td>resnet</td>\n",
       "      <td>cpumemory</td>\n",
       "      <td>16</td>\n",
       "      <td>4</td>\n",
       "      <td>offline</td>\n",
       "      <td>10</td>\n",
       "      <td>10</td>\n",
       "      <td>NaN</td>\n",
       "      <td>NaN</td>\n",
       "      <td>NaN</td>\n",
       "      <td>NaN</td>\n",
       "      <td>NaN</td>\n",
       "      <td>NaN</td>\n",
       "      <td>NaN</td>\n",
       "      <td>NaN</td>\n",
       "    </tr>\n",
       "    <tr>\n",
       "      <th>8</th>\n",
       "      <td>resnet</td>\n",
       "      <td>cpumemory</td>\n",
       "      <td>16</td>\n",
       "      <td>8</td>\n",
       "      <td>offline</td>\n",
       "      <td>10</td>\n",
       "      <td>10</td>\n",
       "      <td>NaN</td>\n",
       "      <td>NaN</td>\n",
       "      <td>NaN</td>\n",
       "      <td>NaN</td>\n",
       "      <td>NaN</td>\n",
       "      <td>NaN</td>\n",
       "      <td>NaN</td>\n",
       "      <td>NaN</td>\n",
       "    </tr>\n",
       "    <tr>\n",
       "      <th>9</th>\n",
       "      <td>resnet</td>\n",
       "      <td>cpumemory</td>\n",
       "      <td>16</td>\n",
       "      <td>16</td>\n",
       "      <td>offline</td>\n",
       "      <td>10</td>\n",
       "      <td>10</td>\n",
       "      <td>NaN</td>\n",
       "      <td>NaN</td>\n",
       "      <td>NaN</td>\n",
       "      <td>NaN</td>\n",
       "      <td>NaN</td>\n",
       "      <td>NaN</td>\n",
       "      <td>NaN</td>\n",
       "      <td>NaN</td>\n",
       "    </tr>\n",
       "    <tr>\n",
       "      <th>10</th>\n",
       "      <td>resnet</td>\n",
       "      <td>cpumem</td>\n",
       "      <td>16</td>\n",
       "      <td>1</td>\n",
       "      <td>offline</td>\n",
       "      <td>10</td>\n",
       "      <td>10</td>\n",
       "      <td>99.403419</td>\n",
       "      <td>124.357427</td>\n",
       "      <td>124.177136</td>\n",
       "      <td>198.294185</td>\n",
       "      <td>223.243891</td>\n",
       "      <td>235.622538</td>\n",
       "      <td>245.457584</td>\n",
       "      <td>247.190365</td>\n",
       "    </tr>\n",
       "    <tr>\n",
       "      <th>11</th>\n",
       "      <td>resnet</td>\n",
       "      <td>cpumem</td>\n",
       "      <td>16</td>\n",
       "      <td>2</td>\n",
       "      <td>offline</td>\n",
       "      <td>10</td>\n",
       "      <td>10</td>\n",
       "      <td>108.559182</td>\n",
       "      <td>113.190965</td>\n",
       "      <td>113.083462</td>\n",
       "      <td>180.714017</td>\n",
       "      <td>202.912486</td>\n",
       "      <td>214.119728</td>\n",
       "      <td>222.902915</td>\n",
       "      <td>226.314672</td>\n",
       "    </tr>\n",
       "    <tr>\n",
       "      <th>12</th>\n",
       "      <td>resnet</td>\n",
       "      <td>cpumem</td>\n",
       "      <td>16</td>\n",
       "      <td>4</td>\n",
       "      <td>offline</td>\n",
       "      <td>10</td>\n",
       "      <td>10</td>\n",
       "      <td>106.365454</td>\n",
       "      <td>115.146199</td>\n",
       "      <td>114.902700</td>\n",
       "      <td>183.776141</td>\n",
       "      <td>206.522423</td>\n",
       "      <td>217.963199</td>\n",
       "      <td>227.134999</td>\n",
       "      <td>230.651900</td>\n",
       "    </tr>\n",
       "    <tr>\n",
       "      <th>13</th>\n",
       "      <td>resnet</td>\n",
       "      <td>cpumem</td>\n",
       "      <td>16</td>\n",
       "      <td>8</td>\n",
       "      <td>offline</td>\n",
       "      <td>10</td>\n",
       "      <td>10</td>\n",
       "      <td>104.117993</td>\n",
       "      <td>117.775628</td>\n",
       "      <td>117.477932</td>\n",
       "      <td>187.754077</td>\n",
       "      <td>211.312312</td>\n",
       "      <td>223.032529</td>\n",
       "      <td>232.491003</td>\n",
       "      <td>235.748912</td>\n",
       "    </tr>\n",
       "    <tr>\n",
       "      <th>14</th>\n",
       "      <td>resnet</td>\n",
       "      <td>cpumem</td>\n",
       "      <td>16</td>\n",
       "      <td>16</td>\n",
       "      <td>offline</td>\n",
       "      <td>10</td>\n",
       "      <td>10</td>\n",
       "      <td>105.737707</td>\n",
       "      <td>115.234737</td>\n",
       "      <td>115.158250</td>\n",
       "      <td>183.710012</td>\n",
       "      <td>206.337696</td>\n",
       "      <td>217.825400</td>\n",
       "      <td>226.837600</td>\n",
       "      <td>231.157395</td>\n",
       "    </tr>\n",
       "  </tbody>\n",
       "</table>\n",
       "</div>"
      ],
      "text/plain": [
       "   benchmark     k8senv  sbatch  numctn cscenario  cbatch  reps         qps  \\\n",
       "0     resnet       none      16       1   offline      10    10   98.273027   \n",
       "1     resnet       none      16       2   offline      10    10  106.801815   \n",
       "2     resnet       none      16       4   offline      10    10  105.097964   \n",
       "3     resnet       none      16       8   offline      10    10  104.080655   \n",
       "4     resnet       none      16      16   offline      10    10  102.341570   \n",
       "5     resnet  cpumemory      16       1   offline      10    10   99.431221   \n",
       "6     resnet  cpumemory      16       2   offline      10    10         NaN   \n",
       "7     resnet  cpumemory      16       4   offline      10    10         NaN   \n",
       "8     resnet  cpumemory      16       8   offline      10    10         NaN   \n",
       "9     resnet  cpumemory      16      16   offline      10    10         NaN   \n",
       "10    resnet     cpumem      16       1   offline      10    10   99.403419   \n",
       "11    resnet     cpumem      16       2   offline      10    10  108.559182   \n",
       "12    resnet     cpumem      16       4   offline      10    10  106.365454   \n",
       "13    resnet     cpumem      16       8   offline      10    10  104.117993   \n",
       "14    resnet     cpumem      16      16   offline      10    10  105.737707   \n",
       "\n",
       "          mean         p50         p80         p90         p95         p99  \\\n",
       "0   125.820866  125.818935  200.564369  225.700320  238.344542  248.224760   \n",
       "1   116.042795  116.111661  184.428568  206.989278  218.570299  227.435710   \n",
       "2   116.672298  116.511182  185.617108  208.601253  219.957580  229.062004   \n",
       "3   118.222165  118.111340  188.412951  211.439422  223.321596  232.476205   \n",
       "4   118.458069  118.013440  189.734729  213.355906  225.465998  235.144693   \n",
       "5   124.548702  124.623667  198.350302  223.151197  235.694968  245.364184   \n",
       "6          NaN         NaN         NaN         NaN         NaN         NaN   \n",
       "7          NaN         NaN         NaN         NaN         NaN         NaN   \n",
       "8          NaN         NaN         NaN         NaN         NaN         NaN   \n",
       "9          NaN         NaN         NaN         NaN         NaN         NaN   \n",
       "10  124.357427  124.177136  198.294185  223.243891  235.622538  245.457584   \n",
       "11  113.190965  113.083462  180.714017  202.912486  214.119728  222.902915   \n",
       "12  115.146199  114.902700  183.776141  206.522423  217.963199  227.134999   \n",
       "13  117.775628  117.477932  187.754077  211.312312  223.032529  232.491003   \n",
       "14  115.234737  115.158250  183.710012  206.337696  217.825400  226.837600   \n",
       "\n",
       "          p999  \n",
       "0   250.012394  \n",
       "1   229.937693  \n",
       "2   233.604075  \n",
       "3   235.543738  \n",
       "4   239.149379  \n",
       "5   247.111888  \n",
       "6          NaN  \n",
       "7          NaN  \n",
       "8          NaN  \n",
       "9          NaN  \n",
       "10  247.190365  \n",
       "11  226.314672  \n",
       "12  230.651900  \n",
       "13  235.748912  \n",
       "14  231.157395  "
      ]
     },
     "execution_count": 13,
     "metadata": {},
     "output_type": "execute_result"
    }
   ],
   "source": [
    "import pandas as pd\n",
    "import glob\n",
    "# import plotly.plotly as py\n",
    "import plotly.graph_objs as go\n",
    "\n",
    "from plotly import tools\n",
    "from plotly.offline import init_notebook_mode, iplot\n",
    "init_notebook_mode(connected=True) \n",
    "\n",
    "import numpy as np\n",
    "import matplotlib.pyplot as plt\n",
    "# include if using a Jupyter notebook\n",
    "%matplotlib inline\n",
    "dfg = df\n",
    "dfg"
   ]
  },
  {
   "cell_type": "code",
   "execution_count": 15,
   "id": "1147c970",
   "metadata": {
    "scrolled": false
   },
   "outputs": [
    {
     "data": {
      "application/vnd.plotly.v1+json": {
       "config": {
        "plotlyServerURL": "https://plot.ly"
       },
       "data": [
        {
         "mode": "markers",
         "name": "ctn1",
         "opacity": 0.7,
         "type": "scatter",
         "x": [
          "none",
          "cpumem",
          "cpu"
         ],
         "y": [
          98.273027074305,
          99.43122053920716,
          99.40341891867968
         ]
        },
        {
         "mode": "markers",
         "name": "ctn2",
         "opacity": 0.7,
         "type": "scatter",
         "x": [
          "none",
          "cpumem",
          "cpu"
         ],
         "y": [
          106.80181489743298,
          null,
          108.55918151845354
         ]
        },
        {
         "mode": "markers",
         "name": "ctn4",
         "opacity": 0.7,
         "type": "scatter",
         "x": [
          "none",
          "cpumem",
          "cpu"
         ],
         "y": [
          105.09796401721536,
          null,
          106.36545398342663
         ]
        },
        {
         "mode": "markers",
         "name": "ctn8",
         "opacity": 0.7,
         "type": "scatter",
         "x": [
          "none",
          "cpumem",
          "cpu"
         ],
         "y": [
          104.08065523007306,
          null,
          104.11799303222296
         ]
        },
        {
         "mode": "markers",
         "name": "ctn16",
         "opacity": 0.7,
         "type": "scatter",
         "x": [
          "none",
          "cpumem",
          "cpu"
         ],
         "y": [
          102.3415696148354,
          null,
          105.73770722091623
         ]
        },
        {
         "mode": "markers",
         "name": "ctn32",
         "opacity": 0.7,
         "type": "scatter",
         "x": [
          "none",
          "cpumem",
          "cpu"
         ],
         "y": []
        }
       ],
       "layout": {
        "bargap": 0.15,
        "bargroupgap": 0.08,
        "barmode": "group",
        "height": 460,
        "legend": {
         "bgcolor": "rgba(255, 255, 255, 0)",
         "bordercolor": "rgba(255, 255, 255, 0)",
         "font": {
          "size": 28
         },
         "orientation": "h",
         "x": 1,
         "y": 1
        },
        "template": {
         "data": {
          "scatter": [
           {
            "type": "scatter"
           }
          ]
         }
        },
        "title": {
         "text": "exp16（cpu32）= inter16,intra16 -> inter1,intra1; restapi=32",
         "x": 0.5,
         "xanchor": "center",
         "y": 0.85,
         "yanchor": "top"
        },
        "width": 1000,
        "xaxis": {
         "tickfont": {
          "color": "rgb(107, 107, 107)",
          "size": 10
         },
         "tickvals": [
          "none",
          "cpumem",
          "cpu"
         ],
         "title": {
          "font": {
           "color": "rgb(107, 107, 107)",
           "size": 10
          },
          "text": "scenarios"
         }
        },
        "yaxis": {
         "automargin": true,
         "tickfont": {
          "color": "rgb(107, 107, 107)",
          "size": 25
         },
         "title": {
          "font": {
           "color": "rgb(107, 107, 107)",
           "size": 25
          },
          "text": "qpsbatch10"
         }
        }
       }
      },
      "text/html": [
       "<div>                            <div id=\"3f8ac442-d2c3-45a5-8514-6d7ff114ba8e\" class=\"plotly-graph-div\" style=\"height:460px; width:1000px;\"></div>            <script type=\"text/javascript\">                require([\"plotly\"], function(Plotly) {                    window.PLOTLYENV=window.PLOTLYENV || {};                                    if (document.getElementById(\"3f8ac442-d2c3-45a5-8514-6d7ff114ba8e\")) {                    Plotly.newPlot(                        \"3f8ac442-d2c3-45a5-8514-6d7ff114ba8e\",                        [{\"mode\": \"markers\", \"name\": \"ctn1\", \"opacity\": 0.7, \"type\": \"scatter\", \"x\": [\"none\", \"cpumem\", \"cpu\"], \"y\": [98.273027074305, 99.43122053920716, 99.40341891867968]}, {\"mode\": \"markers\", \"name\": \"ctn2\", \"opacity\": 0.7, \"type\": \"scatter\", \"x\": [\"none\", \"cpumem\", \"cpu\"], \"y\": [106.80181489743298, null, 108.55918151845354]}, {\"mode\": \"markers\", \"name\": \"ctn4\", \"opacity\": 0.7, \"type\": \"scatter\", \"x\": [\"none\", \"cpumem\", \"cpu\"], \"y\": [105.09796401721536, null, 106.36545398342663]}, {\"mode\": \"markers\", \"name\": \"ctn8\", \"opacity\": 0.7, \"type\": \"scatter\", \"x\": [\"none\", \"cpumem\", \"cpu\"], \"y\": [104.08065523007306, null, 104.11799303222296]}, {\"mode\": \"markers\", \"name\": \"ctn16\", \"opacity\": 0.7, \"type\": \"scatter\", \"x\": [\"none\", \"cpumem\", \"cpu\"], \"y\": [102.3415696148354, null, 105.73770722091623]}, {\"mode\": \"markers\", \"name\": \"ctn32\", \"opacity\": 0.7, \"type\": \"scatter\", \"x\": [\"none\", \"cpumem\", \"cpu\"], \"y\": []}],                        {\"bargap\": 0.15, \"bargroupgap\": 0.08, \"barmode\": \"group\", \"height\": 460, \"legend\": {\"bgcolor\": \"rgba(255, 255, 255, 0)\", \"bordercolor\": \"rgba(255, 255, 255, 0)\", \"font\": {\"size\": 28}, \"orientation\": \"h\", \"x\": 1.0, \"y\": 1.0}, \"template\": {\"data\": {\"scatter\": [{\"type\": \"scatter\"}]}}, \"title\": {\"text\": \"exp16\\uff08cpu32\\uff09= inter16,intra16 -> inter1,intra1; restapi=32\", \"x\": 0.5, \"xanchor\": \"center\", \"y\": 0.85, \"yanchor\": \"top\"}, \"width\": 1000, \"xaxis\": {\"tickfont\": {\"color\": \"rgb(107, 107, 107)\", \"size\": 10}, \"tickvals\": [\"none\", \"cpumem\", \"cpu\"], \"title\": {\"font\": {\"color\": \"rgb(107, 107, 107)\", \"size\": 10}, \"text\": \"scenarios\"}}, \"yaxis\": {\"automargin\": true, \"tickfont\": {\"color\": \"rgb(107, 107, 107)\", \"size\": 25}, \"title\": {\"font\": {\"color\": \"rgb(107, 107, 107)\", \"size\": 25}, \"text\": \"qpsbatch10\"}}},                        {\"responsive\": true}                    ).then(function(){\n",
       "                            \n",
       "var gd = document.getElementById('3f8ac442-d2c3-45a5-8514-6d7ff114ba8e');\n",
       "var x = new MutationObserver(function (mutations, observer) {{\n",
       "        var display = window.getComputedStyle(gd).display;\n",
       "        if (!display || display === 'none') {{\n",
       "            console.log([gd, 'removed!']);\n",
       "            Plotly.purge(gd);\n",
       "            observer.disconnect();\n",
       "        }}\n",
       "}});\n",
       "\n",
       "// Listen for the removal of the full notebook cells\n",
       "var notebookContainer = gd.closest('#notebook-container');\n",
       "if (notebookContainer) {{\n",
       "    x.observe(notebookContainer, {childList: true});\n",
       "}}\n",
       "\n",
       "// Listen for the clearing of the current output cell\n",
       "var outputEl = gd.closest('.output');\n",
       "if (outputEl) {{\n",
       "    x.observe(outputEl, {childList: true});\n",
       "}}\n",
       "\n",
       "                        })                };                });            </script>        </div>"
      ]
     },
     "metadata": {},
     "output_type": "display_data"
    },
    {
     "data": {
      "application/vnd.plotly.v1+json": {
       "config": {
        "plotlyServerURL": "https://plot.ly"
       },
       "data": [
        {
         "mode": "markers",
         "name": "ctn1",
         "opacity": 0.7,
         "type": "scatter",
         "x": [
          "none",
          "cpumem",
          "cpu"
         ],
         "y": [
          125.82086595982244,
          124.5487024779567,
          124.35742743660784
         ]
        },
        {
         "mode": "markers",
         "name": "ctn2",
         "opacity": 0.7,
         "type": "scatter",
         "x": [
          "none",
          "cpumem",
          "cpu"
         ],
         "y": [
          116.04279500371828,
          null,
          113.19096512630828
         ]
        },
        {
         "mode": "markers",
         "name": "ctn4",
         "opacity": 0.7,
         "type": "scatter",
         "x": [
          "none",
          "cpumem",
          "cpu"
         ],
         "y": [
          116.67229796987442,
          null,
          115.14619897571043
         ]
        },
        {
         "mode": "markers",
         "name": "ctn8",
         "opacity": 0.7,
         "type": "scatter",
         "x": [
          "none",
          "cpumem",
          "cpu"
         ],
         "y": [
          118.22216474711288,
          null,
          117.7756283288746
         ]
        },
        {
         "mode": "markers",
         "name": "ctn16",
         "opacity": 0.7,
         "type": "scatter",
         "x": [
          "none",
          "cpumem",
          "cpu"
         ],
         "y": [
          118.45806934282967,
          null,
          115.23473688353988
         ]
        },
        {
         "mode": "markers",
         "name": "ctn32",
         "opacity": 0.7,
         "type": "scatter",
         "x": [
          "none",
          "cpumem",
          "cpu"
         ],
         "y": []
        }
       ],
       "layout": {
        "bargap": 0.15,
        "bargroupgap": 0.08,
        "barmode": "group",
        "height": 460,
        "legend": {
         "bgcolor": "rgba(255, 255, 255, 0)",
         "bordercolor": "rgba(255, 255, 255, 0)",
         "font": {
          "size": 28
         },
         "orientation": "h",
         "x": 1,
         "y": 1
        },
        "template": {
         "data": {
          "scatter": [
           {
            "type": "scatter"
           }
          ]
         }
        },
        "title": {
         "text": "exp16（cpu32）= inter16,intra16 -> inter1,intra1; restapi=32",
         "x": 0.5,
         "xanchor": "center",
         "y": 0.85,
         "yanchor": "top"
        },
        "width": 1000,
        "xaxis": {
         "tickfont": {
          "color": "rgb(107, 107, 107)",
          "size": 10
         },
         "tickvals": [
          "none",
          "cpumem",
          "cpu"
         ],
         "title": {
          "font": {
           "color": "rgb(107, 107, 107)",
           "size": 10
          },
          "text": "scenarios"
         }
        },
        "yaxis": {
         "automargin": true,
         "tickfont": {
          "color": "rgb(107, 107, 107)",
          "size": 25
         },
         "title": {
          "font": {
           "color": "rgb(107, 107, 107)",
           "size": 25
          },
          "text": "meanbatch10"
         }
        }
       }
      },
      "text/html": [
       "<div>                            <div id=\"ef6c2730-7760-4183-a60b-7fd5c8610a8c\" class=\"plotly-graph-div\" style=\"height:460px; width:1000px;\"></div>            <script type=\"text/javascript\">                require([\"plotly\"], function(Plotly) {                    window.PLOTLYENV=window.PLOTLYENV || {};                                    if (document.getElementById(\"ef6c2730-7760-4183-a60b-7fd5c8610a8c\")) {                    Plotly.newPlot(                        \"ef6c2730-7760-4183-a60b-7fd5c8610a8c\",                        [{\"mode\": \"markers\", \"name\": \"ctn1\", \"opacity\": 0.7, \"type\": \"scatter\", \"x\": [\"none\", \"cpumem\", \"cpu\"], \"y\": [125.82086595982244, 124.5487024779567, 124.35742743660784]}, {\"mode\": \"markers\", \"name\": \"ctn2\", \"opacity\": 0.7, \"type\": \"scatter\", \"x\": [\"none\", \"cpumem\", \"cpu\"], \"y\": [116.04279500371828, null, 113.19096512630828]}, {\"mode\": \"markers\", \"name\": \"ctn4\", \"opacity\": 0.7, \"type\": \"scatter\", \"x\": [\"none\", \"cpumem\", \"cpu\"], \"y\": [116.67229796987442, null, 115.14619897571043]}, {\"mode\": \"markers\", \"name\": \"ctn8\", \"opacity\": 0.7, \"type\": \"scatter\", \"x\": [\"none\", \"cpumem\", \"cpu\"], \"y\": [118.22216474711288, null, 117.7756283288746]}, {\"mode\": \"markers\", \"name\": \"ctn16\", \"opacity\": 0.7, \"type\": \"scatter\", \"x\": [\"none\", \"cpumem\", \"cpu\"], \"y\": [118.45806934282967, null, 115.23473688353988]}, {\"mode\": \"markers\", \"name\": \"ctn32\", \"opacity\": 0.7, \"type\": \"scatter\", \"x\": [\"none\", \"cpumem\", \"cpu\"], \"y\": []}],                        {\"bargap\": 0.15, \"bargroupgap\": 0.08, \"barmode\": \"group\", \"height\": 460, \"legend\": {\"bgcolor\": \"rgba(255, 255, 255, 0)\", \"bordercolor\": \"rgba(255, 255, 255, 0)\", \"font\": {\"size\": 28}, \"orientation\": \"h\", \"x\": 1.0, \"y\": 1.0}, \"template\": {\"data\": {\"scatter\": [{\"type\": \"scatter\"}]}}, \"title\": {\"text\": \"exp16\\uff08cpu32\\uff09= inter16,intra16 -> inter1,intra1; restapi=32\", \"x\": 0.5, \"xanchor\": \"center\", \"y\": 0.85, \"yanchor\": \"top\"}, \"width\": 1000, \"xaxis\": {\"tickfont\": {\"color\": \"rgb(107, 107, 107)\", \"size\": 10}, \"tickvals\": [\"none\", \"cpumem\", \"cpu\"], \"title\": {\"font\": {\"color\": \"rgb(107, 107, 107)\", \"size\": 10}, \"text\": \"scenarios\"}}, \"yaxis\": {\"automargin\": true, \"tickfont\": {\"color\": \"rgb(107, 107, 107)\", \"size\": 25}, \"title\": {\"font\": {\"color\": \"rgb(107, 107, 107)\", \"size\": 25}, \"text\": \"meanbatch10\"}}},                        {\"responsive\": true}                    ).then(function(){\n",
       "                            \n",
       "var gd = document.getElementById('ef6c2730-7760-4183-a60b-7fd5c8610a8c');\n",
       "var x = new MutationObserver(function (mutations, observer) {{\n",
       "        var display = window.getComputedStyle(gd).display;\n",
       "        if (!display || display === 'none') {{\n",
       "            console.log([gd, 'removed!']);\n",
       "            Plotly.purge(gd);\n",
       "            observer.disconnect();\n",
       "        }}\n",
       "}});\n",
       "\n",
       "// Listen for the removal of the full notebook cells\n",
       "var notebookContainer = gd.closest('#notebook-container');\n",
       "if (notebookContainer) {{\n",
       "    x.observe(notebookContainer, {childList: true});\n",
       "}}\n",
       "\n",
       "// Listen for the clearing of the current output cell\n",
       "var outputEl = gd.closest('.output');\n",
       "if (outputEl) {{\n",
       "    x.observe(outputEl, {childList: true});\n",
       "}}\n",
       "\n",
       "                        })                };                });            </script>        </div>"
      ]
     },
     "metadata": {},
     "output_type": "display_data"
    },
    {
     "data": {
      "application/vnd.plotly.v1+json": {
       "config": {
        "plotlyServerURL": "https://plot.ly"
       },
       "data": [
        {
         "mode": "markers",
         "name": "ctn1",
         "opacity": 0.7,
         "type": "scatter",
         "x": [
          "none",
          "cpumem",
          "cpu"
         ],
         "y": [
          248.2247595805,
          245.364183783,
          245.45758416275
         ]
        },
        {
         "mode": "markers",
         "name": "ctn2",
         "opacity": 0.7,
         "type": "scatter",
         "x": [
          "none",
          "cpumem",
          "cpu"
         ],
         "y": [
          227.435710435,
          null,
          222.90291515875
         ]
        },
        {
         "mode": "markers",
         "name": "ctn4",
         "opacity": 0.7,
         "type": "scatter",
         "x": [
          "none",
          "cpumem",
          "cpu"
         ],
         "y": [
          229.06200448825,
          null,
          227.1349987835
         ]
        },
        {
         "mode": "markers",
         "name": "ctn8",
         "opacity": 0.7,
         "type": "scatter",
         "x": [
          "none",
          "cpumem",
          "cpu"
         ],
         "y": [
          232.476205435,
          null,
          232.49100253225
         ]
        },
        {
         "mode": "markers",
         "name": "ctn16",
         "opacity": 0.7,
         "type": "scatter",
         "x": [
          "none",
          "cpumem",
          "cpu"
         ],
         "y": [
          235.14469336575,
          null,
          226.837600431
         ]
        },
        {
         "mode": "markers",
         "name": "ctn32",
         "opacity": 0.7,
         "type": "scatter",
         "x": [
          "none",
          "cpumem",
          "cpu"
         ],
         "y": []
        }
       ],
       "layout": {
        "bargap": 0.15,
        "bargroupgap": 0.08,
        "barmode": "group",
        "height": 460,
        "legend": {
         "bgcolor": "rgba(255, 255, 255, 0)",
         "bordercolor": "rgba(255, 255, 255, 0)",
         "font": {
          "size": 28
         },
         "orientation": "h",
         "x": 1,
         "y": 1
        },
        "template": {
         "data": {
          "scatter": [
           {
            "type": "scatter"
           }
          ]
         }
        },
        "title": {
         "text": "exp16（cpu32）= inter16,intra16 -> inter1,intra1; restapi=32",
         "x": 0.5,
         "xanchor": "center",
         "y": 0.85,
         "yanchor": "top"
        },
        "width": 1000,
        "xaxis": {
         "tickfont": {
          "color": "rgb(107, 107, 107)",
          "size": 10
         },
         "tickvals": [
          "none",
          "cpumem",
          "cpu"
         ],
         "title": {
          "font": {
           "color": "rgb(107, 107, 107)",
           "size": 10
          },
          "text": "scenarios"
         }
        },
        "yaxis": {
         "automargin": true,
         "tickfont": {
          "color": "rgb(107, 107, 107)",
          "size": 25
         },
         "title": {
          "font": {
           "color": "rgb(107, 107, 107)",
           "size": 25
          },
          "text": "p99batch10"
         }
        }
       }
      },
      "text/html": [
       "<div>                            <div id=\"a8ec2e92-52e3-49f8-bf94-9aa48fb1ce09\" class=\"plotly-graph-div\" style=\"height:460px; width:1000px;\"></div>            <script type=\"text/javascript\">                require([\"plotly\"], function(Plotly) {                    window.PLOTLYENV=window.PLOTLYENV || {};                                    if (document.getElementById(\"a8ec2e92-52e3-49f8-bf94-9aa48fb1ce09\")) {                    Plotly.newPlot(                        \"a8ec2e92-52e3-49f8-bf94-9aa48fb1ce09\",                        [{\"mode\": \"markers\", \"name\": \"ctn1\", \"opacity\": 0.7, \"type\": \"scatter\", \"x\": [\"none\", \"cpumem\", \"cpu\"], \"y\": [248.2247595805, 245.364183783, 245.45758416275]}, {\"mode\": \"markers\", \"name\": \"ctn2\", \"opacity\": 0.7, \"type\": \"scatter\", \"x\": [\"none\", \"cpumem\", \"cpu\"], \"y\": [227.435710435, null, 222.90291515875]}, {\"mode\": \"markers\", \"name\": \"ctn4\", \"opacity\": 0.7, \"type\": \"scatter\", \"x\": [\"none\", \"cpumem\", \"cpu\"], \"y\": [229.06200448825, null, 227.1349987835]}, {\"mode\": \"markers\", \"name\": \"ctn8\", \"opacity\": 0.7, \"type\": \"scatter\", \"x\": [\"none\", \"cpumem\", \"cpu\"], \"y\": [232.476205435, null, 232.49100253225]}, {\"mode\": \"markers\", \"name\": \"ctn16\", \"opacity\": 0.7, \"type\": \"scatter\", \"x\": [\"none\", \"cpumem\", \"cpu\"], \"y\": [235.14469336575, null, 226.837600431]}, {\"mode\": \"markers\", \"name\": \"ctn32\", \"opacity\": 0.7, \"type\": \"scatter\", \"x\": [\"none\", \"cpumem\", \"cpu\"], \"y\": []}],                        {\"bargap\": 0.15, \"bargroupgap\": 0.08, \"barmode\": \"group\", \"height\": 460, \"legend\": {\"bgcolor\": \"rgba(255, 255, 255, 0)\", \"bordercolor\": \"rgba(255, 255, 255, 0)\", \"font\": {\"size\": 28}, \"orientation\": \"h\", \"x\": 1.0, \"y\": 1.0}, \"template\": {\"data\": {\"scatter\": [{\"type\": \"scatter\"}]}}, \"title\": {\"text\": \"exp16\\uff08cpu32\\uff09= inter16,intra16 -> inter1,intra1; restapi=32\", \"x\": 0.5, \"xanchor\": \"center\", \"y\": 0.85, \"yanchor\": \"top\"}, \"width\": 1000, \"xaxis\": {\"tickfont\": {\"color\": \"rgb(107, 107, 107)\", \"size\": 10}, \"tickvals\": [\"none\", \"cpumem\", \"cpu\"], \"title\": {\"font\": {\"color\": \"rgb(107, 107, 107)\", \"size\": 10}, \"text\": \"scenarios\"}}, \"yaxis\": {\"automargin\": true, \"tickfont\": {\"color\": \"rgb(107, 107, 107)\", \"size\": 25}, \"title\": {\"font\": {\"color\": \"rgb(107, 107, 107)\", \"size\": 25}, \"text\": \"p99batch10\"}}},                        {\"responsive\": true}                    ).then(function(){\n",
       "                            \n",
       "var gd = document.getElementById('a8ec2e92-52e3-49f8-bf94-9aa48fb1ce09');\n",
       "var x = new MutationObserver(function (mutations, observer) {{\n",
       "        var display = window.getComputedStyle(gd).display;\n",
       "        if (!display || display === 'none') {{\n",
       "            console.log([gd, 'removed!']);\n",
       "            Plotly.purge(gd);\n",
       "            observer.disconnect();\n",
       "        }}\n",
       "}});\n",
       "\n",
       "// Listen for the removal of the full notebook cells\n",
       "var notebookContainer = gd.closest('#notebook-container');\n",
       "if (notebookContainer) {{\n",
       "    x.observe(notebookContainer, {childList: true});\n",
       "}}\n",
       "\n",
       "// Listen for the clearing of the current output cell\n",
       "var outputEl = gd.closest('.output');\n",
       "if (outputEl) {{\n",
       "    x.observe(outputEl, {childList: true});\n",
       "}}\n",
       "\n",
       "                        })                };                });            </script>        </div>"
      ]
     },
     "metadata": {},
     "output_type": "display_data"
    }
   ],
   "source": [
    "import matplotlib\n",
    "import matplotlib.pyplot as plt\n",
    "import numpy as np\n",
    "from svglib.svglib import svg2rlg\n",
    "from reportlab.graphics import renderPDF\n",
    "from reportlab.pdfgen import canvas\n",
    "\n",
    "from numpy import percentile, mean, std\n",
    "import plotly.graph_objects as go\n",
    "\n",
    "from plotly.offline import init_notebook_mode, iplot\n",
    "\n",
    "import plotly.io as pio\n",
    "pio.templates.default = \"none\"\n",
    "# pio.templates.default = \"simple_white\"\n",
    "\n",
    "import plotly.graph_objects as go\n",
    "from plotly.subplots import make_subplots\n",
    "import pandas as pd\n",
    "# import plotly.express as px\n",
    "\n",
    "for x in ['qps','mean','p99']:\n",
    "    for cbatch in [10]:\n",
    "        for model_name in ['resnet']:\n",
    "            list_traces = []\n",
    "            for numctn in [1,2,4,8,16,32]: \n",
    "                dfg_bench = dfg[(dfg['benchmark']== model_name)  & (dfg['cbatch']==cbatch) & (dfg['numctn']==numctn) &\\\n",
    "                            ((dfg['k8senv']=='none') |\\\n",
    "                             (dfg['k8senv']=='cpumem')| (dfg['k8senv']=='cpumemory'))]\n",
    "#                 print(dfg_bench)\n",
    "\n",
    "\n",
    "                #data\n",
    "                trace = go.Scatter(\n",
    "                    name=\"ctn\"+str(numctn),\n",
    "                    x=[ 'none','cpumem','cpu'],\n",
    "                    y= dfg_bench[x].values.tolist(),\n",
    "        #             error_y = dict(type='data', array=df1_bench['model_time_std'].values.tolist()),\n",
    "                    opacity=0.7,\n",
    "                    mode='markers'\n",
    "                )\n",
    "                list_traces.append(trace)\n",
    "\n",
    "\n",
    "\n",
    "            #layout\n",
    "            layout = go.Layout(\n",
    "                title={\n",
    "                    'text': \"exp16（cpu32）= inter16,intra16 -> inter1,intra1; restapi=32\" ,\n",
    "                    'y':0.85,\n",
    "                    'x':0.5,\n",
    "                    'xanchor': 'center',\n",
    "                    'yanchor': 'top'},\n",
    "                width=1000,\n",
    "                height=460,\n",
    "                xaxis=dict(\n",
    "                    title= \"scenarios\",\n",
    "                    tickvals=[ 'none','cpumem','cpu'],\n",
    "                    titlefont=dict(\n",
    "                        size=10,\n",
    "                        color='rgb(107, 107, 107)'\n",
    "                    ),\n",
    "                    tickfont=dict(\n",
    "                        size=10,\n",
    "                        color='rgb(107, 107, 107)'\n",
    "                    )\n",
    "                ),\n",
    "                yaxis=dict(\n",
    "                    title= x+\"batch\"+str(cbatch),\n",
    "                    automargin=True,\n",
    "                    titlefont=dict(\n",
    "                        size=25,\n",
    "                        color='rgb(107, 107, 107)'\n",
    "                    ),\n",
    "                    tickfont=dict(\n",
    "                        size=25,\n",
    "                        color='rgb(107, 107, 107)'\n",
    "                    ),    \n",
    "                ),\n",
    "                legend=dict(\n",
    "                    x=1.0,\n",
    "                    y=1.0,\n",
    "                    bgcolor='rgba(255, 255, 255, 0)',\n",
    "                    bordercolor='rgba(255, 255, 255, 0)',\n",
    "                    font = dict( size = 28)\n",
    "                ),\n",
    "                barmode='group',\n",
    "                bargap=0.15,\n",
    "                bargroupgap=0.08\n",
    "        #         legend_orientation=\"h\"\n",
    "            )\n",
    "\n",
    "        data = list_traces\n",
    "        fig = go.Figure(data=data, layout=layout)\n",
    "        fig.update_layout(legend_orientation=\"h\")\n",
    "        fig.show()    \n",
    "\n",
    "    #     fig.write_image(path + model_name + k8senv +'.pdf')"
   ]
  },
  {
   "cell_type": "code",
   "execution_count": null,
   "id": "4232f1de",
   "metadata": {},
   "outputs": [],
   "source": []
  },
  {
   "cell_type": "code",
   "execution_count": null,
   "id": "41a87e54",
   "metadata": {},
   "outputs": [],
   "source": []
  },
  {
   "cell_type": "code",
   "execution_count": null,
   "id": "e58b2c83",
   "metadata": {},
   "outputs": [],
   "source": []
  },
  {
   "cell_type": "code",
   "execution_count": null,
   "id": "ae9e270b",
   "metadata": {},
   "outputs": [],
   "source": []
  }
 ],
 "metadata": {
  "kernelspec": {
   "display_name": "Python 3",
   "language": "python",
   "name": "python3"
  },
  "language_info": {
   "codemirror_mode": {
    "name": "ipython",
    "version": 3
   },
   "file_extension": ".py",
   "mimetype": "text/x-python",
   "name": "python",
   "nbconvert_exporter": "python",
   "pygments_lexer": "ipython3",
   "version": "3.8.5"
  }
 },
 "nbformat": 4,
 "nbformat_minor": 5
}
