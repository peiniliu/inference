{
 "cells": [
  {
   "cell_type": "code",
   "execution_count": 36,
   "id": "de0246d4",
   "metadata": {},
   "outputs": [
    {
     "data": {
      "text/html": [
       "        <script type=\"text/javascript\">\n",
       "        window.PlotlyConfig = {MathJaxConfig: 'local'};\n",
       "        if (window.MathJax) {MathJax.Hub.Config({SVG: {font: \"STIX-Web\"}});}\n",
       "        if (typeof require !== 'undefined') {\n",
       "        require.undef(\"plotly\");\n",
       "        requirejs.config({\n",
       "            paths: {\n",
       "                'plotly': ['https://cdn.plot.ly/plotly-latest.min']\n",
       "            }\n",
       "        });\n",
       "        require(['plotly'], function(Plotly) {\n",
       "            window._Plotly = Plotly;\n",
       "        });\n",
       "        }\n",
       "        </script>\n",
       "        "
      ]
     },
     "metadata": {},
     "output_type": "display_data"
    },
    {
     "data": {
      "text/html": [
       "<div>\n",
       "<style scoped>\n",
       "    .dataframe tbody tr th:only-of-type {\n",
       "        vertical-align: middle;\n",
       "    }\n",
       "\n",
       "    .dataframe tbody tr th {\n",
       "        vertical-align: top;\n",
       "    }\n",
       "\n",
       "    .dataframe thead th {\n",
       "        text-align: right;\n",
       "    }\n",
       "</style>\n",
       "<table border=\"1\" class=\"dataframe\">\n",
       "  <thead>\n",
       "    <tr style=\"text-align: right;\">\n",
       "      <th></th>\n",
       "      <th>benchmark</th>\n",
       "      <th>k8senv</th>\n",
       "      <th>sbatch</th>\n",
       "      <th>numctn</th>\n",
       "      <th>cscenario</th>\n",
       "      <th>cbatch</th>\n",
       "      <th>reps</th>\n",
       "      <th>qps</th>\n",
       "      <th>mean</th>\n",
       "      <th>p50</th>\n",
       "      <th>p80</th>\n",
       "      <th>p90</th>\n",
       "      <th>p95</th>\n",
       "      <th>p99</th>\n",
       "      <th>p999</th>\n",
       "    </tr>\n",
       "  </thead>\n",
       "  <tbody>\n",
       "    <tr>\n",
       "      <th>0</th>\n",
       "      <td>resnet</td>\n",
       "      <td>none</td>\n",
       "      <td>128</td>\n",
       "      <td>1</td>\n",
       "      <td>offline</td>\n",
       "      <td>10</td>\n",
       "      <td>10</td>\n",
       "      <td>147.070143</td>\n",
       "      <td>85.108148</td>\n",
       "      <td>85.241001</td>\n",
       "      <td>135.034640</td>\n",
       "      <td>151.450796</td>\n",
       "      <td>159.802505</td>\n",
       "      <td>166.452461</td>\n",
       "      <td>167.065769</td>\n",
       "    </tr>\n",
       "    <tr>\n",
       "      <th>1</th>\n",
       "      <td>resnet</td>\n",
       "      <td>none</td>\n",
       "      <td>128</td>\n",
       "      <td>2</td>\n",
       "      <td>offline</td>\n",
       "      <td>10</td>\n",
       "      <td>10</td>\n",
       "      <td>180.420090</td>\n",
       "      <td>71.749868</td>\n",
       "      <td>72.191980</td>\n",
       "      <td>111.159465</td>\n",
       "      <td>124.281075</td>\n",
       "      <td>130.736137</td>\n",
       "      <td>135.736715</td>\n",
       "      <td>136.161553</td>\n",
       "    </tr>\n",
       "    <tr>\n",
       "      <th>2</th>\n",
       "      <td>resnet</td>\n",
       "      <td>none</td>\n",
       "      <td>128</td>\n",
       "      <td>4</td>\n",
       "      <td>offline</td>\n",
       "      <td>10</td>\n",
       "      <td>10</td>\n",
       "      <td>181.915897</td>\n",
       "      <td>70.415834</td>\n",
       "      <td>70.831433</td>\n",
       "      <td>109.869468</td>\n",
       "      <td>122.739224</td>\n",
       "      <td>129.240797</td>\n",
       "      <td>134.309561</td>\n",
       "      <td>135.033150</td>\n",
       "    </tr>\n",
       "    <tr>\n",
       "      <th>3</th>\n",
       "      <td>resnet</td>\n",
       "      <td>none</td>\n",
       "      <td>128</td>\n",
       "      <td>8</td>\n",
       "      <td>offline</td>\n",
       "      <td>10</td>\n",
       "      <td>10</td>\n",
       "      <td>180.520994</td>\n",
       "      <td>70.528514</td>\n",
       "      <td>70.658646</td>\n",
       "      <td>110.272676</td>\n",
       "      <td>123.301520</td>\n",
       "      <td>129.953398</td>\n",
       "      <td>135.023099</td>\n",
       "      <td>135.968472</td>\n",
       "    </tr>\n",
       "    <tr>\n",
       "      <th>4</th>\n",
       "      <td>resnet</td>\n",
       "      <td>none</td>\n",
       "      <td>128</td>\n",
       "      <td>16</td>\n",
       "      <td>offline</td>\n",
       "      <td>10</td>\n",
       "      <td>10</td>\n",
       "      <td>177.470940</td>\n",
       "      <td>70.491854</td>\n",
       "      <td>70.642795</td>\n",
       "      <td>111.000667</td>\n",
       "      <td>124.394504</td>\n",
       "      <td>131.190416</td>\n",
       "      <td>136.352625</td>\n",
       "      <td>137.984875</td>\n",
       "    </tr>\n",
       "  </tbody>\n",
       "</table>\n",
       "</div>"
      ],
      "text/plain": [
       "  benchmark k8senv  sbatch  numctn cscenario  cbatch  reps         qps  \\\n",
       "0    resnet   none     128       1   offline      10    10  147.070143   \n",
       "1    resnet   none     128       2   offline      10    10  180.420090   \n",
       "2    resnet   none     128       4   offline      10    10  181.915897   \n",
       "3    resnet   none     128       8   offline      10    10  180.520994   \n",
       "4    resnet   none     128      16   offline      10    10  177.470940   \n",
       "\n",
       "        mean        p50         p80         p90         p95         p99  \\\n",
       "0  85.108148  85.241001  135.034640  151.450796  159.802505  166.452461   \n",
       "1  71.749868  72.191980  111.159465  124.281075  130.736137  135.736715   \n",
       "2  70.415834  70.831433  109.869468  122.739224  129.240797  134.309561   \n",
       "3  70.528514  70.658646  110.272676  123.301520  129.953398  135.023099   \n",
       "4  70.491854  70.642795  111.000667  124.394504  131.190416  136.352625   \n",
       "\n",
       "         p999  \n",
       "0  167.065769  \n",
       "1  136.161553  \n",
       "2  135.033150  \n",
       "3  135.968472  \n",
       "4  137.984875  "
      ]
     },
     "execution_count": 36,
     "metadata": {},
     "output_type": "execute_result"
    }
   ],
   "source": [
    "import pandas as pd\n",
    "import glob\n",
    "# import plotly.plotly as py\n",
    "import plotly.graph_objs as go\n",
    "\n",
    "from plotly import tools\n",
    "from plotly.offline import init_notebook_mode, iplot\n",
    "init_notebook_mode(connected=True) \n",
    "\n",
    "import numpy as np\n",
    "import matplotlib.pyplot as plt\n",
    "# include if using a Jupyter notebook\n",
    "# %matplotlib inline\n",
    "\n",
    "path = \"/gpfs/bsc_home/xpliu/inference/vision/classification_and_detection/output-exp11/\"\n",
    "all_files = glob.glob(path + \"*.csv\")\n",
    "\n",
    "li = []\n",
    "\n",
    "for filename in all_files:\n",
    "    df = pd.read_csv(filename, index_col=None, header=0)\n",
    "    li.append(df)\n",
    "\n",
    "df = pd.concat(li, axis=0, ignore_index=True)\n",
    "df.head()"
   ]
  },
  {
   "cell_type": "code",
   "execution_count": 37,
   "id": "fe8c3d7f",
   "metadata": {},
   "outputs": [
    {
     "data": {
      "text/plain": [
       "18"
      ]
     },
     "execution_count": 37,
     "metadata": {},
     "output_type": "execute_result"
    }
   ],
   "source": [
    "len(df)"
   ]
  },
  {
   "cell_type": "code",
   "execution_count": 38,
   "id": "d48083a0",
   "metadata": {},
   "outputs": [
    {
     "data": {
      "text/plain": [
       "array(['resnet'], dtype=object)"
      ]
     },
     "execution_count": 38,
     "metadata": {},
     "output_type": "execute_result"
    }
   ],
   "source": [
    "df['benchmark'].unique()"
   ]
  },
  {
   "cell_type": "code",
   "execution_count": 39,
   "id": "b318f564",
   "metadata": {},
   "outputs": [
    {
     "data": {
      "text/plain": [
       "array(['none', 'cpumemory', 'cpumem'], dtype=object)"
      ]
     },
     "execution_count": 39,
     "metadata": {},
     "output_type": "execute_result"
    }
   ],
   "source": [
    "df['k8senv'].unique()"
   ]
  },
  {
   "cell_type": "code",
   "execution_count": 40,
   "id": "a2a7701a",
   "metadata": {},
   "outputs": [
    {
     "data": {
      "text/plain": [
       "numpy.float64"
      ]
     },
     "execution_count": 40,
     "metadata": {},
     "output_type": "execute_result"
    }
   ],
   "source": [
    "type(df['qps'][0])"
   ]
  },
  {
   "cell_type": "markdown",
   "id": "53f2033c",
   "metadata": {},
   "source": [
    "# Graph"
   ]
  },
  {
   "cell_type": "code",
   "execution_count": 41,
   "id": "5786faec",
   "metadata": {},
   "outputs": [
    {
     "data": {
      "text/html": [
       "        <script type=\"text/javascript\">\n",
       "        window.PlotlyConfig = {MathJaxConfig: 'local'};\n",
       "        if (window.MathJax) {MathJax.Hub.Config({SVG: {font: \"STIX-Web\"}});}\n",
       "        if (typeof require !== 'undefined') {\n",
       "        require.undef(\"plotly\");\n",
       "        requirejs.config({\n",
       "            paths: {\n",
       "                'plotly': ['https://cdn.plot.ly/plotly-latest.min']\n",
       "            }\n",
       "        });\n",
       "        require(['plotly'], function(Plotly) {\n",
       "            window._Plotly = Plotly;\n",
       "        });\n",
       "        }\n",
       "        </script>\n",
       "        "
      ]
     },
     "metadata": {},
     "output_type": "display_data"
    },
    {
     "data": {
      "text/html": [
       "<div>\n",
       "<style scoped>\n",
       "    .dataframe tbody tr th:only-of-type {\n",
       "        vertical-align: middle;\n",
       "    }\n",
       "\n",
       "    .dataframe tbody tr th {\n",
       "        vertical-align: top;\n",
       "    }\n",
       "\n",
       "    .dataframe thead th {\n",
       "        text-align: right;\n",
       "    }\n",
       "</style>\n",
       "<table border=\"1\" class=\"dataframe\">\n",
       "  <thead>\n",
       "    <tr style=\"text-align: right;\">\n",
       "      <th></th>\n",
       "      <th>benchmark</th>\n",
       "      <th>k8senv</th>\n",
       "      <th>sbatch</th>\n",
       "      <th>numctn</th>\n",
       "      <th>cscenario</th>\n",
       "      <th>cbatch</th>\n",
       "      <th>reps</th>\n",
       "      <th>qps</th>\n",
       "      <th>mean</th>\n",
       "      <th>p50</th>\n",
       "      <th>p80</th>\n",
       "      <th>p90</th>\n",
       "      <th>p95</th>\n",
       "      <th>p99</th>\n",
       "      <th>p999</th>\n",
       "    </tr>\n",
       "  </thead>\n",
       "  <tbody>\n",
       "    <tr>\n",
       "      <th>0</th>\n",
       "      <td>resnet</td>\n",
       "      <td>none</td>\n",
       "      <td>128</td>\n",
       "      <td>1</td>\n",
       "      <td>offline</td>\n",
       "      <td>10</td>\n",
       "      <td>10</td>\n",
       "      <td>147.070143</td>\n",
       "      <td>85.108148</td>\n",
       "      <td>85.241001</td>\n",
       "      <td>135.034640</td>\n",
       "      <td>151.450796</td>\n",
       "      <td>159.802505</td>\n",
       "      <td>166.452461</td>\n",
       "      <td>167.065769</td>\n",
       "    </tr>\n",
       "    <tr>\n",
       "      <th>1</th>\n",
       "      <td>resnet</td>\n",
       "      <td>none</td>\n",
       "      <td>128</td>\n",
       "      <td>2</td>\n",
       "      <td>offline</td>\n",
       "      <td>10</td>\n",
       "      <td>10</td>\n",
       "      <td>180.420090</td>\n",
       "      <td>71.749868</td>\n",
       "      <td>72.191980</td>\n",
       "      <td>111.159465</td>\n",
       "      <td>124.281075</td>\n",
       "      <td>130.736137</td>\n",
       "      <td>135.736715</td>\n",
       "      <td>136.161553</td>\n",
       "    </tr>\n",
       "    <tr>\n",
       "      <th>2</th>\n",
       "      <td>resnet</td>\n",
       "      <td>none</td>\n",
       "      <td>128</td>\n",
       "      <td>4</td>\n",
       "      <td>offline</td>\n",
       "      <td>10</td>\n",
       "      <td>10</td>\n",
       "      <td>181.915897</td>\n",
       "      <td>70.415834</td>\n",
       "      <td>70.831433</td>\n",
       "      <td>109.869468</td>\n",
       "      <td>122.739224</td>\n",
       "      <td>129.240797</td>\n",
       "      <td>134.309561</td>\n",
       "      <td>135.033150</td>\n",
       "    </tr>\n",
       "    <tr>\n",
       "      <th>3</th>\n",
       "      <td>resnet</td>\n",
       "      <td>none</td>\n",
       "      <td>128</td>\n",
       "      <td>8</td>\n",
       "      <td>offline</td>\n",
       "      <td>10</td>\n",
       "      <td>10</td>\n",
       "      <td>180.520994</td>\n",
       "      <td>70.528514</td>\n",
       "      <td>70.658646</td>\n",
       "      <td>110.272676</td>\n",
       "      <td>123.301520</td>\n",
       "      <td>129.953398</td>\n",
       "      <td>135.023099</td>\n",
       "      <td>135.968472</td>\n",
       "    </tr>\n",
       "    <tr>\n",
       "      <th>4</th>\n",
       "      <td>resnet</td>\n",
       "      <td>none</td>\n",
       "      <td>128</td>\n",
       "      <td>16</td>\n",
       "      <td>offline</td>\n",
       "      <td>10</td>\n",
       "      <td>10</td>\n",
       "      <td>177.470940</td>\n",
       "      <td>70.491854</td>\n",
       "      <td>70.642795</td>\n",
       "      <td>111.000667</td>\n",
       "      <td>124.394504</td>\n",
       "      <td>131.190416</td>\n",
       "      <td>136.352625</td>\n",
       "      <td>137.984875</td>\n",
       "    </tr>\n",
       "    <tr>\n",
       "      <th>5</th>\n",
       "      <td>resnet</td>\n",
       "      <td>none</td>\n",
       "      <td>128</td>\n",
       "      <td>32</td>\n",
       "      <td>offline</td>\n",
       "      <td>10</td>\n",
       "      <td>10</td>\n",
       "      <td>167.082481</td>\n",
       "      <td>74.352508</td>\n",
       "      <td>74.188407</td>\n",
       "      <td>117.718085</td>\n",
       "      <td>132.278214</td>\n",
       "      <td>139.837123</td>\n",
       "      <td>145.520980</td>\n",
       "      <td>146.341383</td>\n",
       "    </tr>\n",
       "    <tr>\n",
       "      <th>6</th>\n",
       "      <td>resnet</td>\n",
       "      <td>cpumemory</td>\n",
       "      <td>128</td>\n",
       "      <td>1</td>\n",
       "      <td>offline</td>\n",
       "      <td>10</td>\n",
       "      <td>10</td>\n",
       "      <td>NaN</td>\n",
       "      <td>NaN</td>\n",
       "      <td>NaN</td>\n",
       "      <td>NaN</td>\n",
       "      <td>NaN</td>\n",
       "      <td>NaN</td>\n",
       "      <td>NaN</td>\n",
       "      <td>NaN</td>\n",
       "    </tr>\n",
       "    <tr>\n",
       "      <th>7</th>\n",
       "      <td>resnet</td>\n",
       "      <td>cpumemory</td>\n",
       "      <td>128</td>\n",
       "      <td>2</td>\n",
       "      <td>offline</td>\n",
       "      <td>10</td>\n",
       "      <td>10</td>\n",
       "      <td>NaN</td>\n",
       "      <td>NaN</td>\n",
       "      <td>NaN</td>\n",
       "      <td>NaN</td>\n",
       "      <td>NaN</td>\n",
       "      <td>NaN</td>\n",
       "      <td>NaN</td>\n",
       "      <td>NaN</td>\n",
       "    </tr>\n",
       "    <tr>\n",
       "      <th>8</th>\n",
       "      <td>resnet</td>\n",
       "      <td>cpumemory</td>\n",
       "      <td>128</td>\n",
       "      <td>4</td>\n",
       "      <td>offline</td>\n",
       "      <td>10</td>\n",
       "      <td>10</td>\n",
       "      <td>NaN</td>\n",
       "      <td>NaN</td>\n",
       "      <td>NaN</td>\n",
       "      <td>NaN</td>\n",
       "      <td>NaN</td>\n",
       "      <td>NaN</td>\n",
       "      <td>NaN</td>\n",
       "      <td>NaN</td>\n",
       "    </tr>\n",
       "    <tr>\n",
       "      <th>9</th>\n",
       "      <td>resnet</td>\n",
       "      <td>cpumemory</td>\n",
       "      <td>128</td>\n",
       "      <td>8</td>\n",
       "      <td>offline</td>\n",
       "      <td>10</td>\n",
       "      <td>10</td>\n",
       "      <td>NaN</td>\n",
       "      <td>NaN</td>\n",
       "      <td>NaN</td>\n",
       "      <td>NaN</td>\n",
       "      <td>NaN</td>\n",
       "      <td>NaN</td>\n",
       "      <td>NaN</td>\n",
       "      <td>NaN</td>\n",
       "    </tr>\n",
       "    <tr>\n",
       "      <th>10</th>\n",
       "      <td>resnet</td>\n",
       "      <td>cpumemory</td>\n",
       "      <td>128</td>\n",
       "      <td>16</td>\n",
       "      <td>offline</td>\n",
       "      <td>10</td>\n",
       "      <td>10</td>\n",
       "      <td>NaN</td>\n",
       "      <td>NaN</td>\n",
       "      <td>NaN</td>\n",
       "      <td>NaN</td>\n",
       "      <td>NaN</td>\n",
       "      <td>NaN</td>\n",
       "      <td>NaN</td>\n",
       "      <td>NaN</td>\n",
       "    </tr>\n",
       "    <tr>\n",
       "      <th>11</th>\n",
       "      <td>resnet</td>\n",
       "      <td>cpumemory</td>\n",
       "      <td>128</td>\n",
       "      <td>32</td>\n",
       "      <td>offline</td>\n",
       "      <td>10</td>\n",
       "      <td>10</td>\n",
       "      <td>NaN</td>\n",
       "      <td>NaN</td>\n",
       "      <td>NaN</td>\n",
       "      <td>NaN</td>\n",
       "      <td>NaN</td>\n",
       "      <td>NaN</td>\n",
       "      <td>NaN</td>\n",
       "      <td>NaN</td>\n",
       "    </tr>\n",
       "    <tr>\n",
       "      <th>12</th>\n",
       "      <td>resnet</td>\n",
       "      <td>cpumem</td>\n",
       "      <td>128</td>\n",
       "      <td>1</td>\n",
       "      <td>offline</td>\n",
       "      <td>10</td>\n",
       "      <td>10</td>\n",
       "      <td>147.135429</td>\n",
       "      <td>85.033614</td>\n",
       "      <td>84.988026</td>\n",
       "      <td>134.808712</td>\n",
       "      <td>151.345694</td>\n",
       "      <td>159.741118</td>\n",
       "      <td>166.332274</td>\n",
       "      <td>166.992782</td>\n",
       "    </tr>\n",
       "    <tr>\n",
       "      <th>13</th>\n",
       "      <td>resnet</td>\n",
       "      <td>cpumem</td>\n",
       "      <td>128</td>\n",
       "      <td>2</td>\n",
       "      <td>offline</td>\n",
       "      <td>10</td>\n",
       "      <td>10</td>\n",
       "      <td>190.515985</td>\n",
       "      <td>65.841956</td>\n",
       "      <td>65.959628</td>\n",
       "      <td>104.327895</td>\n",
       "      <td>117.128626</td>\n",
       "      <td>123.512902</td>\n",
       "      <td>128.649136</td>\n",
       "      <td>128.944046</td>\n",
       "    </tr>\n",
       "    <tr>\n",
       "      <th>14</th>\n",
       "      <td>resnet</td>\n",
       "      <td>cpumem</td>\n",
       "      <td>128</td>\n",
       "      <td>4</td>\n",
       "      <td>offline</td>\n",
       "      <td>10</td>\n",
       "      <td>10</td>\n",
       "      <td>192.340338</td>\n",
       "      <td>65.184445</td>\n",
       "      <td>65.231891</td>\n",
       "      <td>103.278405</td>\n",
       "      <td>115.853486</td>\n",
       "      <td>122.286401</td>\n",
       "      <td>127.229402</td>\n",
       "      <td>127.719540</td>\n",
       "    </tr>\n",
       "    <tr>\n",
       "      <th>15</th>\n",
       "      <td>resnet</td>\n",
       "      <td>cpumem</td>\n",
       "      <td>128</td>\n",
       "      <td>8</td>\n",
       "      <td>offline</td>\n",
       "      <td>10</td>\n",
       "      <td>10</td>\n",
       "      <td>191.078154</td>\n",
       "      <td>65.360590</td>\n",
       "      <td>65.290837</td>\n",
       "      <td>103.575165</td>\n",
       "      <td>116.425370</td>\n",
       "      <td>122.674439</td>\n",
       "      <td>127.766558</td>\n",
       "      <td>128.438143</td>\n",
       "    </tr>\n",
       "    <tr>\n",
       "      <th>16</th>\n",
       "      <td>resnet</td>\n",
       "      <td>cpumem</td>\n",
       "      <td>128</td>\n",
       "      <td>16</td>\n",
       "      <td>offline</td>\n",
       "      <td>10</td>\n",
       "      <td>10</td>\n",
       "      <td>186.578202</td>\n",
       "      <td>66.107288</td>\n",
       "      <td>66.045543</td>\n",
       "      <td>104.870316</td>\n",
       "      <td>117.587508</td>\n",
       "      <td>124.134368</td>\n",
       "      <td>129.214760</td>\n",
       "      <td>131.547570</td>\n",
       "    </tr>\n",
       "    <tr>\n",
       "      <th>17</th>\n",
       "      <td>resnet</td>\n",
       "      <td>cpumem</td>\n",
       "      <td>128</td>\n",
       "      <td>32</td>\n",
       "      <td>offline</td>\n",
       "      <td>10</td>\n",
       "      <td>10</td>\n",
       "      <td>186.857406</td>\n",
       "      <td>67.099358</td>\n",
       "      <td>67.458287</td>\n",
       "      <td>106.058243</td>\n",
       "      <td>119.137117</td>\n",
       "      <td>125.198072</td>\n",
       "      <td>130.341472</td>\n",
       "      <td>131.468509</td>\n",
       "    </tr>\n",
       "  </tbody>\n",
       "</table>\n",
       "</div>"
      ],
      "text/plain": [
       "   benchmark     k8senv  sbatch  numctn cscenario  cbatch  reps         qps  \\\n",
       "0     resnet       none     128       1   offline      10    10  147.070143   \n",
       "1     resnet       none     128       2   offline      10    10  180.420090   \n",
       "2     resnet       none     128       4   offline      10    10  181.915897   \n",
       "3     resnet       none     128       8   offline      10    10  180.520994   \n",
       "4     resnet       none     128      16   offline      10    10  177.470940   \n",
       "5     resnet       none     128      32   offline      10    10  167.082481   \n",
       "6     resnet  cpumemory     128       1   offline      10    10         NaN   \n",
       "7     resnet  cpumemory     128       2   offline      10    10         NaN   \n",
       "8     resnet  cpumemory     128       4   offline      10    10         NaN   \n",
       "9     resnet  cpumemory     128       8   offline      10    10         NaN   \n",
       "10    resnet  cpumemory     128      16   offline      10    10         NaN   \n",
       "11    resnet  cpumemory     128      32   offline      10    10         NaN   \n",
       "12    resnet     cpumem     128       1   offline      10    10  147.135429   \n",
       "13    resnet     cpumem     128       2   offline      10    10  190.515985   \n",
       "14    resnet     cpumem     128       4   offline      10    10  192.340338   \n",
       "15    resnet     cpumem     128       8   offline      10    10  191.078154   \n",
       "16    resnet     cpumem     128      16   offline      10    10  186.578202   \n",
       "17    resnet     cpumem     128      32   offline      10    10  186.857406   \n",
       "\n",
       "         mean        p50         p80         p90         p95         p99  \\\n",
       "0   85.108148  85.241001  135.034640  151.450796  159.802505  166.452461   \n",
       "1   71.749868  72.191980  111.159465  124.281075  130.736137  135.736715   \n",
       "2   70.415834  70.831433  109.869468  122.739224  129.240797  134.309561   \n",
       "3   70.528514  70.658646  110.272676  123.301520  129.953398  135.023099   \n",
       "4   70.491854  70.642795  111.000667  124.394504  131.190416  136.352625   \n",
       "5   74.352508  74.188407  117.718085  132.278214  139.837123  145.520980   \n",
       "6         NaN        NaN         NaN         NaN         NaN         NaN   \n",
       "7         NaN        NaN         NaN         NaN         NaN         NaN   \n",
       "8         NaN        NaN         NaN         NaN         NaN         NaN   \n",
       "9         NaN        NaN         NaN         NaN         NaN         NaN   \n",
       "10        NaN        NaN         NaN         NaN         NaN         NaN   \n",
       "11        NaN        NaN         NaN         NaN         NaN         NaN   \n",
       "12  85.033614  84.988026  134.808712  151.345694  159.741118  166.332274   \n",
       "13  65.841956  65.959628  104.327895  117.128626  123.512902  128.649136   \n",
       "14  65.184445  65.231891  103.278405  115.853486  122.286401  127.229402   \n",
       "15  65.360590  65.290837  103.575165  116.425370  122.674439  127.766558   \n",
       "16  66.107288  66.045543  104.870316  117.587508  124.134368  129.214760   \n",
       "17  67.099358  67.458287  106.058243  119.137117  125.198072  130.341472   \n",
       "\n",
       "          p999  \n",
       "0   167.065769  \n",
       "1   136.161553  \n",
       "2   135.033150  \n",
       "3   135.968472  \n",
       "4   137.984875  \n",
       "5   146.341383  \n",
       "6          NaN  \n",
       "7          NaN  \n",
       "8          NaN  \n",
       "9          NaN  \n",
       "10         NaN  \n",
       "11         NaN  \n",
       "12  166.992782  \n",
       "13  128.944046  \n",
       "14  127.719540  \n",
       "15  128.438143  \n",
       "16  131.547570  \n",
       "17  131.468509  "
      ]
     },
     "execution_count": 41,
     "metadata": {},
     "output_type": "execute_result"
    }
   ],
   "source": [
    "import pandas as pd\n",
    "import glob\n",
    "# import plotly.plotly as py\n",
    "import plotly.graph_objs as go\n",
    "\n",
    "from plotly import tools\n",
    "from plotly.offline import init_notebook_mode, iplot\n",
    "init_notebook_mode(connected=True) \n",
    "\n",
    "import numpy as np\n",
    "import matplotlib.pyplot as plt\n",
    "# include if using a Jupyter notebook\n",
    "%matplotlib inline\n",
    "dfg = df\n",
    "dfg"
   ]
  },
  {
   "cell_type": "code",
   "execution_count": 42,
   "id": "1147c970",
   "metadata": {
    "scrolled": false
   },
   "outputs": [
    {
     "data": {
      "application/vnd.plotly.v1+json": {
       "config": {
        "plotlyServerURL": "https://plot.ly"
       },
       "data": [
        {
         "mode": "markers",
         "name": "ctn1",
         "opacity": 0.7,
         "type": "scatter",
         "x": [
          "none",
          "cpumem",
          "cpu"
         ],
         "y": [
          147.07014298502736,
          null,
          147.1354285391383
         ]
        },
        {
         "mode": "markers",
         "name": "ctn2",
         "opacity": 0.7,
         "type": "scatter",
         "x": [
          "none",
          "cpumem",
          "cpu"
         ],
         "y": [
          180.4200902072664,
          null,
          190.51598530281075
         ]
        },
        {
         "mode": "markers",
         "name": "ctn4",
         "opacity": 0.7,
         "type": "scatter",
         "x": [
          "none",
          "cpumem",
          "cpu"
         ],
         "y": [
          181.9158968415145,
          null,
          192.34033760087632
         ]
        },
        {
         "mode": "markers",
         "name": "ctn8",
         "opacity": 0.7,
         "type": "scatter",
         "x": [
          "none",
          "cpumem",
          "cpu"
         ],
         "y": [
          180.5209939020812,
          null,
          191.0781536675893
         ]
        },
        {
         "mode": "markers",
         "name": "ctn16",
         "opacity": 0.7,
         "type": "scatter",
         "x": [
          "none",
          "cpumem",
          "cpu"
         ],
         "y": [
          177.47093993498854,
          null,
          186.57820173546276
         ]
        },
        {
         "mode": "markers",
         "name": "ctn32",
         "opacity": 0.7,
         "type": "scatter",
         "x": [
          "none",
          "cpumem",
          "cpu"
         ],
         "y": [
          167.08248055904434,
          null,
          186.85740558444684
         ]
        }
       ],
       "layout": {
        "bargap": 0.15,
        "bargroupgap": 0.08,
        "barmode": "group",
        "height": 460,
        "legend": {
         "bgcolor": "rgba(255, 255, 255, 0)",
         "bordercolor": "rgba(255, 255, 255, 0)",
         "font": {
          "size": 28
         },
         "orientation": "h",
         "x": 1,
         "y": 1
        },
        "template": {
         "data": {
          "scatter": [
           {
            "type": "scatter"
           }
          ]
         }
        },
        "title": {
         "text": "exp10= inter128,intra32 -> inter4,intra1; restapi=32",
         "x": 0.5,
         "xanchor": "center",
         "y": 0.85,
         "yanchor": "top"
        },
        "width": 1000,
        "xaxis": {
         "tickfont": {
          "color": "rgb(107, 107, 107)",
          "size": 10
         },
         "tickvals": [
          "none",
          "cpumem",
          "cpu"
         ],
         "title": {
          "font": {
           "color": "rgb(107, 107, 107)",
           "size": 10
          },
          "text": "scenarios"
         }
        },
        "yaxis": {
         "automargin": true,
         "tickfont": {
          "color": "rgb(107, 107, 107)",
          "size": 25
         },
         "title": {
          "font": {
           "color": "rgb(107, 107, 107)",
           "size": 25
          },
          "text": "qpsbatch10"
         }
        }
       }
      },
      "text/html": [
       "<div>                            <div id=\"f058a814-2193-49f8-bc14-246aabcf3863\" class=\"plotly-graph-div\" style=\"height:460px; width:1000px;\"></div>            <script type=\"text/javascript\">                require([\"plotly\"], function(Plotly) {                    window.PLOTLYENV=window.PLOTLYENV || {};                                    if (document.getElementById(\"f058a814-2193-49f8-bc14-246aabcf3863\")) {                    Plotly.newPlot(                        \"f058a814-2193-49f8-bc14-246aabcf3863\",                        [{\"mode\": \"markers\", \"name\": \"ctn1\", \"opacity\": 0.7, \"type\": \"scatter\", \"x\": [\"none\", \"cpumem\", \"cpu\"], \"y\": [147.07014298502736, null, 147.1354285391383]}, {\"mode\": \"markers\", \"name\": \"ctn2\", \"opacity\": 0.7, \"type\": \"scatter\", \"x\": [\"none\", \"cpumem\", \"cpu\"], \"y\": [180.4200902072664, null, 190.51598530281075]}, {\"mode\": \"markers\", \"name\": \"ctn4\", \"opacity\": 0.7, \"type\": \"scatter\", \"x\": [\"none\", \"cpumem\", \"cpu\"], \"y\": [181.9158968415145, null, 192.34033760087632]}, {\"mode\": \"markers\", \"name\": \"ctn8\", \"opacity\": 0.7, \"type\": \"scatter\", \"x\": [\"none\", \"cpumem\", \"cpu\"], \"y\": [180.5209939020812, null, 191.0781536675893]}, {\"mode\": \"markers\", \"name\": \"ctn16\", \"opacity\": 0.7, \"type\": \"scatter\", \"x\": [\"none\", \"cpumem\", \"cpu\"], \"y\": [177.47093993498854, null, 186.57820173546276]}, {\"mode\": \"markers\", \"name\": \"ctn32\", \"opacity\": 0.7, \"type\": \"scatter\", \"x\": [\"none\", \"cpumem\", \"cpu\"], \"y\": [167.08248055904434, null, 186.85740558444684]}],                        {\"bargap\": 0.15, \"bargroupgap\": 0.08, \"barmode\": \"group\", \"height\": 460, \"legend\": {\"bgcolor\": \"rgba(255, 255, 255, 0)\", \"bordercolor\": \"rgba(255, 255, 255, 0)\", \"font\": {\"size\": 28}, \"orientation\": \"h\", \"x\": 1.0, \"y\": 1.0}, \"template\": {\"data\": {\"scatter\": [{\"type\": \"scatter\"}]}}, \"title\": {\"text\": \"exp10= inter128,intra32 -> inter4,intra1; restapi=32\", \"x\": 0.5, \"xanchor\": \"center\", \"y\": 0.85, \"yanchor\": \"top\"}, \"width\": 1000, \"xaxis\": {\"tickfont\": {\"color\": \"rgb(107, 107, 107)\", \"size\": 10}, \"tickvals\": [\"none\", \"cpumem\", \"cpu\"], \"title\": {\"font\": {\"color\": \"rgb(107, 107, 107)\", \"size\": 10}, \"text\": \"scenarios\"}}, \"yaxis\": {\"automargin\": true, \"tickfont\": {\"color\": \"rgb(107, 107, 107)\", \"size\": 25}, \"title\": {\"font\": {\"color\": \"rgb(107, 107, 107)\", \"size\": 25}, \"text\": \"qpsbatch10\"}}},                        {\"responsive\": true}                    ).then(function(){\n",
       "                            \n",
       "var gd = document.getElementById('f058a814-2193-49f8-bc14-246aabcf3863');\n",
       "var x = new MutationObserver(function (mutations, observer) {{\n",
       "        var display = window.getComputedStyle(gd).display;\n",
       "        if (!display || display === 'none') {{\n",
       "            console.log([gd, 'removed!']);\n",
       "            Plotly.purge(gd);\n",
       "            observer.disconnect();\n",
       "        }}\n",
       "}});\n",
       "\n",
       "// Listen for the removal of the full notebook cells\n",
       "var notebookContainer = gd.closest('#notebook-container');\n",
       "if (notebookContainer) {{\n",
       "    x.observe(notebookContainer, {childList: true});\n",
       "}}\n",
       "\n",
       "// Listen for the clearing of the current output cell\n",
       "var outputEl = gd.closest('.output');\n",
       "if (outputEl) {{\n",
       "    x.observe(outputEl, {childList: true});\n",
       "}}\n",
       "\n",
       "                        })                };                });            </script>        </div>"
      ]
     },
     "metadata": {},
     "output_type": "display_data"
    },
    {
     "data": {
      "application/vnd.plotly.v1+json": {
       "config": {
        "plotlyServerURL": "https://plot.ly"
       },
       "data": [
        {
         "mode": "markers",
         "name": "ctn1",
         "opacity": 0.7,
         "type": "scatter",
         "x": [
          "none",
          "cpumem",
          "cpu"
         ],
         "y": [
          85.10814821110458,
          null,
          85.03361374960473
         ]
        },
        {
         "mode": "markers",
         "name": "ctn2",
         "opacity": 0.7,
         "type": "scatter",
         "x": [
          "none",
          "cpumem",
          "cpu"
         ],
         "y": [
          71.74986800638705,
          null,
          65.84195567126449
         ]
        },
        {
         "mode": "markers",
         "name": "ctn4",
         "opacity": 0.7,
         "type": "scatter",
         "x": [
          "none",
          "cpumem",
          "cpu"
         ],
         "y": [
          70.41583389379484,
          null,
          65.18444511115284
         ]
        },
        {
         "mode": "markers",
         "name": "ctn8",
         "opacity": 0.7,
         "type": "scatter",
         "x": [
          "none",
          "cpumem",
          "cpu"
         ],
         "y": [
          70.52851367267708,
          null,
          65.36059020681462
         ]
        },
        {
         "mode": "markers",
         "name": "ctn16",
         "opacity": 0.7,
         "type": "scatter",
         "x": [
          "none",
          "cpumem",
          "cpu"
         ],
         "y": [
          70.49185415430345,
          null,
          66.1072877311875
         ]
        },
        {
         "mode": "markers",
         "name": "ctn32",
         "opacity": 0.7,
         "type": "scatter",
         "x": [
          "none",
          "cpumem",
          "cpu"
         ],
         "y": [
          74.35250836272705,
          null,
          67.09935810128108
         ]
        }
       ],
       "layout": {
        "bargap": 0.15,
        "bargroupgap": 0.08,
        "barmode": "group",
        "height": 460,
        "legend": {
         "bgcolor": "rgba(255, 255, 255, 0)",
         "bordercolor": "rgba(255, 255, 255, 0)",
         "font": {
          "size": 28
         },
         "orientation": "h",
         "x": 1,
         "y": 1
        },
        "template": {
         "data": {
          "scatter": [
           {
            "type": "scatter"
           }
          ]
         }
        },
        "title": {
         "text": "exp10= inter128,intra32 -> inter4,intra1; restapi=32",
         "x": 0.5,
         "xanchor": "center",
         "y": 0.85,
         "yanchor": "top"
        },
        "width": 1000,
        "xaxis": {
         "tickfont": {
          "color": "rgb(107, 107, 107)",
          "size": 10
         },
         "tickvals": [
          "none",
          "cpumem",
          "cpu"
         ],
         "title": {
          "font": {
           "color": "rgb(107, 107, 107)",
           "size": 10
          },
          "text": "scenarios"
         }
        },
        "yaxis": {
         "automargin": true,
         "tickfont": {
          "color": "rgb(107, 107, 107)",
          "size": 25
         },
         "title": {
          "font": {
           "color": "rgb(107, 107, 107)",
           "size": 25
          },
          "text": "meanbatch10"
         }
        }
       }
      },
      "text/html": [
       "<div>                            <div id=\"eab3ce79-206d-429f-8e50-f85d0056f5ab\" class=\"plotly-graph-div\" style=\"height:460px; width:1000px;\"></div>            <script type=\"text/javascript\">                require([\"plotly\"], function(Plotly) {                    window.PLOTLYENV=window.PLOTLYENV || {};                                    if (document.getElementById(\"eab3ce79-206d-429f-8e50-f85d0056f5ab\")) {                    Plotly.newPlot(                        \"eab3ce79-206d-429f-8e50-f85d0056f5ab\",                        [{\"mode\": \"markers\", \"name\": \"ctn1\", \"opacity\": 0.7, \"type\": \"scatter\", \"x\": [\"none\", \"cpumem\", \"cpu\"], \"y\": [85.10814821110458, null, 85.03361374960473]}, {\"mode\": \"markers\", \"name\": \"ctn2\", \"opacity\": 0.7, \"type\": \"scatter\", \"x\": [\"none\", \"cpumem\", \"cpu\"], \"y\": [71.74986800638705, null, 65.84195567126449]}, {\"mode\": \"markers\", \"name\": \"ctn4\", \"opacity\": 0.7, \"type\": \"scatter\", \"x\": [\"none\", \"cpumem\", \"cpu\"], \"y\": [70.41583389379484, null, 65.18444511115284]}, {\"mode\": \"markers\", \"name\": \"ctn8\", \"opacity\": 0.7, \"type\": \"scatter\", \"x\": [\"none\", \"cpumem\", \"cpu\"], \"y\": [70.52851367267708, null, 65.36059020681462]}, {\"mode\": \"markers\", \"name\": \"ctn16\", \"opacity\": 0.7, \"type\": \"scatter\", \"x\": [\"none\", \"cpumem\", \"cpu\"], \"y\": [70.49185415430345, null, 66.1072877311875]}, {\"mode\": \"markers\", \"name\": \"ctn32\", \"opacity\": 0.7, \"type\": \"scatter\", \"x\": [\"none\", \"cpumem\", \"cpu\"], \"y\": [74.35250836272705, null, 67.09935810128108]}],                        {\"bargap\": 0.15, \"bargroupgap\": 0.08, \"barmode\": \"group\", \"height\": 460, \"legend\": {\"bgcolor\": \"rgba(255, 255, 255, 0)\", \"bordercolor\": \"rgba(255, 255, 255, 0)\", \"font\": {\"size\": 28}, \"orientation\": \"h\", \"x\": 1.0, \"y\": 1.0}, \"template\": {\"data\": {\"scatter\": [{\"type\": \"scatter\"}]}}, \"title\": {\"text\": \"exp10= inter128,intra32 -> inter4,intra1; restapi=32\", \"x\": 0.5, \"xanchor\": \"center\", \"y\": 0.85, \"yanchor\": \"top\"}, \"width\": 1000, \"xaxis\": {\"tickfont\": {\"color\": \"rgb(107, 107, 107)\", \"size\": 10}, \"tickvals\": [\"none\", \"cpumem\", \"cpu\"], \"title\": {\"font\": {\"color\": \"rgb(107, 107, 107)\", \"size\": 10}, \"text\": \"scenarios\"}}, \"yaxis\": {\"automargin\": true, \"tickfont\": {\"color\": \"rgb(107, 107, 107)\", \"size\": 25}, \"title\": {\"font\": {\"color\": \"rgb(107, 107, 107)\", \"size\": 25}, \"text\": \"meanbatch10\"}}},                        {\"responsive\": true}                    ).then(function(){\n",
       "                            \n",
       "var gd = document.getElementById('eab3ce79-206d-429f-8e50-f85d0056f5ab');\n",
       "var x = new MutationObserver(function (mutations, observer) {{\n",
       "        var display = window.getComputedStyle(gd).display;\n",
       "        if (!display || display === 'none') {{\n",
       "            console.log([gd, 'removed!']);\n",
       "            Plotly.purge(gd);\n",
       "            observer.disconnect();\n",
       "        }}\n",
       "}});\n",
       "\n",
       "// Listen for the removal of the full notebook cells\n",
       "var notebookContainer = gd.closest('#notebook-container');\n",
       "if (notebookContainer) {{\n",
       "    x.observe(notebookContainer, {childList: true});\n",
       "}}\n",
       "\n",
       "// Listen for the clearing of the current output cell\n",
       "var outputEl = gd.closest('.output');\n",
       "if (outputEl) {{\n",
       "    x.observe(outputEl, {childList: true});\n",
       "}}\n",
       "\n",
       "                        })                };                });            </script>        </div>"
      ]
     },
     "metadata": {},
     "output_type": "display_data"
    },
    {
     "data": {
      "application/vnd.plotly.v1+json": {
       "config": {
        "plotlyServerURL": "https://plot.ly"
       },
       "data": [
        {
         "mode": "markers",
         "name": "ctn1",
         "opacity": 0.7,
         "type": "scatter",
         "x": [
          "none",
          "cpumem",
          "cpu"
         ],
         "y": [
          166.452461181,
          null,
          166.332273801
         ]
        },
        {
         "mode": "markers",
         "name": "ctn2",
         "opacity": 0.7,
         "type": "scatter",
         "x": [
          "none",
          "cpumem",
          "cpu"
         ],
         "y": [
          135.73671514724998,
          null,
          128.6491362805
         ]
        },
        {
         "mode": "markers",
         "name": "ctn4",
         "opacity": 0.7,
         "type": "scatter",
         "x": [
          "none",
          "cpumem",
          "cpu"
         ],
         "y": [
          134.30956087175,
          null,
          127.22940186325
         ]
        },
        {
         "mode": "markers",
         "name": "ctn8",
         "opacity": 0.7,
         "type": "scatter",
         "x": [
          "none",
          "cpumem",
          "cpu"
         ],
         "y": [
          135.0230989645,
          null,
          127.76655816475
         ]
        },
        {
         "mode": "markers",
         "name": "ctn16",
         "opacity": 0.7,
         "type": "scatter",
         "x": [
          "none",
          "cpumem",
          "cpu"
         ],
         "y": [
          136.35262491075,
          null,
          129.2147599105
         ]
        },
        {
         "mode": "markers",
         "name": "ctn32",
         "opacity": 0.7,
         "type": "scatter",
         "x": [
          "none",
          "cpumem",
          "cpu"
         ],
         "y": [
          145.520979722,
          null,
          130.341471875
         ]
        }
       ],
       "layout": {
        "bargap": 0.15,
        "bargroupgap": 0.08,
        "barmode": "group",
        "height": 460,
        "legend": {
         "bgcolor": "rgba(255, 255, 255, 0)",
         "bordercolor": "rgba(255, 255, 255, 0)",
         "font": {
          "size": 28
         },
         "orientation": "h",
         "x": 1,
         "y": 1
        },
        "template": {
         "data": {
          "scatter": [
           {
            "type": "scatter"
           }
          ]
         }
        },
        "title": {
         "text": "exp10= inter128,intra32 -> inter4,intra1; restapi=32",
         "x": 0.5,
         "xanchor": "center",
         "y": 0.85,
         "yanchor": "top"
        },
        "width": 1000,
        "xaxis": {
         "tickfont": {
          "color": "rgb(107, 107, 107)",
          "size": 10
         },
         "tickvals": [
          "none",
          "cpumem",
          "cpu"
         ],
         "title": {
          "font": {
           "color": "rgb(107, 107, 107)",
           "size": 10
          },
          "text": "scenarios"
         }
        },
        "yaxis": {
         "automargin": true,
         "tickfont": {
          "color": "rgb(107, 107, 107)",
          "size": 25
         },
         "title": {
          "font": {
           "color": "rgb(107, 107, 107)",
           "size": 25
          },
          "text": "p99batch10"
         }
        }
       }
      },
      "text/html": [
       "<div>                            <div id=\"6a1283be-2e4f-4b32-a1a9-f6ab32105db0\" class=\"plotly-graph-div\" style=\"height:460px; width:1000px;\"></div>            <script type=\"text/javascript\">                require([\"plotly\"], function(Plotly) {                    window.PLOTLYENV=window.PLOTLYENV || {};                                    if (document.getElementById(\"6a1283be-2e4f-4b32-a1a9-f6ab32105db0\")) {                    Plotly.newPlot(                        \"6a1283be-2e4f-4b32-a1a9-f6ab32105db0\",                        [{\"mode\": \"markers\", \"name\": \"ctn1\", \"opacity\": 0.7, \"type\": \"scatter\", \"x\": [\"none\", \"cpumem\", \"cpu\"], \"y\": [166.452461181, null, 166.332273801]}, {\"mode\": \"markers\", \"name\": \"ctn2\", \"opacity\": 0.7, \"type\": \"scatter\", \"x\": [\"none\", \"cpumem\", \"cpu\"], \"y\": [135.73671514724998, null, 128.6491362805]}, {\"mode\": \"markers\", \"name\": \"ctn4\", \"opacity\": 0.7, \"type\": \"scatter\", \"x\": [\"none\", \"cpumem\", \"cpu\"], \"y\": [134.30956087175, null, 127.22940186325]}, {\"mode\": \"markers\", \"name\": \"ctn8\", \"opacity\": 0.7, \"type\": \"scatter\", \"x\": [\"none\", \"cpumem\", \"cpu\"], \"y\": [135.0230989645, null, 127.76655816475]}, {\"mode\": \"markers\", \"name\": \"ctn16\", \"opacity\": 0.7, \"type\": \"scatter\", \"x\": [\"none\", \"cpumem\", \"cpu\"], \"y\": [136.35262491075, null, 129.2147599105]}, {\"mode\": \"markers\", \"name\": \"ctn32\", \"opacity\": 0.7, \"type\": \"scatter\", \"x\": [\"none\", \"cpumem\", \"cpu\"], \"y\": [145.520979722, null, 130.341471875]}],                        {\"bargap\": 0.15, \"bargroupgap\": 0.08, \"barmode\": \"group\", \"height\": 460, \"legend\": {\"bgcolor\": \"rgba(255, 255, 255, 0)\", \"bordercolor\": \"rgba(255, 255, 255, 0)\", \"font\": {\"size\": 28}, \"orientation\": \"h\", \"x\": 1.0, \"y\": 1.0}, \"template\": {\"data\": {\"scatter\": [{\"type\": \"scatter\"}]}}, \"title\": {\"text\": \"exp10= inter128,intra32 -> inter4,intra1; restapi=32\", \"x\": 0.5, \"xanchor\": \"center\", \"y\": 0.85, \"yanchor\": \"top\"}, \"width\": 1000, \"xaxis\": {\"tickfont\": {\"color\": \"rgb(107, 107, 107)\", \"size\": 10}, \"tickvals\": [\"none\", \"cpumem\", \"cpu\"], \"title\": {\"font\": {\"color\": \"rgb(107, 107, 107)\", \"size\": 10}, \"text\": \"scenarios\"}}, \"yaxis\": {\"automargin\": true, \"tickfont\": {\"color\": \"rgb(107, 107, 107)\", \"size\": 25}, \"title\": {\"font\": {\"color\": \"rgb(107, 107, 107)\", \"size\": 25}, \"text\": \"p99batch10\"}}},                        {\"responsive\": true}                    ).then(function(){\n",
       "                            \n",
       "var gd = document.getElementById('6a1283be-2e4f-4b32-a1a9-f6ab32105db0');\n",
       "var x = new MutationObserver(function (mutations, observer) {{\n",
       "        var display = window.getComputedStyle(gd).display;\n",
       "        if (!display || display === 'none') {{\n",
       "            console.log([gd, 'removed!']);\n",
       "            Plotly.purge(gd);\n",
       "            observer.disconnect();\n",
       "        }}\n",
       "}});\n",
       "\n",
       "// Listen for the removal of the full notebook cells\n",
       "var notebookContainer = gd.closest('#notebook-container');\n",
       "if (notebookContainer) {{\n",
       "    x.observe(notebookContainer, {childList: true});\n",
       "}}\n",
       "\n",
       "// Listen for the clearing of the current output cell\n",
       "var outputEl = gd.closest('.output');\n",
       "if (outputEl) {{\n",
       "    x.observe(outputEl, {childList: true});\n",
       "}}\n",
       "\n",
       "                        })                };                });            </script>        </div>"
      ]
     },
     "metadata": {},
     "output_type": "display_data"
    }
   ],
   "source": [
    "import matplotlib\n",
    "import matplotlib.pyplot as plt\n",
    "import numpy as np\n",
    "from svglib.svglib import svg2rlg\n",
    "from reportlab.graphics import renderPDF\n",
    "from reportlab.pdfgen import canvas\n",
    "\n",
    "from numpy import percentile, mean, std\n",
    "import plotly.graph_objects as go\n",
    "\n",
    "from plotly.offline import init_notebook_mode, iplot\n",
    "\n",
    "import plotly.io as pio\n",
    "pio.templates.default = \"none\"\n",
    "# pio.templates.default = \"simple_white\"\n",
    "\n",
    "import plotly.graph_objects as go\n",
    "from plotly.subplots import make_subplots\n",
    "import pandas as pd\n",
    "# import plotly.express as px\n",
    "\n",
    "for x in ['qps','mean','p99']:\n",
    "    for cbatch in [10]:\n",
    "        for model_name in ['resnet']:\n",
    "            list_traces = []\n",
    "            for numctn in [1,2,4,8,16,32]: \n",
    "                dfg_bench = dfg[(dfg['benchmark']== model_name)  & (dfg['cbatch']==cbatch) & (dfg['numctn']==numctn) &\\\n",
    "                            ((dfg['k8senv']=='none') |\\\n",
    "                             (dfg['k8senv']=='cpumem')| (dfg['k8senv']=='cpumemory'))]\n",
    "#                 print(dfg_bench)\n",
    "\n",
    "\n",
    "                #data\n",
    "                trace = go.Scatter(\n",
    "                    name=\"ctn\"+str(numctn),\n",
    "                    x=[ 'none','cpumem','cpu'],\n",
    "                    y= dfg_bench[x].values.tolist(),\n",
    "        #             error_y = dict(type='data', array=df1_bench['model_time_std'].values.tolist()),\n",
    "                    opacity=0.7,\n",
    "                    mode='markers'\n",
    "                )\n",
    "                list_traces.append(trace)\n",
    "\n",
    "\n",
    "\n",
    "            #layout\n",
    "            layout = go.Layout(\n",
    "                title={\n",
    "                    'text': \"exp10= inter128,intra32 -> inter4,intra1; restapi=32\" ,\n",
    "                    'y':0.85,\n",
    "                    'x':0.5,\n",
    "                    'xanchor': 'center',\n",
    "                    'yanchor': 'top'},\n",
    "                width=1000,\n",
    "                height=460,\n",
    "                xaxis=dict(\n",
    "                    title= \"scenarios\",\n",
    "                    tickvals=[ 'none','cpumem','cpu'],\n",
    "                    titlefont=dict(\n",
    "                        size=10,\n",
    "                        color='rgb(107, 107, 107)'\n",
    "                    ),\n",
    "                    tickfont=dict(\n",
    "                        size=10,\n",
    "                        color='rgb(107, 107, 107)'\n",
    "                    )\n",
    "                ),\n",
    "                yaxis=dict(\n",
    "                    title= x+\"batch\"+str(cbatch),\n",
    "                    automargin=True,\n",
    "                    titlefont=dict(\n",
    "                        size=25,\n",
    "                        color='rgb(107, 107, 107)'\n",
    "                    ),\n",
    "                    tickfont=dict(\n",
    "                        size=25,\n",
    "                        color='rgb(107, 107, 107)'\n",
    "                    ),    \n",
    "                ),\n",
    "                legend=dict(\n",
    "                    x=1.0,\n",
    "                    y=1.0,\n",
    "                    bgcolor='rgba(255, 255, 255, 0)',\n",
    "                    bordercolor='rgba(255, 255, 255, 0)',\n",
    "                    font = dict( size = 28)\n",
    "                ),\n",
    "                barmode='group',\n",
    "                bargap=0.15,\n",
    "                bargroupgap=0.08\n",
    "        #         legend_orientation=\"h\"\n",
    "            )\n",
    "\n",
    "        data = list_traces\n",
    "        fig = go.Figure(data=data, layout=layout)\n",
    "        fig.update_layout(legend_orientation=\"h\")\n",
    "        fig.show()    \n",
    "\n",
    "    #     fig.write_image(path + model_name + k8senv +'.pdf')"
   ]
  },
  {
   "cell_type": "code",
   "execution_count": null,
   "id": "4232f1de",
   "metadata": {},
   "outputs": [],
   "source": []
  },
  {
   "cell_type": "code",
   "execution_count": null,
   "id": "41a87e54",
   "metadata": {},
   "outputs": [],
   "source": []
  },
  {
   "cell_type": "code",
   "execution_count": null,
   "id": "e58b2c83",
   "metadata": {},
   "outputs": [],
   "source": []
  }
 ],
 "metadata": {
  "kernelspec": {
   "display_name": "Python 3",
   "language": "python",
   "name": "python3"
  },
  "language_info": {
   "codemirror_mode": {
    "name": "ipython",
    "version": 3
   },
   "file_extension": ".py",
   "mimetype": "text/x-python",
   "name": "python",
   "nbconvert_exporter": "python",
   "pygments_lexer": "ipython3",
   "version": "3.8.5"
  }
 },
 "nbformat": 4,
 "nbformat_minor": 5
}
